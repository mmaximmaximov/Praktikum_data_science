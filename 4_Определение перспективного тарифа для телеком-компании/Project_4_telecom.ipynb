{
 "cells": [
  {
   "cell_type": "markdown",
   "id": "4a080ead",
   "metadata": {},
   "source": [
    "# Описание данных\n",
    "Таблица `users` (информация о пользователях):\n",
    "- user_id — уникальный идентификатор пользователя\n",
    "- first_name — имя пользователя\n",
    "- last_name — фамилия пользователя\n",
    "- age — возраст пользователя (годы)\n",
    "- reg_date — дата подключения тарифа (день, месяц, год)\n",
    "- churn_date — дата прекращения пользования тарифом (если значение пропущено, то тариф ещё действовал на момент выгрузки данных)\n",
    "- city — город проживания пользователя\n",
    "- tariff — название тарифного плана\n",
    "\n",
    "Таблица `calls` (информация о звонках):\n",
    "- id — уникальный номер звонка\n",
    "- call_date — дата звонка\n",
    "- duration — длительность звонка в минутах\n",
    "- user_id — идентификатор пользователя, сделавшего звонок\n",
    "\n",
    "Таблица `messages` (информация о сообщениях):\n",
    "- id — уникальный номер сообщения\n",
    "- message_date — дата сообщения\n",
    "- user_id — идентификатор пользователя, отправившего сообщение\n",
    "\n",
    "Таблица `internet` (информация об интернет-сессиях):\n",
    "- id — уникальный номер сессии\n",
    "- mb_used — объём потраченного за сессию интернет-трафика (в мегабайтах)\n",
    "- session_date — дата интернет-сессии\n",
    "- user_id — идентификатор пользователя\n",
    "\n",
    "Таблица `tariffs` (информация о тарифах):\n",
    "- tariff_name — название тарифа\n",
    "- rub_monthly_fee — ежемесячная абонентская плата в рублях\n",
    "- minutes_included — количество минут разговора в месяц, включённых в абонентскую плату\n",
    "- messages_included — количество сообщений в месяц, включённых в абонентскую плату\n",
    "- mb_per_month_included — объём интернет-трафика, включённого в абонентскую плату (в мегабайтах)\n",
    "- rub_per_minute — стоимость минуты разговора сверх тарифного пакета (например, если в тарифе 100 минут разговора в месяц, то со 101 минуты будет взиматься плата)\n",
    "- rub_per_message — стоимость отправки сообщения сверх тарифного пакета\n",
    "- rub_per_gb — стоимость дополнительного гигабайта интернет-трафика сверх тарифного пакета (1 гигабайт = 1024 мегабайта)\n"
   ]
  },
  {
   "cell_type": "markdown",
   "id": "3a64e122",
   "metadata": {},
   "source": [
    "# Определение перспективного тарифа для телеком-компании\n",
    "Вы аналитик компании «Мегалайн» — федерального оператора сотовой связи. Клиентам предлагают два тарифных плана: «Смарт» и «Ультра». Чтобы скорректировать рекламный бюджет, коммерческий департамент хочет понять, какой тариф приносит больше денег.\n",
    "\n",
    "Вам предстоит сделать предварительный анализ тарифов на небольшой выборке клиентов. В вашем распоряжении данные 500 пользователей «Мегалайна»: кто они, откуда, каким тарифом пользуются, сколько звонков и сообщений каждый отправил за 2018 год. Нужно проанализировать поведение клиентов и сделать вывод — какой тариф лучше."
   ]
  },
  {
   "cell_type": "markdown",
   "id": "f0106a83",
   "metadata": {},
   "source": [
    "# Описание тарифов\n",
    "`Тариф «Смарт»`\n",
    "1. Ежемесячная плата: 550 рублей\n",
    "2. Включено 500 минут разговора, 50 сообщений и 15 Гб интернет-трафика\n",
    "3. Стоимость услуг сверх тарифного пакета:\n",
    "    - минута разговора: 3 рубля\n",
    "    - сообщение: 3 рубля\n",
    "    - 1 Гб интернет-трафика: 200 рублей\n",
    "    \n",
    "`Тариф «Ультра»`\n",
    "1. Ежемесячная плата: 1950 рублей\n",
    "2. Включено 3000 минут разговора, 1000 сообщений и 30 Гб интернет-трафика\n",
    "3. Стоимость услуг сверх тарифного пакета:\n",
    "    - минута разговора: 1 рубль\n",
    "    - сообщение: 1 рубль\n",
    "    - 1 Гб интернет-трафика: 150 рублей\n",
    "    \n",
    "### Примечание\n",
    "«Мегалайн» всегда округляет секунды до минут, а мегабайты — до гигабайт. Каждый звонок округляется отдельно: даже если он длился всего 1 секунду, будет засчитан как 1 минута.\n",
    "\n",
    "Для веб-трафика отдельные сессии не считаются. Вместо этого общая сумма за месяц округляется в бо́льшую сторону. Если абонент использует 1025 мегабайт в этом месяце, с него возьмут плату за 2 гигабайта. Примите, что неиспользованные за предыдущий месяц звонки, смс, интернет на следующий месяц не переносятся."
   ]
  },
  {
   "cell_type": "markdown",
   "id": "4e45be72",
   "metadata": {},
   "source": [
    "# Инструкция по выполнению проекта\n",
    "## Шаг 1. Откройте файл с данными и изучите общую информацию"
   ]
  },
  {
   "cell_type": "code",
   "execution_count": 1,
   "id": "07388a72",
   "metadata": {},
   "outputs": [],
   "source": [
    "# Импортируем библеотеки брата и его старшего брата.\n",
    "import pandas as pd\n",
    "import numpy as np\n",
    "from scipy import stats as st\n",
    "import numpy as np\n",
    "import matplotlib.pyplot as plt"
   ]
  },
  {
   "cell_type": "code",
   "execution_count": 2,
   "id": "a5a79df0",
   "metadata": {},
   "outputs": [],
   "source": [
    "server_path_users = '/datasets/users.csv'\n",
    "local_path_users = '/Users/mmaximmaximovgmail.com/Desktop/DS/Project_4/users.csv'\n",
    "try:\n",
    "    data_users = pd.read_csv(server_path_users)\n",
    "except:\n",
    "    data_users = pd.read_csv(local_path_users)\n",
    "    \n",
    "server_path_tariffs = '/datasets/tariffs.csv'\n",
    "local_path_tariffs = '/Users/mmaximmaximovgmail.com/Desktop/DS/Project_4/tariffs.csv'\n",
    "try:\n",
    "    data_tariffs = pd.read_csv(server_path_tariffs)\n",
    "except:\n",
    "    data_tariffs = pd.read_csv(local_path_tariffs)\n",
    "\n",
    "server_path_messages = '/datasets/messages.csv'\n",
    "local_path_messages = '/Users/mmaximmaximovgmail.com/Desktop/DS/Project_4/messages.csv'\n",
    "try:\n",
    "    data_messages = pd.read_csv(server_path_messages)\n",
    "except:\n",
    "    data_messages = pd.read_csv(local_path_messages)\n",
    "    \n",
    "server_path_internet = '/datasets/internet.csv'\n",
    "local_path_internet = '/Users/mmaximmaximovgmail.com/Desktop/DS/Project_4/internet.csv'\n",
    "try:\n",
    "    data_internet = pd.read_csv(server_path_internet, index_col=0)\n",
    "except:\n",
    "    data_internet = pd.read_csv(local_path_internet, index_col=0)\n",
    "    \n",
    "server_path_calls = '/datasets/calls.csv'\n",
    "local_path_calls = '/Users/mmaximmaximovgmail.com/Desktop/DS/Project_4/calls.csv'\n",
    "try:\n",
    "    data_calls = pd.read_csv(server_path_calls)\n",
    "except:\n",
    "    data_calls = pd.read_csv(local_path_calls)"
   ]
  },
  {
   "cell_type": "markdown",
   "id": "2f7d3d13",
   "metadata": {},
   "source": [
    "    Выводим первые 5 строк из каждого файла и информацию."
   ]
  },
  {
   "cell_type": "code",
   "execution_count": 3,
   "id": "848bcae9",
   "metadata": {},
   "outputs": [
    {
     "data": {
      "text/html": [
       "<div>\n",
       "<style scoped>\n",
       "    .dataframe tbody tr th:only-of-type {\n",
       "        vertical-align: middle;\n",
       "    }\n",
       "\n",
       "    .dataframe tbody tr th {\n",
       "        vertical-align: top;\n",
       "    }\n",
       "\n",
       "    .dataframe thead th {\n",
       "        text-align: right;\n",
       "    }\n",
       "</style>\n",
       "<table border=\"1\" class=\"dataframe\">\n",
       "  <thead>\n",
       "    <tr style=\"text-align: right;\">\n",
       "      <th></th>\n",
       "      <th>user_id</th>\n",
       "      <th>age</th>\n",
       "      <th>churn_date</th>\n",
       "      <th>city</th>\n",
       "      <th>first_name</th>\n",
       "      <th>last_name</th>\n",
       "      <th>reg_date</th>\n",
       "      <th>tariff</th>\n",
       "    </tr>\n",
       "  </thead>\n",
       "  <tbody>\n",
       "    <tr>\n",
       "      <th>0</th>\n",
       "      <td>1000</td>\n",
       "      <td>52</td>\n",
       "      <td>NaN</td>\n",
       "      <td>Краснодар</td>\n",
       "      <td>Рафаил</td>\n",
       "      <td>Верещагин</td>\n",
       "      <td>2018-05-25</td>\n",
       "      <td>ultra</td>\n",
       "    </tr>\n",
       "    <tr>\n",
       "      <th>1</th>\n",
       "      <td>1001</td>\n",
       "      <td>41</td>\n",
       "      <td>NaN</td>\n",
       "      <td>Москва</td>\n",
       "      <td>Иван</td>\n",
       "      <td>Ежов</td>\n",
       "      <td>2018-11-01</td>\n",
       "      <td>smart</td>\n",
       "    </tr>\n",
       "    <tr>\n",
       "      <th>2</th>\n",
       "      <td>1002</td>\n",
       "      <td>59</td>\n",
       "      <td>NaN</td>\n",
       "      <td>Стерлитамак</td>\n",
       "      <td>Евгений</td>\n",
       "      <td>Абрамович</td>\n",
       "      <td>2018-06-17</td>\n",
       "      <td>smart</td>\n",
       "    </tr>\n",
       "    <tr>\n",
       "      <th>3</th>\n",
       "      <td>1003</td>\n",
       "      <td>23</td>\n",
       "      <td>NaN</td>\n",
       "      <td>Москва</td>\n",
       "      <td>Белла</td>\n",
       "      <td>Белякова</td>\n",
       "      <td>2018-08-17</td>\n",
       "      <td>ultra</td>\n",
       "    </tr>\n",
       "    <tr>\n",
       "      <th>4</th>\n",
       "      <td>1004</td>\n",
       "      <td>68</td>\n",
       "      <td>NaN</td>\n",
       "      <td>Новокузнецк</td>\n",
       "      <td>Татьяна</td>\n",
       "      <td>Авдеенко</td>\n",
       "      <td>2018-05-14</td>\n",
       "      <td>ultra</td>\n",
       "    </tr>\n",
       "  </tbody>\n",
       "</table>\n",
       "</div>"
      ],
      "text/plain": [
       "   user_id  age churn_date         city first_name  last_name    reg_date  \\\n",
       "0     1000   52        NaN    Краснодар     Рафаил  Верещагин  2018-05-25   \n",
       "1     1001   41        NaN       Москва       Иван       Ежов  2018-11-01   \n",
       "2     1002   59        NaN  Стерлитамак    Евгений  Абрамович  2018-06-17   \n",
       "3     1003   23        NaN       Москва      Белла   Белякова  2018-08-17   \n",
       "4     1004   68        NaN  Новокузнецк    Татьяна   Авдеенко  2018-05-14   \n",
       "\n",
       "  tariff  \n",
       "0  ultra  \n",
       "1  smart  \n",
       "2  smart  \n",
       "3  ultra  \n",
       "4  ultra  "
      ]
     },
     "execution_count": 3,
     "metadata": {},
     "output_type": "execute_result"
    }
   ],
   "source": [
    "data_users.head(5)"
   ]
  },
  {
   "cell_type": "code",
   "execution_count": 4,
   "id": "c8ff10e1",
   "metadata": {},
   "outputs": [
    {
     "name": "stdout",
     "output_type": "stream",
     "text": [
      "<class 'pandas.core.frame.DataFrame'>\n",
      "RangeIndex: 500 entries, 0 to 499\n",
      "Data columns (total 8 columns):\n",
      " #   Column      Non-Null Count  Dtype \n",
      "---  ------      --------------  ----- \n",
      " 0   user_id     500 non-null    int64 \n",
      " 1   age         500 non-null    int64 \n",
      " 2   churn_date  38 non-null     object\n",
      " 3   city        500 non-null    object\n",
      " 4   first_name  500 non-null    object\n",
      " 5   last_name   500 non-null    object\n",
      " 6   reg_date    500 non-null    object\n",
      " 7   tariff      500 non-null    object\n",
      "dtypes: int64(2), object(6)\n",
      "memory usage: 31.4+ KB\n"
     ]
    }
   ],
   "source": [
    "data_users.info()"
   ]
  },
  {
   "cell_type": "code",
   "execution_count": 5,
   "id": "fd5aad8a",
   "metadata": {},
   "outputs": [
    {
     "data": {
      "text/plain": [
       "user_id         0\n",
       "age             0\n",
       "churn_date    462\n",
       "city            0\n",
       "first_name      0\n",
       "last_name       0\n",
       "reg_date        0\n",
       "tariff          0\n",
       "dtype: int64"
      ]
     },
     "execution_count": 5,
     "metadata": {},
     "output_type": "execute_result"
    }
   ],
   "source": [
    "data_users.isnull().sum()"
   ]
  },
  {
   "cell_type": "code",
   "execution_count": 6,
   "id": "30586b8e",
   "metadata": {},
   "outputs": [
    {
     "data": {
      "text/html": [
       "<div>\n",
       "<style scoped>\n",
       "    .dataframe tbody tr th:only-of-type {\n",
       "        vertical-align: middle;\n",
       "    }\n",
       "\n",
       "    .dataframe tbody tr th {\n",
       "        vertical-align: top;\n",
       "    }\n",
       "\n",
       "    .dataframe thead th {\n",
       "        text-align: right;\n",
       "    }\n",
       "</style>\n",
       "<table border=\"1\" class=\"dataframe\">\n",
       "  <thead>\n",
       "    <tr style=\"text-align: right;\">\n",
       "      <th></th>\n",
       "      <th>messages_included</th>\n",
       "      <th>mb_per_month_included</th>\n",
       "      <th>minutes_included</th>\n",
       "      <th>rub_monthly_fee</th>\n",
       "      <th>rub_per_gb</th>\n",
       "      <th>rub_per_message</th>\n",
       "      <th>rub_per_minute</th>\n",
       "      <th>tariff_name</th>\n",
       "    </tr>\n",
       "  </thead>\n",
       "  <tbody>\n",
       "    <tr>\n",
       "      <th>0</th>\n",
       "      <td>50</td>\n",
       "      <td>15360</td>\n",
       "      <td>500</td>\n",
       "      <td>550</td>\n",
       "      <td>200</td>\n",
       "      <td>3</td>\n",
       "      <td>3</td>\n",
       "      <td>smart</td>\n",
       "    </tr>\n",
       "    <tr>\n",
       "      <th>1</th>\n",
       "      <td>1000</td>\n",
       "      <td>30720</td>\n",
       "      <td>3000</td>\n",
       "      <td>1950</td>\n",
       "      <td>150</td>\n",
       "      <td>1</td>\n",
       "      <td>1</td>\n",
       "      <td>ultra</td>\n",
       "    </tr>\n",
       "  </tbody>\n",
       "</table>\n",
       "</div>"
      ],
      "text/plain": [
       "   messages_included  mb_per_month_included  minutes_included  \\\n",
       "0                 50                  15360               500   \n",
       "1               1000                  30720              3000   \n",
       "\n",
       "   rub_monthly_fee  rub_per_gb  rub_per_message  rub_per_minute tariff_name  \n",
       "0              550         200                3               3       smart  \n",
       "1             1950         150                1               1       ultra  "
      ]
     },
     "execution_count": 6,
     "metadata": {},
     "output_type": "execute_result"
    }
   ],
   "source": [
    "data_tariffs"
   ]
  },
  {
   "cell_type": "code",
   "execution_count": 7,
   "id": "2fc662d7",
   "metadata": {},
   "outputs": [
    {
     "name": "stdout",
     "output_type": "stream",
     "text": [
      "<class 'pandas.core.frame.DataFrame'>\n",
      "RangeIndex: 2 entries, 0 to 1\n",
      "Data columns (total 8 columns):\n",
      " #   Column                 Non-Null Count  Dtype \n",
      "---  ------                 --------------  ----- \n",
      " 0   messages_included      2 non-null      int64 \n",
      " 1   mb_per_month_included  2 non-null      int64 \n",
      " 2   minutes_included       2 non-null      int64 \n",
      " 3   rub_monthly_fee        2 non-null      int64 \n",
      " 4   rub_per_gb             2 non-null      int64 \n",
      " 5   rub_per_message        2 non-null      int64 \n",
      " 6   rub_per_minute         2 non-null      int64 \n",
      " 7   tariff_name            2 non-null      object\n",
      "dtypes: int64(7), object(1)\n",
      "memory usage: 256.0+ bytes\n"
     ]
    }
   ],
   "source": [
    "data_tariffs.info()"
   ]
  },
  {
   "cell_type": "code",
   "execution_count": 8,
   "id": "bbfea6bb",
   "metadata": {},
   "outputs": [
    {
     "data": {
      "text/plain": [
       "messages_included        0\n",
       "mb_per_month_included    0\n",
       "minutes_included         0\n",
       "rub_monthly_fee          0\n",
       "rub_per_gb               0\n",
       "rub_per_message          0\n",
       "rub_per_minute           0\n",
       "tariff_name              0\n",
       "dtype: int64"
      ]
     },
     "execution_count": 8,
     "metadata": {},
     "output_type": "execute_result"
    }
   ],
   "source": [
    "data_tariffs.isnull().sum()"
   ]
  },
  {
   "cell_type": "code",
   "execution_count": 9,
   "id": "8fd7620e",
   "metadata": {},
   "outputs": [
    {
     "data": {
      "text/html": [
       "<div>\n",
       "<style scoped>\n",
       "    .dataframe tbody tr th:only-of-type {\n",
       "        vertical-align: middle;\n",
       "    }\n",
       "\n",
       "    .dataframe tbody tr th {\n",
       "        vertical-align: top;\n",
       "    }\n",
       "\n",
       "    .dataframe thead th {\n",
       "        text-align: right;\n",
       "    }\n",
       "</style>\n",
       "<table border=\"1\" class=\"dataframe\">\n",
       "  <thead>\n",
       "    <tr style=\"text-align: right;\">\n",
       "      <th></th>\n",
       "      <th>id</th>\n",
       "      <th>message_date</th>\n",
       "      <th>user_id</th>\n",
       "    </tr>\n",
       "  </thead>\n",
       "  <tbody>\n",
       "    <tr>\n",
       "      <th>0</th>\n",
       "      <td>1000_0</td>\n",
       "      <td>2018-06-27</td>\n",
       "      <td>1000</td>\n",
       "    </tr>\n",
       "    <tr>\n",
       "      <th>1</th>\n",
       "      <td>1000_1</td>\n",
       "      <td>2018-10-08</td>\n",
       "      <td>1000</td>\n",
       "    </tr>\n",
       "    <tr>\n",
       "      <th>2</th>\n",
       "      <td>1000_2</td>\n",
       "      <td>2018-08-04</td>\n",
       "      <td>1000</td>\n",
       "    </tr>\n",
       "    <tr>\n",
       "      <th>3</th>\n",
       "      <td>1000_3</td>\n",
       "      <td>2018-06-16</td>\n",
       "      <td>1000</td>\n",
       "    </tr>\n",
       "    <tr>\n",
       "      <th>4</th>\n",
       "      <td>1000_4</td>\n",
       "      <td>2018-12-05</td>\n",
       "      <td>1000</td>\n",
       "    </tr>\n",
       "  </tbody>\n",
       "</table>\n",
       "</div>"
      ],
      "text/plain": [
       "       id message_date  user_id\n",
       "0  1000_0   2018-06-27     1000\n",
       "1  1000_1   2018-10-08     1000\n",
       "2  1000_2   2018-08-04     1000\n",
       "3  1000_3   2018-06-16     1000\n",
       "4  1000_4   2018-12-05     1000"
      ]
     },
     "execution_count": 9,
     "metadata": {},
     "output_type": "execute_result"
    }
   ],
   "source": [
    "data_messages.head(5)"
   ]
  },
  {
   "cell_type": "code",
   "execution_count": 10,
   "id": "9edb09aa",
   "metadata": {},
   "outputs": [
    {
     "name": "stdout",
     "output_type": "stream",
     "text": [
      "<class 'pandas.core.frame.DataFrame'>\n",
      "RangeIndex: 123036 entries, 0 to 123035\n",
      "Data columns (total 3 columns):\n",
      " #   Column        Non-Null Count   Dtype \n",
      "---  ------        --------------   ----- \n",
      " 0   id            123036 non-null  object\n",
      " 1   message_date  123036 non-null  object\n",
      " 2   user_id       123036 non-null  int64 \n",
      "dtypes: int64(1), object(2)\n",
      "memory usage: 2.8+ MB\n"
     ]
    }
   ],
   "source": [
    "data_messages.info()"
   ]
  },
  {
   "cell_type": "code",
   "execution_count": 11,
   "id": "540ce2ec",
   "metadata": {},
   "outputs": [
    {
     "data": {
      "text/plain": [
       "id              0\n",
       "message_date    0\n",
       "user_id         0\n",
       "dtype: int64"
      ]
     },
     "execution_count": 11,
     "metadata": {},
     "output_type": "execute_result"
    }
   ],
   "source": [
    "data_messages.isnull().sum()"
   ]
  },
  {
   "cell_type": "code",
   "execution_count": 12,
   "id": "fad6778c",
   "metadata": {},
   "outputs": [
    {
     "data": {
      "text/html": [
       "<div>\n",
       "<style scoped>\n",
       "    .dataframe tbody tr th:only-of-type {\n",
       "        vertical-align: middle;\n",
       "    }\n",
       "\n",
       "    .dataframe tbody tr th {\n",
       "        vertical-align: top;\n",
       "    }\n",
       "\n",
       "    .dataframe thead th {\n",
       "        text-align: right;\n",
       "    }\n",
       "</style>\n",
       "<table border=\"1\" class=\"dataframe\">\n",
       "  <thead>\n",
       "    <tr style=\"text-align: right;\">\n",
       "      <th></th>\n",
       "      <th>id</th>\n",
       "      <th>mb_used</th>\n",
       "      <th>session_date</th>\n",
       "      <th>user_id</th>\n",
       "    </tr>\n",
       "  </thead>\n",
       "  <tbody>\n",
       "    <tr>\n",
       "      <th>0</th>\n",
       "      <td>1000_0</td>\n",
       "      <td>112.95</td>\n",
       "      <td>2018-11-25</td>\n",
       "      <td>1000</td>\n",
       "    </tr>\n",
       "    <tr>\n",
       "      <th>1</th>\n",
       "      <td>1000_1</td>\n",
       "      <td>1052.81</td>\n",
       "      <td>2018-09-07</td>\n",
       "      <td>1000</td>\n",
       "    </tr>\n",
       "    <tr>\n",
       "      <th>2</th>\n",
       "      <td>1000_2</td>\n",
       "      <td>1197.26</td>\n",
       "      <td>2018-06-25</td>\n",
       "      <td>1000</td>\n",
       "    </tr>\n",
       "    <tr>\n",
       "      <th>3</th>\n",
       "      <td>1000_3</td>\n",
       "      <td>550.27</td>\n",
       "      <td>2018-08-22</td>\n",
       "      <td>1000</td>\n",
       "    </tr>\n",
       "    <tr>\n",
       "      <th>4</th>\n",
       "      <td>1000_4</td>\n",
       "      <td>302.56</td>\n",
       "      <td>2018-09-24</td>\n",
       "      <td>1000</td>\n",
       "    </tr>\n",
       "  </tbody>\n",
       "</table>\n",
       "</div>"
      ],
      "text/plain": [
       "       id  mb_used session_date  user_id\n",
       "0  1000_0   112.95   2018-11-25     1000\n",
       "1  1000_1  1052.81   2018-09-07     1000\n",
       "2  1000_2  1197.26   2018-06-25     1000\n",
       "3  1000_3   550.27   2018-08-22     1000\n",
       "4  1000_4   302.56   2018-09-24     1000"
      ]
     },
     "execution_count": 12,
     "metadata": {},
     "output_type": "execute_result"
    }
   ],
   "source": [
    "data_internet.head(5)"
   ]
  },
  {
   "cell_type": "code",
   "execution_count": 13,
   "id": "2d0fb5a3",
   "metadata": {},
   "outputs": [
    {
     "name": "stdout",
     "output_type": "stream",
     "text": [
      "<class 'pandas.core.frame.DataFrame'>\n",
      "Int64Index: 149396 entries, 0 to 149395\n",
      "Data columns (total 4 columns):\n",
      " #   Column        Non-Null Count   Dtype  \n",
      "---  ------        --------------   -----  \n",
      " 0   id            149396 non-null  object \n",
      " 1   mb_used       149396 non-null  float64\n",
      " 2   session_date  149396 non-null  object \n",
      " 3   user_id       149396 non-null  int64  \n",
      "dtypes: float64(1), int64(1), object(2)\n",
      "memory usage: 5.7+ MB\n"
     ]
    }
   ],
   "source": [
    "data_internet.info()"
   ]
  },
  {
   "cell_type": "code",
   "execution_count": 14,
   "id": "8361ce14",
   "metadata": {},
   "outputs": [
    {
     "data": {
      "text/plain": [
       "id              0\n",
       "mb_used         0\n",
       "session_date    0\n",
       "user_id         0\n",
       "dtype: int64"
      ]
     },
     "execution_count": 14,
     "metadata": {},
     "output_type": "execute_result"
    }
   ],
   "source": [
    "data_internet.isnull().sum()"
   ]
  },
  {
   "cell_type": "code",
   "execution_count": 15,
   "id": "89a6235c",
   "metadata": {},
   "outputs": [
    {
     "data": {
      "text/html": [
       "<div>\n",
       "<style scoped>\n",
       "    .dataframe tbody tr th:only-of-type {\n",
       "        vertical-align: middle;\n",
       "    }\n",
       "\n",
       "    .dataframe tbody tr th {\n",
       "        vertical-align: top;\n",
       "    }\n",
       "\n",
       "    .dataframe thead th {\n",
       "        text-align: right;\n",
       "    }\n",
       "</style>\n",
       "<table border=\"1\" class=\"dataframe\">\n",
       "  <thead>\n",
       "    <tr style=\"text-align: right;\">\n",
       "      <th></th>\n",
       "      <th>id</th>\n",
       "      <th>call_date</th>\n",
       "      <th>duration</th>\n",
       "      <th>user_id</th>\n",
       "    </tr>\n",
       "  </thead>\n",
       "  <tbody>\n",
       "    <tr>\n",
       "      <th>0</th>\n",
       "      <td>1000_0</td>\n",
       "      <td>2018-07-25</td>\n",
       "      <td>0.00</td>\n",
       "      <td>1000</td>\n",
       "    </tr>\n",
       "    <tr>\n",
       "      <th>1</th>\n",
       "      <td>1000_1</td>\n",
       "      <td>2018-08-17</td>\n",
       "      <td>0.00</td>\n",
       "      <td>1000</td>\n",
       "    </tr>\n",
       "    <tr>\n",
       "      <th>2</th>\n",
       "      <td>1000_2</td>\n",
       "      <td>2018-06-11</td>\n",
       "      <td>2.85</td>\n",
       "      <td>1000</td>\n",
       "    </tr>\n",
       "    <tr>\n",
       "      <th>3</th>\n",
       "      <td>1000_3</td>\n",
       "      <td>2018-09-21</td>\n",
       "      <td>13.80</td>\n",
       "      <td>1000</td>\n",
       "    </tr>\n",
       "    <tr>\n",
       "      <th>4</th>\n",
       "      <td>1000_4</td>\n",
       "      <td>2018-12-15</td>\n",
       "      <td>5.18</td>\n",
       "      <td>1000</td>\n",
       "    </tr>\n",
       "  </tbody>\n",
       "</table>\n",
       "</div>"
      ],
      "text/plain": [
       "       id   call_date  duration  user_id\n",
       "0  1000_0  2018-07-25      0.00     1000\n",
       "1  1000_1  2018-08-17      0.00     1000\n",
       "2  1000_2  2018-06-11      2.85     1000\n",
       "3  1000_3  2018-09-21     13.80     1000\n",
       "4  1000_4  2018-12-15      5.18     1000"
      ]
     },
     "execution_count": 15,
     "metadata": {},
     "output_type": "execute_result"
    }
   ],
   "source": [
    "data_calls.head(5)"
   ]
  },
  {
   "cell_type": "code",
   "execution_count": 16,
   "id": "f34962a7",
   "metadata": {},
   "outputs": [
    {
     "name": "stdout",
     "output_type": "stream",
     "text": [
      "<class 'pandas.core.frame.DataFrame'>\n",
      "RangeIndex: 202607 entries, 0 to 202606\n",
      "Data columns (total 4 columns):\n",
      " #   Column     Non-Null Count   Dtype  \n",
      "---  ------     --------------   -----  \n",
      " 0   id         202607 non-null  object \n",
      " 1   call_date  202607 non-null  object \n",
      " 2   duration   202607 non-null  float64\n",
      " 3   user_id    202607 non-null  int64  \n",
      "dtypes: float64(1), int64(1), object(2)\n",
      "memory usage: 6.2+ MB\n"
     ]
    }
   ],
   "source": [
    "data_calls.info()"
   ]
  },
  {
   "cell_type": "code",
   "execution_count": 17,
   "id": "ae529a07",
   "metadata": {},
   "outputs": [
    {
     "data": {
      "text/plain": [
       "id           0\n",
       "call_date    0\n",
       "duration     0\n",
       "user_id      0\n",
       "dtype: int64"
      ]
     },
     "execution_count": 17,
     "metadata": {},
     "output_type": "execute_result"
    }
   ],
   "source": [
    "data_calls.isnull().sum()"
   ]
  },
  {
   "cell_type": "markdown",
   "id": "cf6c2ff6",
   "metadata": {},
   "source": [
    "### Первичный вывод, после просмотра данных.\n",
    "- Видим, что практически нигде нету пропущенных значений, кроме `churn_date`, но и то, это дата когда человек перестал пользоваться тарифом.\n",
    "- В общих чертах, должен поправить типы в тех столбцах которых нужно, подправить дату, добавить отдельные столбцы по каждой таблице, т.к нужен ежемесечяные данные"
   ]
  },
  {
   "cell_type": "markdown",
   "id": "86975e11",
   "metadata": {},
   "source": [
    "## Шаг 2. Подготовьте данные\n",
    "### 2.1 Доработка ошибок в данных \n",
    "- Приведите данные к нужным типам;\n",
    "- Найдите и исправьте ошибки в данных, если они есть.\n",
    "\n",
    "    Поясните, какие ошибки вы нашли и как их исправили. В данных вы найдёте звонки с нулевой продолжительностью. Это не ошибка: нулями обозначены пропущенные звонки, поэтому их не нужно удалять."
   ]
  },
  {
   "cell_type": "markdown",
   "id": "54218735",
   "metadata": {},
   "source": [
    "### Работаем с `data_users`"
   ]
  },
  {
   "cell_type": "code",
   "execution_count": 18,
   "id": "4755c3db",
   "metadata": {},
   "outputs": [],
   "source": [
    "# Меняю тип для столбца reg_date/churn_date и привожу его порядок.\n",
    "data_users['reg_date'] = pd.to_datetime(data_users['reg_date'], format=('%Y-%m-%d'))\n",
    "data_users['churn_date'] = pd.to_datetime(data_users['churn_date'], format=('%Y-%m-%d'))\n",
    "# Переименуем столбец tariff на tariff_name, чтобы смогли обьединить две таблицы командой merge()\n",
    "data_users = data_users.rename(columns = {'tariff':'tariff_name'})"
   ]
  },
  {
   "cell_type": "markdown",
   "id": "81231b3c",
   "metadata": {},
   "source": [
    "### Работаем с `data_tariffs`"
   ]
  },
  {
   "cell_type": "code",
   "execution_count": 19,
   "id": "05778694",
   "metadata": {},
   "outputs": [
    {
     "data": {
      "text/html": [
       "<div>\n",
       "<style scoped>\n",
       "    .dataframe tbody tr th:only-of-type {\n",
       "        vertical-align: middle;\n",
       "    }\n",
       "\n",
       "    .dataframe tbody tr th {\n",
       "        vertical-align: top;\n",
       "    }\n",
       "\n",
       "    .dataframe thead th {\n",
       "        text-align: right;\n",
       "    }\n",
       "</style>\n",
       "<table border=\"1\" class=\"dataframe\">\n",
       "  <thead>\n",
       "    <tr style=\"text-align: right;\">\n",
       "      <th></th>\n",
       "      <th>messages_included</th>\n",
       "      <th>mb_per_month_included</th>\n",
       "      <th>minutes_included</th>\n",
       "      <th>rub_monthly_fee</th>\n",
       "      <th>rub_per_gb</th>\n",
       "      <th>rub_per_message</th>\n",
       "      <th>rub_per_minute</th>\n",
       "      <th>tariff_name</th>\n",
       "    </tr>\n",
       "  </thead>\n",
       "  <tbody>\n",
       "    <tr>\n",
       "      <th>0</th>\n",
       "      <td>50</td>\n",
       "      <td>15360</td>\n",
       "      <td>500</td>\n",
       "      <td>550</td>\n",
       "      <td>200</td>\n",
       "      <td>3</td>\n",
       "      <td>3</td>\n",
       "      <td>smart</td>\n",
       "    </tr>\n",
       "    <tr>\n",
       "      <th>1</th>\n",
       "      <td>1000</td>\n",
       "      <td>30720</td>\n",
       "      <td>3000</td>\n",
       "      <td>1950</td>\n",
       "      <td>150</td>\n",
       "      <td>1</td>\n",
       "      <td>1</td>\n",
       "      <td>ultra</td>\n",
       "    </tr>\n",
       "  </tbody>\n",
       "</table>\n",
       "</div>"
      ],
      "text/plain": [
       "   messages_included  mb_per_month_included  minutes_included  \\\n",
       "0                 50                  15360               500   \n",
       "1               1000                  30720              3000   \n",
       "\n",
       "   rub_monthly_fee  rub_per_gb  rub_per_message  rub_per_minute tariff_name  \n",
       "0              550         200                3               3       smart  \n",
       "1             1950         150                1               1       ultra  "
      ]
     },
     "execution_count": 19,
     "metadata": {},
     "output_type": "execute_result"
    }
   ],
   "source": [
    "# Без изменений\n",
    "data_tariffs"
   ]
  },
  {
   "cell_type": "markdown",
   "id": "3e9d1658",
   "metadata": {},
   "source": [
    "# Работаем с `data_messages`"
   ]
  },
  {
   "cell_type": "code",
   "execution_count": 20,
   "id": "8ef8799e",
   "metadata": {},
   "outputs": [],
   "source": [
    "# Тоже меняем тип на правильный\n",
    "data_messages['message_date'] = pd.to_datetime(data_messages['message_date'], format=('%Y-%m-%d'))"
   ]
  },
  {
   "cell_type": "code",
   "execution_count": 21,
   "id": "5aac73e5",
   "metadata": {},
   "outputs": [],
   "source": [
    "# Добавляем столбцем с месяцами отправленных сообщений для задачи 2.2\n",
    "data_messages['month'] = data_messages['message_date'].dt.month"
   ]
  },
  {
   "cell_type": "code",
   "execution_count": 22,
   "id": "10947879",
   "metadata": {},
   "outputs": [
    {
     "data": {
      "text/plain": [
       "count    123036.000000\n",
       "mean          8.632262\n",
       "std           2.747328\n",
       "min           1.000000\n",
       "25%           7.000000\n",
       "50%           9.000000\n",
       "75%          11.000000\n",
       "max          12.000000\n",
       "Name: month, dtype: float64"
      ]
     },
     "execution_count": 22,
     "metadata": {},
     "output_type": "execute_result"
    }
   ],
   "source": [
    "data_messages['month'].describe()"
   ]
  },
  {
   "cell_type": "markdown",
   "id": "73fec491",
   "metadata": {},
   "source": [
    "### Работаем с `data_internet`"
   ]
  },
  {
   "cell_type": "code",
   "execution_count": 23,
   "id": "82b4d923",
   "metadata": {},
   "outputs": [],
   "source": [
    "# Меняем тип для столбца session_date\n",
    "data_internet['session_date'] = pd.to_datetime(data_internet['session_date'], format=('%Y-%m-%d'))"
   ]
  },
  {
   "cell_type": "code",
   "execution_count": 24,
   "id": "7b9c8363",
   "metadata": {},
   "outputs": [],
   "source": [
    "# Создаме столбцем в таблице data_internet для дальнейшего анализа\n",
    "data_internet['month'] = data_internet['session_date'].dt.month"
   ]
  },
  {
   "cell_type": "code",
   "execution_count": 25,
   "id": "79678fa9",
   "metadata": {},
   "outputs": [
    {
     "data": {
      "text/plain": [
       "count    149396.000000\n",
       "mean          8.563315\n",
       "std           2.788717\n",
       "min           1.000000\n",
       "25%           7.000000\n",
       "50%           9.000000\n",
       "75%          11.000000\n",
       "max          12.000000\n",
       "Name: month, dtype: float64"
      ]
     },
     "execution_count": 25,
     "metadata": {},
     "output_type": "execute_result"
    }
   ],
   "source": [
    "data_internet['month'].describe()"
   ]
  },
  {
   "cell_type": "code",
   "execution_count": 26,
   "id": "769ac669",
   "metadata": {},
   "outputs": [],
   "source": [
    "# Закоментировал \n",
    "#data_internet['mb_used'] = np.ceil(data_internet['mb_used'])"
   ]
  },
  {
   "cell_type": "markdown",
   "id": "bd714629",
   "metadata": {},
   "source": [
    "### Работаем с `data_calls`"
   ]
  },
  {
   "cell_type": "code",
   "execution_count": 27,
   "id": "6d65d88c",
   "metadata": {},
   "outputs": [],
   "source": [
    "# Меняем тип столбца call_date\n",
    "data_calls['call_date'] = pd.to_datetime(data_calls['call_date'], format=('%Y-%m-%d'))"
   ]
  },
  {
   "cell_type": "code",
   "execution_count": 28,
   "id": "6f9981c1",
   "metadata": {},
   "outputs": [],
   "source": [
    "# Добавляем столбец call_month в таблицу data_calls, для дальнейшего анализа. \n",
    "data_calls['month'] = data_calls['call_date'].dt.month"
   ]
  },
  {
   "cell_type": "code",
   "execution_count": 29,
   "id": "80c37329",
   "metadata": {},
   "outputs": [
    {
     "data": {
      "text/plain": [
       "count    202607.000000\n",
       "mean          8.574067\n",
       "std           2.787093\n",
       "min           1.000000\n",
       "25%           7.000000\n",
       "50%           9.000000\n",
       "75%          11.000000\n",
       "max          12.000000\n",
       "Name: month, dtype: float64"
      ]
     },
     "execution_count": 29,
     "metadata": {},
     "output_type": "execute_result"
    }
   ],
   "source": [
    "data_calls['month'].describe()"
   ]
  },
  {
   "cell_type": "code",
   "execution_count": 30,
   "id": "3dc34a6a",
   "metadata": {},
   "outputs": [],
   "source": [
    "# Округляем длительность звонков до большего числа\n",
    "data_calls['duration'] = np.ceil(data_calls['duration'])"
   ]
  },
  {
   "cell_type": "markdown",
   "id": "79d9e856",
   "metadata": {},
   "source": [
    "### 2.2 Посчитайте для каждого пользователя: \n",
    "- количество сделанных звонков и израсходованных минут разговора по месяцам;\n",
    "- количество отправленных сообщений по месяцам;\n",
    "- объем израсходованного интернет-трафика по месяцам;\n",
    "- помесячную выручку с каждого пользователя (вычтите бесплатный лимит из суммарного количества звонков, сообщений и интернет-трафика; остаток умножьте на значение из тарифного плана; прибавьте абонентскую плату, соответствующую тарифному плану)."
   ]
  },
  {
   "cell_type": "markdown",
   "id": "0ff2dec4",
   "metadata": {},
   "source": [
    "## Соединяем столбцы отпрвленные сообщение, кол-во звонков и их кол-во минут"
   ]
  },
  {
   "cell_type": "code",
   "execution_count": 31,
   "id": "45e107a1",
   "metadata": {},
   "outputs": [
    {
     "name": "stdout",
     "output_type": "stream",
     "text": [
      "Количество строк в таблице: 3216\n",
      "Внешний вид таблицы:\n"
     ]
    },
    {
     "data": {
      "text/html": [
       "<div>\n",
       "<style scoped>\n",
       "    .dataframe tbody tr th:only-of-type {\n",
       "        vertical-align: middle;\n",
       "    }\n",
       "\n",
       "    .dataframe tbody tr th {\n",
       "        vertical-align: top;\n",
       "    }\n",
       "\n",
       "    .dataframe thead th {\n",
       "        text-align: right;\n",
       "    }\n",
       "</style>\n",
       "<table border=\"1\" class=\"dataframe\">\n",
       "  <thead>\n",
       "    <tr style=\"text-align: right;\">\n",
       "      <th></th>\n",
       "      <th>user_id</th>\n",
       "      <th>month</th>\n",
       "      <th>calls</th>\n",
       "      <th>minutes</th>\n",
       "      <th>messages</th>\n",
       "      <th>tariffs</th>\n",
       "      <th>age</th>\n",
       "      <th>churn_date</th>\n",
       "      <th>city</th>\n",
       "      <th>first_name</th>\n",
       "      <th>last_name</th>\n",
       "      <th>reg_date</th>\n",
       "      <th>tariff_name</th>\n",
       "      <th>messages_included</th>\n",
       "      <th>mb_per_month_included</th>\n",
       "      <th>minutes_included</th>\n",
       "      <th>rub_monthly_fee</th>\n",
       "      <th>rub_per_gb</th>\n",
       "      <th>rub_per_message</th>\n",
       "      <th>rub_per_minute</th>\n",
       "    </tr>\n",
       "  </thead>\n",
       "  <tbody>\n",
       "    <tr>\n",
       "      <th>0</th>\n",
       "      <td>1000</td>\n",
       "      <td>5.0</td>\n",
       "      <td>22.0</td>\n",
       "      <td>159.0</td>\n",
       "      <td>22.0</td>\n",
       "      <td>2253.49</td>\n",
       "      <td>52</td>\n",
       "      <td>NaT</td>\n",
       "      <td>Краснодар</td>\n",
       "      <td>Рафаил</td>\n",
       "      <td>Верещагин</td>\n",
       "      <td>2018-05-25</td>\n",
       "      <td>ultra</td>\n",
       "      <td>1000</td>\n",
       "      <td>30720</td>\n",
       "      <td>3000</td>\n",
       "      <td>1950</td>\n",
       "      <td>150</td>\n",
       "      <td>1</td>\n",
       "      <td>1</td>\n",
       "    </tr>\n",
       "    <tr>\n",
       "      <th>1</th>\n",
       "      <td>1000</td>\n",
       "      <td>6.0</td>\n",
       "      <td>43.0</td>\n",
       "      <td>172.0</td>\n",
       "      <td>60.0</td>\n",
       "      <td>23233.77</td>\n",
       "      <td>52</td>\n",
       "      <td>NaT</td>\n",
       "      <td>Краснодар</td>\n",
       "      <td>Рафаил</td>\n",
       "      <td>Верещагин</td>\n",
       "      <td>2018-05-25</td>\n",
       "      <td>ultra</td>\n",
       "      <td>1000</td>\n",
       "      <td>30720</td>\n",
       "      <td>3000</td>\n",
       "      <td>1950</td>\n",
       "      <td>150</td>\n",
       "      <td>1</td>\n",
       "      <td>1</td>\n",
       "    </tr>\n",
       "    <tr>\n",
       "      <th>2</th>\n",
       "      <td>1000</td>\n",
       "      <td>7.0</td>\n",
       "      <td>47.0</td>\n",
       "      <td>340.0</td>\n",
       "      <td>75.0</td>\n",
       "      <td>14003.64</td>\n",
       "      <td>52</td>\n",
       "      <td>NaT</td>\n",
       "      <td>Краснодар</td>\n",
       "      <td>Рафаил</td>\n",
       "      <td>Верещагин</td>\n",
       "      <td>2018-05-25</td>\n",
       "      <td>ultra</td>\n",
       "      <td>1000</td>\n",
       "      <td>30720</td>\n",
       "      <td>3000</td>\n",
       "      <td>1950</td>\n",
       "      <td>150</td>\n",
       "      <td>1</td>\n",
       "      <td>1</td>\n",
       "    </tr>\n",
       "    <tr>\n",
       "      <th>3</th>\n",
       "      <td>1000</td>\n",
       "      <td>8.0</td>\n",
       "      <td>52.0</td>\n",
       "      <td>408.0</td>\n",
       "      <td>81.0</td>\n",
       "      <td>14055.93</td>\n",
       "      <td>52</td>\n",
       "      <td>NaT</td>\n",
       "      <td>Краснодар</td>\n",
       "      <td>Рафаил</td>\n",
       "      <td>Верещагин</td>\n",
       "      <td>2018-05-25</td>\n",
       "      <td>ultra</td>\n",
       "      <td>1000</td>\n",
       "      <td>30720</td>\n",
       "      <td>3000</td>\n",
       "      <td>1950</td>\n",
       "      <td>150</td>\n",
       "      <td>1</td>\n",
       "      <td>1</td>\n",
       "    </tr>\n",
       "    <tr>\n",
       "      <th>4</th>\n",
       "      <td>1000</td>\n",
       "      <td>9.0</td>\n",
       "      <td>58.0</td>\n",
       "      <td>466.0</td>\n",
       "      <td>57.0</td>\n",
       "      <td>14568.91</td>\n",
       "      <td>52</td>\n",
       "      <td>NaT</td>\n",
       "      <td>Краснодар</td>\n",
       "      <td>Рафаил</td>\n",
       "      <td>Верещагин</td>\n",
       "      <td>2018-05-25</td>\n",
       "      <td>ultra</td>\n",
       "      <td>1000</td>\n",
       "      <td>30720</td>\n",
       "      <td>3000</td>\n",
       "      <td>1950</td>\n",
       "      <td>150</td>\n",
       "      <td>1</td>\n",
       "      <td>1</td>\n",
       "    </tr>\n",
       "  </tbody>\n",
       "</table>\n",
       "</div>"
      ],
      "text/plain": [
       "   user_id  month  calls  minutes  messages   tariffs  age churn_date  \\\n",
       "0     1000    5.0   22.0    159.0      22.0   2253.49   52        NaT   \n",
       "1     1000    6.0   43.0    172.0      60.0  23233.77   52        NaT   \n",
       "2     1000    7.0   47.0    340.0      75.0  14003.64   52        NaT   \n",
       "3     1000    8.0   52.0    408.0      81.0  14055.93   52        NaT   \n",
       "4     1000    9.0   58.0    466.0      57.0  14568.91   52        NaT   \n",
       "\n",
       "        city first_name  last_name   reg_date tariff_name  messages_included  \\\n",
       "0  Краснодар     Рафаил  Верещагин 2018-05-25       ultra               1000   \n",
       "1  Краснодар     Рафаил  Верещагин 2018-05-25       ultra               1000   \n",
       "2  Краснодар     Рафаил  Верещагин 2018-05-25       ultra               1000   \n",
       "3  Краснодар     Рафаил  Верещагин 2018-05-25       ultra               1000   \n",
       "4  Краснодар     Рафаил  Верещагин 2018-05-25       ultra               1000   \n",
       "\n",
       "   mb_per_month_included  minutes_included  rub_monthly_fee  rub_per_gb  \\\n",
       "0                  30720              3000             1950         150   \n",
       "1                  30720              3000             1950         150   \n",
       "2                  30720              3000             1950         150   \n",
       "3                  30720              3000             1950         150   \n",
       "4                  30720              3000             1950         150   \n",
       "\n",
       "   rub_per_message  rub_per_minute  \n",
       "0                1               1  \n",
       "1                1               1  \n",
       "2                1               1  \n",
       "3                1               1  \n",
       "4                1               1  "
      ]
     },
     "metadata": {},
     "output_type": "display_data"
    },
    {
     "name": "stdout",
     "output_type": "stream",
     "text": [
      "Суммарный объем услуг:\n"
     ]
    },
    {
     "data": {
      "text/plain": [
       "minutes      1450301.00\n",
       "messages      123036.00\n",
       "tariffs     55305267.73\n",
       "dtype: float64"
      ]
     },
     "metadata": {},
     "output_type": "display_data"
    },
    {
     "name": "stdout",
     "output_type": "stream",
     "text": [
      "Количество уникальных пользователей: 500\n"
     ]
    }
   ],
   "source": [
    "#группируем исходные датасеты по двум столбцам\n",
    "#считаем суммарный объем услуг каждого пользователя в каждый месяц\n",
    "#сразу переименывовыем столбцы (как они у тебя записаны), так что бы дальнейший код работал\n",
    "\n",
    "sum_calls = data_calls.pivot_table(\n",
    "    index=['user_id', 'month'], values='duration', aggfunc= ['count', 'sum'])\n",
    "sum_calls.columns = ['calls', 'minutes']\n",
    "\n",
    "sum_messages = data_messages.pivot_table(\n",
    "    index=['user_id', 'month'], values='id', aggfunc='count')\n",
    "sum_messages.columns = ['messages']\n",
    "\n",
    "sum_internet = data_internet.pivot_table(\n",
    "    index=['user_id', 'month'], values='mb_used', aggfunc='sum')\n",
    "sum_internet.columns = ['tariffs']\n",
    "\n",
    "#объединяем полученные датасеты методом по индексам,\n",
    "#с параметром `how = 'outer'` — что бы все данные вошли в объединенный датасет\n",
    "\n",
    "final_table = sum_calls.join(sum_messages, how = 'outer')\n",
    "final_table = final_table.join(sum_internet, how = 'outer')\n",
    "\n",
    "#сбрасываем индексы, что бы `user_id` и `month` стали столбцами\n",
    "\n",
    "final_table = final_table.reset_index()\n",
    "\n",
    "#Объединяем с информацией по пользователям и тарифам\n",
    "\n",
    "final_table = final_table.merge(data_users, on = 'user_id', how = 'outer')\n",
    "final_table = final_table.merge(data_tariffs, on = 'tariff_name', how = 'outer')\n",
    "\n",
    "#выполняем проверки\n",
    "\n",
    "print('Количество строк в таблице:', len(final_table))\n",
    "\n",
    "print('Внешний вид таблицы:')\n",
    "display(final_table.head())\n",
    "\n",
    "print('Суммарный объем услуг:')\n",
    "display(final_table[['minutes','messages','tariffs']].sum())\n",
    "\n",
    "print('Количество уникальных пользователей:',final_table['user_id'].nunique())"
   ]
  },
  {
   "cell_type": "code",
   "execution_count": 32,
   "id": "402dedd1",
   "metadata": {},
   "outputs": [
    {
     "data": {
      "text/plain": [
       "user_id                     0\n",
       "month                       2\n",
       "calls                      42\n",
       "minutes                    42\n",
       "messages                  499\n",
       "tariffs                    13\n",
       "age                         0\n",
       "churn_date               3027\n",
       "city                        0\n",
       "first_name                  0\n",
       "last_name                   0\n",
       "reg_date                    0\n",
       "tariff_name                 0\n",
       "messages_included           0\n",
       "mb_per_month_included       0\n",
       "minutes_included            0\n",
       "rub_monthly_fee             0\n",
       "rub_per_gb                  0\n",
       "rub_per_message             0\n",
       "rub_per_minute              0\n",
       "dtype: int64"
      ]
     },
     "execution_count": 32,
     "metadata": {},
     "output_type": "execute_result"
    }
   ],
   "source": [
    "# Смотрю на пропуски в столбцах\n",
    "final_table.isnull().sum()"
   ]
  },
  {
   "cell_type": "markdown",
   "id": "8877541a",
   "metadata": {},
   "source": [
    "Видим, что в столбцах messages и tariffs имеются пропуска, возможно они там появились потомучто клиент совсем не отправлял смс и не пользовались своим интернетом, причина у всех индвидуальная. Поэтому заменим все пропуска в этих таблицах на 0."
   ]
  },
  {
   "cell_type": "code",
   "execution_count": 33,
   "id": "8fc68244",
   "metadata": {},
   "outputs": [
    {
     "data": {
      "text/plain": [
       "user_id                     0\n",
       "month                       2\n",
       "calls                       0\n",
       "minutes                     0\n",
       "messages                    0\n",
       "tariffs                     0\n",
       "age                         0\n",
       "churn_date               3027\n",
       "city                        0\n",
       "first_name                  0\n",
       "last_name                   0\n",
       "reg_date                    0\n",
       "tariff_name                 0\n",
       "messages_included           0\n",
       "mb_per_month_included       0\n",
       "minutes_included            0\n",
       "rub_monthly_fee             0\n",
       "rub_per_gb                  0\n",
       "rub_per_message             0\n",
       "rub_per_minute              0\n",
       "dtype: int64"
      ]
     },
     "execution_count": 33,
     "metadata": {},
     "output_type": "execute_result"
    }
   ],
   "source": [
    "final_table['calls'] = final_table['calls'].fillna(0)\n",
    "final_table['minutes'] = final_table['minutes'].fillna(0)\n",
    "final_table['messages'] = final_table['messages'].fillna(0)\n",
    "final_table['tariffs'] = final_table['tariffs'].fillna(0)\n",
    "# Теперь все чисто.\n",
    "final_table.isnull().sum()"
   ]
  },
  {
   "cell_type": "markdown",
   "id": "c77af07a",
   "metadata": {},
   "source": [
    "помесячную выручку с каждого пользователя (вычтите бесплатный лимит из суммарного количества звонков, сообщений и интернет-трафика; остаток умножьте на значение из тарифного плана; прибавьте абонентскую плату, соответствующую тарифному плану)."
   ]
  },
  {
   "cell_type": "code",
   "execution_count": 34,
   "id": "fa76c9f3",
   "metadata": {},
   "outputs": [
    {
     "data": {
      "text/html": [
       "<div>\n",
       "<style scoped>\n",
       "    .dataframe tbody tr th:only-of-type {\n",
       "        vertical-align: middle;\n",
       "    }\n",
       "\n",
       "    .dataframe tbody tr th {\n",
       "        vertical-align: top;\n",
       "    }\n",
       "\n",
       "    .dataframe thead th {\n",
       "        text-align: right;\n",
       "    }\n",
       "</style>\n",
       "<table border=\"1\" class=\"dataframe\">\n",
       "  <thead>\n",
       "    <tr style=\"text-align: right;\">\n",
       "      <th></th>\n",
       "      <th>index</th>\n",
       "      <th>user_id</th>\n",
       "      <th>month</th>\n",
       "      <th>calls</th>\n",
       "      <th>minutes</th>\n",
       "      <th>messages</th>\n",
       "      <th>tariffs</th>\n",
       "      <th>age</th>\n",
       "      <th>churn_date</th>\n",
       "      <th>city</th>\n",
       "      <th>...</th>\n",
       "      <th>messages_included</th>\n",
       "      <th>mb_per_month_included</th>\n",
       "      <th>minutes_included</th>\n",
       "      <th>rub_monthly_fee</th>\n",
       "      <th>rub_per_gb</th>\n",
       "      <th>rub_per_message</th>\n",
       "      <th>rub_per_minute</th>\n",
       "      <th>earn_calls</th>\n",
       "      <th>earn_messages</th>\n",
       "      <th>earn_tariffs</th>\n",
       "    </tr>\n",
       "  </thead>\n",
       "  <tbody>\n",
       "    <tr>\n",
       "      <th>0</th>\n",
       "      <td>0</td>\n",
       "      <td>1000</td>\n",
       "      <td>5.0</td>\n",
       "      <td>22.0</td>\n",
       "      <td>159.0</td>\n",
       "      <td>22.0</td>\n",
       "      <td>2253.49</td>\n",
       "      <td>52</td>\n",
       "      <td>NaT</td>\n",
       "      <td>Краснодар</td>\n",
       "      <td>...</td>\n",
       "      <td>1000</td>\n",
       "      <td>30720</td>\n",
       "      <td>3000</td>\n",
       "      <td>1950</td>\n",
       "      <td>150</td>\n",
       "      <td>1</td>\n",
       "      <td>1</td>\n",
       "      <td>-2841.0</td>\n",
       "      <td>-978.0</td>\n",
       "      <td>-4050.0</td>\n",
       "    </tr>\n",
       "    <tr>\n",
       "      <th>1</th>\n",
       "      <td>1</td>\n",
       "      <td>1000</td>\n",
       "      <td>6.0</td>\n",
       "      <td>43.0</td>\n",
       "      <td>172.0</td>\n",
       "      <td>60.0</td>\n",
       "      <td>23233.77</td>\n",
       "      <td>52</td>\n",
       "      <td>NaT</td>\n",
       "      <td>Краснодар</td>\n",
       "      <td>...</td>\n",
       "      <td>1000</td>\n",
       "      <td>30720</td>\n",
       "      <td>3000</td>\n",
       "      <td>1950</td>\n",
       "      <td>150</td>\n",
       "      <td>1</td>\n",
       "      <td>1</td>\n",
       "      <td>-2828.0</td>\n",
       "      <td>-940.0</td>\n",
       "      <td>-1050.0</td>\n",
       "    </tr>\n",
       "    <tr>\n",
       "      <th>2</th>\n",
       "      <td>2</td>\n",
       "      <td>1000</td>\n",
       "      <td>7.0</td>\n",
       "      <td>47.0</td>\n",
       "      <td>340.0</td>\n",
       "      <td>75.0</td>\n",
       "      <td>14003.64</td>\n",
       "      <td>52</td>\n",
       "      <td>NaT</td>\n",
       "      <td>Краснодар</td>\n",
       "      <td>...</td>\n",
       "      <td>1000</td>\n",
       "      <td>30720</td>\n",
       "      <td>3000</td>\n",
       "      <td>1950</td>\n",
       "      <td>150</td>\n",
       "      <td>1</td>\n",
       "      <td>1</td>\n",
       "      <td>-2660.0</td>\n",
       "      <td>-925.0</td>\n",
       "      <td>-2400.0</td>\n",
       "    </tr>\n",
       "    <tr>\n",
       "      <th>3</th>\n",
       "      <td>3</td>\n",
       "      <td>1000</td>\n",
       "      <td>8.0</td>\n",
       "      <td>52.0</td>\n",
       "      <td>408.0</td>\n",
       "      <td>81.0</td>\n",
       "      <td>14055.93</td>\n",
       "      <td>52</td>\n",
       "      <td>NaT</td>\n",
       "      <td>Краснодар</td>\n",
       "      <td>...</td>\n",
       "      <td>1000</td>\n",
       "      <td>30720</td>\n",
       "      <td>3000</td>\n",
       "      <td>1950</td>\n",
       "      <td>150</td>\n",
       "      <td>1</td>\n",
       "      <td>1</td>\n",
       "      <td>-2592.0</td>\n",
       "      <td>-919.0</td>\n",
       "      <td>-2400.0</td>\n",
       "    </tr>\n",
       "    <tr>\n",
       "      <th>4</th>\n",
       "      <td>4</td>\n",
       "      <td>1000</td>\n",
       "      <td>9.0</td>\n",
       "      <td>58.0</td>\n",
       "      <td>466.0</td>\n",
       "      <td>57.0</td>\n",
       "      <td>14568.91</td>\n",
       "      <td>52</td>\n",
       "      <td>NaT</td>\n",
       "      <td>Краснодар</td>\n",
       "      <td>...</td>\n",
       "      <td>1000</td>\n",
       "      <td>30720</td>\n",
       "      <td>3000</td>\n",
       "      <td>1950</td>\n",
       "      <td>150</td>\n",
       "      <td>1</td>\n",
       "      <td>1</td>\n",
       "      <td>-2534.0</td>\n",
       "      <td>-943.0</td>\n",
       "      <td>-2250.0</td>\n",
       "    </tr>\n",
       "  </tbody>\n",
       "</table>\n",
       "<p>5 rows × 24 columns</p>\n",
       "</div>"
      ],
      "text/plain": [
       "   index  user_id  month  calls  minutes  messages   tariffs  age churn_date  \\\n",
       "0      0     1000    5.0   22.0    159.0      22.0   2253.49   52        NaT   \n",
       "1      1     1000    6.0   43.0    172.0      60.0  23233.77   52        NaT   \n",
       "2      2     1000    7.0   47.0    340.0      75.0  14003.64   52        NaT   \n",
       "3      3     1000    8.0   52.0    408.0      81.0  14055.93   52        NaT   \n",
       "4      4     1000    9.0   58.0    466.0      57.0  14568.91   52        NaT   \n",
       "\n",
       "        city  ... messages_included mb_per_month_included minutes_included  \\\n",
       "0  Краснодар  ...              1000                 30720             3000   \n",
       "1  Краснодар  ...              1000                 30720             3000   \n",
       "2  Краснодар  ...              1000                 30720             3000   \n",
       "3  Краснодар  ...              1000                 30720             3000   \n",
       "4  Краснодар  ...              1000                 30720             3000   \n",
       "\n",
       "  rub_monthly_fee  rub_per_gb  rub_per_message  rub_per_minute  earn_calls  \\\n",
       "0            1950         150                1               1     -2841.0   \n",
       "1            1950         150                1               1     -2828.0   \n",
       "2            1950         150                1               1     -2660.0   \n",
       "3            1950         150                1               1     -2592.0   \n",
       "4            1950         150                1               1     -2534.0   \n",
       "\n",
       "   earn_messages  earn_tariffs  \n",
       "0         -978.0       -4050.0  \n",
       "1         -940.0       -1050.0  \n",
       "2         -925.0       -2400.0  \n",
       "3         -919.0       -2400.0  \n",
       "4         -943.0       -2250.0  \n",
       "\n",
       "[5 rows x 24 columns]"
      ]
     },
     "execution_count": 34,
     "metadata": {},
     "output_type": "execute_result"
    }
   ],
   "source": [
    "# Преобразуем таблицу и высчитаем выручку по кол-ву звонкам, сообщениям, интенет трафику\n",
    "final_table.reset_index(inplace=True)\n",
    "final_table['earn_calls'] = ((final_table['minutes'] - final_table['minutes_included'])*final_table['rub_per_minute'])\n",
    "final_table['earn_messages'] = ((final_table['messages'] - final_table['messages_included'])*final_table['rub_per_message'])\n",
    "final_table['earn_tariffs'] = ((final_table['tariffs'] - final_table['mb_per_month_included'])/1024)\n",
    "final_table['earn_tariffs'] = np.ceil(final_table['earn_tariffs'])\n",
    "final_table['earn_tariffs'] = final_table['earn_tariffs'] * final_table['rub_per_gb']\n",
    "final_table.head()\n"
   ]
  },
  {
   "cell_type": "code",
   "execution_count": 35,
   "id": "4de744ca",
   "metadata": {},
   "outputs": [
    {
     "data": {
      "text/html": [
       "<div>\n",
       "<style scoped>\n",
       "    .dataframe tbody tr th:only-of-type {\n",
       "        vertical-align: middle;\n",
       "    }\n",
       "\n",
       "    .dataframe tbody tr th {\n",
       "        vertical-align: top;\n",
       "    }\n",
       "\n",
       "    .dataframe thead th {\n",
       "        text-align: right;\n",
       "    }\n",
       "</style>\n",
       "<table border=\"1\" class=\"dataframe\">\n",
       "  <thead>\n",
       "    <tr style=\"text-align: right;\">\n",
       "      <th></th>\n",
       "      <th>index</th>\n",
       "      <th>user_id</th>\n",
       "      <th>month</th>\n",
       "      <th>calls</th>\n",
       "      <th>minutes</th>\n",
       "      <th>messages</th>\n",
       "      <th>tariffs</th>\n",
       "      <th>age</th>\n",
       "      <th>churn_date</th>\n",
       "      <th>city</th>\n",
       "      <th>...</th>\n",
       "      <th>messages_included</th>\n",
       "      <th>mb_per_month_included</th>\n",
       "      <th>minutes_included</th>\n",
       "      <th>rub_monthly_fee</th>\n",
       "      <th>rub_per_gb</th>\n",
       "      <th>rub_per_message</th>\n",
       "      <th>rub_per_minute</th>\n",
       "      <th>earn_calls</th>\n",
       "      <th>earn_messages</th>\n",
       "      <th>earn_tariffs</th>\n",
       "    </tr>\n",
       "  </thead>\n",
       "  <tbody>\n",
       "    <tr>\n",
       "      <th>0</th>\n",
       "      <td>0</td>\n",
       "      <td>1000</td>\n",
       "      <td>5.0</td>\n",
       "      <td>22.0</td>\n",
       "      <td>159.0</td>\n",
       "      <td>22.0</td>\n",
       "      <td>2253.49</td>\n",
       "      <td>52</td>\n",
       "      <td>NaT</td>\n",
       "      <td>Краснодар</td>\n",
       "      <td>...</td>\n",
       "      <td>1000</td>\n",
       "      <td>30720</td>\n",
       "      <td>3000</td>\n",
       "      <td>1950</td>\n",
       "      <td>150</td>\n",
       "      <td>1</td>\n",
       "      <td>1</td>\n",
       "      <td>0.0</td>\n",
       "      <td>0.0</td>\n",
       "      <td>0.0</td>\n",
       "    </tr>\n",
       "    <tr>\n",
       "      <th>1</th>\n",
       "      <td>1</td>\n",
       "      <td>1000</td>\n",
       "      <td>6.0</td>\n",
       "      <td>43.0</td>\n",
       "      <td>172.0</td>\n",
       "      <td>60.0</td>\n",
       "      <td>23233.77</td>\n",
       "      <td>52</td>\n",
       "      <td>NaT</td>\n",
       "      <td>Краснодар</td>\n",
       "      <td>...</td>\n",
       "      <td>1000</td>\n",
       "      <td>30720</td>\n",
       "      <td>3000</td>\n",
       "      <td>1950</td>\n",
       "      <td>150</td>\n",
       "      <td>1</td>\n",
       "      <td>1</td>\n",
       "      <td>0.0</td>\n",
       "      <td>0.0</td>\n",
       "      <td>0.0</td>\n",
       "    </tr>\n",
       "    <tr>\n",
       "      <th>2</th>\n",
       "      <td>2</td>\n",
       "      <td>1000</td>\n",
       "      <td>7.0</td>\n",
       "      <td>47.0</td>\n",
       "      <td>340.0</td>\n",
       "      <td>75.0</td>\n",
       "      <td>14003.64</td>\n",
       "      <td>52</td>\n",
       "      <td>NaT</td>\n",
       "      <td>Краснодар</td>\n",
       "      <td>...</td>\n",
       "      <td>1000</td>\n",
       "      <td>30720</td>\n",
       "      <td>3000</td>\n",
       "      <td>1950</td>\n",
       "      <td>150</td>\n",
       "      <td>1</td>\n",
       "      <td>1</td>\n",
       "      <td>0.0</td>\n",
       "      <td>0.0</td>\n",
       "      <td>0.0</td>\n",
       "    </tr>\n",
       "    <tr>\n",
       "      <th>3</th>\n",
       "      <td>3</td>\n",
       "      <td>1000</td>\n",
       "      <td>8.0</td>\n",
       "      <td>52.0</td>\n",
       "      <td>408.0</td>\n",
       "      <td>81.0</td>\n",
       "      <td>14055.93</td>\n",
       "      <td>52</td>\n",
       "      <td>NaT</td>\n",
       "      <td>Краснодар</td>\n",
       "      <td>...</td>\n",
       "      <td>1000</td>\n",
       "      <td>30720</td>\n",
       "      <td>3000</td>\n",
       "      <td>1950</td>\n",
       "      <td>150</td>\n",
       "      <td>1</td>\n",
       "      <td>1</td>\n",
       "      <td>0.0</td>\n",
       "      <td>0.0</td>\n",
       "      <td>0.0</td>\n",
       "    </tr>\n",
       "    <tr>\n",
       "      <th>4</th>\n",
       "      <td>4</td>\n",
       "      <td>1000</td>\n",
       "      <td>9.0</td>\n",
       "      <td>58.0</td>\n",
       "      <td>466.0</td>\n",
       "      <td>57.0</td>\n",
       "      <td>14568.91</td>\n",
       "      <td>52</td>\n",
       "      <td>NaT</td>\n",
       "      <td>Краснодар</td>\n",
       "      <td>...</td>\n",
       "      <td>1000</td>\n",
       "      <td>30720</td>\n",
       "      <td>3000</td>\n",
       "      <td>1950</td>\n",
       "      <td>150</td>\n",
       "      <td>1</td>\n",
       "      <td>1</td>\n",
       "      <td>0.0</td>\n",
       "      <td>0.0</td>\n",
       "      <td>0.0</td>\n",
       "    </tr>\n",
       "    <tr>\n",
       "      <th>...</th>\n",
       "      <td>...</td>\n",
       "      <td>...</td>\n",
       "      <td>...</td>\n",
       "      <td>...</td>\n",
       "      <td>...</td>\n",
       "      <td>...</td>\n",
       "      <td>...</td>\n",
       "      <td>...</td>\n",
       "      <td>...</td>\n",
       "      <td>...</td>\n",
       "      <td>...</td>\n",
       "      <td>...</td>\n",
       "      <td>...</td>\n",
       "      <td>...</td>\n",
       "      <td>...</td>\n",
       "      <td>...</td>\n",
       "      <td>...</td>\n",
       "      <td>...</td>\n",
       "      <td>...</td>\n",
       "      <td>...</td>\n",
       "      <td>...</td>\n",
       "    </tr>\n",
       "    <tr>\n",
       "      <th>3211</th>\n",
       "      <td>3211</td>\n",
       "      <td>1499</td>\n",
       "      <td>9.0</td>\n",
       "      <td>9.0</td>\n",
       "      <td>70.0</td>\n",
       "      <td>11.0</td>\n",
       "      <td>1845.75</td>\n",
       "      <td>35</td>\n",
       "      <td>NaT</td>\n",
       "      <td>Пермь</td>\n",
       "      <td>...</td>\n",
       "      <td>50</td>\n",
       "      <td>15360</td>\n",
       "      <td>500</td>\n",
       "      <td>550</td>\n",
       "      <td>200</td>\n",
       "      <td>3</td>\n",
       "      <td>3</td>\n",
       "      <td>0.0</td>\n",
       "      <td>0.0</td>\n",
       "      <td>0.0</td>\n",
       "    </tr>\n",
       "    <tr>\n",
       "      <th>3212</th>\n",
       "      <td>3212</td>\n",
       "      <td>1499</td>\n",
       "      <td>10.0</td>\n",
       "      <td>68.0</td>\n",
       "      <td>449.0</td>\n",
       "      <td>48.0</td>\n",
       "      <td>17788.51</td>\n",
       "      <td>35</td>\n",
       "      <td>NaT</td>\n",
       "      <td>Пермь</td>\n",
       "      <td>...</td>\n",
       "      <td>50</td>\n",
       "      <td>15360</td>\n",
       "      <td>500</td>\n",
       "      <td>550</td>\n",
       "      <td>200</td>\n",
       "      <td>3</td>\n",
       "      <td>3</td>\n",
       "      <td>0.0</td>\n",
       "      <td>0.0</td>\n",
       "      <td>600.0</td>\n",
       "    </tr>\n",
       "    <tr>\n",
       "      <th>3213</th>\n",
       "      <td>3213</td>\n",
       "      <td>1499</td>\n",
       "      <td>11.0</td>\n",
       "      <td>74.0</td>\n",
       "      <td>612.0</td>\n",
       "      <td>59.0</td>\n",
       "      <td>17963.31</td>\n",
       "      <td>35</td>\n",
       "      <td>NaT</td>\n",
       "      <td>Пермь</td>\n",
       "      <td>...</td>\n",
       "      <td>50</td>\n",
       "      <td>15360</td>\n",
       "      <td>500</td>\n",
       "      <td>550</td>\n",
       "      <td>200</td>\n",
       "      <td>3</td>\n",
       "      <td>3</td>\n",
       "      <td>336.0</td>\n",
       "      <td>27.0</td>\n",
       "      <td>600.0</td>\n",
       "    </tr>\n",
       "    <tr>\n",
       "      <th>3214</th>\n",
       "      <td>3214</td>\n",
       "      <td>1499</td>\n",
       "      <td>12.0</td>\n",
       "      <td>69.0</td>\n",
       "      <td>492.0</td>\n",
       "      <td>66.0</td>\n",
       "      <td>13055.58</td>\n",
       "      <td>35</td>\n",
       "      <td>NaT</td>\n",
       "      <td>Пермь</td>\n",
       "      <td>...</td>\n",
       "      <td>50</td>\n",
       "      <td>15360</td>\n",
       "      <td>500</td>\n",
       "      <td>550</td>\n",
       "      <td>200</td>\n",
       "      <td>3</td>\n",
       "      <td>3</td>\n",
       "      <td>0.0</td>\n",
       "      <td>48.0</td>\n",
       "      <td>0.0</td>\n",
       "    </tr>\n",
       "    <tr>\n",
       "      <th>3215</th>\n",
       "      <td>3215</td>\n",
       "      <td>1371</td>\n",
       "      <td>NaN</td>\n",
       "      <td>0.0</td>\n",
       "      <td>0.0</td>\n",
       "      <td>0.0</td>\n",
       "      <td>0.00</td>\n",
       "      <td>50</td>\n",
       "      <td>2018-12-30</td>\n",
       "      <td>Омск</td>\n",
       "      <td>...</td>\n",
       "      <td>50</td>\n",
       "      <td>15360</td>\n",
       "      <td>500</td>\n",
       "      <td>550</td>\n",
       "      <td>200</td>\n",
       "      <td>3</td>\n",
       "      <td>3</td>\n",
       "      <td>0.0</td>\n",
       "      <td>0.0</td>\n",
       "      <td>0.0</td>\n",
       "    </tr>\n",
       "  </tbody>\n",
       "</table>\n",
       "<p>3216 rows × 24 columns</p>\n",
       "</div>"
      ],
      "text/plain": [
       "      index  user_id  month  calls  minutes  messages   tariffs  age  \\\n",
       "0         0     1000    5.0   22.0    159.0      22.0   2253.49   52   \n",
       "1         1     1000    6.0   43.0    172.0      60.0  23233.77   52   \n",
       "2         2     1000    7.0   47.0    340.0      75.0  14003.64   52   \n",
       "3         3     1000    8.0   52.0    408.0      81.0  14055.93   52   \n",
       "4         4     1000    9.0   58.0    466.0      57.0  14568.91   52   \n",
       "...     ...      ...    ...    ...      ...       ...       ...  ...   \n",
       "3211   3211     1499    9.0    9.0     70.0      11.0   1845.75   35   \n",
       "3212   3212     1499   10.0   68.0    449.0      48.0  17788.51   35   \n",
       "3213   3213     1499   11.0   74.0    612.0      59.0  17963.31   35   \n",
       "3214   3214     1499   12.0   69.0    492.0      66.0  13055.58   35   \n",
       "3215   3215     1371    NaN    0.0      0.0       0.0      0.00   50   \n",
       "\n",
       "     churn_date       city  ... messages_included mb_per_month_included  \\\n",
       "0           NaT  Краснодар  ...              1000                 30720   \n",
       "1           NaT  Краснодар  ...              1000                 30720   \n",
       "2           NaT  Краснодар  ...              1000                 30720   \n",
       "3           NaT  Краснодар  ...              1000                 30720   \n",
       "4           NaT  Краснодар  ...              1000                 30720   \n",
       "...         ...        ...  ...               ...                   ...   \n",
       "3211        NaT      Пермь  ...                50                 15360   \n",
       "3212        NaT      Пермь  ...                50                 15360   \n",
       "3213        NaT      Пермь  ...                50                 15360   \n",
       "3214        NaT      Пермь  ...                50                 15360   \n",
       "3215 2018-12-30       Омск  ...                50                 15360   \n",
       "\n",
       "     minutes_included rub_monthly_fee  rub_per_gb  rub_per_message  \\\n",
       "0                3000            1950         150                1   \n",
       "1                3000            1950         150                1   \n",
       "2                3000            1950         150                1   \n",
       "3                3000            1950         150                1   \n",
       "4                3000            1950         150                1   \n",
       "...               ...             ...         ...              ...   \n",
       "3211              500             550         200                3   \n",
       "3212              500             550         200                3   \n",
       "3213              500             550         200                3   \n",
       "3214              500             550         200                3   \n",
       "3215              500             550         200                3   \n",
       "\n",
       "      rub_per_minute  earn_calls  earn_messages  earn_tariffs  \n",
       "0                  1         0.0            0.0           0.0  \n",
       "1                  1         0.0            0.0           0.0  \n",
       "2                  1         0.0            0.0           0.0  \n",
       "3                  1         0.0            0.0           0.0  \n",
       "4                  1         0.0            0.0           0.0  \n",
       "...              ...         ...            ...           ...  \n",
       "3211               3         0.0            0.0           0.0  \n",
       "3212               3         0.0            0.0         600.0  \n",
       "3213               3       336.0           27.0         600.0  \n",
       "3214               3         0.0           48.0           0.0  \n",
       "3215               3         0.0            0.0           0.0  \n",
       "\n",
       "[3216 rows x 24 columns]"
      ]
     },
     "execution_count": 35,
     "metadata": {},
     "output_type": "execute_result"
    }
   ],
   "source": [
    "# Минус нам говорит о том, что пользователь не полностью использовал пакет тарифа, а положительные означает,\n",
    "# что нужно считать для них сверх тариф, но сначала я уберу все отрицательные значения заменю на 0\n",
    "# С помощью функции .clip(lower=0) мы сможем установить порог на те значения что меньше нуля, т.е отрицательные\n",
    "final_table['earn_calls'] = final_table['earn_calls'].clip(lower=0)\n",
    "final_table['earn_messages'] = final_table['earn_messages'].clip(lower=0)\n",
    "final_table['earn_tariffs'] = final_table['earn_tariffs'].clip(lower=0)\n",
    "# Округляем в большую сторону\n",
    "final_table['earn_tariffs'] = np.ceil(final_table['earn_tariffs'])\n",
    "final_table['earn_calls'] = np.ceil(final_table['earn_calls'])\n",
    "final_table"
   ]
  },
  {
   "cell_type": "code",
   "execution_count": 36,
   "id": "b8726b76",
   "metadata": {},
   "outputs": [],
   "source": [
    "# Образовались новые пропуски в столбцах и я их заменяю на 0\n",
    "final_table['earn_calls'] = final_table['earn_calls'].fillna(0)\n",
    "final_table['earn_messages'] = final_table['earn_messages'].fillna(0)\n",
    "final_table['earn_tariffs'] = final_table['earn_tariffs'].fillna(0)\n",
    "final_table['month'] = final_table['month'].fillna(0)"
   ]
  },
  {
   "cell_type": "code",
   "execution_count": 37,
   "id": "a0fabdb1",
   "metadata": {},
   "outputs": [],
   "source": [
    "# Поменяли нужные столбцы на тип int\n",
    "final_table['earn_calls'] = final_table['earn_calls'].astype('int')\n",
    "final_table['earn_messages'] = final_table['earn_messages'].astype('int')\n",
    "final_table['earn_tariffs'] = final_table['earn_tariffs'].astype('int')\n",
    "final_table['month'] = final_table['month'].astype('int')\n",
    "final_table['messages'] = final_table['messages'].astype('int')"
   ]
  },
  {
   "cell_type": "code",
   "execution_count": 38,
   "id": "f3f3d88e",
   "metadata": {},
   "outputs": [],
   "source": [
    "# Добавили столбце для всех тарифов по сверх тарифному пакету.\n",
    "final_table['earn'] = final_table['rub_monthly_fee'] + final_table['earn_calls'] + final_table['earn_messages'] + final_table['earn_tariffs']\n"
   ]
  },
  {
   "cell_type": "code",
   "execution_count": 39,
   "id": "abf3fd26",
   "metadata": {},
   "outputs": [
    {
     "data": {
      "text/html": [
       "<div>\n",
       "<style scoped>\n",
       "    .dataframe tbody tr th:only-of-type {\n",
       "        vertical-align: middle;\n",
       "    }\n",
       "\n",
       "    .dataframe tbody tr th {\n",
       "        vertical-align: top;\n",
       "    }\n",
       "\n",
       "    .dataframe thead tr th {\n",
       "        text-align: left;\n",
       "    }\n",
       "\n",
       "    .dataframe thead tr:last-of-type th {\n",
       "        text-align: right;\n",
       "    }\n",
       "</style>\n",
       "<table border=\"1\" class=\"dataframe\">\n",
       "  <thead>\n",
       "    <tr>\n",
       "      <th></th>\n",
       "      <th colspan=\"4\" halign=\"left\">sum</th>\n",
       "    </tr>\n",
       "    <tr>\n",
       "      <th></th>\n",
       "      <th>earn</th>\n",
       "      <th>earn_calls</th>\n",
       "      <th>earn_messages</th>\n",
       "      <th>earn_tariffs</th>\n",
       "    </tr>\n",
       "    <tr>\n",
       "      <th>tariff_name</th>\n",
       "      <th></th>\n",
       "      <th></th>\n",
       "      <th></th>\n",
       "      <th></th>\n",
       "    </tr>\n",
       "  </thead>\n",
       "  <tbody>\n",
       "    <tr>\n",
       "      <th>smart</th>\n",
       "      <td>2875901</td>\n",
       "      <td>278217</td>\n",
       "      <td>38784</td>\n",
       "      <td>1332400</td>\n",
       "    </tr>\n",
       "    <tr>\n",
       "      <th>ultra</th>\n",
       "      <td>2041050</td>\n",
       "      <td>0</td>\n",
       "      <td>0</td>\n",
       "      <td>118350</td>\n",
       "    </tr>\n",
       "  </tbody>\n",
       "</table>\n",
       "</div>"
      ],
      "text/plain": [
       "                 sum                                      \n",
       "                earn earn_calls earn_messages earn_tariffs\n",
       "tariff_name                                               \n",
       "smart        2875901     278217         38784      1332400\n",
       "ultra        2041050          0             0       118350"
      ]
     },
     "execution_count": 39,
     "metadata": {},
     "output_type": "execute_result"
    }
   ],
   "source": [
    "final_earn = final_table.pivot_table(index=['tariff_name'], values=['earn_calls', 'earn_messages', 'earn_tariffs', 'earn'], aggfunc=['sum'])\n",
    "final_earn"
   ]
  },
  {
   "cell_type": "markdown",
   "id": "42ded499",
   "metadata": {},
   "source": [
    "- Самый прибильный тариф Smart\n",
    "- Прибильным сегментом выходят звонки\n",
    "- По общей прибыли выигрвает тариф Ultra"
   ]
  },
  {
   "cell_type": "code",
   "execution_count": 40,
   "id": "449269ec",
   "metadata": {},
   "outputs": [],
   "source": [
    "# Создаем две переменные, одну для пользователей тарифа ульта, для других смарт\n",
    "sum_smart = final_table[(final_table['tariff_name'] == 'smart')]\n",
    "sum_ultra = final_table[(final_table['tariff_name'] == 'ultra')]"
   ]
  },
  {
   "cell_type": "markdown",
   "id": "ba88b4a9",
   "metadata": {},
   "source": [
    "## Шаг 3. Проанализируйте данные\n",
    "Опишите поведение клиентов оператора, исходя из выборки. \n",
    "1. Сколько минут разговора \n",
    "2. сколько сообщений \n",
    "3. какой объём интернет-трафика требуется пользователям каждого тарифа в месяц? \n",
    "4. Посчитайте среднее количество, дисперсию и стандартное отклонение. \n",
    "5. Постройте гистограммы. Опишите распределения."
   ]
  },
  {
   "cell_type": "markdown",
   "id": "32c3c1b8",
   "metadata": {},
   "source": [
    "### 3.1 Работаем сначала с тарифом `Smart`"
   ]
  },
  {
   "cell_type": "code",
   "execution_count": 41,
   "id": "ecaf4b01",
   "metadata": {},
   "outputs": [
    {
     "data": {
      "text/html": [
       "<div>\n",
       "<style scoped>\n",
       "    .dataframe tbody tr th:only-of-type {\n",
       "        vertical-align: middle;\n",
       "    }\n",
       "\n",
       "    .dataframe tbody tr th {\n",
       "        vertical-align: top;\n",
       "    }\n",
       "\n",
       "    .dataframe thead tr th {\n",
       "        text-align: left;\n",
       "    }\n",
       "\n",
       "    .dataframe thead tr:last-of-type th {\n",
       "        text-align: right;\n",
       "    }\n",
       "</style>\n",
       "<table border=\"1\" class=\"dataframe\">\n",
       "  <thead>\n",
       "    <tr>\n",
       "      <th></th>\n",
       "      <th colspan=\"3\" halign=\"left\">mean</th>\n",
       "      <th colspan=\"3\" halign=\"left\">var</th>\n",
       "      <th colspan=\"3\" halign=\"left\">std</th>\n",
       "    </tr>\n",
       "    <tr>\n",
       "      <th></th>\n",
       "      <th>messages</th>\n",
       "      <th>minutes</th>\n",
       "      <th>tariffs</th>\n",
       "      <th>messages</th>\n",
       "      <th>minutes</th>\n",
       "      <th>tariffs</th>\n",
       "      <th>messages</th>\n",
       "      <th>minutes</th>\n",
       "      <th>tariffs</th>\n",
       "    </tr>\n",
       "    <tr>\n",
       "      <th>tariff_name</th>\n",
       "      <th></th>\n",
       "      <th></th>\n",
       "      <th></th>\n",
       "      <th></th>\n",
       "      <th></th>\n",
       "      <th></th>\n",
       "      <th></th>\n",
       "      <th></th>\n",
       "      <th></th>\n",
       "    </tr>\n",
       "  </thead>\n",
       "  <tbody>\n",
       "    <tr>\n",
       "      <th>smart</th>\n",
       "      <td>33.369058</td>\n",
       "      <td>417.747534</td>\n",
       "      <td>16201.118655</td>\n",
       "      <td>796.955256</td>\n",
       "      <td>36281.393836</td>\n",
       "      <td>3.456484e+07</td>\n",
       "      <td>28.230396</td>\n",
       "      <td>190.476754</td>\n",
       "      <td>5879.187315</td>\n",
       "    </tr>\n",
       "    <tr>\n",
       "      <th>ultra</th>\n",
       "      <td>49.313387</td>\n",
       "      <td>526.089249</td>\n",
       "      <td>19449.059970</td>\n",
       "      <td>2285.417425</td>\n",
       "      <td>101052.493549</td>\n",
       "      <td>1.020321e+08</td>\n",
       "      <td>47.806040</td>\n",
       "      <td>317.887549</td>\n",
       "      <td>10101.095459</td>\n",
       "    </tr>\n",
       "  </tbody>\n",
       "</table>\n",
       "</div>"
      ],
      "text/plain": [
       "                  mean                                    var                 \\\n",
       "              messages     minutes       tariffs     messages        minutes   \n",
       "tariff_name                                                                    \n",
       "smart        33.369058  417.747534  16201.118655   796.955256   36281.393836   \n",
       "ultra        49.313387  526.089249  19449.059970  2285.417425  101052.493549   \n",
       "\n",
       "                                 std                            \n",
       "                  tariffs   messages     minutes       tariffs  \n",
       "tariff_name                                                     \n",
       "smart        3.456484e+07  28.230396  190.476754   5879.187315  \n",
       "ultra        1.020321e+08  47.806040  317.887549  10101.095459  "
      ]
     },
     "execution_count": 41,
     "metadata": {},
     "output_type": "execute_result"
    }
   ],
   "source": [
    "# Создадим таблицу и на ней расчитаем среднее, дисперсию и стандартное отклонение\n",
    "megaline = final_table.pivot_table(index=['tariff_name'], values=['minutes', 'messages', 'tariffs'], aggfunc=['mean', 'var', 'std'])\n",
    "megaline\n"
   ]
  },
  {
   "cell_type": "code",
   "execution_count": 42,
   "id": "1d932f83",
   "metadata": {},
   "outputs": [
    {
     "data": {
      "text/plain": [
       "<AxesSubplot:>"
      ]
     },
     "execution_count": 42,
     "metadata": {},
     "output_type": "execute_result"
    },
    {
     "data": {
      "image/png": "[encoded data removed]",
      "text/plain": [
       "<Figure size 432x288 with 1 Axes>"
      ]
     },
     "metadata": {
      "needs_background": "light"
     },
     "output_type": "display_data"
    }
   ],
   "source": [
    "sum_smart['minutes'].hist(bins=50)"
   ]
  },
  {
   "cell_type": "markdown",
   "id": "1888efa6",
   "metadata": {},
   "source": [
    "- Видим, что большинство пользователей тратят почти что 500 сообщений в месяц, как положенно в тарифе.\n",
    "- Но так же есть те кто кому нужно побольше и уже платят как сверх тариф"
   ]
  },
  {
   "cell_type": "code",
   "execution_count": 43,
   "id": "7482b0ca",
   "metadata": {},
   "outputs": [
    {
     "data": {
      "text/plain": [
       "<AxesSubplot:>"
      ]
     },
     "execution_count": 43,
     "metadata": {},
     "output_type": "execute_result"
    },
    {
     "data": {
      "image/png": "[encoded data removed]",
      "text/plain": [
       "<Figure size 432x288 with 1 Axes>"
      ]
     },
     "metadata": {
      "needs_background": "light"
     },
     "output_type": "display_data"
    }
   ],
   "source": [
    "sum_smart['messages'].hist(bins=50)"
   ]
  },
  {
   "cell_type": "markdown",
   "id": "316bb687",
   "metadata": {},
   "source": [
    "- Пиковая отправка сообщений 30, что входит в тариф\n",
    "- Но так же не мало людей, кому нужно отправить 50+ сообщений"
   ]
  },
  {
   "cell_type": "code",
   "execution_count": 44,
   "id": "c586624f",
   "metadata": {},
   "outputs": [
    {
     "data": {
      "text/plain": [
       "<AxesSubplot:>"
      ]
     },
     "execution_count": 44,
     "metadata": {},
     "output_type": "execute_result"
    },
    {
     "data": {
      "image/png": "[encoded data removed]",
      "text/plain": [
       "<Figure size 432x288 with 1 Axes>"
      ]
     },
     "metadata": {
      "needs_background": "light"
     },
     "output_type": "display_data"
    }
   ],
   "source": [
    "sum_smart['tariffs'].hist(bins=50)"
   ]
  },
  {
   "cell_type": "markdown",
   "id": "3c0391d3",
   "metadata": {},
   "source": [
    "- График говорит, что большиство пользователей не хватает 15гб которые входят в пакет, поэтому им нужено доп.гб"
   ]
  },
  {
   "cell_type": "markdown",
   "id": "2a15eade",
   "metadata": {},
   "source": [
    "### 3.2 Работаем сначала с тарифом `Ultra`"
   ]
  },
  {
   "cell_type": "code",
   "execution_count": 45,
   "id": "d0acb8b2",
   "metadata": {},
   "outputs": [
    {
     "data": {
      "text/plain": [
       "<AxesSubplot:>"
      ]
     },
     "execution_count": 45,
     "metadata": {},
     "output_type": "execute_result"
    },
    {
     "data": {
      "image/png": "[encoded data removed]",
      "text/plain": [
       "<Figure size 432x288 with 1 Axes>"
      ]
     },
     "metadata": {
      "needs_background": "light"
     },
     "output_type": "display_data"
    }
   ],
   "source": [
    "sum_ultra['minutes'].hist(bins=50)"
   ]
  },
  {
   "cell_type": "markdown",
   "id": "a6a4a1f9",
   "metadata": {},
   "source": [
    "- Пик разговоров составляет примерно 500 минут, пользователям с тарифом ультра хватает включенных минут в тарифе"
   ]
  },
  {
   "cell_type": "code",
   "execution_count": 46,
   "id": "17617271",
   "metadata": {},
   "outputs": [
    {
     "data": {
      "text/plain": [
       "<AxesSubplot:>"
      ]
     },
     "execution_count": 46,
     "metadata": {},
     "output_type": "execute_result"
    },
    {
     "data": {
      "image/png": "[encoded data removed]",
      "text/plain": [
       "<Figure size 432x288 with 1 Axes>"
      ]
     },
     "metadata": {
      "needs_background": "light"
     },
     "output_type": "display_data"
    }
   ],
   "source": [
    "sum_ultra['messages'].hist(bins=50)"
   ]
  },
  {
   "cell_type": "markdown",
   "id": "7d1abfd9",
   "metadata": {},
   "source": [
    "- Многие пользователи мало или вовсем не используют сообщения\n",
    "- Dсем хватает 1000 сообщений в тарифе"
   ]
  },
  {
   "cell_type": "code",
   "execution_count": 47,
   "id": "b0305c3d",
   "metadata": {},
   "outputs": [
    {
     "data": {
      "text/plain": [
       "<AxesSubplot:>"
      ]
     },
     "execution_count": 47,
     "metadata": {},
     "output_type": "execute_result"
    },
    {
     "data": {
      "image/png": "[encoded data removed]",
      "text/plain": [
       "<Figure size 432x288 with 1 Axes>"
      ]
     },
     "metadata": {
      "needs_background": "light"
     },
     "output_type": "display_data"
    }
   ],
   "source": [
    "sum_ultra['tariffs'].hist(bins=50)"
   ]
  },
  {
   "cell_type": "markdown",
   "id": "d9e45523",
   "metadata": {},
   "source": [
    "- Многие даже не все 30гб используют, большинству хватает в районе 15-25гб"
   ]
  },
  {
   "cell_type": "markdown",
   "id": "fd42b67d",
   "metadata": {},
   "source": [
    "### Вывод по работе 3-его шага\n",
    "\n",
    "- По сути пользователям тарифа `Smart` ничего не хватает из пакетного тарифа, в особенности интернета. Большиснтво докупать доп.гб\n",
    "- По поводу пользователй тарифа `Ultra`, всем вполне хватает тарифа, но есть исключение которым все же тоже нужны доп.гб\n",
    "- Сравнение этих двух тарифов: по сообщениям в `Ultra` меньше пользуются чем в `Smart`, пики по использованию итернетом у обоих тарифов примерно одинаковы. "
   ]
  },
  {
   "cell_type": "markdown",
   "id": "5fc5a0b5",
   "metadata": {},
   "source": [
    "## Шаг 4. Проверьте гипотезы\n",
    "- средняя выручка пользователей тарифов «Ультра» и «Смарт» различаются;\n",
    "- средняя выручка пользователей из Москвы отличается от выручки пользователей из других регионов.\n",
    "\n",
    "    Пороговое значение alpha задайте самостоятельно.\n",
    "    \n",
    "    Поясните:\n",
    "\n",
    "\n",
    "- как вы формулировали нулевую и альтернативную гипотезы;\n",
    "- какой критерий использовали для проверки гипотез и почему.\n"
   ]
  },
  {
   "cell_type": "markdown",
   "id": "33e93a99",
   "metadata": {},
   "source": [
    "Сформируем нулевую гипотезу - средняя выручка пользователей тарифов «Ультра» и «Смарт» равна.\n",
    "\n",
    "Альтернативная гипотеза - средняя выручка пользователей тарифов «Ультра» и «Смарт» различна.\n",
    "\n",
    "Для проверки гипотезы используем scipy.stats.ttest_ind, так как имеем две независимые генеральные совокупности."
   ]
  },
  {
   "cell_type": "code",
   "execution_count": 48,
   "id": "9296d109",
   "metadata": {},
   "outputs": [
    {
     "name": "stdout",
     "output_type": "stream",
     "text": [
      "1289.6417040358745 : Среднее значение тарифа \"Smart\" \n",
      "2070.030425963489 : Среднее значение тарифа \"Ultra\" \n",
      "p-значение: 8.081909555489933e-161\n",
      "Отвергаем нулевую гипотезу\n"
     ]
    }
   ],
   "source": [
    "# средняя выручка пользователей тарифов «Ультра» и «Смарт» различаются;\n",
    "\n",
    "smart = sum_smart['earn']\n",
    "ultra = sum_ultra['earn']\n",
    "\n",
    "print(pd.Series(smart).mean(), ': Среднее значение тарифа \"Smart\" ')\n",
    "print(pd.Series(ultra).mean(), ': Среднее значение тарифа \"Ultra\" ')\n",
    "\n",
    "# Критический уровень статистической значимости \n",
    "# Если p-value окажется меньше него - отвергнем гипотезу\n",
    "alpha = .05\n",
    "results = st.ttest_ind(ultra, smart)\n",
    "\n",
    "print('p-значение:', results.pvalue)\n",
    "\n",
    "if results.pvalue<alpha:\n",
    "    print('Отвергаем нулевую гипотезу')\n",
    "else:\n",
    "    print('Не получилось отвергнуть нулевую гипотезу')"
   ]
  },
  {
   "cell_type": "markdown",
   "id": "c9e954ce",
   "metadata": {},
   "source": [
    "Для проверки гипотезы создадим две соответствующие таблицы moscow и other_city. В обеих таблицах будут пользователи обоих тарифов, нужно проверить, чтобы их соотношение в обеих таблицах было примерно одинаково, иначе придётся проверять гипотезу не по 2, а по 4 выборкам - Москва - смарт, Москва - ультра, не Москва - смарт, не Москва - ультра.\n",
    "\n",
    "Критический уровень значимости поставим 0.05."
   ]
  },
  {
   "cell_type": "code",
   "execution_count": 49,
   "id": "59a0ceca",
   "metadata": {},
   "outputs": [
    {
     "name": "stdout",
     "output_type": "stream",
     "text": [
      "1546.7135842880523 - Среднее значение для Москвы \n",
      "1524.7251439539348 - Среднее значение для других городов, кроме Москвы \n",
      "p-значение: 0.5400751614511182\n",
      "Не получилось отвергнуть нулевую гипотезу\n"
     ]
    }
   ],
   "source": [
    "# средняя выручка пользователей из Москвы отличается от выручки пользователей из других регионов.\n",
    "\n",
    "# Переменная чисто для Москвы\n",
    "moscow = final_table[(final_table['city'] == 'Москва')]\n",
    "# Переменная для других городов, кроме Москвы\n",
    "other_city = final_table[(final_table['city'] != 'Москва')]\n",
    "\n",
    "msc = moscow['earn']\n",
    "other = other_city['earn']\n",
    "\n",
    "print(pd.Series(msc).mean(), '- Среднее значение для Москвы ')\n",
    "print(pd.Series(other).mean(), '- Среднее значение для других городов, кроме Москвы ')\n",
    "\n",
    "# Критический уровень статистической значимости \n",
    "# Если p-value окажется меньше него - отвергнем гипотезу\n",
    "alpha = .05\n",
    "results = st.ttest_ind(\n",
    "    msc,\n",
    "    other)\n",
    "\n",
    "print('p-значение:', results.pvalue)\n",
    "\n",
    "if results.pvalue<alpha:\n",
    "    print('Отвергаем нулевую гипотезу')\n",
    "else:\n",
    "    print('Не получилось отвергнуть нулевую гипотезу')"
   ]
  },
  {
   "cell_type": "code",
   "execution_count": 50,
   "id": "c9492bad",
   "metadata": {},
   "outputs": [
    {
     "name": "stdout",
     "output_type": "stream",
     "text": [
      "1239.3575129533679 - Среднее значение для Москвы \n",
      "1300.1675704989154 - Среднее значение для других городов, кроме Москвы \n",
      "p-значение: 0.18439170052928663\n",
      "Не получилось отвергнуть нулевую гипотезу\n"
     ]
    }
   ],
   "source": [
    "# Выручка Смарта/Ультра и из Москвы/других городов\n",
    "\n",
    "# Для Москвы\n",
    "moscow_smart = final_table[(final_table['city']=='Москва')&(final_table['tariff_name'] == 'smart')]\n",
    "# Для других городов\n",
    "other_city_smart = final_table[(final_table['city']!='Москва')&(final_table['tariff_name'] == 'smart')]\n",
    "\n",
    "msc = moscow_smart['earn']\n",
    "other = other_city_smart['earn']\n",
    "\n",
    "print(pd.Series(msc).mean(), '- Среднее значение для Москвы ')\n",
    "print(pd.Series(other).mean(), '- Среднее значение для других городов, кроме Москвы ')\n",
    "\n",
    "# Критический уровень статистической значимости \n",
    "# Если p-value окажется меньше него - отвергнем гипотезу\n",
    "alpha = .05\n",
    "results = st.ttest_ind(\n",
    "    msc,\n",
    "    other)\n",
    "\n",
    "print('p-значение:', results.pvalue)\n",
    "\n",
    "if results.pvalue<alpha:\n",
    "    print('Отвергаем нулевую гипотезу')\n",
    "else:\n",
    "    print('Не получилось отвергнуть нулевую гипотезу')\n"
   ]
  },
  {
   "cell_type": "code",
   "execution_count": 51,
   "id": "60871495",
   "metadata": {},
   "outputs": [
    {
     "name": "stdout",
     "output_type": "stream",
     "text": [
      "2074.0 - Среднее значение для Москвы \n",
      "2068.856767411301 - Среднее значение для других городов, кроме Москвы \n",
      "p-значение: 0.8570628563121834\n",
      "Не получилось отвергнуть нулевую гипотезу\n"
     ]
    }
   ],
   "source": [
    "# Выручка Смарта/Ультра и из Москвы/других городов\n",
    "\n",
    "# Для Москвы\n",
    "moscow_ultra = final_table[(final_table['city']=='Москва')&(final_table['tariff_name'] == 'ultra')]\n",
    "# Для других городов\n",
    "other_city_ultra = final_table[(final_table['city']!='Москва')&(final_table['tariff_name'] == 'ultra')]\n",
    "\n",
    "msc = moscow_ultra['earn']\n",
    "other = other_city_ultra['earn']\n",
    "\n",
    "print(pd.Series(msc).mean(), '- Среднее значение для Москвы ')\n",
    "print(pd.Series(other).mean(), '- Среднее значение для других городов, кроме Москвы ')\n",
    "\n",
    "# Критический уровень статистической значимости \n",
    "# Если p-value окажется меньше него - отвергнем гипотезу\n",
    "alpha = .05\n",
    "results = st.ttest_ind(\n",
    "    msc,\n",
    "    other)\n",
    "\n",
    "print('p-значение:', results.pvalue)\n",
    "\n",
    "if results.pvalue<alpha:\n",
    "    print('Отвергаем нулевую гипотезу')\n",
    "else:\n",
    "    print('Не получилось отвергнуть нулевую гипотезу')"
   ]
  },
  {
   "cell_type": "markdown",
   "id": "d223a073",
   "metadata": {},
   "source": [
    "### Вывод по гипотизам \n",
    "\n",
    "- Средняя выручка пользователей тарифов Ультра и Смарт различаются и это доказанно, довольной ильно различается\n",
    "- А вот средняя выручка Москвы и других городов, не сильно отличается, практическе равны\n",
    "- Результаты статистических тестов не подтверждают (и не доказывают) гипотезы."
   ]
  }
 ],
 "metadata": {
  "ExecuteTimeLog": [
   {
    "duration": 472,
    "start_time": "2022-05-26T12:03:07.427Z"
   },
   {
    "duration": 1098,
    "start_time": "2022-05-26T12:03:07.901Z"
   },
   {
    "duration": 19,
    "start_time": "2022-05-26T12:03:09.001Z"
   },
   {
    "duration": 13,
    "start_time": "2022-05-26T12:03:09.023Z"
   },
   {
    "duration": 11,
    "start_time": "2022-05-26T12:03:09.038Z"
   },
   {
    "duration": 16,
    "start_time": "2022-05-26T12:03:09.051Z"
   },
   {
    "duration": 35,
    "start_time": "2022-05-26T12:03:09.068Z"
   },
   {
    "duration": 25,
    "start_time": "2022-05-26T12:03:09.105Z"
   },
   {
    "duration": 10,
    "start_time": "2022-05-26T12:03:09.132Z"
   },
   {
    "duration": 23,
    "start_time": "2022-05-26T12:03:09.146Z"
   },
   {
    "duration": 36,
    "start_time": "2022-05-26T12:03:09.171Z"
   },
   {
    "duration": 27,
    "start_time": "2022-05-26T12:03:09.209Z"
   },
   {
    "duration": 7,
    "start_time": "2022-05-26T12:03:09.238Z"
   },
   {
    "duration": 17,
    "start_time": "2022-05-26T12:03:09.248Z"
   },
   {
    "duration": 58,
    "start_time": "2022-05-26T12:03:09.268Z"
   },
   {
    "duration": 16,
    "start_time": "2022-05-26T12:03:09.328Z"
   },
   {
    "duration": 31,
    "start_time": "2022-05-26T12:03:09.355Z"
   },
   {
    "duration": 29,
    "start_time": "2022-05-26T12:03:09.388Z"
   },
   {
    "duration": 36,
    "start_time": "2022-05-26T12:03:09.419Z"
   },
   {
    "duration": 48,
    "start_time": "2022-05-26T12:03:09.457Z"
   },
   {
    "duration": 23,
    "start_time": "2022-05-26T12:03:09.507Z"
   },
   {
    "duration": 9,
    "start_time": "2022-05-26T12:03:09.533Z"
   },
   {
    "duration": 8,
    "start_time": "2022-05-26T12:03:09.544Z"
   },
   {
    "duration": 220,
    "start_time": "2022-05-26T12:03:09.555Z"
   },
   {
    "duration": 63,
    "start_time": "2022-05-26T12:03:09.777Z"
   },
   {
    "duration": 180,
    "start_time": "2022-05-26T12:03:09.843Z"
   },
   {
    "duration": 214,
    "start_time": "2022-05-26T12:03:10.025Z"
   },
   {
    "duration": 99,
    "start_time": "2022-05-26T12:03:10.242Z"
   },
   {
    "duration": 23,
    "start_time": "2022-05-26T12:03:10.343Z"
   },
   {
    "duration": 118,
    "start_time": "2022-05-26T12:03:10.368Z"
   },
   {
    "duration": 60,
    "start_time": "2022-05-26T12:03:10.488Z"
   },
   {
    "duration": 7,
    "start_time": "2022-05-26T12:03:10.550Z"
   },
   {
    "duration": 12,
    "start_time": "2022-05-26T12:03:10.559Z"
   },
   {
    "duration": 119,
    "start_time": "2022-05-26T12:03:10.572Z"
   },
   {
    "duration": 17,
    "start_time": "2022-05-26T12:03:10.693Z"
   },
   {
    "duration": 22,
    "start_time": "2022-05-26T12:03:10.712Z"
   },
   {
    "duration": 7,
    "start_time": "2022-05-26T12:03:10.736Z"
   },
   {
    "duration": 84,
    "start_time": "2022-05-26T12:03:10.745Z"
   },
   {
    "duration": 39,
    "start_time": "2022-05-26T12:03:10.831Z"
   },
   {
    "duration": 112,
    "start_time": "2022-05-26T12:03:10.872Z"
   },
   {
    "duration": 774,
    "start_time": "2022-05-26T12:03:10.986Z"
   },
   {
    "duration": 230,
    "start_time": "2022-05-26T12:03:11.763Z"
   },
   {
    "duration": 224,
    "start_time": "2022-05-26T12:03:11.995Z"
   },
   {
    "duration": 214,
    "start_time": "2022-05-26T12:03:12.221Z"
   },
   {
    "duration": 267,
    "start_time": "2022-05-26T12:03:12.437Z"
   },
   {
    "duration": 222,
    "start_time": "2022-05-26T12:03:12.706Z"
   },
   {
    "duration": 423,
    "start_time": "2022-05-26T12:03:12.930Z"
   },
   {
    "duration": 61,
    "start_time": "2022-05-26T12:03:13.355Z"
   },
   {
    "duration": 6,
    "start_time": "2022-05-26T12:17:53.926Z"
   },
   {
    "duration": 4,
    "start_time": "2022-05-26T12:18:50.421Z"
   },
   {
    "duration": 5,
    "start_time": "2022-05-26T12:19:03.987Z"
   },
   {
    "duration": 5,
    "start_time": "2022-05-26T12:26:55.453Z"
   },
   {
    "duration": 22,
    "start_time": "2022-05-26T12:27:34.799Z"
   },
   {
    "duration": 51,
    "start_time": "2022-05-26T12:28:03.174Z"
   },
   {
    "duration": 6,
    "start_time": "2022-05-26T12:31:17.291Z"
   },
   {
    "duration": 47,
    "start_time": "2022-05-26T12:32:55.730Z"
   },
   {
    "duration": 4,
    "start_time": "2022-05-26T12:45:56.117Z"
   },
   {
    "duration": 5,
    "start_time": "2022-05-26T12:54:04.618Z"
   },
   {
    "duration": 16,
    "start_time": "2022-05-26T12:54:15.097Z"
   },
   {
    "duration": 5,
    "start_time": "2022-05-26T12:55:05.159Z"
   },
   {
    "duration": 79,
    "start_time": "2022-05-26T12:57:21.127Z"
   },
   {
    "duration": 477,
    "start_time": "2022-05-26T13:06:50.968Z"
   },
   {
    "duration": 413,
    "start_time": "2022-05-26T13:06:51.446Z"
   },
   {
    "duration": 22,
    "start_time": "2022-05-26T13:06:51.861Z"
   },
   {
    "duration": 20,
    "start_time": "2022-05-26T13:06:51.885Z"
   },
   {
    "duration": 10,
    "start_time": "2022-05-26T13:06:51.906Z"
   },
   {
    "duration": 12,
    "start_time": "2022-05-26T13:06:51.918Z"
   },
   {
    "duration": 18,
    "start_time": "2022-05-26T13:06:51.931Z"
   },
   {
    "duration": 26,
    "start_time": "2022-05-26T13:06:51.951Z"
   },
   {
    "duration": 9,
    "start_time": "2022-05-26T13:06:51.978Z"
   },
   {
    "duration": 27,
    "start_time": "2022-05-26T13:06:51.989Z"
   },
   {
    "duration": 8,
    "start_time": "2022-05-26T13:06:52.017Z"
   },
   {
    "duration": 27,
    "start_time": "2022-05-26T13:06:52.027Z"
   },
   {
    "duration": 6,
    "start_time": "2022-05-26T13:06:52.056Z"
   },
   {
    "duration": 10,
    "start_time": "2022-05-26T13:06:52.063Z"
   },
   {
    "duration": 43,
    "start_time": "2022-05-26T13:06:52.074Z"
   },
   {
    "duration": 14,
    "start_time": "2022-05-26T13:06:52.118Z"
   },
   {
    "duration": 21,
    "start_time": "2022-05-26T13:06:52.133Z"
   },
   {
    "duration": 17,
    "start_time": "2022-05-26T13:06:52.156Z"
   },
   {
    "duration": 52,
    "start_time": "2022-05-26T13:06:52.174Z"
   },
   {
    "duration": 22,
    "start_time": "2022-05-26T13:06:52.227Z"
   },
   {
    "duration": 17,
    "start_time": "2022-05-26T13:06:52.250Z"
   },
   {
    "duration": 35,
    "start_time": "2022-05-26T13:06:52.268Z"
   },
   {
    "duration": 4,
    "start_time": "2022-05-26T13:06:52.304Z"
   },
   {
    "duration": 147,
    "start_time": "2022-05-26T13:06:52.309Z"
   },
   {
    "duration": 46,
    "start_time": "2022-05-26T13:06:52.457Z"
   },
   {
    "duration": 158,
    "start_time": "2022-05-26T13:06:52.504Z"
   },
   {
    "duration": 186,
    "start_time": "2022-05-26T13:06:52.664Z"
   },
   {
    "duration": 79,
    "start_time": "2022-05-26T13:06:52.853Z"
   },
   {
    "duration": 19,
    "start_time": "2022-05-26T13:06:52.934Z"
   },
   {
    "duration": 103,
    "start_time": "2022-05-26T13:06:52.955Z"
   },
   {
    "duration": 58,
    "start_time": "2022-05-26T13:06:53.060Z"
   },
   {
    "duration": 7,
    "start_time": "2022-05-26T13:06:53.120Z"
   },
   {
    "duration": 9,
    "start_time": "2022-05-26T13:06:53.129Z"
   },
   {
    "duration": 107,
    "start_time": "2022-05-26T13:06:53.140Z"
   },
   {
    "duration": 9,
    "start_time": "2022-05-26T13:06:53.248Z"
   },
   {
    "duration": 19,
    "start_time": "2022-05-26T13:06:53.259Z"
   },
   {
    "duration": 25,
    "start_time": "2022-05-26T13:06:53.279Z"
   },
   {
    "duration": 52,
    "start_time": "2022-05-26T13:06:53.305Z"
   },
   {
    "duration": 56,
    "start_time": "2022-05-26T13:06:53.358Z"
   },
   {
    "duration": 99,
    "start_time": "2022-05-26T13:06:53.416Z"
   },
   {
    "duration": 459,
    "start_time": "2022-05-26T13:06:53.517Z"
   },
   {
    "duration": 203,
    "start_time": "2022-05-26T13:06:53.978Z"
   },
   {
    "duration": 183,
    "start_time": "2022-05-26T13:06:54.183Z"
   },
   {
    "duration": 194,
    "start_time": "2022-05-26T13:06:54.368Z"
   },
   {
    "duration": 176,
    "start_time": "2022-05-26T13:06:54.564Z"
   },
   {
    "duration": 236,
    "start_time": "2022-05-26T13:06:54.741Z"
   },
   {
    "duration": 413,
    "start_time": "2022-05-26T13:06:54.979Z"
   },
   {
    "duration": 49,
    "start_time": "2022-05-26T13:06:55.394Z"
   },
   {
    "duration": 1126,
    "start_time": "2022-05-28T08:28:24.004Z"
   },
   {
    "duration": 3,
    "start_time": "2022-05-28T08:28:25.132Z"
   },
   {
    "duration": 598,
    "start_time": "2022-05-28T08:28:25.137Z"
   },
   {
    "duration": 13,
    "start_time": "2022-05-28T08:28:25.737Z"
   },
   {
    "duration": 25,
    "start_time": "2022-05-28T08:28:25.753Z"
   },
   {
    "duration": 46,
    "start_time": "2022-05-28T08:28:25.780Z"
   },
   {
    "duration": 20,
    "start_time": "2022-05-28T08:28:25.828Z"
   },
   {
    "duration": 72,
    "start_time": "2022-05-28T08:28:25.850Z"
   },
   {
    "duration": 23,
    "start_time": "2022-05-28T08:28:25.924Z"
   },
   {
    "duration": 36,
    "start_time": "2022-05-28T08:28:25.949Z"
   },
   {
    "duration": 75,
    "start_time": "2022-05-28T08:28:25.987Z"
   },
   {
    "duration": 43,
    "start_time": "2022-05-28T08:28:26.064Z"
   },
   {
    "duration": 36,
    "start_time": "2022-05-28T08:28:26.112Z"
   },
   {
    "duration": 38,
    "start_time": "2022-05-28T08:28:26.151Z"
   },
   {
    "duration": 41,
    "start_time": "2022-05-28T08:28:26.191Z"
   },
   {
    "duration": 23,
    "start_time": "2022-05-28T08:28:26.234Z"
   },
   {
    "duration": 61,
    "start_time": "2022-05-28T08:28:26.260Z"
   },
   {
    "duration": 26,
    "start_time": "2022-05-28T08:28:26.323Z"
   },
   {
    "duration": 9,
    "start_time": "2022-05-28T08:28:26.350Z"
   },
   {
    "duration": 30,
    "start_time": "2022-05-28T08:28:26.360Z"
   },
   {
    "duration": 70,
    "start_time": "2022-05-28T08:28:26.391Z"
   },
   {
    "duration": 63,
    "start_time": "2022-05-28T08:28:26.463Z"
   },
   {
    "duration": 48,
    "start_time": "2022-05-28T08:28:26.528Z"
   },
   {
    "duration": 38,
    "start_time": "2022-05-28T08:28:26.577Z"
   },
   {
    "duration": 56,
    "start_time": "2022-05-28T08:28:26.618Z"
   },
   {
    "duration": 30,
    "start_time": "2022-05-28T08:28:26.676Z"
   },
   {
    "duration": 28,
    "start_time": "2022-05-28T08:28:26.713Z"
   },
   {
    "duration": 8,
    "start_time": "2022-05-28T08:28:26.743Z"
   },
   {
    "duration": 4,
    "start_time": "2022-05-28T08:28:26.753Z"
   },
   {
    "duration": 153,
    "start_time": "2022-05-28T08:28:26.758Z"
   },
   {
    "duration": 49,
    "start_time": "2022-05-28T08:28:26.912Z"
   },
   {
    "duration": 199,
    "start_time": "2022-05-28T08:28:26.962Z"
   },
   {
    "duration": 226,
    "start_time": "2022-05-28T08:28:27.163Z"
   },
   {
    "duration": 85,
    "start_time": "2022-05-28T08:28:27.395Z"
   },
   {
    "duration": 41,
    "start_time": "2022-05-28T08:28:27.482Z"
   },
   {
    "duration": 106,
    "start_time": "2022-05-28T08:28:27.525Z"
   },
   {
    "duration": 50,
    "start_time": "2022-05-28T08:28:27.632Z"
   },
   {
    "duration": 57,
    "start_time": "2022-05-28T08:28:27.683Z"
   },
   {
    "duration": 6,
    "start_time": "2022-05-28T08:28:27.741Z"
   },
   {
    "duration": 14,
    "start_time": "2022-05-28T08:28:27.749Z"
   },
   {
    "duration": 67,
    "start_time": "2022-05-28T08:28:27.794Z"
   },
   {
    "duration": 93,
    "start_time": "2022-05-28T08:28:27.863Z"
   },
   {
    "duration": 9,
    "start_time": "2022-05-28T08:28:27.958Z"
   },
   {
    "duration": 69,
    "start_time": "2022-05-28T08:28:27.969Z"
   },
   {
    "duration": 8,
    "start_time": "2022-05-28T08:28:28.040Z"
   },
   {
    "duration": 96,
    "start_time": "2022-05-28T08:28:28.050Z"
   },
   {
    "duration": 42,
    "start_time": "2022-05-28T08:28:28.148Z"
   },
   {
    "duration": 113,
    "start_time": "2022-05-28T08:28:28.192Z"
   },
   {
    "duration": 224,
    "start_time": "2022-05-28T08:28:28.306Z"
   },
   {
    "duration": 284,
    "start_time": "2022-05-28T08:28:28.533Z"
   },
   {
    "duration": 254,
    "start_time": "2022-05-28T08:28:28.819Z"
   },
   {
    "duration": 243,
    "start_time": "2022-05-28T08:28:29.075Z"
   },
   {
    "duration": 183,
    "start_time": "2022-05-28T08:28:29.320Z"
   },
   {
    "duration": 208,
    "start_time": "2022-05-28T08:28:29.504Z"
   },
   {
    "duration": 10,
    "start_time": "2022-05-28T08:28:29.715Z"
   },
   {
    "duration": 53,
    "start_time": "2022-05-28T08:28:29.728Z"
   },
   {
    "duration": 1124,
    "start_time": "2022-05-28T09:03:05.435Z"
   },
   {
    "duration": 3,
    "start_time": "2022-05-28T09:03:06.561Z"
   },
   {
    "duration": 441,
    "start_time": "2022-05-28T09:03:06.565Z"
   },
   {
    "duration": 14,
    "start_time": "2022-05-28T09:03:07.009Z"
   },
   {
    "duration": 10,
    "start_time": "2022-05-28T09:03:07.025Z"
   },
   {
    "duration": 11,
    "start_time": "2022-05-28T09:03:07.036Z"
   },
   {
    "duration": 11,
    "start_time": "2022-05-28T09:03:07.048Z"
   },
   {
    "duration": 35,
    "start_time": "2022-05-28T09:03:07.060Z"
   },
   {
    "duration": 36,
    "start_time": "2022-05-28T09:03:07.097Z"
   },
   {
    "duration": 10,
    "start_time": "2022-05-28T09:03:07.136Z"
   },
   {
    "duration": 23,
    "start_time": "2022-05-28T09:03:07.147Z"
   },
   {
    "duration": 14,
    "start_time": "2022-05-28T09:03:07.172Z"
   },
   {
    "duration": 33,
    "start_time": "2022-05-28T09:03:07.188Z"
   },
   {
    "duration": 24,
    "start_time": "2022-05-28T09:03:07.223Z"
   },
   {
    "duration": 17,
    "start_time": "2022-05-28T09:03:07.248Z"
   },
   {
    "duration": 15,
    "start_time": "2022-05-28T09:03:07.266Z"
   },
   {
    "duration": 38,
    "start_time": "2022-05-28T09:03:07.282Z"
   },
   {
    "duration": 20,
    "start_time": "2022-05-28T09:03:07.321Z"
   },
   {
    "duration": 9,
    "start_time": "2022-05-28T09:03:07.343Z"
   },
   {
    "duration": 18,
    "start_time": "2022-05-28T09:03:07.354Z"
   },
   {
    "duration": 37,
    "start_time": "2022-05-28T09:03:07.374Z"
   },
   {
    "duration": 19,
    "start_time": "2022-05-28T09:03:07.413Z"
   },
   {
    "duration": 20,
    "start_time": "2022-05-28T09:03:07.434Z"
   },
   {
    "duration": 16,
    "start_time": "2022-05-28T09:03:07.456Z"
   },
   {
    "duration": 59,
    "start_time": "2022-05-28T09:03:07.474Z"
   },
   {
    "duration": 22,
    "start_time": "2022-05-28T09:03:07.534Z"
   },
   {
    "duration": 38,
    "start_time": "2022-05-28T09:03:07.558Z"
   },
   {
    "duration": 14,
    "start_time": "2022-05-28T09:03:07.601Z"
   },
   {
    "duration": 14,
    "start_time": "2022-05-28T09:03:07.617Z"
   },
   {
    "duration": 151,
    "start_time": "2022-05-28T09:03:07.632Z"
   },
   {
    "duration": 49,
    "start_time": "2022-05-28T09:03:07.785Z"
   },
   {
    "duration": 183,
    "start_time": "2022-05-28T09:03:07.836Z"
   },
   {
    "duration": 210,
    "start_time": "2022-05-28T09:03:08.020Z"
   },
   {
    "duration": 90,
    "start_time": "2022-05-28T09:03:08.232Z"
   },
   {
    "duration": 19,
    "start_time": "2022-05-28T09:03:08.324Z"
   },
   {
    "duration": 109,
    "start_time": "2022-05-28T09:03:08.345Z"
   },
   {
    "duration": 60,
    "start_time": "2022-05-28T09:03:08.455Z"
   },
   {
    "duration": 46,
    "start_time": "2022-05-28T09:03:08.517Z"
   },
   {
    "duration": 6,
    "start_time": "2022-05-28T09:03:08.565Z"
   },
   {
    "duration": 42,
    "start_time": "2022-05-28T09:03:08.572Z"
   },
   {
    "duration": 56,
    "start_time": "2022-05-28T09:03:08.616Z"
   },
   {
    "duration": 98,
    "start_time": "2022-05-28T09:03:08.674Z"
   },
   {
    "duration": 9,
    "start_time": "2022-05-28T09:03:08.774Z"
   },
   {
    "duration": 51,
    "start_time": "2022-05-28T09:03:08.799Z"
   },
   {
    "duration": 6,
    "start_time": "2022-05-28T09:03:08.852Z"
   },
   {
    "duration": 76,
    "start_time": "2022-05-28T09:03:08.859Z"
   },
   {
    "duration": 48,
    "start_time": "2022-05-28T09:03:08.937Z"
   },
   {
    "duration": 136,
    "start_time": "2022-05-28T09:03:08.994Z"
   },
   {
    "duration": 244,
    "start_time": "2022-05-28T09:03:09.133Z"
   },
   {
    "duration": 273,
    "start_time": "2022-05-28T09:03:09.378Z"
   },
   {
    "duration": 203,
    "start_time": "2022-05-28T09:03:09.653Z"
   },
   {
    "duration": 210,
    "start_time": "2022-05-28T09:03:09.858Z"
   },
   {
    "duration": 182,
    "start_time": "2022-05-28T09:03:10.070Z"
   },
   {
    "duration": 203,
    "start_time": "2022-05-28T09:03:10.253Z"
   },
   {
    "duration": 9,
    "start_time": "2022-05-28T09:03:10.458Z"
   },
   {
    "duration": 70,
    "start_time": "2022-05-28T09:03:10.468Z"
   },
   {
    "duration": 1148,
    "start_time": "2022-05-30T06:54:00.808Z"
   },
   {
    "duration": 443,
    "start_time": "2022-05-30T06:54:01.958Z"
   },
   {
    "duration": 12,
    "start_time": "2022-05-30T06:54:02.403Z"
   },
   {
    "duration": 14,
    "start_time": "2022-05-30T06:54:02.417Z"
   },
   {
    "duration": 9,
    "start_time": "2022-05-30T06:54:02.433Z"
   },
   {
    "duration": 9,
    "start_time": "2022-05-30T06:54:02.444Z"
   },
   {
    "duration": 15,
    "start_time": "2022-05-30T06:54:02.455Z"
   },
   {
    "duration": 10,
    "start_time": "2022-05-30T06:54:02.472Z"
   },
   {
    "duration": 9,
    "start_time": "2022-05-30T06:54:02.483Z"
   },
   {
    "duration": 40,
    "start_time": "2022-05-30T06:54:02.495Z"
   },
   {
    "duration": 18,
    "start_time": "2022-05-30T06:54:02.537Z"
   },
   {
    "duration": 13,
    "start_time": "2022-05-30T06:54:02.557Z"
   },
   {
    "duration": 28,
    "start_time": "2022-05-30T06:54:02.572Z"
   },
   {
    "duration": 22,
    "start_time": "2022-05-30T06:54:02.622Z"
   },
   {
    "duration": 21,
    "start_time": "2022-05-30T06:54:02.646Z"
   },
   {
    "duration": 36,
    "start_time": "2022-05-30T06:54:02.669Z"
   },
   {
    "duration": 38,
    "start_time": "2022-05-30T06:54:02.707Z"
   },
   {
    "duration": 11,
    "start_time": "2022-05-30T06:54:02.747Z"
   },
   {
    "duration": 23,
    "start_time": "2022-05-30T06:54:02.760Z"
   },
   {
    "duration": 32,
    "start_time": "2022-05-30T06:54:02.785Z"
   },
   {
    "duration": 14,
    "start_time": "2022-05-30T06:54:02.819Z"
   },
   {
    "duration": 21,
    "start_time": "2022-05-30T06:54:02.835Z"
   },
   {
    "duration": 19,
    "start_time": "2022-05-30T06:54:02.858Z"
   },
   {
    "duration": 4,
    "start_time": "2022-05-30T06:54:02.879Z"
   },
   {
    "duration": 57,
    "start_time": "2022-05-30T06:54:02.884Z"
   },
   {
    "duration": 23,
    "start_time": "2022-05-30T06:54:02.943Z"
   },
   {
    "duration": 5,
    "start_time": "2022-05-30T06:54:02.968Z"
   },
   {
    "duration": 22,
    "start_time": "2022-05-30T06:54:02.976Z"
   },
   {
    "duration": 25,
    "start_time": "2022-05-30T06:54:02.999Z"
   },
   {
    "duration": 4,
    "start_time": "2022-05-30T06:54:03.026Z"
   },
   {
    "duration": 117,
    "start_time": "2022-05-30T06:54:03.031Z"
   },
   {
    "duration": 91,
    "start_time": "2022-05-30T06:54:03.150Z"
   },
   {
    "duration": 321,
    "start_time": "2022-05-30T06:54:03.243Z"
   },
   {
    "duration": 193,
    "start_time": "2022-05-30T06:54:03.565Z"
   },
   {
    "duration": 89,
    "start_time": "2022-05-30T06:54:03.760Z"
   },
   {
    "duration": 37,
    "start_time": "2022-05-30T06:54:03.851Z"
   },
   {
    "duration": 118,
    "start_time": "2022-05-30T06:54:03.890Z"
   },
   {
    "duration": 33,
    "start_time": "2022-05-30T06:54:04.010Z"
   },
   {
    "duration": 10,
    "start_time": "2022-05-30T06:54:04.045Z"
   },
   {
    "duration": 6,
    "start_time": "2022-05-30T06:54:04.056Z"
   },
   {
    "duration": 9,
    "start_time": "2022-05-30T06:54:04.064Z"
   },
   {
    "duration": 48,
    "start_time": "2022-05-30T06:54:04.075Z"
   },
   {
    "duration": 21,
    "start_time": "2022-05-30T06:54:04.125Z"
   },
   {
    "duration": 5,
    "start_time": "2022-05-30T06:54:04.147Z"
   },
   {
    "duration": 11,
    "start_time": "2022-05-30T06:54:04.153Z"
   },
   {
    "duration": 6,
    "start_time": "2022-05-30T06:54:04.166Z"
   },
   {
    "duration": 17,
    "start_time": "2022-05-30T06:54:04.174Z"
   },
   {
    "duration": 30,
    "start_time": "2022-05-30T06:54:04.193Z"
   },
   {
    "duration": 34,
    "start_time": "2022-05-30T06:54:04.225Z"
   },
   {
    "duration": 265,
    "start_time": "2022-05-30T06:54:04.261Z"
   },
   {
    "duration": 195,
    "start_time": "2022-05-30T06:54:04.527Z"
   },
   {
    "duration": 207,
    "start_time": "2022-05-30T06:54:04.723Z"
   },
   {
    "duration": 173,
    "start_time": "2022-05-30T06:54:04.931Z"
   },
   {
    "duration": 159,
    "start_time": "2022-05-30T06:54:05.106Z"
   },
   {
    "duration": 166,
    "start_time": "2022-05-30T06:54:05.267Z"
   },
   {
    "duration": 7,
    "start_time": "2022-05-30T06:54:05.435Z"
   },
   {
    "duration": 26,
    "start_time": "2022-05-30T06:54:05.443Z"
   },
   {
    "duration": 11,
    "start_time": "2022-05-30T06:54:05.471Z"
   },
   {
    "duration": 18,
    "start_time": "2022-05-30T06:54:05.483Z"
   },
   {
    "duration": 10,
    "start_time": "2022-05-30T07:09:07.427Z"
   },
   {
    "duration": 8,
    "start_time": "2022-05-30T07:10:02.346Z"
   },
   {
    "duration": 7,
    "start_time": "2022-05-30T07:11:00.707Z"
   },
   {
    "duration": 4,
    "start_time": "2022-05-30T07:11:46.539Z"
   },
   {
    "duration": 4,
    "start_time": "2022-05-30T07:12:03.433Z"
   },
   {
    "duration": 9,
    "start_time": "2022-05-30T07:12:25.953Z"
   },
   {
    "duration": 96,
    "start_time": "2022-05-30T07:14:50.777Z"
   },
   {
    "duration": 5,
    "start_time": "2022-05-30T07:14:55.623Z"
   },
   {
    "duration": 5,
    "start_time": "2022-05-30T07:18:33.933Z"
   },
   {
    "duration": 4,
    "start_time": "2022-05-30T07:18:34.757Z"
   },
   {
    "duration": 9,
    "start_time": "2022-05-30T07:18:35.524Z"
   },
   {
    "duration": 4,
    "start_time": "2022-05-30T07:18:36.149Z"
   },
   {
    "duration": 5,
    "start_time": "2022-05-30T07:18:48.557Z"
   },
   {
    "duration": 1125,
    "start_time": "2022-05-31T06:28:49.879Z"
   },
   {
    "duration": 933,
    "start_time": "2022-05-31T06:28:51.006Z"
   },
   {
    "duration": 13,
    "start_time": "2022-05-31T06:28:51.940Z"
   },
   {
    "duration": 14,
    "start_time": "2022-05-31T06:28:51.955Z"
   },
   {
    "duration": 14,
    "start_time": "2022-05-31T06:28:51.970Z"
   },
   {
    "duration": 17,
    "start_time": "2022-05-31T06:28:51.985Z"
   },
   {
    "duration": 10,
    "start_time": "2022-05-31T06:28:52.004Z"
   },
   {
    "duration": 7,
    "start_time": "2022-05-31T06:28:52.016Z"
   },
   {
    "duration": 8,
    "start_time": "2022-05-31T06:28:52.025Z"
   },
   {
    "duration": 17,
    "start_time": "2022-05-31T06:28:52.036Z"
   },
   {
    "duration": 14,
    "start_time": "2022-05-31T06:28:52.055Z"
   },
   {
    "duration": 9,
    "start_time": "2022-05-31T06:28:52.070Z"
   },
   {
    "duration": 49,
    "start_time": "2022-05-31T06:28:52.081Z"
   },
   {
    "duration": 17,
    "start_time": "2022-05-31T06:28:52.132Z"
   },
   {
    "duration": 9,
    "start_time": "2022-05-31T06:28:52.151Z"
   },
   {
    "duration": 27,
    "start_time": "2022-05-31T06:28:52.162Z"
   },
   {
    "duration": 58,
    "start_time": "2022-05-31T06:28:52.191Z"
   },
   {
    "duration": 7,
    "start_time": "2022-05-31T06:28:52.251Z"
   },
   {
    "duration": 15,
    "start_time": "2022-05-31T06:28:52.260Z"
   },
   {
    "duration": 20,
    "start_time": "2022-05-31T06:28:52.277Z"
   },
   {
    "duration": 33,
    "start_time": "2022-05-31T06:28:52.299Z"
   },
   {
    "duration": 11,
    "start_time": "2022-05-31T06:28:52.334Z"
   },
   {
    "duration": 23,
    "start_time": "2022-05-31T06:28:52.346Z"
   },
   {
    "duration": 17,
    "start_time": "2022-05-31T06:28:52.370Z"
   },
   {
    "duration": 12,
    "start_time": "2022-05-31T06:28:52.388Z"
   },
   {
    "duration": 3,
    "start_time": "2022-05-31T06:28:52.428Z"
   },
   {
    "duration": 36,
    "start_time": "2022-05-31T06:28:52.433Z"
   },
   {
    "duration": 21,
    "start_time": "2022-05-31T06:28:52.473Z"
   },
   {
    "duration": 31,
    "start_time": "2022-05-31T06:28:52.496Z"
   },
   {
    "duration": 3,
    "start_time": "2022-05-31T06:28:52.529Z"
   },
   {
    "duration": 18,
    "start_time": "2022-05-31T06:28:52.533Z"
   },
   {
    "duration": 8,
    "start_time": "2022-05-31T06:28:52.553Z"
   },
   {
    "duration": 4,
    "start_time": "2022-05-31T06:28:52.562Z"
   },
   {
    "duration": 122,
    "start_time": "2022-05-31T06:28:52.567Z"
   },
   {
    "duration": 87,
    "start_time": "2022-05-31T06:28:52.691Z"
   },
   {
    "duration": 316,
    "start_time": "2022-05-31T06:28:52.780Z"
   },
   {
    "duration": 181,
    "start_time": "2022-05-31T06:28:53.097Z"
   },
   {
    "duration": 81,
    "start_time": "2022-05-31T06:28:53.280Z"
   },
   {
    "duration": 37,
    "start_time": "2022-05-31T06:28:53.363Z"
   },
   {
    "duration": 104,
    "start_time": "2022-05-31T06:28:53.402Z"
   },
   {
    "duration": 41,
    "start_time": "2022-05-31T06:28:53.508Z"
   },
   {
    "duration": 10,
    "start_time": "2022-05-31T06:28:53.550Z"
   },
   {
    "duration": 6,
    "start_time": "2022-05-31T06:28:53.562Z"
   },
   {
    "duration": 8,
    "start_time": "2022-05-31T06:28:53.569Z"
   },
   {
    "duration": 57,
    "start_time": "2022-05-31T06:28:53.579Z"
   },
   {
    "duration": 27,
    "start_time": "2022-05-31T06:28:53.638Z"
   },
   {
    "duration": 4,
    "start_time": "2022-05-31T06:28:53.667Z"
   },
   {
    "duration": 13,
    "start_time": "2022-05-31T06:28:53.672Z"
   },
   {
    "duration": 6,
    "start_time": "2022-05-31T06:28:53.686Z"
   },
   {
    "duration": 34,
    "start_time": "2022-05-31T06:28:53.694Z"
   },
   {
    "duration": 5,
    "start_time": "2022-05-31T06:28:53.729Z"
   },
   {
    "duration": 38,
    "start_time": "2022-05-31T06:28:53.735Z"
   },
   {
    "duration": 298,
    "start_time": "2022-05-31T06:28:53.774Z"
   },
   {
    "duration": 199,
    "start_time": "2022-05-31T06:28:54.074Z"
   },
   {
    "duration": 190,
    "start_time": "2022-05-31T06:28:54.275Z"
   },
   {
    "duration": 184,
    "start_time": "2022-05-31T06:28:54.467Z"
   },
   {
    "duration": 162,
    "start_time": "2022-05-31T06:28:54.653Z"
   },
   {
    "duration": 167,
    "start_time": "2022-05-31T06:28:54.817Z"
   },
   {
    "duration": 6,
    "start_time": "2022-05-31T06:28:54.985Z"
   },
   {
    "duration": 15,
    "start_time": "2022-05-31T06:28:54.993Z"
   },
   {
    "duration": 22,
    "start_time": "2022-05-31T06:28:55.010Z"
   },
   {
    "duration": 12,
    "start_time": "2022-05-31T06:28:55.033Z"
   },
   {
    "duration": 8,
    "start_time": "2022-05-31T06:35:24.894Z"
   },
   {
    "duration": 1033,
    "start_time": "2022-05-31T06:35:49.836Z"
   },
   {
    "duration": 420,
    "start_time": "2022-05-31T06:35:50.871Z"
   },
   {
    "duration": 12,
    "start_time": "2022-05-31T06:35:51.293Z"
   },
   {
    "duration": 11,
    "start_time": "2022-05-31T06:35:51.307Z"
   },
   {
    "duration": 6,
    "start_time": "2022-05-31T06:35:51.327Z"
   },
   {
    "duration": 21,
    "start_time": "2022-05-31T06:35:51.334Z"
   },
   {
    "duration": 12,
    "start_time": "2022-05-31T06:35:51.357Z"
   },
   {
    "duration": 7,
    "start_time": "2022-05-31T06:35:51.371Z"
   },
   {
    "duration": 9,
    "start_time": "2022-05-31T06:35:51.379Z"
   },
   {
    "duration": 22,
    "start_time": "2022-05-31T06:35:51.390Z"
   },
   {
    "duration": 24,
    "start_time": "2022-05-31T06:35:51.413Z"
   },
   {
    "duration": 11,
    "start_time": "2022-05-31T06:35:51.439Z"
   },
   {
    "duration": 27,
    "start_time": "2022-05-31T06:35:51.451Z"
   },
   {
    "duration": 25,
    "start_time": "2022-05-31T06:35:51.481Z"
   },
   {
    "duration": 26,
    "start_time": "2022-05-31T06:35:51.509Z"
   },
   {
    "duration": 37,
    "start_time": "2022-05-31T06:35:51.537Z"
   },
   {
    "duration": 24,
    "start_time": "2022-05-31T06:35:51.576Z"
   },
   {
    "duration": 31,
    "start_time": "2022-05-31T06:35:51.603Z"
   },
   {
    "duration": 15,
    "start_time": "2022-05-31T06:35:51.636Z"
   },
   {
    "duration": 28,
    "start_time": "2022-05-31T06:35:51.653Z"
   },
   {
    "duration": 15,
    "start_time": "2022-05-31T06:35:51.683Z"
   },
   {
    "duration": 27,
    "start_time": "2022-05-31T06:35:51.701Z"
   },
   {
    "duration": 23,
    "start_time": "2022-05-31T06:35:51.729Z"
   },
   {
    "duration": 16,
    "start_time": "2022-05-31T06:35:51.753Z"
   },
   {
    "duration": 12,
    "start_time": "2022-05-31T06:35:51.770Z"
   },
   {
    "duration": 8,
    "start_time": "2022-05-31T06:35:51.783Z"
   },
   {
    "duration": 39,
    "start_time": "2022-05-31T06:35:51.792Z"
   },
   {
    "duration": 33,
    "start_time": "2022-05-31T06:35:51.834Z"
   },
   {
    "duration": 22,
    "start_time": "2022-05-31T06:35:51.869Z"
   },
   {
    "duration": 13,
    "start_time": "2022-05-31T06:35:51.892Z"
   },
   {
    "duration": 22,
    "start_time": "2022-05-31T06:35:51.906Z"
   },
   {
    "duration": 20,
    "start_time": "2022-05-31T06:35:51.930Z"
   },
   {
    "duration": 9,
    "start_time": "2022-05-31T06:35:51.952Z"
   },
   {
    "duration": 4,
    "start_time": "2022-05-31T06:35:51.962Z"
   },
   {
    "duration": 122,
    "start_time": "2022-05-31T06:35:51.968Z"
   },
   {
    "duration": 92,
    "start_time": "2022-05-31T06:35:52.092Z"
   },
   {
    "duration": 321,
    "start_time": "2022-05-31T06:35:52.186Z"
   },
   {
    "duration": 202,
    "start_time": "2022-05-31T06:35:52.508Z"
   },
   {
    "duration": 83,
    "start_time": "2022-05-31T06:35:52.712Z"
   },
   {
    "duration": 48,
    "start_time": "2022-05-31T06:35:52.797Z"
   },
   {
    "duration": 98,
    "start_time": "2022-05-31T06:35:52.847Z"
   },
   {
    "duration": 35,
    "start_time": "2022-05-31T06:35:52.947Z"
   },
   {
    "duration": 10,
    "start_time": "2022-05-31T06:35:52.983Z"
   },
   {
    "duration": 7,
    "start_time": "2022-05-31T06:35:52.994Z"
   },
   {
    "duration": 31,
    "start_time": "2022-05-31T06:35:53.002Z"
   },
   {
    "duration": 34,
    "start_time": "2022-05-31T06:35:53.034Z"
   },
   {
    "duration": 33,
    "start_time": "2022-05-31T06:35:53.069Z"
   },
   {
    "duration": 5,
    "start_time": "2022-05-31T06:35:53.103Z"
   },
   {
    "duration": 22,
    "start_time": "2022-05-31T06:35:53.109Z"
   },
   {
    "duration": 7,
    "start_time": "2022-05-31T06:35:53.132Z"
   },
   {
    "duration": 18,
    "start_time": "2022-05-31T06:35:53.140Z"
   },
   {
    "duration": 5,
    "start_time": "2022-05-31T06:35:53.159Z"
   },
   {
    "duration": 41,
    "start_time": "2022-05-31T06:35:53.166Z"
   },
   {
    "duration": 251,
    "start_time": "2022-05-31T06:35:53.227Z"
   },
   {
    "duration": 187,
    "start_time": "2022-05-31T06:35:53.479Z"
   },
   {
    "duration": 194,
    "start_time": "2022-05-31T06:35:53.668Z"
   },
   {
    "duration": 172,
    "start_time": "2022-05-31T06:35:53.863Z"
   },
   {
    "duration": 164,
    "start_time": "2022-05-31T06:35:54.036Z"
   },
   {
    "duration": 164,
    "start_time": "2022-05-31T06:35:54.201Z"
   },
   {
    "duration": 6,
    "start_time": "2022-05-31T06:35:54.367Z"
   },
   {
    "duration": 12,
    "start_time": "2022-05-31T06:35:54.374Z"
   },
   {
    "duration": 9,
    "start_time": "2022-05-31T06:35:54.388Z"
   },
   {
    "duration": 31,
    "start_time": "2022-05-31T06:35:54.398Z"
   },
   {
    "duration": 34,
    "start_time": "2022-05-31T06:56:26.707Z"
   },
   {
    "duration": 7,
    "start_time": "2022-05-31T06:56:32.055Z"
   },
   {
    "duration": 1102,
    "start_time": "2022-05-31T07:21:06.282Z"
   },
   {
    "duration": 440,
    "start_time": "2022-05-31T07:21:07.386Z"
   },
   {
    "duration": 13,
    "start_time": "2022-05-31T07:21:07.828Z"
   },
   {
    "duration": 11,
    "start_time": "2022-05-31T07:21:07.843Z"
   },
   {
    "duration": 10,
    "start_time": "2022-05-31T07:21:07.856Z"
   },
   {
    "duration": 11,
    "start_time": "2022-05-31T07:21:07.868Z"
   },
   {
    "duration": 27,
    "start_time": "2022-05-31T07:21:07.881Z"
   },
   {
    "duration": 25,
    "start_time": "2022-05-31T07:21:07.910Z"
   },
   {
    "duration": 38,
    "start_time": "2022-05-31T07:21:07.936Z"
   },
   {
    "duration": 23,
    "start_time": "2022-05-31T07:21:07.976Z"
   },
   {
    "duration": 36,
    "start_time": "2022-05-31T07:21:08.001Z"
   },
   {
    "duration": 31,
    "start_time": "2022-05-31T07:21:08.039Z"
   },
   {
    "duration": 33,
    "start_time": "2022-05-31T07:21:08.071Z"
   },
   {
    "duration": 15,
    "start_time": "2022-05-31T07:21:08.106Z"
   },
   {
    "duration": 28,
    "start_time": "2022-05-31T07:21:08.123Z"
   },
   {
    "duration": 38,
    "start_time": "2022-05-31T07:21:08.153Z"
   },
   {
    "duration": 20,
    "start_time": "2022-05-31T07:21:08.193Z"
   },
   {
    "duration": 21,
    "start_time": "2022-05-31T07:21:08.214Z"
   },
   {
    "duration": 41,
    "start_time": "2022-05-31T07:21:08.237Z"
   },
   {
    "duration": 37,
    "start_time": "2022-05-31T07:21:08.280Z"
   },
   {
    "duration": 18,
    "start_time": "2022-05-31T07:21:08.319Z"
   },
   {
    "duration": 16,
    "start_time": "2022-05-31T07:21:08.339Z"
   },
   {
    "duration": 23,
    "start_time": "2022-05-31T07:21:08.357Z"
   },
   {
    "duration": 23,
    "start_time": "2022-05-31T07:21:08.382Z"
   },
   {
    "duration": 19,
    "start_time": "2022-05-31T07:21:08.407Z"
   },
   {
    "duration": 15,
    "start_time": "2022-05-31T07:21:08.428Z"
   },
   {
    "duration": 66,
    "start_time": "2022-05-31T07:21:08.445Z"
   },
   {
    "duration": 24,
    "start_time": "2022-05-31T07:21:08.515Z"
   },
   {
    "duration": 13,
    "start_time": "2022-05-31T07:21:08.540Z"
   },
   {
    "duration": 14,
    "start_time": "2022-05-31T07:21:08.555Z"
   },
   {
    "duration": 32,
    "start_time": "2022-05-31T07:21:08.571Z"
   },
   {
    "duration": 17,
    "start_time": "2022-05-31T07:21:08.605Z"
   },
   {
    "duration": 30,
    "start_time": "2022-05-31T07:21:08.624Z"
   },
   {
    "duration": 129,
    "start_time": "2022-05-31T07:21:08.656Z"
   },
   {
    "duration": 89,
    "start_time": "2022-05-31T07:21:08.787Z"
   },
   {
    "duration": 317,
    "start_time": "2022-05-31T07:21:08.878Z"
   },
   {
    "duration": 188,
    "start_time": "2022-05-31T07:21:09.196Z"
   },
   {
    "duration": 88,
    "start_time": "2022-05-31T07:21:09.386Z"
   },
   {
    "duration": 52,
    "start_time": "2022-05-31T07:21:09.476Z"
   },
   {
    "duration": 109,
    "start_time": "2022-05-31T07:21:09.530Z"
   },
   {
    "duration": 37,
    "start_time": "2022-05-31T07:21:09.641Z"
   },
   {
    "duration": 10,
    "start_time": "2022-05-31T07:21:09.680Z"
   },
   {
    "duration": 23,
    "start_time": "2022-05-31T07:21:09.692Z"
   },
   {
    "duration": 19,
    "start_time": "2022-05-31T07:21:09.716Z"
   },
   {
    "duration": 45,
    "start_time": "2022-05-31T07:21:09.736Z"
   },
   {
    "duration": 33,
    "start_time": "2022-05-31T07:21:09.782Z"
   },
   {
    "duration": 6,
    "start_time": "2022-05-31T07:21:09.817Z"
   },
   {
    "duration": 37,
    "start_time": "2022-05-31T07:21:09.827Z"
   },
   {
    "duration": 27,
    "start_time": "2022-05-31T07:21:09.866Z"
   },
   {
    "duration": 29,
    "start_time": "2022-05-31T07:21:09.894Z"
   },
   {
    "duration": 6,
    "start_time": "2022-05-31T07:21:09.924Z"
   },
   {
    "duration": 52,
    "start_time": "2022-05-31T07:21:09.931Z"
   },
   {
    "duration": 259,
    "start_time": "2022-05-31T07:21:09.985Z"
   },
   {
    "duration": 191,
    "start_time": "2022-05-31T07:21:10.246Z"
   },
   {
    "duration": 197,
    "start_time": "2022-05-31T07:21:10.439Z"
   },
   {
    "duration": 195,
    "start_time": "2022-05-31T07:21:10.637Z"
   },
   {
    "duration": 168,
    "start_time": "2022-05-31T07:21:10.834Z"
   },
   {
    "duration": 171,
    "start_time": "2022-05-31T07:21:11.004Z"
   },
   {
    "duration": 7,
    "start_time": "2022-05-31T07:21:11.177Z"
   },
   {
    "duration": 14,
    "start_time": "2022-05-31T07:21:11.186Z"
   },
   {
    "duration": 28,
    "start_time": "2022-05-31T07:21:11.201Z"
   },
   {
    "duration": 10,
    "start_time": "2022-05-31T07:21:11.231Z"
   },
   {
    "duration": 1407,
    "start_time": "2022-06-02T08:18:01.041Z"
   },
   {
    "duration": 1508,
    "start_time": "2022-06-02T08:18:02.451Z"
   },
   {
    "duration": 22,
    "start_time": "2022-06-02T08:18:03.961Z"
   },
   {
    "duration": 24,
    "start_time": "2022-06-02T08:18:03.987Z"
   },
   {
    "duration": 11,
    "start_time": "2022-06-02T08:18:04.013Z"
   },
   {
    "duration": 38,
    "start_time": "2022-06-02T08:18:04.026Z"
   },
   {
    "duration": 29,
    "start_time": "2022-06-02T08:18:04.066Z"
   },
   {
    "duration": 17,
    "start_time": "2022-06-02T08:18:04.097Z"
   },
   {
    "duration": 38,
    "start_time": "2022-06-02T08:18:04.116Z"
   },
   {
    "duration": 23,
    "start_time": "2022-06-02T08:18:04.157Z"
   },
   {
    "duration": 17,
    "start_time": "2022-06-02T08:18:04.182Z"
   },
   {
    "duration": 15,
    "start_time": "2022-06-02T08:18:04.201Z"
   },
   {
    "duration": 28,
    "start_time": "2022-06-02T08:18:04.218Z"
   },
   {
    "duration": 39,
    "start_time": "2022-06-02T08:18:04.249Z"
   },
   {
    "duration": 9,
    "start_time": "2022-06-02T08:18:04.290Z"
   },
   {
    "duration": 34,
    "start_time": "2022-06-02T08:18:04.300Z"
   },
   {
    "duration": 22,
    "start_time": "2022-06-02T08:18:04.342Z"
   },
   {
    "duration": 8,
    "start_time": "2022-06-02T08:18:04.366Z"
   },
   {
    "duration": 17,
    "start_time": "2022-06-02T08:18:04.376Z"
   },
   {
    "duration": 32,
    "start_time": "2022-06-02T08:18:04.395Z"
   },
   {
    "duration": 18,
    "start_time": "2022-06-02T08:18:04.436Z"
   },
   {
    "duration": 15,
    "start_time": "2022-06-02T08:18:04.456Z"
   },
   {
    "duration": 35,
    "start_time": "2022-06-02T08:18:04.473Z"
   },
   {
    "duration": 35,
    "start_time": "2022-06-02T08:18:04.510Z"
   },
   {
    "duration": 13,
    "start_time": "2022-06-02T08:18:04.547Z"
   },
   {
    "duration": 2,
    "start_time": "2022-06-02T08:18:04.562Z"
   },
   {
    "duration": 37,
    "start_time": "2022-06-02T08:18:04.566Z"
   },
   {
    "duration": 43,
    "start_time": "2022-06-02T08:18:04.607Z"
   },
   {
    "duration": 14,
    "start_time": "2022-06-02T08:18:04.652Z"
   },
   {
    "duration": 4,
    "start_time": "2022-06-02T08:18:04.667Z"
   },
   {
    "duration": 20,
    "start_time": "2022-06-02T08:18:04.673Z"
   },
   {
    "duration": 51,
    "start_time": "2022-06-02T08:18:04.694Z"
   },
   {
    "duration": 6,
    "start_time": "2022-06-02T08:18:04.747Z"
   },
   {
    "duration": 122,
    "start_time": "2022-06-02T08:18:04.755Z"
   },
   {
    "duration": 108,
    "start_time": "2022-06-02T08:18:04.878Z"
   },
   {
    "duration": 386,
    "start_time": "2022-06-02T08:18:04.988Z"
   },
   {
    "duration": 207,
    "start_time": "2022-06-02T08:18:05.376Z"
   },
   {
    "duration": 114,
    "start_time": "2022-06-02T08:18:05.585Z"
   },
   {
    "duration": 57,
    "start_time": "2022-06-02T08:18:05.702Z"
   },
   {
    "duration": 115,
    "start_time": "2022-06-02T08:18:05.761Z"
   },
   {
    "duration": 61,
    "start_time": "2022-06-02T08:18:05.878Z"
   },
   {
    "duration": 13,
    "start_time": "2022-06-02T08:18:05.942Z"
   },
   {
    "duration": 20,
    "start_time": "2022-06-02T08:18:05.958Z"
   },
   {
    "duration": 21,
    "start_time": "2022-06-02T08:18:05.979Z"
   },
   {
    "duration": 42,
    "start_time": "2022-06-02T08:18:06.002Z"
   },
   {
    "duration": 30,
    "start_time": "2022-06-02T08:18:06.046Z"
   },
   {
    "duration": 6,
    "start_time": "2022-06-02T08:18:06.078Z"
   },
   {
    "duration": 13,
    "start_time": "2022-06-02T08:18:06.086Z"
   },
   {
    "duration": 13,
    "start_time": "2022-06-02T08:18:06.101Z"
   },
   {
    "duration": 21,
    "start_time": "2022-06-02T08:18:06.126Z"
   },
   {
    "duration": 6,
    "start_time": "2022-06-02T08:18:06.149Z"
   },
   {
    "duration": 42,
    "start_time": "2022-06-02T08:18:06.156Z"
   },
   {
    "duration": 354,
    "start_time": "2022-06-02T08:18:06.200Z"
   },
   {
    "duration": 239,
    "start_time": "2022-06-02T08:18:06.556Z"
   },
   {
    "duration": 307,
    "start_time": "2022-06-02T08:18:06.797Z"
   },
   {
    "duration": 215,
    "start_time": "2022-06-02T08:18:07.106Z"
   },
   {
    "duration": 188,
    "start_time": "2022-06-02T08:18:07.334Z"
   },
   {
    "duration": 181,
    "start_time": "2022-06-02T08:18:07.524Z"
   },
   {
    "duration": 7,
    "start_time": "2022-06-02T08:18:07.707Z"
   },
   {
    "duration": 62,
    "start_time": "2022-06-02T08:18:07.716Z"
   },
   {
    "duration": 24,
    "start_time": "2022-06-02T08:18:07.780Z"
   },
   {
    "duration": 44,
    "start_time": "2022-06-02T08:18:07.806Z"
   },
   {
    "duration": 7,
    "start_time": "2022-06-02T08:20:31.125Z"
   },
   {
    "duration": 1665,
    "start_time": "2022-06-02T09:12:46.990Z"
   },
   {
    "duration": 563,
    "start_time": "2022-06-02T09:12:48.657Z"
   },
   {
    "duration": 17,
    "start_time": "2022-06-02T09:12:49.222Z"
   },
   {
    "duration": 21,
    "start_time": "2022-06-02T09:12:49.242Z"
   },
   {
    "duration": 11,
    "start_time": "2022-06-02T09:12:49.265Z"
   },
   {
    "duration": 9,
    "start_time": "2022-06-02T09:12:49.277Z"
   },
   {
    "duration": 13,
    "start_time": "2022-06-02T09:12:49.288Z"
   },
   {
    "duration": 30,
    "start_time": "2022-06-02T09:12:49.302Z"
   },
   {
    "duration": 18,
    "start_time": "2022-06-02T09:12:49.334Z"
   },
   {
    "duration": 22,
    "start_time": "2022-06-02T09:12:49.356Z"
   },
   {
    "duration": 13,
    "start_time": "2022-06-02T09:12:49.380Z"
   },
   {
    "duration": 37,
    "start_time": "2022-06-02T09:12:49.395Z"
   },
   {
    "duration": 30,
    "start_time": "2022-06-02T09:12:49.434Z"
   },
   {
    "duration": 24,
    "start_time": "2022-06-02T09:12:49.467Z"
   },
   {
    "duration": 33,
    "start_time": "2022-06-02T09:12:49.492Z"
   },
   {
    "duration": 25,
    "start_time": "2022-06-02T09:12:49.527Z"
   },
   {
    "duration": 18,
    "start_time": "2022-06-02T09:12:49.554Z"
   },
   {
    "duration": 8,
    "start_time": "2022-06-02T09:12:49.573Z"
   },
   {
    "duration": 20,
    "start_time": "2022-06-02T09:12:49.583Z"
   },
   {
    "duration": 57,
    "start_time": "2022-06-02T09:12:49.605Z"
   },
   {
    "duration": 17,
    "start_time": "2022-06-02T09:12:49.664Z"
   },
   {
    "duration": 14,
    "start_time": "2022-06-02T09:12:49.683Z"
   },
   {
    "duration": 50,
    "start_time": "2022-06-02T09:12:49.699Z"
   },
   {
    "duration": 19,
    "start_time": "2022-06-02T09:12:49.752Z"
   },
   {
    "duration": 14,
    "start_time": "2022-06-02T09:12:49.773Z"
   },
   {
    "duration": 8,
    "start_time": "2022-06-02T09:12:49.789Z"
   },
   {
    "duration": 67,
    "start_time": "2022-06-02T09:12:49.799Z"
   },
   {
    "duration": 23,
    "start_time": "2022-06-02T09:12:49.871Z"
   },
   {
    "duration": 30,
    "start_time": "2022-06-02T09:12:49.896Z"
   },
   {
    "duration": 4,
    "start_time": "2022-06-02T09:12:49.928Z"
   },
   {
    "duration": 31,
    "start_time": "2022-06-02T09:12:49.934Z"
   },
   {
    "duration": 25,
    "start_time": "2022-06-02T09:12:49.967Z"
   },
   {
    "duration": 6,
    "start_time": "2022-06-02T09:12:49.993Z"
   },
   {
    "duration": 131,
    "start_time": "2022-06-02T09:12:50.001Z"
   },
   {
    "duration": 107,
    "start_time": "2022-06-02T09:12:50.134Z"
   },
   {
    "duration": 360,
    "start_time": "2022-06-02T09:12:50.243Z"
   },
   {
    "duration": 204,
    "start_time": "2022-06-02T09:12:50.604Z"
   },
   {
    "duration": 93,
    "start_time": "2022-06-02T09:12:50.810Z"
   },
   {
    "duration": 52,
    "start_time": "2022-06-02T09:12:50.906Z"
   },
   {
    "duration": 104,
    "start_time": "2022-06-02T09:12:50.960Z"
   },
   {
    "duration": 39,
    "start_time": "2022-06-02T09:12:51.066Z"
   },
   {
    "duration": 31,
    "start_time": "2022-06-02T09:12:51.107Z"
   },
   {
    "duration": 19,
    "start_time": "2022-06-02T09:12:51.140Z"
   },
   {
    "duration": 11,
    "start_time": "2022-06-02T09:12:51.161Z"
   },
   {
    "duration": 25,
    "start_time": "2022-06-02T09:12:51.174Z"
   },
   {
    "duration": 63,
    "start_time": "2022-06-02T09:12:51.201Z"
   },
   {
    "duration": 6,
    "start_time": "2022-06-02T09:12:51.267Z"
   },
   {
    "duration": 20,
    "start_time": "2022-06-02T09:12:51.275Z"
   },
   {
    "duration": 9,
    "start_time": "2022-06-02T09:12:51.297Z"
   },
   {
    "duration": 32,
    "start_time": "2022-06-02T09:12:51.308Z"
   },
   {
    "duration": 6,
    "start_time": "2022-06-02T09:12:51.343Z"
   },
   {
    "duration": 44,
    "start_time": "2022-06-02T09:12:51.351Z"
   },
   {
    "duration": 303,
    "start_time": "2022-06-02T09:12:51.397Z"
   },
   {
    "duration": 205,
    "start_time": "2022-06-02T09:12:51.702Z"
   },
   {
    "duration": 226,
    "start_time": "2022-06-02T09:12:51.909Z"
   },
   {
    "duration": 247,
    "start_time": "2022-06-02T09:12:52.137Z"
   },
   {
    "duration": 227,
    "start_time": "2022-06-02T09:12:52.386Z"
   },
   {
    "duration": 190,
    "start_time": "2022-06-02T09:12:52.615Z"
   },
   {
    "duration": 8,
    "start_time": "2022-06-02T09:12:52.806Z"
   },
   {
    "duration": 11,
    "start_time": "2022-06-02T09:12:52.826Z"
   },
   {
    "duration": 12,
    "start_time": "2022-06-02T09:12:52.839Z"
   },
   {
    "duration": 14,
    "start_time": "2022-06-02T09:12:52.853Z"
   },
   {
    "duration": 1051,
    "start_time": "2022-06-03T07:31:52.670Z"
   },
   {
    "duration": 954,
    "start_time": "2022-06-03T07:31:53.723Z"
   },
   {
    "duration": 13,
    "start_time": "2022-06-03T07:31:54.679Z"
   },
   {
    "duration": 11,
    "start_time": "2022-06-03T07:31:54.694Z"
   },
   {
    "duration": 6,
    "start_time": "2022-06-03T07:31:54.706Z"
   },
   {
    "duration": 17,
    "start_time": "2022-06-03T07:31:54.714Z"
   },
   {
    "duration": 11,
    "start_time": "2022-06-03T07:31:54.733Z"
   },
   {
    "duration": 8,
    "start_time": "2022-06-03T07:31:54.746Z"
   },
   {
    "duration": 7,
    "start_time": "2022-06-03T07:31:54.764Z"
   },
   {
    "duration": 19,
    "start_time": "2022-06-03T07:31:54.774Z"
   },
   {
    "duration": 15,
    "start_time": "2022-06-03T07:31:54.795Z"
   },
   {
    "duration": 26,
    "start_time": "2022-06-03T07:31:54.812Z"
   },
   {
    "duration": 31,
    "start_time": "2022-06-03T07:31:54.840Z"
   },
   {
    "duration": 17,
    "start_time": "2022-06-03T07:31:54.873Z"
   },
   {
    "duration": 13,
    "start_time": "2022-06-03T07:31:54.892Z"
   },
   {
    "duration": 29,
    "start_time": "2022-06-03T07:31:54.906Z"
   },
   {
    "duration": 35,
    "start_time": "2022-06-03T07:31:54.936Z"
   },
   {
    "duration": 7,
    "start_time": "2022-06-03T07:31:54.972Z"
   },
   {
    "duration": 11,
    "start_time": "2022-06-03T07:31:54.980Z"
   },
   {
    "duration": 23,
    "start_time": "2022-06-03T07:31:54.992Z"
   },
   {
    "duration": 15,
    "start_time": "2022-06-03T07:31:55.017Z"
   },
   {
    "duration": 35,
    "start_time": "2022-06-03T07:31:55.033Z"
   },
   {
    "duration": 22,
    "start_time": "2022-06-03T07:31:55.070Z"
   },
   {
    "duration": 17,
    "start_time": "2022-06-03T07:31:55.094Z"
   },
   {
    "duration": 12,
    "start_time": "2022-06-03T07:31:55.113Z"
   },
   {
    "duration": 2,
    "start_time": "2022-06-03T07:31:55.127Z"
   },
   {
    "duration": 62,
    "start_time": "2022-06-03T07:31:55.131Z"
   },
   {
    "duration": 24,
    "start_time": "2022-06-03T07:31:55.196Z"
   },
   {
    "duration": 13,
    "start_time": "2022-06-03T07:31:55.221Z"
   },
   {
    "duration": 4,
    "start_time": "2022-06-03T07:31:55.235Z"
   },
   {
    "duration": 39,
    "start_time": "2022-06-03T07:31:55.240Z"
   },
   {
    "duration": 11,
    "start_time": "2022-06-03T07:31:55.281Z"
   },
   {
    "duration": 4,
    "start_time": "2022-06-03T07:31:55.293Z"
   },
   {
    "duration": 113,
    "start_time": "2022-06-03T07:31:55.298Z"
   },
   {
    "duration": 90,
    "start_time": "2022-06-03T07:31:55.413Z"
   },
   {
    "duration": 331,
    "start_time": "2022-06-03T07:31:55.504Z"
   },
   {
    "duration": 194,
    "start_time": "2022-06-03T07:31:55.837Z"
   },
   {
    "duration": 86,
    "start_time": "2022-06-03T07:31:56.033Z"
   },
   {
    "duration": 45,
    "start_time": "2022-06-03T07:31:56.121Z"
   },
   {
    "duration": 101,
    "start_time": "2022-06-03T07:31:56.168Z"
   },
   {
    "duration": 39,
    "start_time": "2022-06-03T07:31:56.271Z"
   },
   {
    "duration": 12,
    "start_time": "2022-06-03T07:31:56.312Z"
   },
   {
    "duration": 16,
    "start_time": "2022-06-03T07:31:56.325Z"
   },
   {
    "duration": 10,
    "start_time": "2022-06-03T07:31:56.365Z"
   },
   {
    "duration": 38,
    "start_time": "2022-06-03T07:31:56.377Z"
   },
   {
    "duration": 53,
    "start_time": "2022-06-03T07:31:56.417Z"
   },
   {
    "duration": 6,
    "start_time": "2022-06-03T07:31:56.471Z"
   },
   {
    "duration": 30,
    "start_time": "2022-06-03T07:31:56.478Z"
   },
   {
    "duration": 22,
    "start_time": "2022-06-03T07:31:56.510Z"
   },
   {
    "duration": 30,
    "start_time": "2022-06-03T07:31:56.533Z"
   },
   {
    "duration": 6,
    "start_time": "2022-06-03T07:31:56.565Z"
   },
   {
    "duration": 58,
    "start_time": "2022-06-03T07:31:56.572Z"
   },
   {
    "duration": 265,
    "start_time": "2022-06-03T07:31:56.632Z"
   },
   {
    "duration": 201,
    "start_time": "2022-06-03T07:31:56.900Z"
   },
   {
    "duration": 203,
    "start_time": "2022-06-03T07:31:57.102Z"
   },
   {
    "duration": 200,
    "start_time": "2022-06-03T07:31:57.306Z"
   },
   {
    "duration": 178,
    "start_time": "2022-06-03T07:31:57.508Z"
   },
   {
    "duration": 176,
    "start_time": "2022-06-03T07:31:57.688Z"
   },
   {
    "duration": 7,
    "start_time": "2022-06-03T07:31:57.866Z"
   },
   {
    "duration": 32,
    "start_time": "2022-06-03T07:31:57.875Z"
   },
   {
    "duration": 18,
    "start_time": "2022-06-03T07:31:57.909Z"
   },
   {
    "duration": 36,
    "start_time": "2022-06-03T07:31:57.929Z"
   },
   {
    "duration": 4,
    "start_time": "2022-06-03T07:33:06.433Z"
   },
   {
    "duration": 8,
    "start_time": "2022-06-03T07:34:19.319Z"
   },
   {
    "duration": 1258,
    "start_time": "2022-06-03T12:24:16.241Z"
   },
   {
    "duration": 942,
    "start_time": "2022-06-03T12:24:17.501Z"
   },
   {
    "duration": 15,
    "start_time": "2022-06-03T12:24:18.445Z"
   },
   {
    "duration": 16,
    "start_time": "2022-06-03T12:24:18.462Z"
   },
   {
    "duration": 11,
    "start_time": "2022-06-03T12:24:18.480Z"
   },
   {
    "duration": 12,
    "start_time": "2022-06-03T12:24:18.493Z"
   },
   {
    "duration": 14,
    "start_time": "2022-06-03T12:24:18.507Z"
   },
   {
    "duration": 14,
    "start_time": "2022-06-03T12:24:18.523Z"
   },
   {
    "duration": 19,
    "start_time": "2022-06-03T12:24:18.538Z"
   },
   {
    "duration": 21,
    "start_time": "2022-06-03T12:24:18.559Z"
   },
   {
    "duration": 13,
    "start_time": "2022-06-03T12:24:18.581Z"
   },
   {
    "duration": 9,
    "start_time": "2022-06-03T12:24:18.595Z"
   },
   {
    "duration": 23,
    "start_time": "2022-06-03T12:24:18.606Z"
   },
   {
    "duration": 34,
    "start_time": "2022-06-03T12:24:18.631Z"
   },
   {
    "duration": 7,
    "start_time": "2022-06-03T12:24:18.667Z"
   },
   {
    "duration": 24,
    "start_time": "2022-06-03T12:24:18.676Z"
   },
   {
    "duration": 17,
    "start_time": "2022-06-03T12:24:18.702Z"
   },
   {
    "duration": 36,
    "start_time": "2022-06-03T12:24:18.720Z"
   },
   {
    "duration": 13,
    "start_time": "2022-06-03T12:24:18.758Z"
   },
   {
    "duration": 25,
    "start_time": "2022-06-03T12:24:18.772Z"
   },
   {
    "duration": 15,
    "start_time": "2022-06-03T12:24:18.798Z"
   },
   {
    "duration": 11,
    "start_time": "2022-06-03T12:24:18.814Z"
   },
   {
    "duration": 42,
    "start_time": "2022-06-03T12:24:18.827Z"
   },
   {
    "duration": 17,
    "start_time": "2022-06-03T12:24:18.870Z"
   },
   {
    "duration": 12,
    "start_time": "2022-06-03T12:24:18.889Z"
   },
   {
    "duration": 2,
    "start_time": "2022-06-03T12:24:18.902Z"
   },
   {
    "duration": 62,
    "start_time": "2022-06-03T12:24:18.905Z"
   },
   {
    "duration": 23,
    "start_time": "2022-06-03T12:24:18.970Z"
   },
   {
    "duration": 13,
    "start_time": "2022-06-03T12:24:18.994Z"
   },
   {
    "duration": 4,
    "start_time": "2022-06-03T12:24:19.009Z"
   },
   {
    "duration": 40,
    "start_time": "2022-06-03T12:24:19.014Z"
   },
   {
    "duration": 9,
    "start_time": "2022-06-03T12:24:19.055Z"
   },
   {
    "duration": 4,
    "start_time": "2022-06-03T12:24:19.065Z"
   },
   {
    "duration": 120,
    "start_time": "2022-06-03T12:24:19.070Z"
   },
   {
    "duration": 91,
    "start_time": "2022-06-03T12:24:19.192Z"
   },
   {
    "duration": 322,
    "start_time": "2022-06-03T12:24:19.284Z"
   },
   {
    "duration": 202,
    "start_time": "2022-06-03T12:24:19.608Z"
   },
   {
    "duration": 94,
    "start_time": "2022-06-03T12:24:19.812Z"
   },
   {
    "duration": 59,
    "start_time": "2022-06-03T12:24:19.908Z"
   },
   {
    "duration": 92,
    "start_time": "2022-06-03T12:24:19.971Z"
   },
   {
    "duration": 40,
    "start_time": "2022-06-03T12:24:20.064Z"
   },
   {
    "duration": 12,
    "start_time": "2022-06-03T12:24:20.106Z"
   },
   {
    "duration": 7,
    "start_time": "2022-06-03T12:24:20.120Z"
   },
   {
    "duration": 10,
    "start_time": "2022-06-03T12:24:20.152Z"
   },
   {
    "duration": 53,
    "start_time": "2022-06-03T12:24:20.163Z"
   },
   {
    "duration": 42,
    "start_time": "2022-06-03T12:24:20.217Z"
   },
   {
    "duration": 5,
    "start_time": "2022-06-03T12:24:20.261Z"
   },
   {
    "duration": 16,
    "start_time": "2022-06-03T12:24:20.267Z"
   },
   {
    "duration": 8,
    "start_time": "2022-06-03T12:24:20.285Z"
   },
   {
    "duration": 19,
    "start_time": "2022-06-03T12:24:20.294Z"
   },
   {
    "duration": 5,
    "start_time": "2022-06-03T12:24:20.315Z"
   },
   {
    "duration": 50,
    "start_time": "2022-06-03T12:24:20.321Z"
   },
   {
    "duration": 276,
    "start_time": "2022-06-03T12:24:20.373Z"
   },
   {
    "duration": 201,
    "start_time": "2022-06-03T12:24:20.652Z"
   },
   {
    "duration": 203,
    "start_time": "2022-06-03T12:24:20.854Z"
   },
   {
    "duration": 193,
    "start_time": "2022-06-03T12:24:21.059Z"
   },
   {
    "duration": 174,
    "start_time": "2022-06-03T12:24:21.254Z"
   },
   {
    "duration": 182,
    "start_time": "2022-06-03T12:24:21.430Z"
   },
   {
    "duration": 6,
    "start_time": "2022-06-03T12:24:21.614Z"
   },
   {
    "duration": 20,
    "start_time": "2022-06-03T12:24:21.621Z"
   },
   {
    "duration": 23,
    "start_time": "2022-06-03T12:24:21.642Z"
   },
   {
    "duration": 18,
    "start_time": "2022-06-03T12:24:21.667Z"
   },
   {
    "duration": 28,
    "start_time": "2022-06-03T12:37:37.618Z"
   },
   {
    "duration": 46,
    "start_time": "2022-06-03T12:38:58.856Z"
   },
   {
    "duration": 1396,
    "start_time": "2022-06-03T14:47:23.701Z"
   },
   {
    "duration": 1598,
    "start_time": "2022-06-03T14:47:25.100Z"
   },
   {
    "duration": 16,
    "start_time": "2022-06-03T14:47:26.700Z"
   },
   {
    "duration": 15,
    "start_time": "2022-06-03T14:47:26.719Z"
   },
   {
    "duration": 15,
    "start_time": "2022-06-03T14:47:26.736Z"
   },
   {
    "duration": 12,
    "start_time": "2022-06-03T14:47:26.753Z"
   },
   {
    "duration": 29,
    "start_time": "2022-06-03T14:47:26.766Z"
   },
   {
    "duration": 16,
    "start_time": "2022-06-03T14:47:26.797Z"
   },
   {
    "duration": 15,
    "start_time": "2022-06-03T14:47:26.815Z"
   },
   {
    "duration": 28,
    "start_time": "2022-06-03T14:47:26.834Z"
   },
   {
    "duration": 31,
    "start_time": "2022-06-03T14:47:26.864Z"
   },
   {
    "duration": 10,
    "start_time": "2022-06-03T14:47:26.897Z"
   },
   {
    "duration": 32,
    "start_time": "2022-06-03T14:47:26.909Z"
   },
   {
    "duration": 21,
    "start_time": "2022-06-03T14:47:26.942Z"
   },
   {
    "duration": 10,
    "start_time": "2022-06-03T14:47:26.990Z"
   },
   {
    "duration": 34,
    "start_time": "2022-06-03T14:47:27.002Z"
   },
   {
    "duration": 53,
    "start_time": "2022-06-03T14:47:27.038Z"
   },
   {
    "duration": 10,
    "start_time": "2022-06-03T14:47:27.093Z"
   },
   {
    "duration": 17,
    "start_time": "2022-06-03T14:47:27.105Z"
   },
   {
    "duration": 31,
    "start_time": "2022-06-03T14:47:27.124Z"
   },
   {
    "duration": 33,
    "start_time": "2022-06-03T14:47:27.157Z"
   },
   {
    "duration": 13,
    "start_time": "2022-06-03T14:47:27.192Z"
   },
   {
    "duration": 32,
    "start_time": "2022-06-03T14:47:27.207Z"
   },
   {
    "duration": 21,
    "start_time": "2022-06-03T14:47:27.241Z"
   },
   {
    "duration": 38,
    "start_time": "2022-06-03T14:47:27.263Z"
   },
   {
    "duration": 2,
    "start_time": "2022-06-03T14:47:27.303Z"
   },
   {
    "duration": 38,
    "start_time": "2022-06-03T14:47:27.307Z"
   },
   {
    "duration": 45,
    "start_time": "2022-06-03T14:47:27.349Z"
   },
   {
    "duration": 16,
    "start_time": "2022-06-03T14:47:27.395Z"
   },
   {
    "duration": 5,
    "start_time": "2022-06-03T14:47:27.412Z"
   },
   {
    "duration": 8,
    "start_time": "2022-06-03T14:47:27.418Z"
   },
   {
    "duration": 0,
    "start_time": "2022-06-03T14:47:27.428Z"
   },
   {
    "duration": 0,
    "start_time": "2022-06-03T14:47:27.429Z"
   },
   {
    "duration": 0,
    "start_time": "2022-06-03T14:47:27.431Z"
   },
   {
    "duration": 0,
    "start_time": "2022-06-03T14:47:27.432Z"
   },
   {
    "duration": 0,
    "start_time": "2022-06-03T14:47:27.434Z"
   },
   {
    "duration": 0,
    "start_time": "2022-06-03T14:47:27.435Z"
   },
   {
    "duration": 1,
    "start_time": "2022-06-03T14:47:27.436Z"
   },
   {
    "duration": 0,
    "start_time": "2022-06-03T14:47:27.438Z"
   },
   {
    "duration": 1,
    "start_time": "2022-06-03T14:47:27.439Z"
   },
   {
    "duration": 0,
    "start_time": "2022-06-03T14:47:27.441Z"
   },
   {
    "duration": 0,
    "start_time": "2022-06-03T14:47:27.442Z"
   },
   {
    "duration": 0,
    "start_time": "2022-06-03T14:47:27.443Z"
   },
   {
    "duration": 0,
    "start_time": "2022-06-03T14:47:27.444Z"
   },
   {
    "duration": 0,
    "start_time": "2022-06-03T14:47:27.446Z"
   },
   {
    "duration": 0,
    "start_time": "2022-06-03T14:47:27.490Z"
   },
   {
    "duration": 0,
    "start_time": "2022-06-03T14:47:27.491Z"
   },
   {
    "duration": 0,
    "start_time": "2022-06-03T14:47:27.493Z"
   },
   {
    "duration": 0,
    "start_time": "2022-06-03T14:47:27.494Z"
   },
   {
    "duration": 0,
    "start_time": "2022-06-03T14:47:27.495Z"
   },
   {
    "duration": 0,
    "start_time": "2022-06-03T14:47:27.497Z"
   },
   {
    "duration": 0,
    "start_time": "2022-06-03T14:47:27.498Z"
   },
   {
    "duration": 0,
    "start_time": "2022-06-03T14:47:27.500Z"
   },
   {
    "duration": 0,
    "start_time": "2022-06-03T14:47:27.501Z"
   },
   {
    "duration": 0,
    "start_time": "2022-06-03T14:47:27.503Z"
   },
   {
    "duration": 0,
    "start_time": "2022-06-03T14:47:27.504Z"
   },
   {
    "duration": 0,
    "start_time": "2022-06-03T14:47:27.506Z"
   },
   {
    "duration": 0,
    "start_time": "2022-06-03T14:47:27.507Z"
   },
   {
    "duration": 0,
    "start_time": "2022-06-03T14:47:27.509Z"
   },
   {
    "duration": 0,
    "start_time": "2022-06-03T14:47:27.511Z"
   },
   {
    "duration": 0,
    "start_time": "2022-06-03T14:47:27.512Z"
   },
   {
    "duration": 0,
    "start_time": "2022-06-03T14:47:27.513Z"
   },
   {
    "duration": 0,
    "start_time": "2022-06-03T14:47:27.515Z"
   },
   {
    "duration": 173,
    "start_time": "2022-06-03T14:53:01.121Z"
   },
   {
    "duration": 4,
    "start_time": "2022-06-03T14:53:09.853Z"
   },
   {
    "duration": 24,
    "start_time": "2022-06-03T14:54:27.702Z"
   },
   {
    "duration": 5,
    "start_time": "2022-06-03T14:55:50.701Z"
   },
   {
    "duration": 33,
    "start_time": "2022-06-03T14:58:10.099Z"
   },
   {
    "duration": 24,
    "start_time": "2022-06-03T14:58:38.963Z"
   },
   {
    "duration": 179,
    "start_time": "2022-06-03T15:04:37.494Z"
   },
   {
    "duration": 8,
    "start_time": "2022-06-03T15:04:50.751Z"
   },
   {
    "duration": 1182,
    "start_time": "2022-06-03T15:05:04.036Z"
   },
   {
    "duration": 149,
    "start_time": "2022-06-03T15:06:50.407Z"
   },
   {
    "duration": 134,
    "start_time": "2022-06-03T15:08:53.748Z"
   },
   {
    "duration": 7,
    "start_time": "2022-06-03T15:09:54.362Z"
   },
   {
    "duration": 10,
    "start_time": "2022-06-03T15:09:56.619Z"
   },
   {
    "duration": 31,
    "start_time": "2022-06-03T15:10:01.755Z"
   },
   {
    "duration": 37,
    "start_time": "2022-06-03T15:10:07.281Z"
   },
   {
    "duration": 6,
    "start_time": "2022-06-03T15:10:07.608Z"
   },
   {
    "duration": 7,
    "start_time": "2022-06-03T15:10:07.954Z"
   },
   {
    "duration": 6,
    "start_time": "2022-06-03T15:10:08.280Z"
   },
   {
    "duration": 17,
    "start_time": "2022-06-03T15:10:12.875Z"
   },
   {
    "duration": 20,
    "start_time": "2022-06-03T15:10:41.297Z"
   },
   {
    "duration": 7,
    "start_time": "2022-06-03T15:10:50.975Z"
   },
   {
    "duration": 45,
    "start_time": "2022-06-03T15:10:54.010Z"
   },
   {
    "duration": 326,
    "start_time": "2022-06-03T15:10:56.753Z"
   },
   {
    "duration": 274,
    "start_time": "2022-06-03T15:10:57.192Z"
   },
   {
    "duration": 222,
    "start_time": "2022-06-03T15:10:57.697Z"
   },
   {
    "duration": 269,
    "start_time": "2022-06-03T15:10:58.320Z"
   },
   {
    "duration": 183,
    "start_time": "2022-06-03T15:10:58.761Z"
   },
   {
    "duration": 215,
    "start_time": "2022-06-03T15:10:59.153Z"
   },
   {
    "duration": 8,
    "start_time": "2022-06-03T15:11:01.793Z"
   },
   {
    "duration": 10,
    "start_time": "2022-06-03T15:11:02.257Z"
   },
   {
    "duration": 89,
    "start_time": "2022-06-03T15:11:02.722Z"
   },
   {
    "duration": 15,
    "start_time": "2022-06-03T15:11:03.017Z"
   },
   {
    "duration": 27,
    "start_time": "2022-06-03T15:19:20.890Z"
   },
   {
    "duration": 9,
    "start_time": "2022-06-03T15:19:21.132Z"
   },
   {
    "duration": 6,
    "start_time": "2022-06-03T15:19:21.346Z"
   },
   {
    "duration": 150,
    "start_time": "2022-06-03T15:19:21.539Z"
   },
   {
    "duration": 115,
    "start_time": "2022-06-03T15:19:21.729Z"
   },
   {
    "duration": 391,
    "start_time": "2022-06-03T15:19:22.578Z"
   },
   {
    "duration": 306,
    "start_time": "2022-06-03T15:19:22.971Z"
   },
   {
    "duration": 126,
    "start_time": "2022-06-03T15:19:23.279Z"
   },
   {
    "duration": 41,
    "start_time": "2022-06-03T15:19:23.460Z"
   },
   {
    "duration": 100,
    "start_time": "2022-06-03T15:19:25.245Z"
   },
   {
    "duration": 58,
    "start_time": "2022-06-03T15:19:26.233Z"
   },
   {
    "duration": 14,
    "start_time": "2022-06-03T15:19:30.401Z"
   },
   {
    "duration": 7,
    "start_time": "2022-06-03T15:19:42.228Z"
   },
   {
    "duration": 10,
    "start_time": "2022-06-03T15:19:49.738Z"
   },
   {
    "duration": 34,
    "start_time": "2022-06-03T15:19:51.442Z"
   },
   {
    "duration": 40,
    "start_time": "2022-06-03T15:19:56.752Z"
   },
   {
    "duration": 7,
    "start_time": "2022-06-03T15:19:57.388Z"
   },
   {
    "duration": 9,
    "start_time": "2022-06-03T15:19:57.785Z"
   },
   {
    "duration": 6,
    "start_time": "2022-06-03T15:19:58.177Z"
   },
   {
    "duration": 25,
    "start_time": "2022-06-03T15:19:58.984Z"
   },
   {
    "duration": 5,
    "start_time": "2022-06-03T15:20:20.492Z"
   },
   {
    "duration": 1137,
    "start_time": "2022-06-03T15:20:32.342Z"
   },
   {
    "duration": 523,
    "start_time": "2022-06-03T15:20:33.481Z"
   },
   {
    "duration": 14,
    "start_time": "2022-06-03T15:20:34.006Z"
   },
   {
    "duration": 13,
    "start_time": "2022-06-03T15:20:34.022Z"
   },
   {
    "duration": 11,
    "start_time": "2022-06-03T15:20:34.037Z"
   },
   {
    "duration": 20,
    "start_time": "2022-06-03T15:20:34.050Z"
   },
   {
    "duration": 26,
    "start_time": "2022-06-03T15:20:34.072Z"
   },
   {
    "duration": 10,
    "start_time": "2022-06-03T15:20:34.100Z"
   },
   {
    "duration": 11,
    "start_time": "2022-06-03T15:20:34.112Z"
   },
   {
    "duration": 20,
    "start_time": "2022-06-03T15:20:34.126Z"
   },
   {
    "duration": 16,
    "start_time": "2022-06-03T15:20:34.147Z"
   },
   {
    "duration": 9,
    "start_time": "2022-06-03T15:20:34.191Z"
   },
   {
    "duration": 25,
    "start_time": "2022-06-03T15:20:34.202Z"
   },
   {
    "duration": 19,
    "start_time": "2022-06-03T15:20:34.228Z"
   },
   {
    "duration": 9,
    "start_time": "2022-06-03T15:20:34.249Z"
   },
   {
    "duration": 29,
    "start_time": "2022-06-03T15:20:34.289Z"
   },
   {
    "duration": 22,
    "start_time": "2022-06-03T15:20:34.320Z"
   },
   {
    "duration": 14,
    "start_time": "2022-06-03T15:20:34.344Z"
   },
   {
    "duration": 10,
    "start_time": "2022-06-03T15:20:34.359Z"
   },
   {
    "duration": 20,
    "start_time": "2022-06-03T15:20:34.390Z"
   },
   {
    "duration": 17,
    "start_time": "2022-06-03T15:20:34.412Z"
   },
   {
    "duration": 12,
    "start_time": "2022-06-03T15:20:34.430Z"
   },
   {
    "duration": 50,
    "start_time": "2022-06-03T15:20:34.443Z"
   },
   {
    "duration": 19,
    "start_time": "2022-06-03T15:20:34.495Z"
   },
   {
    "duration": 13,
    "start_time": "2022-06-03T15:20:34.516Z"
   },
   {
    "duration": 2,
    "start_time": "2022-06-03T15:20:34.530Z"
   },
   {
    "duration": 58,
    "start_time": "2022-06-03T15:20:34.534Z"
   },
   {
    "duration": 27,
    "start_time": "2022-06-03T15:20:34.599Z"
   },
   {
    "duration": 15,
    "start_time": "2022-06-03T15:20:34.627Z"
   },
   {
    "duration": 4,
    "start_time": "2022-06-03T15:20:34.643Z"
   },
   {
    "duration": 44,
    "start_time": "2022-06-03T15:20:34.648Z"
   },
   {
    "duration": 11,
    "start_time": "2022-06-03T15:20:34.693Z"
   },
   {
    "duration": 8,
    "start_time": "2022-06-03T15:20:34.706Z"
   },
   {
    "duration": 127,
    "start_time": "2022-06-03T15:20:34.715Z"
   },
   {
    "duration": 106,
    "start_time": "2022-06-03T15:20:34.844Z"
   },
   {
    "duration": 349,
    "start_time": "2022-06-03T15:20:34.952Z"
   },
   {
    "duration": 218,
    "start_time": "2022-06-03T15:20:35.303Z"
   },
   {
    "duration": 91,
    "start_time": "2022-06-03T15:20:35.522Z"
   },
   {
    "duration": 44,
    "start_time": "2022-06-03T15:20:35.614Z"
   },
   {
    "duration": 107,
    "start_time": "2022-06-03T15:20:35.660Z"
   },
   {
    "duration": 48,
    "start_time": "2022-06-03T15:20:35.768Z"
   },
   {
    "duration": 12,
    "start_time": "2022-06-03T15:20:35.818Z"
   },
   {
    "duration": 7,
    "start_time": "2022-06-03T15:20:35.831Z"
   },
   {
    "duration": 12,
    "start_time": "2022-06-03T15:20:35.839Z"
   },
   {
    "duration": 63,
    "start_time": "2022-06-03T15:20:35.852Z"
   },
   {
    "duration": 41,
    "start_time": "2022-06-03T15:20:35.917Z"
   },
   {
    "duration": 6,
    "start_time": "2022-06-03T15:20:35.959Z"
   },
   {
    "duration": 26,
    "start_time": "2022-06-03T15:20:35.966Z"
   },
   {
    "duration": 12,
    "start_time": "2022-06-03T15:20:35.994Z"
   },
   {
    "duration": 9,
    "start_time": "2022-06-03T15:20:36.008Z"
   },
   {
    "duration": 22,
    "start_time": "2022-06-03T15:20:36.019Z"
   },
   {
    "duration": 5,
    "start_time": "2022-06-03T15:20:36.043Z"
   },
   {
    "duration": 52,
    "start_time": "2022-06-03T15:20:36.050Z"
   },
   {
    "duration": 305,
    "start_time": "2022-06-03T15:20:36.104Z"
   },
   {
    "duration": 230,
    "start_time": "2022-06-03T15:20:36.411Z"
   },
   {
    "duration": 237,
    "start_time": "2022-06-03T15:20:36.643Z"
   },
   {
    "duration": 200,
    "start_time": "2022-06-03T15:20:36.881Z"
   },
   {
    "duration": 197,
    "start_time": "2022-06-03T15:20:37.082Z"
   },
   {
    "duration": 194,
    "start_time": "2022-06-03T15:20:37.281Z"
   },
   {
    "duration": 17,
    "start_time": "2022-06-03T15:20:37.477Z"
   },
   {
    "duration": 19,
    "start_time": "2022-06-03T15:20:37.496Z"
   },
   {
    "duration": 15,
    "start_time": "2022-06-03T15:20:37.517Z"
   },
   {
    "duration": 13,
    "start_time": "2022-06-03T15:20:37.534Z"
   },
   {
    "duration": 32,
    "start_time": "2022-06-03T15:21:17.821Z"
   },
   {
    "duration": 884,
    "start_time": "2022-06-03T15:22:29.293Z"
   },
   {
    "duration": 5,
    "start_time": "2022-06-03T15:22:37.853Z"
   },
   {
    "duration": 51,
    "start_time": "2022-06-03T15:23:11.093Z"
   },
   {
    "duration": 1252,
    "start_time": "2022-06-03T15:23:17.098Z"
   },
   {
    "duration": 573,
    "start_time": "2022-06-03T15:23:18.353Z"
   },
   {
    "duration": 15,
    "start_time": "2022-06-03T15:23:18.929Z"
   },
   {
    "duration": 13,
    "start_time": "2022-06-03T15:23:18.946Z"
   },
   {
    "duration": 9,
    "start_time": "2022-06-03T15:23:18.960Z"
   },
   {
    "duration": 13,
    "start_time": "2022-06-03T15:23:18.990Z"
   },
   {
    "duration": 21,
    "start_time": "2022-06-03T15:23:19.006Z"
   },
   {
    "duration": 11,
    "start_time": "2022-06-03T15:23:19.029Z"
   },
   {
    "duration": 13,
    "start_time": "2022-06-03T15:23:19.042Z"
   },
   {
    "duration": 45,
    "start_time": "2022-06-03T15:23:19.057Z"
   },
   {
    "duration": 18,
    "start_time": "2022-06-03T15:23:19.104Z"
   },
   {
    "duration": 13,
    "start_time": "2022-06-03T15:23:19.124Z"
   },
   {
    "duration": 34,
    "start_time": "2022-06-03T15:23:19.139Z"
   },
   {
    "duration": 46,
    "start_time": "2022-06-03T15:23:19.175Z"
   },
   {
    "duration": 23,
    "start_time": "2022-06-03T15:23:19.224Z"
   },
   {
    "duration": 42,
    "start_time": "2022-06-03T15:23:19.248Z"
   },
   {
    "duration": 40,
    "start_time": "2022-06-03T15:23:19.293Z"
   },
   {
    "duration": 10,
    "start_time": "2022-06-03T15:23:19.336Z"
   },
   {
    "duration": 16,
    "start_time": "2022-06-03T15:23:19.348Z"
   },
   {
    "duration": 50,
    "start_time": "2022-06-03T15:23:19.366Z"
   },
   {
    "duration": 22,
    "start_time": "2022-06-03T15:23:19.418Z"
   },
   {
    "duration": 15,
    "start_time": "2022-06-03T15:23:19.442Z"
   },
   {
    "duration": 60,
    "start_time": "2022-06-03T15:23:19.458Z"
   },
   {
    "duration": 20,
    "start_time": "2022-06-03T15:23:19.520Z"
   },
   {
    "duration": 13,
    "start_time": "2022-06-03T15:23:19.542Z"
   },
   {
    "duration": 2,
    "start_time": "2022-06-03T15:23:19.556Z"
   },
   {
    "duration": 48,
    "start_time": "2022-06-03T15:23:19.591Z"
   },
   {
    "duration": 25,
    "start_time": "2022-06-03T15:23:19.643Z"
   },
   {
    "duration": 35,
    "start_time": "2022-06-03T15:23:19.670Z"
   },
   {
    "duration": 4,
    "start_time": "2022-06-03T15:23:19.709Z"
   },
   {
    "duration": 22,
    "start_time": "2022-06-03T15:23:19.714Z"
   },
   {
    "duration": 8,
    "start_time": "2022-06-03T15:23:19.738Z"
   },
   {
    "duration": 6,
    "start_time": "2022-06-03T15:23:19.747Z"
   },
   {
    "duration": 164,
    "start_time": "2022-06-03T15:23:19.754Z"
   },
   {
    "duration": 116,
    "start_time": "2022-06-03T15:23:19.921Z"
   },
   {
    "duration": 372,
    "start_time": "2022-06-03T15:23:20.039Z"
   },
   {
    "duration": 224,
    "start_time": "2022-06-03T15:23:20.413Z"
   },
   {
    "duration": 105,
    "start_time": "2022-06-03T15:23:20.639Z"
   },
   {
    "duration": 52,
    "start_time": "2022-06-03T15:23:20.745Z"
   },
   {
    "duration": 126,
    "start_time": "2022-06-03T15:23:20.800Z"
   },
   {
    "duration": 43,
    "start_time": "2022-06-03T15:23:20.928Z"
   },
   {
    "duration": 32,
    "start_time": "2022-06-03T15:23:20.972Z"
   },
   {
    "duration": 27,
    "start_time": "2022-06-03T15:23:21.006Z"
   },
   {
    "duration": 11,
    "start_time": "2022-06-03T15:23:21.034Z"
   },
   {
    "duration": 34,
    "start_time": "2022-06-03T15:23:21.046Z"
   },
   {
    "duration": 56,
    "start_time": "2022-06-03T15:23:21.081Z"
   },
   {
    "duration": 6,
    "start_time": "2022-06-03T15:23:21.139Z"
   },
   {
    "duration": 11,
    "start_time": "2022-06-03T15:23:21.147Z"
   },
   {
    "duration": 15,
    "start_time": "2022-06-03T15:23:21.160Z"
   },
   {
    "duration": 23,
    "start_time": "2022-06-03T15:23:21.190Z"
   },
   {
    "duration": 6,
    "start_time": "2022-06-03T15:23:21.215Z"
   },
   {
    "duration": 40,
    "start_time": "2022-06-03T15:23:21.224Z"
   },
   {
    "duration": 340,
    "start_time": "2022-06-03T15:23:21.266Z"
   },
   {
    "duration": 264,
    "start_time": "2022-06-03T15:23:21.609Z"
   },
   {
    "duration": 277,
    "start_time": "2022-06-03T15:23:21.875Z"
   },
   {
    "duration": 248,
    "start_time": "2022-06-03T15:23:22.154Z"
   },
   {
    "duration": 207,
    "start_time": "2022-06-03T15:23:22.404Z"
   },
   {
    "duration": 230,
    "start_time": "2022-06-03T15:23:22.614Z"
   },
   {
    "duration": 7,
    "start_time": "2022-06-03T15:23:22.845Z"
   },
   {
    "duration": 12,
    "start_time": "2022-06-03T15:23:22.854Z"
   },
   {
    "duration": 32,
    "start_time": "2022-06-03T15:23:22.867Z"
   },
   {
    "duration": 25,
    "start_time": "2022-06-03T15:23:22.902Z"
   },
   {
    "duration": 1289,
    "start_time": "2022-06-03T15:38:47.764Z"
   },
   {
    "duration": 551,
    "start_time": "2022-06-03T15:38:49.056Z"
   },
   {
    "duration": 24,
    "start_time": "2022-06-03T15:38:49.609Z"
   },
   {
    "duration": 19,
    "start_time": "2022-06-03T15:38:49.636Z"
   },
   {
    "duration": 14,
    "start_time": "2022-06-03T15:38:49.657Z"
   },
   {
    "duration": 21,
    "start_time": "2022-06-03T15:38:49.691Z"
   },
   {
    "duration": 22,
    "start_time": "2022-06-03T15:38:49.715Z"
   },
   {
    "duration": 11,
    "start_time": "2022-06-03T15:38:49.741Z"
   },
   {
    "duration": 17,
    "start_time": "2022-06-03T15:38:49.754Z"
   },
   {
    "duration": 22,
    "start_time": "2022-06-03T15:38:49.789Z"
   },
   {
    "duration": 21,
    "start_time": "2022-06-03T15:38:49.813Z"
   },
   {
    "duration": 20,
    "start_time": "2022-06-03T15:38:49.835Z"
   },
   {
    "duration": 42,
    "start_time": "2022-06-03T15:38:49.857Z"
   },
   {
    "duration": 21,
    "start_time": "2022-06-03T15:38:49.901Z"
   },
   {
    "duration": 12,
    "start_time": "2022-06-03T15:38:49.924Z"
   },
   {
    "duration": 55,
    "start_time": "2022-06-03T15:38:49.939Z"
   },
   {
    "duration": 33,
    "start_time": "2022-06-03T15:38:49.996Z"
   },
   {
    "duration": 13,
    "start_time": "2022-06-03T15:38:50.031Z"
   },
   {
    "duration": 21,
    "start_time": "2022-06-03T15:38:50.046Z"
   },
   {
    "duration": 35,
    "start_time": "2022-06-03T15:38:50.069Z"
   },
   {
    "duration": 18,
    "start_time": "2022-06-03T15:38:50.106Z"
   },
   {
    "duration": 14,
    "start_time": "2022-06-03T15:38:50.125Z"
   },
   {
    "duration": 59,
    "start_time": "2022-06-03T15:38:50.142Z"
   },
   {
    "duration": 25,
    "start_time": "2022-06-03T15:38:50.204Z"
   },
   {
    "duration": 19,
    "start_time": "2022-06-03T15:38:50.231Z"
   },
   {
    "duration": 3,
    "start_time": "2022-06-03T15:38:50.253Z"
   },
   {
    "duration": 101,
    "start_time": "2022-06-03T15:38:50.259Z"
   },
   {
    "duration": 41,
    "start_time": "2022-06-03T15:38:50.366Z"
   },
   {
    "duration": 19,
    "start_time": "2022-06-03T15:38:50.410Z"
   },
   {
    "duration": 5,
    "start_time": "2022-06-03T15:38:50.432Z"
   },
   {
    "duration": 53,
    "start_time": "2022-06-03T15:38:50.439Z"
   },
   {
    "duration": 19,
    "start_time": "2022-06-03T15:38:50.494Z"
   },
   {
    "duration": 6,
    "start_time": "2022-06-03T15:38:50.515Z"
   },
   {
    "duration": 155,
    "start_time": "2022-06-03T15:38:50.523Z"
   },
   {
    "duration": 130,
    "start_time": "2022-06-03T15:38:50.690Z"
   },
   {
    "duration": 468,
    "start_time": "2022-06-03T15:38:50.822Z"
   },
   {
    "duration": 331,
    "start_time": "2022-06-03T15:38:51.293Z"
   },
   {
    "duration": 89,
    "start_time": "2022-06-03T15:38:51.628Z"
   },
   {
    "duration": 44,
    "start_time": "2022-06-03T15:38:51.720Z"
   },
   {
    "duration": 131,
    "start_time": "2022-06-03T15:38:51.766Z"
   },
   {
    "duration": 53,
    "start_time": "2022-06-03T15:38:51.899Z"
   },
   {
    "duration": 16,
    "start_time": "2022-06-03T15:38:51.954Z"
   },
   {
    "duration": 8,
    "start_time": "2022-06-03T15:38:51.991Z"
   },
   {
    "duration": 19,
    "start_time": "2022-06-03T15:38:52.001Z"
   },
   {
    "duration": 44,
    "start_time": "2022-06-03T15:38:52.022Z"
   },
   {
    "duration": 71,
    "start_time": "2022-06-03T15:38:52.068Z"
   },
   {
    "duration": 6,
    "start_time": "2022-06-03T15:38:52.141Z"
   },
   {
    "duration": 12,
    "start_time": "2022-06-03T15:38:52.149Z"
   },
   {
    "duration": 27,
    "start_time": "2022-06-03T15:38:52.163Z"
   },
   {
    "duration": 21,
    "start_time": "2022-06-03T15:38:52.192Z"
   },
   {
    "duration": 6,
    "start_time": "2022-06-03T15:38:52.216Z"
   },
   {
    "duration": 81,
    "start_time": "2022-06-03T15:38:52.223Z"
   },
   {
    "duration": 343,
    "start_time": "2022-06-03T15:38:52.307Z"
   },
   {
    "duration": 250,
    "start_time": "2022-06-03T15:38:52.652Z"
   },
   {
    "duration": 259,
    "start_time": "2022-06-03T15:38:52.904Z"
   },
   {
    "duration": 238,
    "start_time": "2022-06-03T15:38:53.168Z"
   },
   {
    "duration": 200,
    "start_time": "2022-06-03T15:38:53.409Z"
   },
   {
    "duration": 223,
    "start_time": "2022-06-03T15:38:53.612Z"
   },
   {
    "duration": 8,
    "start_time": "2022-06-03T15:38:53.837Z"
   },
   {
    "duration": 15,
    "start_time": "2022-06-03T15:38:53.848Z"
   },
   {
    "duration": 29,
    "start_time": "2022-06-03T15:38:53.865Z"
   },
   {
    "duration": 16,
    "start_time": "2022-06-03T15:38:53.897Z"
   },
   {
    "duration": 1224,
    "start_time": "2022-06-04T05:13:03.039Z"
   },
   {
    "duration": 1493,
    "start_time": "2022-06-04T05:13:04.266Z"
   },
   {
    "duration": 17,
    "start_time": "2022-06-04T05:13:05.761Z"
   },
   {
    "duration": 19,
    "start_time": "2022-06-04T05:13:05.780Z"
   },
   {
    "duration": 25,
    "start_time": "2022-06-04T05:13:05.800Z"
   },
   {
    "duration": 38,
    "start_time": "2022-06-04T05:13:05.827Z"
   },
   {
    "duration": 18,
    "start_time": "2022-06-04T05:13:05.866Z"
   },
   {
    "duration": 31,
    "start_time": "2022-06-04T05:13:05.885Z"
   },
   {
    "duration": 28,
    "start_time": "2022-06-04T05:13:05.918Z"
   },
   {
    "duration": 41,
    "start_time": "2022-06-04T05:13:05.949Z"
   },
   {
    "duration": 26,
    "start_time": "2022-06-04T05:13:05.992Z"
   },
   {
    "duration": 10,
    "start_time": "2022-06-04T05:13:06.020Z"
   },
   {
    "duration": 27,
    "start_time": "2022-06-04T05:13:06.032Z"
   },
   {
    "duration": 16,
    "start_time": "2022-06-04T05:13:06.061Z"
   },
   {
    "duration": 16,
    "start_time": "2022-06-04T05:13:06.079Z"
   },
   {
    "duration": 36,
    "start_time": "2022-06-04T05:13:06.096Z"
   },
   {
    "duration": 21,
    "start_time": "2022-06-04T05:13:06.133Z"
   },
   {
    "duration": 16,
    "start_time": "2022-06-04T05:13:06.155Z"
   },
   {
    "duration": 13,
    "start_time": "2022-06-04T05:13:06.172Z"
   },
   {
    "duration": 38,
    "start_time": "2022-06-04T05:13:06.190Z"
   },
   {
    "duration": 16,
    "start_time": "2022-06-04T05:13:06.230Z"
   },
   {
    "duration": 11,
    "start_time": "2022-06-04T05:13:06.248Z"
   },
   {
    "duration": 31,
    "start_time": "2022-06-04T05:13:06.261Z"
   },
   {
    "duration": 19,
    "start_time": "2022-06-04T05:13:06.294Z"
   },
   {
    "duration": 12,
    "start_time": "2022-06-04T05:13:06.315Z"
   },
   {
    "duration": 8,
    "start_time": "2022-06-04T05:13:06.328Z"
   },
   {
    "duration": 51,
    "start_time": "2022-06-04T05:13:06.338Z"
   },
   {
    "duration": 25,
    "start_time": "2022-06-04T05:13:06.393Z"
   },
   {
    "duration": 14,
    "start_time": "2022-06-04T05:13:06.419Z"
   },
   {
    "duration": 12,
    "start_time": "2022-06-04T05:13:06.434Z"
   },
   {
    "duration": 153,
    "start_time": "2022-06-04T05:13:06.448Z"
   },
   {
    "duration": 7,
    "start_time": "2022-06-04T05:13:06.602Z"
   },
   {
    "duration": 38,
    "start_time": "2022-06-04T05:13:06.611Z"
   },
   {
    "duration": 36,
    "start_time": "2022-06-04T05:13:06.651Z"
   },
   {
    "duration": 37,
    "start_time": "2022-06-04T05:13:06.688Z"
   },
   {
    "duration": 5,
    "start_time": "2022-06-04T05:13:06.726Z"
   },
   {
    "duration": 13,
    "start_time": "2022-06-04T05:13:06.732Z"
   },
   {
    "duration": 11,
    "start_time": "2022-06-04T05:13:06.747Z"
   },
   {
    "duration": 36,
    "start_time": "2022-06-04T05:13:06.760Z"
   },
   {
    "duration": 21,
    "start_time": "2022-06-04T05:13:06.798Z"
   },
   {
    "duration": 41,
    "start_time": "2022-06-04T05:13:06.820Z"
   },
   {
    "duration": 279,
    "start_time": "2022-06-04T05:13:06.863Z"
   },
   {
    "duration": 217,
    "start_time": "2022-06-04T05:13:07.143Z"
   },
   {
    "duration": 220,
    "start_time": "2022-06-04T05:13:07.362Z"
   },
   {
    "duration": 200,
    "start_time": "2022-06-04T05:13:07.589Z"
   },
   {
    "duration": 182,
    "start_time": "2022-06-04T05:13:07.791Z"
   },
   {
    "duration": 191,
    "start_time": "2022-06-04T05:13:07.975Z"
   },
   {
    "duration": 7,
    "start_time": "2022-06-04T05:13:08.168Z"
   },
   {
    "duration": 10,
    "start_time": "2022-06-04T05:13:08.190Z"
   },
   {
    "duration": 43,
    "start_time": "2022-06-04T05:13:08.202Z"
   },
   {
    "duration": 34,
    "start_time": "2022-06-04T05:13:08.248Z"
   },
   {
    "duration": 1124,
    "start_time": "2022-06-04T05:36:42.815Z"
   },
   {
    "duration": 449,
    "start_time": "2022-06-04T05:36:43.941Z"
   },
   {
    "duration": 15,
    "start_time": "2022-06-04T05:36:44.392Z"
   },
   {
    "duration": 11,
    "start_time": "2022-06-04T05:36:44.409Z"
   },
   {
    "duration": 7,
    "start_time": "2022-06-04T05:36:44.422Z"
   },
   {
    "duration": 8,
    "start_time": "2022-06-04T05:36:44.431Z"
   },
   {
    "duration": 11,
    "start_time": "2022-06-04T05:36:44.441Z"
   },
   {
    "duration": 37,
    "start_time": "2022-06-04T05:36:44.454Z"
   },
   {
    "duration": 8,
    "start_time": "2022-06-04T05:36:44.492Z"
   },
   {
    "duration": 21,
    "start_time": "2022-06-04T05:36:44.503Z"
   },
   {
    "duration": 15,
    "start_time": "2022-06-04T05:36:44.526Z"
   },
   {
    "duration": 10,
    "start_time": "2022-06-04T05:36:44.542Z"
   },
   {
    "duration": 54,
    "start_time": "2022-06-04T05:36:44.553Z"
   },
   {
    "duration": 17,
    "start_time": "2022-06-04T05:36:44.609Z"
   },
   {
    "duration": 9,
    "start_time": "2022-06-04T05:36:44.628Z"
   },
   {
    "duration": 52,
    "start_time": "2022-06-04T05:36:44.638Z"
   },
   {
    "duration": 24,
    "start_time": "2022-06-04T05:36:44.692Z"
   },
   {
    "duration": 8,
    "start_time": "2022-06-04T05:36:44.718Z"
   },
   {
    "duration": 21,
    "start_time": "2022-06-04T05:36:44.728Z"
   },
   {
    "duration": 41,
    "start_time": "2022-06-04T05:36:44.751Z"
   },
   {
    "duration": 15,
    "start_time": "2022-06-04T05:36:44.794Z"
   },
   {
    "duration": 12,
    "start_time": "2022-06-04T05:36:44.811Z"
   },
   {
    "duration": 24,
    "start_time": "2022-06-04T05:36:44.824Z"
   },
   {
    "duration": 41,
    "start_time": "2022-06-04T05:36:44.849Z"
   },
   {
    "duration": 12,
    "start_time": "2022-06-04T05:36:44.891Z"
   },
   {
    "duration": 2,
    "start_time": "2022-06-04T05:36:44.905Z"
   },
   {
    "duration": 38,
    "start_time": "2022-06-04T05:36:44.909Z"
   },
   {
    "duration": 43,
    "start_time": "2022-06-04T05:36:44.951Z"
   },
   {
    "duration": 15,
    "start_time": "2022-06-04T05:36:44.996Z"
   },
   {
    "duration": 4,
    "start_time": "2022-06-04T05:36:45.012Z"
   },
   {
    "duration": 172,
    "start_time": "2022-06-04T05:36:45.018Z"
   },
   {
    "duration": 6,
    "start_time": "2022-06-04T05:36:45.192Z"
   },
   {
    "duration": 12,
    "start_time": "2022-06-04T05:36:45.200Z"
   },
   {
    "duration": 28,
    "start_time": "2022-06-04T05:36:45.213Z"
   },
   {
    "duration": 57,
    "start_time": "2022-06-04T05:36:45.243Z"
   },
   {
    "duration": 5,
    "start_time": "2022-06-04T05:36:45.302Z"
   },
   {
    "duration": 9,
    "start_time": "2022-06-04T05:36:45.308Z"
   },
   {
    "duration": 5,
    "start_time": "2022-06-04T05:36:45.318Z"
   },
   {
    "duration": 18,
    "start_time": "2022-06-04T05:36:45.324Z"
   },
   {
    "duration": 5,
    "start_time": "2022-06-04T05:36:45.344Z"
   },
   {
    "duration": 64,
    "start_time": "2022-06-04T05:36:45.350Z"
   },
   {
    "duration": 281,
    "start_time": "2022-06-04T05:36:45.415Z"
   },
   {
    "duration": 221,
    "start_time": "2022-06-04T05:36:45.697Z"
   },
   {
    "duration": 221,
    "start_time": "2022-06-04T05:36:45.920Z"
   },
   {
    "duration": 215,
    "start_time": "2022-06-04T05:36:46.143Z"
   },
   {
    "duration": 183,
    "start_time": "2022-06-04T05:36:46.361Z"
   },
   {
    "duration": 202,
    "start_time": "2022-06-04T05:36:46.547Z"
   },
   {
    "duration": 8,
    "start_time": "2022-06-04T05:36:46.752Z"
   },
   {
    "duration": 28,
    "start_time": "2022-06-04T05:36:46.762Z"
   },
   {
    "duration": 11,
    "start_time": "2022-06-04T05:36:46.792Z"
   },
   {
    "duration": 12,
    "start_time": "2022-06-04T05:36:46.805Z"
   }
  ],
  "kernelspec": {
   "display_name": "Python 3 (ipykernel)",
   "language": "python",
   "name": "python3"
  },
  "language_info": {
   "codemirror_mode": {
    "name": "ipython",
    "version": 3
   },
   "file_extension": ".py",
   "mimetype": "text/x-python",
   "name": "python",
   "nbconvert_exporter": "python",
   "pygments_lexer": "ipython3",
   "version": "3.9.7"
  },
  "toc": {
   "base_numbering": 1,
   "nav_menu": {},
   "number_sections": true,
   "sideBar": true,
   "skip_h1_title": true,
   "title_cell": "Table of Contents",
   "title_sidebar": "Contents",
   "toc_cell": false,
   "toc_position": {},
   "toc_section_display": true,
   "toc_window_display": false
  },
  "widgets": {
   "application/vnd.jupyter.widget-state+json": {
    "state": {},
    "version_major": 2,
    "version_minor": 0
   }
  }
 },
 "nbformat": 4,
 "nbformat_minor": 5
}
