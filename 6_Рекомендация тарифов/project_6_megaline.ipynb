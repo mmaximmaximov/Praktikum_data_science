{
 "cells": [
  {
   "cell_type": "markdown",
   "id": "deb663d2",
   "metadata": {},
   "source": [
    "# Описание проекта\n",
    "\n",
    "- Оператор мобильной связи «Мегалайн» выяснил: многие клиенты пользуются архивными тарифами. Они хотят построить систему, способную проанализировать поведение клиентов и предложить пользователям новый тариф: «Смарт» или «Ультра».\n",
    "\n",
    "- В вашем распоряжении данные о поведении клиентов, которые уже перешли на эти тарифы (из проекта курса «Статистический анализ данных»). Нужно построить модель для задачи классификации, которая выберет подходящий тариф. Предобработка данных не понадобится — вы её уже сделали.\n",
    "\n",
    "- Постройте модель с максимально большим значением accuracy. Чтобы сдать проект успешно, нужно довести долю правильных ответов по крайней мере до 0.75. Проверьте accuracy на тестовой выборке самостоятельно."
   ]
  },
  {
   "cell_type": "markdown",
   "id": "fabc32b3",
   "metadata": {},
   "source": [
    "# План исследования \n",
    "      Шаг 1\n",
    "- Откройте файл с данными и изучите его. Путь к файлу: datasets/users_behavior.csv. Скачать датасет.\n",
    "\n",
    "      Шаг 2\n",
    "- Разделите исходные данные на обучающую, валидационную и тестовую выборки.\n",
    "\n",
    "      Шаг 3\n",
    "- Исследуйте качество разных моделей, меняя гиперпараметры. Кратко напишите выводы исследования.\n",
    "\n",
    "      Шаг 4\n",
    "- Проверьте качество модели на тестовой выборке.\n",
    "\n",
    "      Шаг 5\n",
    "- Дополнительное задание: проверьте модели на вменяемость. Ничего страшного, если не получится: эти данные сложнее тех, с которыми вы работали раньше. В следующем курсе подробнее об этом расскажем.\n"
   ]
  },
  {
   "cell_type": "markdown",
   "id": "14e1ec17",
   "metadata": {},
   "source": [
    "# Рекомендация тарифов\n",
    "В вашем распоряжении данные о поведении клиентов, которые уже перешли на эти тарифы (из проекта курса «Статистический анализ данных»). Нужно построить модель для задачи классификации, которая выберет подходящий тариф. Предобработка данных не понадобится — вы её уже сделали.\n",
    "\n",
    "Постройте модель с максимально большим значением *accuracy*. Чтобы сдать проект успешно, нужно довести долю правильных ответов по крайней мере до 0.75. Проверьте *accuracy* на тестовой выборке самостоятельно."
   ]
  },
  {
   "cell_type": "markdown",
   "id": "e3d45aa2",
   "metadata": {},
   "source": [
    "# Описание данных\n",
    "#### Каждый объект в наборе данных — это информация о поведении одного пользователя за месяц. Известно:\n",
    "- сalls — количество звонков,\n",
    "- minutes — суммарная длительность звонков в минутах,\n",
    "- messages — количество sms-сообщений,\n",
    "- mb_used — израсходованный интернет-трафик в Мб,\n",
    "- is_ultra — каким тарифом пользовался в течение месяца («Ультра» — 1, «Смарт» — 0)."
   ]
  },
  {
   "cell_type": "code",
   "execution_count": 1,
   "id": "dbbf3eda",
   "metadata": {},
   "outputs": [
    {
     "name": "stdout",
     "output_type": "stream",
     "text": [
      "Collecting progress\n",
      "  Downloading progress-1.6.tar.gz (7.8 kB)\n",
      "Building wheels for collected packages: progress\n",
      "  Building wheel for progress (setup.py) ... \u001b[?25ldone\n",
      "\u001b[?25h  Created wheel for progress: filename=progress-1.6-py3-none-any.whl size=9614 sha256=0778f64aae672cc7288e0504378f056a0e098e529583a083ee6e8bfcc8bf6f9f\n",
      "  Stored in directory: /home/jovyan/.cache/pip/wheels/4c/9b/0a/a78ff56725af3ef70792f9ed0f8dbbc4c0315edc62cbc4a6b8\n",
      "Successfully built progress\n",
      "Installing collected packages: progress\n",
      "Successfully installed progress-1.6\n"
     ]
    }
   ],
   "source": [
    "!pip install progress\n"
   ]
  },
  {
   "cell_type": "code",
   "execution_count": 2,
   "id": "310f18ff",
   "metadata": {},
   "outputs": [],
   "source": [
    "# Импортируем все нужные библиотеки для дальнейшей работы\n",
    "import pandas as pd\n",
    "from sklearn.tree import DecisionTreeClassifier\n",
    "from sklearn.ensemble import RandomForestClassifier\n",
    "from sklearn.linear_model import LogisticRegression\n",
    "from sklearn.metrics import mean_squared_error\n",
    "from sklearn.metrics import accuracy_score\n",
    "from sklearn.model_selection import train_test_split\n",
    "\n",
    "import time\n",
    "from tqdm import tqdm\n",
    "from progress.bar import Bar"
   ]
  },
  {
   "cell_type": "code",
   "execution_count": 3,
   "id": "2bf70038",
   "metadata": {},
   "outputs": [],
   "source": [
    "# Откроем таблицу двумя путями\n",
    "server_path = '/datasets/users_behavior.csv'\n",
    "local_path = '/Users/mmaximmaximovgmail.com/Desktop/DS/project_6/users_behavior.csv'\n",
    "\n",
    "try:\n",
    "    link = pd.read_csv(server_path)\n",
    "except:\n",
    "    link = pd.read_csv(local_path)"
   ]
  },
  {
   "cell_type": "markdown",
   "id": "f0fb251a",
   "metadata": {},
   "source": [
    "# 1 Откройте и изучите файл"
   ]
  },
  {
   "cell_type": "code",
   "execution_count": 4,
   "id": "f0f043b9",
   "metadata": {
    "scrolled": true
   },
   "outputs": [
    {
     "data": {
      "text/html": [
       "<div>\n",
       "<style scoped>\n",
       "    .dataframe tbody tr th:only-of-type {\n",
       "        vertical-align: middle;\n",
       "    }\n",
       "\n",
       "    .dataframe tbody tr th {\n",
       "        vertical-align: top;\n",
       "    }\n",
       "\n",
       "    .dataframe thead th {\n",
       "        text-align: right;\n",
       "    }\n",
       "</style>\n",
       "<table border=\"1\" class=\"dataframe\">\n",
       "  <thead>\n",
       "    <tr style=\"text-align: right;\">\n",
       "      <th></th>\n",
       "      <th>calls</th>\n",
       "      <th>minutes</th>\n",
       "      <th>messages</th>\n",
       "      <th>mb_used</th>\n",
       "      <th>is_ultra</th>\n",
       "    </tr>\n",
       "  </thead>\n",
       "  <tbody>\n",
       "    <tr>\n",
       "      <th>0</th>\n",
       "      <td>40.0</td>\n",
       "      <td>311.90</td>\n",
       "      <td>83.0</td>\n",
       "      <td>19915.42</td>\n",
       "      <td>0</td>\n",
       "    </tr>\n",
       "    <tr>\n",
       "      <th>1</th>\n",
       "      <td>85.0</td>\n",
       "      <td>516.75</td>\n",
       "      <td>56.0</td>\n",
       "      <td>22696.96</td>\n",
       "      <td>0</td>\n",
       "    </tr>\n",
       "    <tr>\n",
       "      <th>2</th>\n",
       "      <td>77.0</td>\n",
       "      <td>467.66</td>\n",
       "      <td>86.0</td>\n",
       "      <td>21060.45</td>\n",
       "      <td>0</td>\n",
       "    </tr>\n",
       "    <tr>\n",
       "      <th>3</th>\n",
       "      <td>106.0</td>\n",
       "      <td>745.53</td>\n",
       "      <td>81.0</td>\n",
       "      <td>8437.39</td>\n",
       "      <td>1</td>\n",
       "    </tr>\n",
       "    <tr>\n",
       "      <th>4</th>\n",
       "      <td>66.0</td>\n",
       "      <td>418.74</td>\n",
       "      <td>1.0</td>\n",
       "      <td>14502.75</td>\n",
       "      <td>0</td>\n",
       "    </tr>\n",
       "  </tbody>\n",
       "</table>\n",
       "</div>"
      ],
      "text/plain": [
       "   calls  minutes  messages   mb_used  is_ultra\n",
       "0   40.0   311.90      83.0  19915.42         0\n",
       "1   85.0   516.75      56.0  22696.96         0\n",
       "2   77.0   467.66      86.0  21060.45         0\n",
       "3  106.0   745.53      81.0   8437.39         1\n",
       "4   66.0   418.74       1.0  14502.75         0"
      ]
     },
     "execution_count": 4,
     "metadata": {},
     "output_type": "execute_result"
    }
   ],
   "source": [
    "link.head()"
   ]
  },
  {
   "cell_type": "code",
   "execution_count": 5,
   "id": "90628137",
   "metadata": {
    "scrolled": true
   },
   "outputs": [
    {
     "data": {
      "text/plain": [
       "(3214, 5)"
      ]
     },
     "execution_count": 5,
     "metadata": {},
     "output_type": "execute_result"
    }
   ],
   "source": [
    "link.shape"
   ]
  },
  {
   "cell_type": "code",
   "execution_count": 6,
   "id": "398945ee",
   "metadata": {},
   "outputs": [
    {
     "name": "stdout",
     "output_type": "stream",
     "text": [
      "<class 'pandas.core.frame.DataFrame'>\n",
      "RangeIndex: 3214 entries, 0 to 3213\n",
      "Data columns (total 5 columns):\n",
      " #   Column    Non-Null Count  Dtype  \n",
      "---  ------    --------------  -----  \n",
      " 0   calls     3214 non-null   float64\n",
      " 1   minutes   3214 non-null   float64\n",
      " 2   messages  3214 non-null   float64\n",
      " 3   mb_used   3214 non-null   float64\n",
      " 4   is_ultra  3214 non-null   int64  \n",
      "dtypes: float64(4), int64(1)\n",
      "memory usage: 125.7 KB\n"
     ]
    }
   ],
   "source": [
    "link.info()"
   ]
  },
  {
   "cell_type": "code",
   "execution_count": 7,
   "id": "e70b2fbe",
   "metadata": {},
   "outputs": [
    {
     "data": {
      "text/plain": [
       "calls       0\n",
       "minutes     0\n",
       "messages    0\n",
       "mb_used     0\n",
       "is_ultra    0\n",
       "dtype: int64"
      ]
     },
     "execution_count": 7,
     "metadata": {},
     "output_type": "execute_result"
    }
   ],
   "source": [
    "link.isnull().sum()"
   ]
  },
  {
   "cell_type": "code",
   "execution_count": 8,
   "id": "9ca68b1d",
   "metadata": {},
   "outputs": [
    {
     "data": {
      "text/html": [
       "<div>\n",
       "<style scoped>\n",
       "    .dataframe tbody tr th:only-of-type {\n",
       "        vertical-align: middle;\n",
       "    }\n",
       "\n",
       "    .dataframe tbody tr th {\n",
       "        vertical-align: top;\n",
       "    }\n",
       "\n",
       "    .dataframe thead th {\n",
       "        text-align: right;\n",
       "    }\n",
       "</style>\n",
       "<table border=\"1\" class=\"dataframe\">\n",
       "  <thead>\n",
       "    <tr style=\"text-align: right;\">\n",
       "      <th></th>\n",
       "      <th>calls</th>\n",
       "      <th>minutes</th>\n",
       "      <th>messages</th>\n",
       "      <th>mb_used</th>\n",
       "      <th>is_ultra</th>\n",
       "    </tr>\n",
       "  </thead>\n",
       "  <tbody>\n",
       "    <tr>\n",
       "      <th>count</th>\n",
       "      <td>3214.000000</td>\n",
       "      <td>3214.000000</td>\n",
       "      <td>3214.000000</td>\n",
       "      <td>3214.000000</td>\n",
       "      <td>3214.000000</td>\n",
       "    </tr>\n",
       "    <tr>\n",
       "      <th>mean</th>\n",
       "      <td>63.038892</td>\n",
       "      <td>438.208787</td>\n",
       "      <td>38.281269</td>\n",
       "      <td>17207.673836</td>\n",
       "      <td>0.306472</td>\n",
       "    </tr>\n",
       "    <tr>\n",
       "      <th>std</th>\n",
       "      <td>33.236368</td>\n",
       "      <td>234.569872</td>\n",
       "      <td>36.148326</td>\n",
       "      <td>7570.968246</td>\n",
       "      <td>0.461100</td>\n",
       "    </tr>\n",
       "    <tr>\n",
       "      <th>min</th>\n",
       "      <td>0.000000</td>\n",
       "      <td>0.000000</td>\n",
       "      <td>0.000000</td>\n",
       "      <td>0.000000</td>\n",
       "      <td>0.000000</td>\n",
       "    </tr>\n",
       "    <tr>\n",
       "      <th>25%</th>\n",
       "      <td>40.000000</td>\n",
       "      <td>274.575000</td>\n",
       "      <td>9.000000</td>\n",
       "      <td>12491.902500</td>\n",
       "      <td>0.000000</td>\n",
       "    </tr>\n",
       "    <tr>\n",
       "      <th>50%</th>\n",
       "      <td>62.000000</td>\n",
       "      <td>430.600000</td>\n",
       "      <td>30.000000</td>\n",
       "      <td>16943.235000</td>\n",
       "      <td>0.000000</td>\n",
       "    </tr>\n",
       "    <tr>\n",
       "      <th>75%</th>\n",
       "      <td>82.000000</td>\n",
       "      <td>571.927500</td>\n",
       "      <td>57.000000</td>\n",
       "      <td>21424.700000</td>\n",
       "      <td>1.000000</td>\n",
       "    </tr>\n",
       "    <tr>\n",
       "      <th>max</th>\n",
       "      <td>244.000000</td>\n",
       "      <td>1632.060000</td>\n",
       "      <td>224.000000</td>\n",
       "      <td>49745.730000</td>\n",
       "      <td>1.000000</td>\n",
       "    </tr>\n",
       "  </tbody>\n",
       "</table>\n",
       "</div>"
      ],
      "text/plain": [
       "             calls      minutes     messages       mb_used     is_ultra\n",
       "count  3214.000000  3214.000000  3214.000000   3214.000000  3214.000000\n",
       "mean     63.038892   438.208787    38.281269  17207.673836     0.306472\n",
       "std      33.236368   234.569872    36.148326   7570.968246     0.461100\n",
       "min       0.000000     0.000000     0.000000      0.000000     0.000000\n",
       "25%      40.000000   274.575000     9.000000  12491.902500     0.000000\n",
       "50%      62.000000   430.600000    30.000000  16943.235000     0.000000\n",
       "75%      82.000000   571.927500    57.000000  21424.700000     1.000000\n",
       "max     244.000000  1632.060000   224.000000  49745.730000     1.000000"
      ]
     },
     "execution_count": 8,
     "metadata": {},
     "output_type": "execute_result"
    }
   ],
   "source": [
    "link.describe()"
   ]
  },
  {
   "cell_type": "markdown",
   "id": "ab10c914",
   "metadata": {},
   "source": [
    "### Мини вывод\n",
    "- Все данные уже обработанны и готовы к выполнению последующих работ.\n",
    "- В целом можно заменить тип данных столбцов `calls`, `messages` на тип int, но посмотрим в дальнейшем что выйдет."
   ]
  },
  {
   "cell_type": "markdown",
   "id": "1a81f319",
   "metadata": {},
   "source": [
    "# 2 Разбейте данные на выборки"
   ]
  },
  {
   "cell_type": "code",
   "execution_count": 9,
   "id": "d4a0df0b",
   "metadata": {},
   "outputs": [],
   "source": [
    "# Создаем выборку обучающую и валидационную, делим исходные данные в соотношении 3:1:1. \n",
    "feature = link.drop('is_ultra', axis=1)\n",
    "target = link['is_ultra']"
   ]
  },
  {
   "cell_type": "code",
   "execution_count": 10,
   "id": "1b410e77",
   "metadata": {},
   "outputs": [],
   "source": [
    "feature_train, feature_test, target_train, target_test = train_test_split(feature, target, test_size=0.4, random_state=12345)\n"
   ]
  },
  {
   "cell_type": "code",
   "execution_count": 11,
   "id": "d1a465ac",
   "metadata": {},
   "outputs": [],
   "source": [
    "feature_test, feature_valid, target_test, target_valid = train_test_split(feature_test, target_test, test_size=0.5, random_state=12345)\n"
   ]
  },
  {
   "cell_type": "code",
   "execution_count": 12,
   "id": "1c63745c",
   "metadata": {},
   "outputs": [
    {
     "data": {
      "text/plain": [
       "(1928, 4)"
      ]
     },
     "metadata": {},
     "output_type": "display_data"
    },
    {
     "data": {
      "text/plain": [
       "(1928,)"
      ]
     },
     "metadata": {},
     "output_type": "display_data"
    },
    {
     "data": {
      "text/plain": [
       "(643, 4)"
      ]
     },
     "metadata": {},
     "output_type": "display_data"
    },
    {
     "data": {
      "text/plain": [
       "(643,)"
      ]
     },
     "metadata": {},
     "output_type": "display_data"
    },
    {
     "data": {
      "text/plain": [
       "(643, 4)"
      ]
     },
     "metadata": {},
     "output_type": "display_data"
    },
    {
     "data": {
      "text/plain": [
       "(643,)"
      ]
     },
     "metadata": {},
     "output_type": "display_data"
    }
   ],
   "source": [
    "display(feature_train.shape, target_train.shape)\n",
    "display(feature_test.shape, target_test.shape)\n",
    "display(feature_valid.shape, target_valid.shape)"
   ]
  },
  {
   "cell_type": "markdown",
   "id": "1b647b1d",
   "metadata": {},
   "source": [
    "# 3 Исследуйте модели"
   ]
  },
  {
   "cell_type": "code",
   "execution_count": 13,
   "id": "cf60a7b9",
   "metadata": {},
   "outputs": [
    {
     "name": "stderr",
     "output_type": "stream",
     "text": [
      "  0%|          | 0/19 [00:00<?, ?it/s]"
     ]
    },
    {
     "name": "stdout",
     "output_type": "stream",
     "text": [
      "Глубина дереа: 1 Точность: 0.7356143079315708\n",
      "Глубина дереа: 2 Точность: 0.7744945567651633\n",
      "Глубина дереа: 3 Точность: 0.7791601866251944\n",
      "Глубина дереа: 4 Точность: 0.7744945567651633\n",
      "Глубина дереа: 5 Точность: 0.7838258164852255\n",
      "Глубина дереа: 6 Точность: 0.776049766718507\n",
      "Глубина дереа: 7 Точность: 0.7993779160186625\n",
      "Глубина дереа: 8 Точность: 0.7931570762052877\n"
     ]
    },
    {
     "name": "stderr",
     "output_type": "stream",
     "text": [
      "100%|██████████| 19/19 [00:00<00:00, 115.00it/s]"
     ]
    },
    {
     "name": "stdout",
     "output_type": "stream",
     "text": [
      "Глубина дереа: 9 Точность: 0.7807153965785381\n",
      "Глубина дереа: 10 Точность: 0.7884914463452566\n",
      "Глубина дереа: 11 Точность: 0.7744945567651633\n",
      "Глубина дереа: 12 Точность: 0.7807153965785381\n",
      "Глубина дереа: 13 Точность: 0.7713841368584758\n",
      "Глубина дереа: 14 Точность: 0.76049766718507\n",
      "Глубина дереа: 15 Точность: 0.7713841368584758\n",
      "Глубина дереа: 16 Точность: 0.749611197511664\n",
      "Глубина дереа: 17 Точность: 0.7480559875583204\n",
      "Глубина дереа: 18 Точность: 0.749611197511664\n",
      "Глубина дереа: 19 Точность: 0.7433903576982893\n",
      "Подходящая глубина : 7 Подходящая точность: 0.7993779160186625\n"
     ]
    },
    {
     "name": "stderr",
     "output_type": "stream",
     "text": [
      "\n"
     ]
    }
   ],
   "source": [
    "# Начнем с дерева.\n",
    "\n",
    "best_model = None\n",
    "best_result = 0\n",
    "for depth in tqdm(range(1, 20)):\n",
    "    model = DecisionTreeClassifier(random_state=12345, max_depth=depth)\n",
    "    model.fit(feature_train, target_train)\n",
    "    prediction = model.predict(feature_valid)\n",
    "    result = accuracy_score(target_valid, prediction)\n",
    "    print('Глубина дереа:', depth, 'Точность:', result)\n",
    "    if result > best_result:\n",
    "        best_model=depth\n",
    "        best_result=result\n",
    "        \n",
    "print('Подходящая глубина :', best_model, 'Подходящая точность:', best_result)"
   ]
  },
  {
   "cell_type": "code",
   "execution_count": 14,
   "id": "eafa791a",
   "metadata": {},
   "outputs": [
    {
     "name": "stderr",
     "output_type": "stream",
     "text": [
      "100%|██████████| 9/9 [00:00<00:00, 42.85it/s]"
     ]
    },
    {
     "name": "stdout",
     "output_type": "stream",
     "text": [
      "Кол-во деревьев в лесу : 8 Подходящая точность: 0.7838258164852255\n"
     ]
    },
    {
     "name": "stderr",
     "output_type": "stream",
     "text": [
      "\n"
     ]
    }
   ],
   "source": [
    "# Случайный лес\n",
    "best_model = None\n",
    "best_result = 0\n",
    "for est in tqdm(range(1, 10)):\n",
    "    model = RandomForestClassifier(random_state=12345, n_estimators=est, min_samples_leaf=2)\n",
    "    model.fit(feature_train, target_train)\n",
    "    result = model.score(feature_valid, target_valid)\n",
    "    if result > best_result:\n",
    "        best_model = est\n",
    "        best_result = result\n",
    "        \n",
    "print('Кол-во деревьев в лесу :', best_model, 'Подходящая точность:', best_result)"
   ]
  },
  {
   "cell_type": "code",
   "execution_count": 27,
   "id": "f3cb3226",
   "metadata": {},
   "outputs": [
    {
     "name": "stderr",
     "output_type": "stream",
     "text": [
      "1200it [00:39, 30.38it/s]"
     ]
    },
    {
     "name": "stdout",
     "output_type": "stream",
     "text": [
      "Score of best model 0.8196\n",
      "\n",
      "Params:\n",
      "max_depth = 11\n",
      "n_estimators = 6\n",
      "min_samples_leaf = 3\n"
     ]
    },
    {
     "name": "stderr",
     "output_type": "stream",
     "text": [
      "\n"
     ]
    }
   ],
   "source": [
    "import itertools\n",
    "import numpy as np\n",
    "\n",
    "best_params = None\n",
    "best_result = 0\n",
    "\n",
    "for params in tqdm(itertools.product(range(1, 16), range(1, 21), range(1, 5))):\n",
    "    depth, est, min_s_l = params\n",
    "    model = RandomForestClassifier(random_state=12345, max_depth=depth, n_estimators=est, min_samples_leaf=min_s_l)\n",
    "    model.fit(feature_train, target_train)\n",
    "    result = model.score(feature_valid, target_valid)\n",
    "    if result > best_result:\n",
    "        best_params = params\n",
    "        best_result = result\n",
    "        \n",
    "print(f'Score of best model {np.round(best_result, 5)}')\n",
    "print(f'\\nParams:\\nmax_depth = {best_params[0]}\\nn_estimators = {best_params[1]}\\nmin_samples_leaf = {best_params[2]}')"
   ]
  },
  {
   "cell_type": "markdown",
   "id": "20bbb2b5",
   "metadata": {},
   "source": [
    "<div style=\"border:solid purple 5px; padding: 20px\"> \n",
    "<h2 align=\"center\"> Рубрика «Питонячий лайфхакер» <a class=\"tocSkip\"> </h2>\n",
    "\n",
    "<h3> Индикаторы состояния: progress и tqdm <a class=\"tocSkip\"> </h3>\n",
    "\n",
    "Как перестать беспокоиться о том, не завис ли скрипт? Вы можете создавать свои индикаторы состояния. Это весьма увлекательное занятие. Но делать то же самое с [progress](https://pypi.org/project/progress/) или [tqdm](https://pypi.org/project/tqdm/) куда быстрее и надежнее.\n",
    "\n",
    "Обычно я использую эти две библиотеки, но вот [здесь](https://habr.com/ru/post/483400/) ты можешь почитать про альтернативные варианты\n",
    "\n",
    "![](https://i.ibb.co/B4SDm8Y/68747470733a2f2f7261772e6769746875622e636f6d2f7665726967616b2f70726f67726573732f6d61737465722f64656d.gif)"
   ]
  },
  {
   "cell_type": "code",
   "execution_count": 16,
   "id": "15a564a1",
   "metadata": {},
   "outputs": [
    {
     "name": "stdout",
     "output_type": "stream",
     "text": [
      "Accuracy: 0.6842923794712286\n"
     ]
    }
   ],
   "source": [
    "# Логистическая реграссия\n",
    "model = LogisticRegression(solver='lbfgs', penalty='l2')\n",
    "model.fit(feature_train, target_train)\n",
    "result = model.score(feature_valid, target_valid)\n",
    "print('Accuracy:', result)"
   ]
  },
  {
   "cell_type": "markdown",
   "id": "f9b14775",
   "metadata": {},
   "source": [
    "### Мини вывод по 3 шагу\n",
    "- Лучший показатель показала модель случайного леса и дерево, логистическая регрессия не вписывается в наши 0.75 ."
   ]
  },
  {
   "cell_type": "markdown",
   "id": "ca181983",
   "metadata": {},
   "source": [
    "# 4 Проверьте модель на тестовой выборке"
   ]
  },
  {
   "cell_type": "code",
   "execution_count": 17,
   "id": "f27cc8c1",
   "metadata": {},
   "outputs": [
    {
     "name": "stdout",
     "output_type": "stream",
     "text": [
      "Тестовая выборка: 0.7822706065318819\n"
     ]
    }
   ],
   "source": [
    "# Тест дерева\n",
    "model = DecisionTreeClassifier(max_depth=7)\n",
    "model.fit(feature_train, target_train)\n",
    "test_predictions=model.predict(feature_test)\n",
    "print('Тестовая выборка:', accuracy_score(target_test, test_predictions))"
   ]
  },
  {
   "cell_type": "code",
   "execution_count": 18,
   "id": "a35fcec9",
   "metadata": {},
   "outputs": [
    {
     "name": "stdout",
     "output_type": "stream",
     "text": [
      "Тестовая выборка: 0.7744945567651633\n"
     ]
    }
   ],
   "source": [
    "# Тест случайного леса\n",
    "model = RandomForestClassifier(random_state=12345, min_samples_leaf=2, n_estimators=8)\n",
    "model.fit(feature_train, target_train)\n",
    "test_predictions=model.predict(feature_test)\n",
    "print('Тестовая выборка:', accuracy_score(target_test, test_predictions))\n"
   ]
  },
  {
   "cell_type": "code",
   "execution_count": 19,
   "id": "9fc1013e",
   "metadata": {},
   "outputs": [
    {
     "name": "stdout",
     "output_type": "stream",
     "text": [
      "Тестовая выборка: 0.7107309486780715\n"
     ]
    }
   ],
   "source": [
    "# Тест случайной логистическогой регрессии\n",
    "model = LogisticRegression(solver='lbfgs', penalty='l2')\n",
    "model.fit(feature_train, target_train)\n",
    "test_predictions=model.predict(feature_test)\n",
    "print('Тестовая выборка:', accuracy_score(target_test, test_predictions))"
   ]
  },
  {
   "cell_type": "markdown",
   "id": "22a16a0e",
   "metadata": {},
   "source": [
    "### Мини вывод\n",
    "- На тестовой выборке порог в 0.75 так же проходит случайный лес и дерево, а вот логистическая регрессия, увы, мимо."
   ]
  },
  {
   "cell_type": "markdown",
   "id": "4e383def",
   "metadata": {},
   "source": [
    "# Вывод "
   ]
  },
  {
   "cell_type": "markdown",
   "id": "0d285ef8",
   "metadata": {},
   "source": [
    "- Открыл файл\n",
    "- Посмотрел файл на исправность \n",
    "- Разделил исходные данные на обущающую, валидационнуюи тестовую выборку \n",
    "- Лучший показатель по исследоваемым моделям оказалась дерево и случайный лес, логистическая регрессия показала низкий результат\n",
    "- Хороший показатель на тестовой выборке показало модель дерева и случайный лес\n",
    "- Используемые гиперпарамерты для случайного леса: `min_samples_leaf=2` `n_estimators=8`\n"
   ]
  },
  {
   "cell_type": "markdown",
   "id": "ef8d71d1",
   "metadata": {},
   "source": [
    "# Чек-лист готовности проекта\n",
    "- [x] Jupyter Notebook открыт\n",
    "- [x] Весь код исполняется без ошибок\n",
    "- [x] Ячейки с кодом расположены в порядке исполнения\n",
    "- [x] Выполнено задание 1: данные загружены и изучены\n",
    "- [x] Выполнено задание 2: данные разбиты на три выборки\n",
    "- [x] Выполнено задание 3: проведено исследование моделей\n",
    "    - [x] Рассмотрено больше одной модели\n",
    "    - [x] Рассмотрено хотя бы 3 значения гипепараметров для какой-нибудь модели\n",
    "    - [x] Написаны выводы по результатам исследования\n",
    "- [x] Выполнено задание 3: Проведено тестирование\n",
    "- [x] Удалось достичь accuracy не меньше 0.75"
   ]
  }
 ],
 "metadata": {
  "ExecuteTimeLog": [
   {
    "duration": 1501,
    "start_time": "2022-06-29T19:04:47.867Z"
   },
   {
    "duration": 168,
    "start_time": "2022-06-29T19:04:49.370Z"
   },
   {
    "duration": 0,
    "start_time": "2022-06-29T19:04:49.540Z"
   },
   {
    "duration": 0,
    "start_time": "2022-06-29T19:04:49.542Z"
   },
   {
    "duration": 0,
    "start_time": "2022-06-29T19:04:49.543Z"
   },
   {
    "duration": 0,
    "start_time": "2022-06-29T19:04:49.545Z"
   },
   {
    "duration": 0,
    "start_time": "2022-06-29T19:04:49.547Z"
   },
   {
    "duration": 0,
    "start_time": "2022-06-29T19:04:49.549Z"
   },
   {
    "duration": 0,
    "start_time": "2022-06-29T19:04:49.550Z"
   },
   {
    "duration": 0,
    "start_time": "2022-06-29T19:04:49.552Z"
   },
   {
    "duration": 0,
    "start_time": "2022-06-29T19:04:49.552Z"
   },
   {
    "duration": 0,
    "start_time": "2022-06-29T19:04:49.555Z"
   },
   {
    "duration": 0,
    "start_time": "2022-06-29T19:04:49.558Z"
   },
   {
    "duration": 0,
    "start_time": "2022-06-29T19:04:49.562Z"
   },
   {
    "duration": 0,
    "start_time": "2022-06-29T19:04:49.563Z"
   },
   {
    "duration": 0,
    "start_time": "2022-06-29T19:04:49.564Z"
   },
   {
    "duration": 120,
    "start_time": "2022-06-29T19:05:04.968Z"
   },
   {
    "duration": 19,
    "start_time": "2022-06-29T19:05:06.973Z"
   },
   {
    "duration": 5,
    "start_time": "2022-06-29T19:05:07.161Z"
   },
   {
    "duration": 13,
    "start_time": "2022-06-29T19:05:07.298Z"
   },
   {
    "duration": 6,
    "start_time": "2022-06-29T19:05:07.692Z"
   },
   {
    "duration": 2581,
    "start_time": "2022-06-29T19:50:55.068Z"
   },
   {
    "duration": 43,
    "start_time": "2022-06-29T19:50:57.651Z"
   },
   {
    "duration": 72,
    "start_time": "2022-06-29T19:50:57.695Z"
   },
   {
    "duration": 24,
    "start_time": "2022-06-29T19:50:57.770Z"
   },
   {
    "duration": 59,
    "start_time": "2022-06-29T19:50:57.796Z"
   },
   {
    "duration": 11,
    "start_time": "2022-06-29T19:50:57.857Z"
   },
   {
    "duration": 75,
    "start_time": "2022-06-29T19:50:57.870Z"
   },
   {
    "duration": 12,
    "start_time": "2022-06-29T19:50:57.949Z"
   },
   {
    "duration": 31,
    "start_time": "2022-06-29T19:50:57.963Z"
   },
   {
    "duration": 4,
    "start_time": "2022-06-29T19:50:57.996Z"
   },
   {
    "duration": 142,
    "start_time": "2022-06-29T19:50:58.002Z"
   },
   {
    "duration": 1012,
    "start_time": "2022-06-29T19:50:58.146Z"
   },
   {
    "duration": 881,
    "start_time": "2022-06-29T19:50:59.163Z"
   },
   {
    "duration": 97,
    "start_time": "2022-06-29T19:51:00.046Z"
   },
   {
    "duration": 826,
    "start_time": "2022-06-29T19:51:00.151Z"
   },
   {
    "duration": 1396,
    "start_time": "2022-06-29T19:51:00.978Z"
   },
   {
    "duration": 15,
    "start_time": "2022-06-29T19:51:09.283Z"
   },
   {
    "duration": 67,
    "start_time": "2022-07-02T23:55:24.128Z"
   },
   {
    "duration": 1397,
    "start_time": "2022-07-02T23:55:47.054Z"
   },
   {
    "duration": 3,
    "start_time": "2022-07-02T23:56:18.408Z"
   },
   {
    "duration": 11,
    "start_time": "2022-07-02T23:56:30.495Z"
   },
   {
    "duration": 5,
    "start_time": "2022-07-02T23:56:38.573Z"
   },
   {
    "duration": 13,
    "start_time": "2022-07-03T00:00:57.286Z"
   },
   {
    "duration": 2979,
    "start_time": "2022-07-03T00:01:19.845Z"
   },
   {
    "duration": 1733,
    "start_time": "2022-07-03T00:01:22.827Z"
   },
   {
    "duration": 80,
    "start_time": "2022-07-03T00:01:24.562Z"
   },
   {
    "duration": 18,
    "start_time": "2022-07-03T00:01:24.644Z"
   },
   {
    "duration": 5,
    "start_time": "2022-07-03T00:01:24.664Z"
   },
   {
    "duration": 15,
    "start_time": "2022-07-03T00:01:24.670Z"
   },
   {
    "duration": 12,
    "start_time": "2022-07-03T00:01:24.687Z"
   },
   {
    "duration": 49,
    "start_time": "2022-07-03T00:01:24.703Z"
   },
   {
    "duration": 4,
    "start_time": "2022-07-03T00:01:24.754Z"
   },
   {
    "duration": 14,
    "start_time": "2022-07-03T00:01:24.761Z"
   },
   {
    "duration": 18,
    "start_time": "2022-07-03T00:01:24.777Z"
   },
   {
    "duration": 21,
    "start_time": "2022-07-03T00:01:24.796Z"
   },
   {
    "duration": 174,
    "start_time": "2022-07-03T00:01:24.819Z"
   },
   {
    "duration": 216,
    "start_time": "2022-07-03T00:01:24.995Z"
   },
   {
    "duration": 23169,
    "start_time": "2022-07-03T00:01:25.213Z"
   },
   {
    "duration": 25,
    "start_time": "2022-07-03T00:01:48.383Z"
   },
   {
    "duration": 14,
    "start_time": "2022-07-03T00:01:48.409Z"
   },
   {
    "duration": 62,
    "start_time": "2022-07-03T00:01:48.425Z"
   },
   {
    "duration": 31,
    "start_time": "2022-07-03T00:01:48.489Z"
   },
   {
    "duration": 4,
    "start_time": "2022-07-03T00:02:11.008Z"
   },
   {
    "duration": 4,
    "start_time": "2022-07-03T00:02:20.926Z"
   },
   {
    "duration": 98,
    "start_time": "2022-07-03T00:04:37.810Z"
   },
   {
    "duration": 2,
    "start_time": "2022-07-03T00:04:57.313Z"
   },
   {
    "duration": 4,
    "start_time": "2022-07-03T00:04:57.661Z"
   },
   {
    "duration": 4,
    "start_time": "2022-07-03T00:05:10.258Z"
   },
   {
    "duration": 4,
    "start_time": "2022-07-03T00:06:39.327Z"
   },
   {
    "duration": 39502,
    "start_time": "2022-07-03T00:06:57.308Z"
   }
  ],
  "kernelspec": {
   "display_name": "Python 3 (ipykernel)",
   "language": "python",
   "name": "python3"
  },
  "language_info": {
   "codemirror_mode": {
    "name": "ipython",
    "version": 3
   },
   "file_extension": ".py",
   "mimetype": "text/x-python",
   "name": "python",
   "nbconvert_exporter": "python",
   "pygments_lexer": "ipython3",
   "version": "3.9.7"
  },
  "toc": {
   "base_numbering": 1,
   "nav_menu": {},
   "number_sections": true,
   "sideBar": true,
   "skip_h1_title": true,
   "title_cell": "Table of Contents",
   "title_sidebar": "Contents",
   "toc_cell": false,
   "toc_position": {},
   "toc_section_display": true,
   "toc_window_display": false
  }
 },
 "nbformat": 4,
 "nbformat_minor": 5
}
