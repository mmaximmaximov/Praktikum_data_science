{
 "cells": [
  {
   "cell_type": "markdown",
   "id": "4b4a81d9",
   "metadata": {},
   "source": [
    "# Описание проекта\n",
    "- Из «Бета-Банка» стали уходить клиенты. Каждый месяц. Немного, но заметно. Банковские маркетологи посчитали: сохранять текущих клиентов дешевле, чем привлекать новых.\n",
    "- Нужно спрогнозировать, уйдёт клиент из банка в ближайшее время или нет. Вам предоставлены исторические данные о поведении клиентов и расторжении договоров с банком.\n",
    "- Постройте модель с предельно большим значением F1-меры. Чтобы сдать проект успешно, нужно довести метрику до 0.59. Проверьте F1-меру на тестовой выборке самостоятельно.\n",
    "- Дополнительно измеряйте AUC-ROC, сравнивайте её значение с F1-мерой."
   ]
  },
  {
   "cell_type": "markdown",
   "id": "4d38067b",
   "metadata": {},
   "source": [
    "# Инструкция по выполнению проекта\n",
    "1. Загрузите и подготовьте данные. Поясните порядок действий.\n",
    "2. Исследуйте баланс классов, обучите модель без учёта дисбаланса. Кратко опишите выводы.\n",
    "3. Улучшите качество модели, учитывая дисбаланс классов. Обучите разные модели и найдите лучшую. Кратко опишите выводы.\n",
    "4. Проведите финальное тестирование."
   ]
  },
  {
   "cell_type": "markdown",
   "id": "b0982511",
   "metadata": {},
   "source": [
    "# Описание данных\n",
    "- RowNumber — индекс строки в данных\n",
    "- CustomerId — уникальный идентификатор клиента\n",
    "- Surname — фамилия\n",
    "- CreditScore — кредитный рейтинг\n",
    "- Geography — страна проживания\n",
    "- Gender — пол\n",
    "- Age — возраст\n",
    "- Tenure — сколько лет человек является клиентом банка\n",
    "- Balance — баланс на счёте\n",
    "- NumOfProducts — количество продуктов банка, используемых клиентом\n",
    "- HasCrCard — наличие кредитной карты\n",
    "- IsActiveMember — активность клиента\n",
    "- EstimatedSalary — предполагаемая зарплата\n",
    "\n",
    "    Целевой признак\n",
    "- Exited — факт ухода клиента"
   ]
  },
  {
   "cell_type": "markdown",
   "id": "e2b3ea77",
   "metadata": {},
   "source": [
    "# 1. Подготовка данных"
   ]
  },
  {
   "cell_type": "code",
   "execution_count": 1,
   "id": "fc7ebae0",
   "metadata": {},
   "outputs": [
    {
     "name": "stdout",
     "output_type": "stream",
     "text": [
      "Requirement already satisfied: progress in /Users/mmaximmaximovgmail.com/opt/anaconda3/lib/python3.9/site-packages (1.6)\r\n"
     ]
    }
   ],
   "source": [
    "!pip install progress"
   ]
  },
  {
   "cell_type": "code",
   "execution_count": 2,
   "id": "4e8162fa",
   "metadata": {},
   "outputs": [],
   "source": [
    "# Импортируем самую важную библиотеку\n",
    "import pandas as pd"
   ]
  },
  {
   "cell_type": "code",
   "execution_count": 3,
   "id": "bbcd2bf6",
   "metadata": {},
   "outputs": [],
   "source": [
    "# Иvпортируем метрику\n",
    "from sklearn.metrics import accuracy_score\n",
    "from sklearn.metrics import f1_score\n",
    "from sklearn.metrics import roc_curve\n",
    "from sklearn.metrics import roc_auc_score\n",
    "from sklearn.metrics import precision_score\n",
    "from sklearn.metrics import recall_score\n",
    "from sklearn.metrics import confusion_matrix"
   ]
  },
  {
   "cell_type": "code",
   "execution_count": 4,
   "id": "1267f073",
   "metadata": {},
   "outputs": [],
   "source": [
    "# Импортируем модели\n",
    "from sklearn.linear_model import LogisticRegression\n",
    "from sklearn.tree import DecisionTreeClassifier\n",
    "from sklearn.ensemble import RandomForestClassifier "
   ]
  },
  {
   "cell_type": "code",
   "execution_count": 5,
   "id": "76ea9ee3",
   "metadata": {},
   "outputs": [],
   "source": [
    "# Импортируем остальное \n",
    "from tqdm import tqdm\n",
    "from sklearn.model_selection import train_test_split\n",
    "from sklearn.preprocessing import StandardScaler\n",
    "from sklearn.utils import shuffle"
   ]
  },
  {
   "cell_type": "code",
   "execution_count": 6,
   "id": "13141e29",
   "metadata": {},
   "outputs": [],
   "source": [
    "# Откроем таблицу двумя путями\n",
    "server_path = '/datasets/Churn.csv'\n",
    "local_path = '/Users/mmaximmaximovgmail.com/Desktop/DS/project_7/Churn.csv'\n",
    "\n",
    "try:\n",
    "    bank = pd.read_csv(server_path)\n",
    "except:\n",
    "    bank = pd.read_csv(local_path)"
   ]
  },
  {
   "cell_type": "code",
   "execution_count": 7,
   "id": "c8bed1fa",
   "metadata": {},
   "outputs": [
    {
     "data": {
      "text/html": [
       "<div>\n",
       "<style scoped>\n",
       "    .dataframe tbody tr th:only-of-type {\n",
       "        vertical-align: middle;\n",
       "    }\n",
       "\n",
       "    .dataframe tbody tr th {\n",
       "        vertical-align: top;\n",
       "    }\n",
       "\n",
       "    .dataframe thead th {\n",
       "        text-align: right;\n",
       "    }\n",
       "</style>\n",
       "<table border=\"1\" class=\"dataframe\">\n",
       "  <thead>\n",
       "    <tr style=\"text-align: right;\">\n",
       "      <th></th>\n",
       "      <th>RowNumber</th>\n",
       "      <th>CustomerId</th>\n",
       "      <th>Surname</th>\n",
       "      <th>CreditScore</th>\n",
       "      <th>Geography</th>\n",
       "      <th>Gender</th>\n",
       "      <th>Age</th>\n",
       "      <th>Tenure</th>\n",
       "      <th>Balance</th>\n",
       "      <th>NumOfProducts</th>\n",
       "      <th>HasCrCard</th>\n",
       "      <th>IsActiveMember</th>\n",
       "      <th>EstimatedSalary</th>\n",
       "      <th>Exited</th>\n",
       "    </tr>\n",
       "  </thead>\n",
       "  <tbody>\n",
       "    <tr>\n",
       "      <th>0</th>\n",
       "      <td>1</td>\n",
       "      <td>15634602</td>\n",
       "      <td>Hargrave</td>\n",
       "      <td>619</td>\n",
       "      <td>France</td>\n",
       "      <td>Female</td>\n",
       "      <td>42</td>\n",
       "      <td>2.0</td>\n",
       "      <td>0.00</td>\n",
       "      <td>1</td>\n",
       "      <td>1</td>\n",
       "      <td>1</td>\n",
       "      <td>101348.88</td>\n",
       "      <td>1</td>\n",
       "    </tr>\n",
       "    <tr>\n",
       "      <th>1</th>\n",
       "      <td>2</td>\n",
       "      <td>15647311</td>\n",
       "      <td>Hill</td>\n",
       "      <td>608</td>\n",
       "      <td>Spain</td>\n",
       "      <td>Female</td>\n",
       "      <td>41</td>\n",
       "      <td>1.0</td>\n",
       "      <td>83807.86</td>\n",
       "      <td>1</td>\n",
       "      <td>0</td>\n",
       "      <td>1</td>\n",
       "      <td>112542.58</td>\n",
       "      <td>0</td>\n",
       "    </tr>\n",
       "    <tr>\n",
       "      <th>2</th>\n",
       "      <td>3</td>\n",
       "      <td>15619304</td>\n",
       "      <td>Onio</td>\n",
       "      <td>502</td>\n",
       "      <td>France</td>\n",
       "      <td>Female</td>\n",
       "      <td>42</td>\n",
       "      <td>8.0</td>\n",
       "      <td>159660.80</td>\n",
       "      <td>3</td>\n",
       "      <td>1</td>\n",
       "      <td>0</td>\n",
       "      <td>113931.57</td>\n",
       "      <td>1</td>\n",
       "    </tr>\n",
       "    <tr>\n",
       "      <th>3</th>\n",
       "      <td>4</td>\n",
       "      <td>15701354</td>\n",
       "      <td>Boni</td>\n",
       "      <td>699</td>\n",
       "      <td>France</td>\n",
       "      <td>Female</td>\n",
       "      <td>39</td>\n",
       "      <td>1.0</td>\n",
       "      <td>0.00</td>\n",
       "      <td>2</td>\n",
       "      <td>0</td>\n",
       "      <td>0</td>\n",
       "      <td>93826.63</td>\n",
       "      <td>0</td>\n",
       "    </tr>\n",
       "    <tr>\n",
       "      <th>4</th>\n",
       "      <td>5</td>\n",
       "      <td>15737888</td>\n",
       "      <td>Mitchell</td>\n",
       "      <td>850</td>\n",
       "      <td>Spain</td>\n",
       "      <td>Female</td>\n",
       "      <td>43</td>\n",
       "      <td>2.0</td>\n",
       "      <td>125510.82</td>\n",
       "      <td>1</td>\n",
       "      <td>1</td>\n",
       "      <td>1</td>\n",
       "      <td>79084.10</td>\n",
       "      <td>0</td>\n",
       "    </tr>\n",
       "  </tbody>\n",
       "</table>\n",
       "</div>"
      ],
      "text/plain": [
       "   RowNumber  CustomerId   Surname  CreditScore Geography  Gender  Age  \\\n",
       "0          1    15634602  Hargrave          619    France  Female   42   \n",
       "1          2    15647311      Hill          608     Spain  Female   41   \n",
       "2          3    15619304      Onio          502    France  Female   42   \n",
       "3          4    15701354      Boni          699    France  Female   39   \n",
       "4          5    15737888  Mitchell          850     Spain  Female   43   \n",
       "\n",
       "   Tenure    Balance  NumOfProducts  HasCrCard  IsActiveMember  \\\n",
       "0     2.0       0.00              1          1               1   \n",
       "1     1.0   83807.86              1          0               1   \n",
       "2     8.0  159660.80              3          1               0   \n",
       "3     1.0       0.00              2          0               0   \n",
       "4     2.0  125510.82              1          1               1   \n",
       "\n",
       "   EstimatedSalary  Exited  \n",
       "0        101348.88       1  \n",
       "1        112542.58       0  \n",
       "2        113931.57       1  \n",
       "3         93826.63       0  \n",
       "4         79084.10       0  "
      ]
     },
     "execution_count": 7,
     "metadata": {},
     "output_type": "execute_result"
    }
   ],
   "source": [
    "# Выводим первые 5 строк таблицы\n",
    "bank.head()"
   ]
  },
  {
   "cell_type": "code",
   "execution_count": 8,
   "id": "be80bdc7",
   "metadata": {},
   "outputs": [
    {
     "data": {
      "text/plain": [
       "(10000, 14)"
      ]
     },
     "execution_count": 8,
     "metadata": {},
     "output_type": "execute_result"
    }
   ],
   "source": [
    "# Кол-во строк и колонок\n",
    "bank.shape"
   ]
  },
  {
   "cell_type": "code",
   "execution_count": 9,
   "id": "218f1ced",
   "metadata": {},
   "outputs": [
    {
     "data": {
      "text/html": [
       "<div>\n",
       "<style scoped>\n",
       "    .dataframe tbody tr th:only-of-type {\n",
       "        vertical-align: middle;\n",
       "    }\n",
       "\n",
       "    .dataframe tbody tr th {\n",
       "        vertical-align: top;\n",
       "    }\n",
       "\n",
       "    .dataframe thead th {\n",
       "        text-align: right;\n",
       "    }\n",
       "</style>\n",
       "<table border=\"1\" class=\"dataframe\">\n",
       "  <thead>\n",
       "    <tr style=\"text-align: right;\">\n",
       "      <th></th>\n",
       "      <th>RowNumber</th>\n",
       "      <th>CustomerId</th>\n",
       "      <th>CreditScore</th>\n",
       "      <th>Age</th>\n",
       "      <th>Tenure</th>\n",
       "      <th>Balance</th>\n",
       "      <th>NumOfProducts</th>\n",
       "      <th>HasCrCard</th>\n",
       "      <th>IsActiveMember</th>\n",
       "      <th>EstimatedSalary</th>\n",
       "      <th>Exited</th>\n",
       "    </tr>\n",
       "  </thead>\n",
       "  <tbody>\n",
       "    <tr>\n",
       "      <th>count</th>\n",
       "      <td>10000.00000</td>\n",
       "      <td>1.000000e+04</td>\n",
       "      <td>10000.000000</td>\n",
       "      <td>10000.000000</td>\n",
       "      <td>9091.000000</td>\n",
       "      <td>10000.000000</td>\n",
       "      <td>10000.000000</td>\n",
       "      <td>10000.00000</td>\n",
       "      <td>10000.000000</td>\n",
       "      <td>10000.000000</td>\n",
       "      <td>10000.000000</td>\n",
       "    </tr>\n",
       "    <tr>\n",
       "      <th>mean</th>\n",
       "      <td>5000.50000</td>\n",
       "      <td>1.569094e+07</td>\n",
       "      <td>650.528800</td>\n",
       "      <td>38.921800</td>\n",
       "      <td>4.997690</td>\n",
       "      <td>76485.889288</td>\n",
       "      <td>1.530200</td>\n",
       "      <td>0.70550</td>\n",
       "      <td>0.515100</td>\n",
       "      <td>100090.239881</td>\n",
       "      <td>0.203700</td>\n",
       "    </tr>\n",
       "    <tr>\n",
       "      <th>std</th>\n",
       "      <td>2886.89568</td>\n",
       "      <td>7.193619e+04</td>\n",
       "      <td>96.653299</td>\n",
       "      <td>10.487806</td>\n",
       "      <td>2.894723</td>\n",
       "      <td>62397.405202</td>\n",
       "      <td>0.581654</td>\n",
       "      <td>0.45584</td>\n",
       "      <td>0.499797</td>\n",
       "      <td>57510.492818</td>\n",
       "      <td>0.402769</td>\n",
       "    </tr>\n",
       "    <tr>\n",
       "      <th>min</th>\n",
       "      <td>1.00000</td>\n",
       "      <td>1.556570e+07</td>\n",
       "      <td>350.000000</td>\n",
       "      <td>18.000000</td>\n",
       "      <td>0.000000</td>\n",
       "      <td>0.000000</td>\n",
       "      <td>1.000000</td>\n",
       "      <td>0.00000</td>\n",
       "      <td>0.000000</td>\n",
       "      <td>11.580000</td>\n",
       "      <td>0.000000</td>\n",
       "    </tr>\n",
       "    <tr>\n",
       "      <th>25%</th>\n",
       "      <td>2500.75000</td>\n",
       "      <td>1.562853e+07</td>\n",
       "      <td>584.000000</td>\n",
       "      <td>32.000000</td>\n",
       "      <td>2.000000</td>\n",
       "      <td>0.000000</td>\n",
       "      <td>1.000000</td>\n",
       "      <td>0.00000</td>\n",
       "      <td>0.000000</td>\n",
       "      <td>51002.110000</td>\n",
       "      <td>0.000000</td>\n",
       "    </tr>\n",
       "    <tr>\n",
       "      <th>50%</th>\n",
       "      <td>5000.50000</td>\n",
       "      <td>1.569074e+07</td>\n",
       "      <td>652.000000</td>\n",
       "      <td>37.000000</td>\n",
       "      <td>5.000000</td>\n",
       "      <td>97198.540000</td>\n",
       "      <td>1.000000</td>\n",
       "      <td>1.00000</td>\n",
       "      <td>1.000000</td>\n",
       "      <td>100193.915000</td>\n",
       "      <td>0.000000</td>\n",
       "    </tr>\n",
       "    <tr>\n",
       "      <th>75%</th>\n",
       "      <td>7500.25000</td>\n",
       "      <td>1.575323e+07</td>\n",
       "      <td>718.000000</td>\n",
       "      <td>44.000000</td>\n",
       "      <td>7.000000</td>\n",
       "      <td>127644.240000</td>\n",
       "      <td>2.000000</td>\n",
       "      <td>1.00000</td>\n",
       "      <td>1.000000</td>\n",
       "      <td>149388.247500</td>\n",
       "      <td>0.000000</td>\n",
       "    </tr>\n",
       "    <tr>\n",
       "      <th>max</th>\n",
       "      <td>10000.00000</td>\n",
       "      <td>1.581569e+07</td>\n",
       "      <td>850.000000</td>\n",
       "      <td>92.000000</td>\n",
       "      <td>10.000000</td>\n",
       "      <td>250898.090000</td>\n",
       "      <td>4.000000</td>\n",
       "      <td>1.00000</td>\n",
       "      <td>1.000000</td>\n",
       "      <td>199992.480000</td>\n",
       "      <td>1.000000</td>\n",
       "    </tr>\n",
       "  </tbody>\n",
       "</table>\n",
       "</div>"
      ],
      "text/plain": [
       "         RowNumber    CustomerId   CreditScore           Age       Tenure  \\\n",
       "count  10000.00000  1.000000e+04  10000.000000  10000.000000  9091.000000   \n",
       "mean    5000.50000  1.569094e+07    650.528800     38.921800     4.997690   \n",
       "std     2886.89568  7.193619e+04     96.653299     10.487806     2.894723   \n",
       "min        1.00000  1.556570e+07    350.000000     18.000000     0.000000   \n",
       "25%     2500.75000  1.562853e+07    584.000000     32.000000     2.000000   \n",
       "50%     5000.50000  1.569074e+07    652.000000     37.000000     5.000000   \n",
       "75%     7500.25000  1.575323e+07    718.000000     44.000000     7.000000   \n",
       "max    10000.00000  1.581569e+07    850.000000     92.000000    10.000000   \n",
       "\n",
       "             Balance  NumOfProducts    HasCrCard  IsActiveMember  \\\n",
       "count   10000.000000   10000.000000  10000.00000    10000.000000   \n",
       "mean    76485.889288       1.530200      0.70550        0.515100   \n",
       "std     62397.405202       0.581654      0.45584        0.499797   \n",
       "min         0.000000       1.000000      0.00000        0.000000   \n",
       "25%         0.000000       1.000000      0.00000        0.000000   \n",
       "50%     97198.540000       1.000000      1.00000        1.000000   \n",
       "75%    127644.240000       2.000000      1.00000        1.000000   \n",
       "max    250898.090000       4.000000      1.00000        1.000000   \n",
       "\n",
       "       EstimatedSalary        Exited  \n",
       "count     10000.000000  10000.000000  \n",
       "mean     100090.239881      0.203700  \n",
       "std       57510.492818      0.402769  \n",
       "min          11.580000      0.000000  \n",
       "25%       51002.110000      0.000000  \n",
       "50%      100193.915000      0.000000  \n",
       "75%      149388.247500      0.000000  \n",
       "max      199992.480000      1.000000  "
      ]
     },
     "execution_count": 9,
     "metadata": {},
     "output_type": "execute_result"
    }
   ],
   "source": [
    "# Среднее, стандартное и минимальное значение \n",
    "bank.describe()"
   ]
  },
  {
   "cell_type": "code",
   "execution_count": 10,
   "id": "7df3ccff",
   "metadata": {},
   "outputs": [
    {
     "name": "stdout",
     "output_type": "stream",
     "text": [
      "<class 'pandas.core.frame.DataFrame'>\n",
      "RangeIndex: 10000 entries, 0 to 9999\n",
      "Data columns (total 14 columns):\n",
      " #   Column           Non-Null Count  Dtype  \n",
      "---  ------           --------------  -----  \n",
      " 0   RowNumber        10000 non-null  int64  \n",
      " 1   CustomerId       10000 non-null  int64  \n",
      " 2   Surname          10000 non-null  object \n",
      " 3   CreditScore      10000 non-null  int64  \n",
      " 4   Geography        10000 non-null  object \n",
      " 5   Gender           10000 non-null  object \n",
      " 6   Age              10000 non-null  int64  \n",
      " 7   Tenure           9091 non-null   float64\n",
      " 8   Balance          10000 non-null  float64\n",
      " 9   NumOfProducts    10000 non-null  int64  \n",
      " 10  HasCrCard        10000 non-null  int64  \n",
      " 11  IsActiveMember   10000 non-null  int64  \n",
      " 12  EstimatedSalary  10000 non-null  float64\n",
      " 13  Exited           10000 non-null  int64  \n",
      "dtypes: float64(3), int64(8), object(3)\n",
      "memory usage: 1.1+ MB\n"
     ]
    }
   ],
   "source": [
    "# Типы и кол-во пропусков\n",
    "bank.info()"
   ]
  },
  {
   "cell_type": "code",
   "execution_count": 11,
   "id": "05fa1e5d",
   "metadata": {},
   "outputs": [
    {
     "data": {
      "text/plain": [
       "0"
      ]
     },
     "execution_count": 11,
     "metadata": {},
     "output_type": "execute_result"
    }
   ],
   "source": [
    "# Кол-во дубликатов\n",
    "bank.duplicated().sum()"
   ]
  },
  {
   "cell_type": "code",
   "execution_count": 12,
   "id": "1a0436d3",
   "metadata": {},
   "outputs": [
    {
     "name": "stdout",
     "output_type": "stream",
     "text": [
      "(10000, 11) Удалили не нужные столбцы\n"
     ]
    }
   ],
   "source": [
    "# Убираем не нужные колонки в таблице, они не пригодятся для обучения модели\n",
    "# inplace=True помогает сразу внести изменения в ту же самую перменную \n",
    "bank.drop(['RowNumber', 'CustomerId', 'Surname'], axis=1, inplace=True)\n",
    "print(bank.shape, 'Удалили не нужные столбцы')"
   ]
  },
  {
   "cell_type": "code",
   "execution_count": 13,
   "id": "62c91305",
   "metadata": {},
   "outputs": [],
   "source": [
    "# Теперь должны заполнить пропуски в столбце Tenure, в течение проработки модели может поменяем значение\n",
    "bank['Tenure'] = bank['Tenure'].fillna(-1)"
   ]
  },
  {
   "cell_type": "code",
   "execution_count": 14,
   "id": "15b06c77",
   "metadata": {},
   "outputs": [],
   "source": [
    "# Заменю тип колонки Tenure\n",
    "#bank['Tenure'] = bank['Tenure'].astype('object')"
   ]
  },
  {
   "cell_type": "code",
   "execution_count": 15,
   "id": "6eb1e9e1",
   "metadata": {},
   "outputs": [],
   "source": [
    "# Преобразуем колонки в таблице техникой OHE, чтобы не попасть в дамми ловушку используем drop_first\n",
    "bank = pd.get_dummies(bank, drop_first=True)"
   ]
  },
  {
   "cell_type": "markdown",
   "id": "61bae758",
   "metadata": {},
   "source": [
    "### 1.2 Разбиваем данные на выборки: обучающу, валидационную, тестовую\n"
   ]
  },
  {
   "cell_type": "code",
   "execution_count": 16,
   "id": "41a9a8f3",
   "metadata": {},
   "outputs": [],
   "source": [
    "# Обучающая выборка\n",
    "feature = bank.drop('Exited', axis=1)\n",
    "target = bank['Exited']"
   ]
  },
  {
   "cell_type": "code",
   "execution_count": 17,
   "id": "eaeb04c9",
   "metadata": {},
   "outputs": [],
   "source": [
    "# Возьмем 60% для обучающей выборки\n",
    "feature_train, feature_test, target_train, target_test = train_test_split(feature, target, test_size=0.4, random_state=12345, )\n"
   ]
  },
  {
   "cell_type": "code",
   "execution_count": 18,
   "id": "98fe4e25",
   "metadata": {},
   "outputs": [],
   "source": [
    "# Делим оставшиеся 40%, по полам между тестовой и валидационной\n",
    "feature_test, feature_valid, target_test, target_valid = train_test_split(feature_test, target_test, test_size=0.5, random_state=12345)\n"
   ]
  },
  {
   "cell_type": "code",
   "execution_count": 19,
   "id": "318cbd25",
   "metadata": {},
   "outputs": [
    {
     "data": {
      "text/plain": [
       "(6000, 11)"
      ]
     },
     "metadata": {},
     "output_type": "display_data"
    },
    {
     "data": {
      "text/plain": [
       "(6000,)"
      ]
     },
     "metadata": {},
     "output_type": "display_data"
    },
    {
     "data": {
      "text/plain": [
       "(2000, 11)"
      ]
     },
     "metadata": {},
     "output_type": "display_data"
    },
    {
     "data": {
      "text/plain": [
       "(2000,)"
      ]
     },
     "metadata": {},
     "output_type": "display_data"
    },
    {
     "data": {
      "text/plain": [
       "(2000, 11)"
      ]
     },
     "metadata": {},
     "output_type": "display_data"
    },
    {
     "data": {
      "text/plain": [
       "(2000,)"
      ]
     },
     "metadata": {},
     "output_type": "display_data"
    }
   ],
   "source": [
    "# Выведим для проверки, что все разделилось в соотношение 3:1:1\n",
    "display(feature_train.shape, target_train.shape)\n",
    "display(feature_test.shape, target_test.shape)\n",
    "display(feature_valid.shape, target_valid.shape)"
   ]
  },
  {
   "cell_type": "markdown",
   "id": "67a07bf8",
   "metadata": {},
   "source": [
    "### 1.3 Масштабируем данные в некоторых колонках, чтобы избежать ловушки с большим разбросом значений, поэтому приведем все к одному признаку"
   ]
  },
  {
   "cell_type": "code",
   "execution_count": 20,
   "id": "bebc2f67",
   "metadata": {},
   "outputs": [
    {
     "name": "stderr",
     "output_type": "stream",
     "text": [
      "/Users/mmaximmaximovgmail.com/opt/anaconda3/lib/python3.9/site-packages/pandas/core/frame.py:3678: SettingWithCopyWarning: \n",
      "A value is trying to be set on a copy of a slice from a DataFrame.\n",
      "Try using .loc[row_indexer,col_indexer] = value instead\n",
      "\n",
      "See the caveats in the documentation: https://pandas.pydata.org/pandas-docs/stable/user_guide/indexing.html#returning-a-view-versus-a-copy\n",
      "  self[col] = igetitem(value, i)\n"
     ]
    },
    {
     "data": {
      "text/html": [
       "<div>\n",
       "<style scoped>\n",
       "    .dataframe tbody tr th:only-of-type {\n",
       "        vertical-align: middle;\n",
       "    }\n",
       "\n",
       "    .dataframe tbody tr th {\n",
       "        vertical-align: top;\n",
       "    }\n",
       "\n",
       "    .dataframe thead th {\n",
       "        text-align: right;\n",
       "    }\n",
       "</style>\n",
       "<table border=\"1\" class=\"dataframe\">\n",
       "  <thead>\n",
       "    <tr style=\"text-align: right;\">\n",
       "      <th></th>\n",
       "      <th>CreditScore</th>\n",
       "      <th>Age</th>\n",
       "      <th>Tenure</th>\n",
       "      <th>Balance</th>\n",
       "      <th>NumOfProducts</th>\n",
       "      <th>HasCrCard</th>\n",
       "      <th>IsActiveMember</th>\n",
       "      <th>EstimatedSalary</th>\n",
       "      <th>Geography_Germany</th>\n",
       "      <th>Geography_Spain</th>\n",
       "      <th>Gender_Male</th>\n",
       "    </tr>\n",
       "  </thead>\n",
       "  <tbody>\n",
       "    <tr>\n",
       "      <th>8517</th>\n",
       "      <td>0.369812</td>\n",
       "      <td>-1.796742</td>\n",
       "      <td>1.083651</td>\n",
       "      <td>0.982515</td>\n",
       "      <td>0.830152</td>\n",
       "      <td>1</td>\n",
       "      <td>1</td>\n",
       "      <td>1.698754</td>\n",
       "      <td>0</td>\n",
       "      <td>0</td>\n",
       "      <td>1</td>\n",
       "    </tr>\n",
       "    <tr>\n",
       "      <th>569</th>\n",
       "      <td>1.127903</td>\n",
       "      <td>-0.752805</td>\n",
       "      <td>0.776349</td>\n",
       "      <td>-1.233163</td>\n",
       "      <td>2.551864</td>\n",
       "      <td>1</td>\n",
       "      <td>1</td>\n",
       "      <td>1.163860</td>\n",
       "      <td>0</td>\n",
       "      <td>0</td>\n",
       "      <td>1</td>\n",
       "    </tr>\n",
       "  </tbody>\n",
       "</table>\n",
       "</div>"
      ],
      "text/plain": [
       "      CreditScore       Age    Tenure   Balance  NumOfProducts  HasCrCard  \\\n",
       "8517     0.369812 -1.796742  1.083651  0.982515       0.830152          1   \n",
       "569      1.127903 -0.752805  0.776349 -1.233163       2.551864          1   \n",
       "\n",
       "      IsActiveMember  EstimatedSalary  Geography_Germany  Geography_Spain  \\\n",
       "8517               1         1.698754                  0                0   \n",
       "569                1         1.163860                  0                0   \n",
       "\n",
       "      Gender_Male  \n",
       "8517            1  \n",
       "569             1  "
      ]
     },
     "metadata": {},
     "output_type": "display_data"
    },
    {
     "data": {
      "text/plain": [
       "'Обучающая'"
      ]
     },
     "metadata": {},
     "output_type": "display_data"
    },
    {
     "data": {
      "text/html": [
       "<div>\n",
       "<style scoped>\n",
       "    .dataframe tbody tr th:only-of-type {\n",
       "        vertical-align: middle;\n",
       "    }\n",
       "\n",
       "    .dataframe tbody tr th {\n",
       "        vertical-align: top;\n",
       "    }\n",
       "\n",
       "    .dataframe thead th {\n",
       "        text-align: right;\n",
       "    }\n",
       "</style>\n",
       "<table border=\"1\" class=\"dataframe\">\n",
       "  <thead>\n",
       "    <tr style=\"text-align: right;\">\n",
       "      <th></th>\n",
       "      <th>CreditScore</th>\n",
       "      <th>Age</th>\n",
       "      <th>Tenure</th>\n",
       "      <th>Balance</th>\n",
       "      <th>NumOfProducts</th>\n",
       "      <th>HasCrCard</th>\n",
       "      <th>IsActiveMember</th>\n",
       "      <th>EstimatedSalary</th>\n",
       "      <th>Geography_Germany</th>\n",
       "      <th>Geography_Spain</th>\n",
       "      <th>Gender_Male</th>\n",
       "    </tr>\n",
       "  </thead>\n",
       "  <tbody>\n",
       "    <tr>\n",
       "      <th>7858</th>\n",
       "      <td>-0.928290</td>\n",
       "      <td>-1.606935</td>\n",
       "      <td>-0.452862</td>\n",
       "      <td>0.981849</td>\n",
       "      <td>-0.891560</td>\n",
       "      <td>0</td>\n",
       "      <td>1</td>\n",
       "      <td>-1.622890</td>\n",
       "      <td>0</td>\n",
       "      <td>0</td>\n",
       "      <td>1</td>\n",
       "    </tr>\n",
       "    <tr>\n",
       "      <th>6189</th>\n",
       "      <td>0.639817</td>\n",
       "      <td>0.006422</td>\n",
       "      <td>-0.452862</td>\n",
       "      <td>1.179944</td>\n",
       "      <td>0.830152</td>\n",
       "      <td>1</td>\n",
       "      <td>0</td>\n",
       "      <td>-0.617439</td>\n",
       "      <td>1</td>\n",
       "      <td>0</td>\n",
       "      <td>1</td>\n",
       "    </tr>\n",
       "  </tbody>\n",
       "</table>\n",
       "</div>"
      ],
      "text/plain": [
       "      CreditScore       Age    Tenure   Balance  NumOfProducts  HasCrCard  \\\n",
       "7858    -0.928290 -1.606935 -0.452862  0.981849      -0.891560          0   \n",
       "6189     0.639817  0.006422 -0.452862  1.179944       0.830152          1   \n",
       "\n",
       "      IsActiveMember  EstimatedSalary  Geography_Germany  Geography_Spain  \\\n",
       "7858               1        -1.622890                  0                0   \n",
       "6189               0        -0.617439                  1                0   \n",
       "\n",
       "      Gender_Male  \n",
       "7858            1  \n",
       "6189            1  "
      ]
     },
     "metadata": {},
     "output_type": "display_data"
    },
    {
     "data": {
      "text/plain": [
       "'Валидационная'"
      ]
     },
     "metadata": {},
     "output_type": "display_data"
    },
    {
     "data": {
      "text/html": [
       "<div>\n",
       "<style scoped>\n",
       "    .dataframe tbody tr th:only-of-type {\n",
       "        vertical-align: middle;\n",
       "    }\n",
       "\n",
       "    .dataframe tbody tr th {\n",
       "        vertical-align: top;\n",
       "    }\n",
       "\n",
       "    .dataframe thead th {\n",
       "        text-align: right;\n",
       "    }\n",
       "</style>\n",
       "<table border=\"1\" class=\"dataframe\">\n",
       "  <thead>\n",
       "    <tr style=\"text-align: right;\">\n",
       "      <th></th>\n",
       "      <th>CreditScore</th>\n",
       "      <th>Age</th>\n",
       "      <th>Tenure</th>\n",
       "      <th>Balance</th>\n",
       "      <th>NumOfProducts</th>\n",
       "      <th>HasCrCard</th>\n",
       "      <th>IsActiveMember</th>\n",
       "      <th>EstimatedSalary</th>\n",
       "      <th>Geography_Germany</th>\n",
       "      <th>Geography_Spain</th>\n",
       "      <th>Gender_Male</th>\n",
       "    </tr>\n",
       "  </thead>\n",
       "  <tbody>\n",
       "    <tr>\n",
       "      <th>3223</th>\n",
       "      <td>1.283676</td>\n",
       "      <td>0.006422</td>\n",
       "      <td>-0.760164</td>\n",
       "      <td>0.446806</td>\n",
       "      <td>-0.89156</td>\n",
       "      <td>0</td>\n",
       "      <td>0</td>\n",
       "      <td>-0.346279</td>\n",
       "      <td>0</td>\n",
       "      <td>1</td>\n",
       "      <td>1</td>\n",
       "    </tr>\n",
       "    <tr>\n",
       "      <th>8303</th>\n",
       "      <td>-1.364452</td>\n",
       "      <td>0.386035</td>\n",
       "      <td>-1.682072</td>\n",
       "      <td>-1.233163</td>\n",
       "      <td>-0.89156</td>\n",
       "      <td>1</td>\n",
       "      <td>1</td>\n",
       "      <td>-0.109405</td>\n",
       "      <td>0</td>\n",
       "      <td>0</td>\n",
       "      <td>1</td>\n",
       "    </tr>\n",
       "  </tbody>\n",
       "</table>\n",
       "</div>"
      ],
      "text/plain": [
       "      CreditScore       Age    Tenure   Balance  NumOfProducts  HasCrCard  \\\n",
       "3223     1.283676  0.006422 -0.760164  0.446806       -0.89156          0   \n",
       "8303    -1.364452  0.386035 -1.682072 -1.233163       -0.89156          1   \n",
       "\n",
       "      IsActiveMember  EstimatedSalary  Geography_Germany  Geography_Spain  \\\n",
       "3223               0        -0.346279                  0                1   \n",
       "8303               1        -0.109405                  0                0   \n",
       "\n",
       "      Gender_Male  \n",
       "3223            1  \n",
       "8303            1  "
      ]
     },
     "metadata": {},
     "output_type": "display_data"
    },
    {
     "data": {
      "text/plain": [
       "'Тестовая'"
      ]
     },
     "metadata": {},
     "output_type": "display_data"
    }
   ],
   "source": [
    "# Для масштабирывания я выбрал 6 колонок, так как они имеют большие значения и для того, чтоб не было проблем,\n",
    "# я сейчас обработаю их\n",
    "# P.S Делаю по примеру из задания `Масштабирование признаков`\n",
    "\n",
    "numeric = ['CreditScore', 'Age', 'Tenure', 'Balance', 'NumOfProducts', 'EstimatedSalary']\n",
    "scaler = StandardScaler()\n",
    "scaler.fit(feature_train[numeric])\n",
    "feature_train[numeric] = scaler.transform(feature_train[numeric])\n",
    "feature_valid[numeric] = scaler.transform(feature_valid[numeric])\n",
    "feature_test[numeric] = scaler.transform(feature_test[numeric])\n",
    "\n",
    "display(feature_train.sample(2), 'Обучающая')\n",
    "display(feature_valid.sample(2), 'Валидационная')\n",
    "display(feature_test.sample(2), 'Тестовая')"
   ]
  },
  {
   "cell_type": "markdown",
   "id": "750ce7c3",
   "metadata": {},
   "source": [
    "# 2 Исследование задачи"
   ]
  },
  {
   "cell_type": "code",
   "execution_count": 21,
   "id": "01b6d582",
   "metadata": {},
   "outputs": [
    {
     "name": "stderr",
     "output_type": "stream",
     "text": [
      "\r",
      "  0%|                                                    | 0/13 [00:00<?, ?it/s]"
     ]
    },
    {
     "name": "stdout",
     "output_type": "stream",
     "text": [
      "Глубина дереа: 1 Точность: 0.7885\n",
      "Глубина дереа: 2 Точность: 0.817\n",
      "Глубина дереа: 3 Точность: 0.83\n",
      "Глубина дереа: 4 Точность: 0.832\n",
      "Глубина дереа: 5 Точность: 0.842\n",
      "Глубина дереа: 6 Точность: 0.848\n",
      "Глубина дереа: 7 Точность: 0.8365\n",
      "Глубина дереа: 8 Точность: 0.835\n"
     ]
    },
    {
     "name": "stderr",
     "output_type": "stream",
     "text": [
      "\r",
      " 69%|██████████████████████████████▍             | 9/13 [00:00<00:00, 87.82it/s]"
     ]
    },
    {
     "name": "stdout",
     "output_type": "stream",
     "text": [
      "Глубина дереа: 9 Точность: 0.828\n"
     ]
    },
    {
     "name": "stderr",
     "output_type": "stream",
     "text": [
      "\r",
      "100%|███████████████████████████████████████████| 13/13 [00:00<00:00, 71.85it/s]"
     ]
    },
    {
     "name": "stdout",
     "output_type": "stream",
     "text": [
      "Глубина дереа: 10 Точность: 0.832\n",
      "Глубина дереа: 11 Точность: 0.8125\n",
      "Глубина дереа: 12 Точность: 0.8095\n",
      "Глубина дереа: 13 Точность: 0.81\n",
      "Подходящая глубина : 6 Подходящая точность: 0.848\n",
      "f1-мера : 0.503916449086162\n",
      "[[1427  150]\n",
      " [ 230  193]]\n"
     ]
    },
    {
     "name": "stderr",
     "output_type": "stream",
     "text": [
      "\n"
     ]
    }
   ],
   "source": [
    "# Начнем с модели дерева\n",
    "best_model = None\n",
    "best_result = 0\n",
    "for depth in tqdm(range(1, 14)):\n",
    "    model = DecisionTreeClassifier(random_state=12345, max_depth=depth)\n",
    "    model.fit(feature_train, target_train)\n",
    "    prediction = model.predict(feature_valid)\n",
    "    result = accuracy_score(target_valid, prediction)\n",
    "    print('Глубина дереа:', depth, 'Точность:', result)\n",
    "    if result > best_result:\n",
    "        best_model=depth\n",
    "        best_result=result\n",
    "        \n",
    "print('Подходящая глубина :', best_model, 'Подходящая точность:', best_result)\n",
    "print('f1-мера :', f1_score(target_valid, prediction))\n",
    "print(confusion_matrix(target_valid, prediction))"
   ]
  },
  {
   "cell_type": "code",
   "execution_count": 22,
   "id": "2870783b",
   "metadata": {},
   "outputs": [
    {
     "name": "stderr",
     "output_type": "stream",
     "text": [
      "1200it [00:48, 24.52it/s]"
     ]
    },
    {
     "name": "stdout",
     "output_type": "stream",
     "text": [
      "Score of best model 0.8515\n",
      "\n",
      "Params:\n",
      "max_depth = 14\n",
      "n_estimators = 20\n",
      "min_samples_leaf = 1\n",
      "f1-мера : 0.5246913580246915\n",
      "[[1522   55]\n",
      " [ 253  170]]\n"
     ]
    },
    {
     "name": "stderr",
     "output_type": "stream",
     "text": [
      "\n"
     ]
    }
   ],
   "source": [
    "# Модель случайного леса\n",
    "import itertools\n",
    "import numpy as np\n",
    "\n",
    "best_params = None\n",
    "best_result = 0\n",
    "\n",
    "for params in tqdm(itertools.product(range(1, 16), range(1, 21), range(1, 5))):\n",
    "    depth, est, min_s_l = params\n",
    "    model = RandomForestClassifier(random_state=12345, max_depth=depth, n_estimators=est, min_samples_leaf=min_s_l)\n",
    "    model.fit(feature_train, target_train)\n",
    "    result = model.score(feature_valid, target_valid)\n",
    "    prediction = model.predict(feature_valid)\n",
    "    if result > best_result:\n",
    "        best_params = params\n",
    "        best_result = result\n",
    "        \n",
    "print(f'Score of best model {np.round(best_result, 5)}')\n",
    "print(f'\\nParams:\\nmax_depth = {best_params[0]}\\nn_estimators = {best_params[1]}\\nmin_samples_leaf = {best_params[2]}')\n",
    "print('f1-мера :', f1_score(target_valid, prediction))\n",
    "print(confusion_matrix(target_valid, prediction))"
   ]
  },
  {
   "cell_type": "code",
   "execution_count": 23,
   "id": "1eb8f1bb",
   "metadata": {},
   "outputs": [
    {
     "name": "stdout",
     "output_type": "stream",
     "text": [
      "Accuracy: 0.7915\n",
      "f1-мера : 0.27478260869565213\n",
      "[[1504   73]\n",
      " [ 344   79]]\n"
     ]
    }
   ],
   "source": [
    "# Модель логистической регрессии\n",
    "model = LogisticRegression(solver='liblinear', random_state=12345)\n",
    "model.fit(feature_train, target_train)\n",
    "result = model.score(feature_valid, target_valid)\n",
    "prediction = model.predict(feature_valid)\n",
    "print('Accuracy:', result)\n",
    "print('f1-мера :', f1_score(target_valid, prediction))\n",
    "print(confusion_matrix(target_valid, prediction))"
   ]
  },
  {
   "cell_type": "markdown",
   "id": "4321191a",
   "metadata": {},
   "source": [
    "### Мини вывод 2 шагу\n",
    "- Низкий показатель f1 показывает о низком качестве модели\n",
    "- Матрица неточностей показывает высокое FP показание, что не очень хорошо(модель думает об одном а ответ другой)"
   ]
  },
  {
   "cell_type": "markdown",
   "id": "37d97d3a",
   "metadata": {},
   "source": [
    "# 3 Борьба с дисбалансом"
   ]
  },
  {
   "cell_type": "markdown",
   "id": "e2fe3c20",
   "metadata": {},
   "source": [
    "### 3.1 Начнем с Upsample + перемешаем данные"
   ]
  },
  {
   "cell_type": "code",
   "execution_count": 24,
   "id": "72c4edcc",
   "metadata": {},
   "outputs": [
    {
     "name": "stdout",
     "output_type": "stream",
     "text": [
      "(9588, 11)\n",
      "(9588,)\n",
      "F1 : 0.6019900497512438\n"
     ]
    }
   ],
   "source": [
    "def upsample(feature, target, repeat):\n",
    "    feature_zeros = feature[target == 0]\n",
    "    feature_ones = feature[target == 1]\n",
    "    target_zeros = target[target == 0]\n",
    "    target_ones = target[target == 1]\n",
    "    feature_upsampled = pd.concat(\n",
    "        [feature_zeros]+[feature_ones] * repeat)\n",
    "    target_upsampled = pd.concat(\n",
    "        [target_zeros]+[target_ones] * repeat)\n",
    "    feature_upsampled, target_upsampled = shuffle(feature_upsampled, target_upsampled, random_state=12345)\n",
    "    return feature_upsampled, target_upsampled\n",
    "feature_upsampled, target_upsampled = upsample(feature_train, target_train, 4)\n",
    "print(feature_upsampled.shape)\n",
    "print(target_upsampled.shape)\n",
    "\n",
    "model = RandomForestClassifier(random_state=12345, max_depth=14)\n",
    "model.fit(feature_upsampled, target_upsampled)\n",
    "predicted_valid = model.predict(feature_valid)\n",
    "print('F1 :', f1_score(target_valid, predicted_valid))"
   ]
  },
  {
   "cell_type": "markdown",
   "id": "5b332d7b",
   "metadata": {},
   "source": [
    "### 3.2 Закончим с downsample + пермешаем"
   ]
  },
  {
   "cell_type": "code",
   "execution_count": 25,
   "id": "2be2c6e3",
   "metadata": {},
   "outputs": [
    {
     "name": "stdout",
     "output_type": "stream",
     "text": [
      "(3598, 11)\n",
      "(3598,)\n",
      "F1 : 0.6051660516605165\n"
     ]
    }
   ],
   "source": [
    "def downsample(feature, target, fraction):\n",
    "    feature_zeros = feature[target == 0]\n",
    "    feature_ones = feature[target == 1]\n",
    "    target_zeros = target[target == 0]\n",
    "    target_ones = target[target == 1]\n",
    "\n",
    "    feature_downsampled = pd.concat(\n",
    "        [feature_zeros.sample(frac=fraction, random_state=12345)] + [feature_ones])\n",
    "    target_downsampled = pd.concat(\n",
    "        [target_zeros.sample(frac=fraction, random_state=12345)] + [target_ones])\n",
    "    \n",
    "    feature_downsampled, target_downsampled = shuffle(\n",
    "        feature_downsampled, target_downsampled, random_state=12345)\n",
    "    \n",
    "    return feature_downsampled, target_downsampled\n",
    "feature_downsampled, target_downsampled = downsample(feature_train, target_train, 0.5)\n",
    "print(feature_downsampled.shape)\n",
    "print(target_downsampled.shape)\n",
    "\n",
    "model = RandomForestClassifier(random_state=12345, max_depth=14)\n",
    "model.fit(feature_downsampled, target_downsampled)\n",
    "predicted_valid = model.predict(feature_valid)\n",
    "print('F1 :', f1_score(target_valid, predicted_valid))"
   ]
  },
  {
   "cell_type": "markdown",
   "id": "b9ac6b3a",
   "metadata": {},
   "source": [
    "# 4 Тестирование модели"
   ]
  },
  {
   "cell_type": "code",
   "execution_count": 26,
   "id": "4e9c4156",
   "metadata": {
    "scrolled": true
   },
   "outputs": [
    {
     "name": "stdout",
     "output_type": "stream",
     "text": [
      "Тестовая выборка: 0.8415\n",
      "F1 : 0.6138855054811206\n"
     ]
    }
   ],
   "source": [
    "test_predictions = model.predict(feature_test)\n",
    "print('Тестовая выборка:', accuracy_score(target_test, test_predictions))\n",
    "print('F1 :', f1_score(target_test, test_predictions))"
   ]
  },
  {
   "cell_type": "markdown",
   "id": "5f2caf82",
   "metadata": {},
   "source": [
    "# 5 Итоговый вывод\n",
    "- Описал и оформил описание проекта, план действий, описание данных в таблице и начал выполнять поэтапно план\n",
    "- Сначала испортировал библиотеки для анализа данных и работы с ними\n",
    "- Посмотрел таблице, тип, среднее/медианное/минимальное значение, кол-во дубликатов\n",
    "\n",
    "        Дальше пошло интересней\n",
    "- Убрали 3 не нужных колонок в таблице, так как они не несут никакой информации для анализа\n",
    "- Добавили в колонку `Tenure` на все пустые значения -1, чтобы не помешало при анализе\n",
    "- Преобразовал колонки техникой `OHE` и `drop_first`\n",
    "- Разбили данные выборки в соотношение 3:1:1 (обущающая, валидационная, тестова), перепроверили, что верно разбили\n",
    "- Масштобировали 6 колонок из таблицы ( более подробно описал в шаге 1.3)\n",
    "- Исследовали 3 модели: Дерево, случайный лес, логистическая регрессия\n",
    "- Высокий показатель F1 в модели показал случайный лес со значением 0.525, худшим логистическая регрессия \n",
    "- НО матреца неточностей показало высокое показание FP, что не очень хорошо\n",
    "- Побороли дисбаланас с помощью `upsample`  `downsample` и перемешиванием \n",
    "- Благодаря случайному лесу в дисбалансе, F1-мера показало отличный результат: `0.602`  `0.605`\n",
    "- И в тестировании модели по лучшиму показателю я взял тот же самый случайный лес"
   ]
  }
 ],
 "metadata": {
  "kernelspec": {
   "display_name": "Python 3 (ipykernel)",
   "language": "python",
   "name": "python3"
  },
  "language_info": {
   "codemirror_mode": {
    "name": "ipython",
    "version": 3
   },
   "file_extension": ".py",
   "mimetype": "text/x-python",
   "name": "python",
   "nbconvert_exporter": "python",
   "pygments_lexer": "ipython3",
   "version": "3.9.7"
  },
  "toc": {
   "base_numbering": 1,
   "nav_menu": {},
   "number_sections": true,
   "sideBar": true,
   "skip_h1_title": true,
   "title_cell": "Table of Contents",
   "title_sidebar": "Contents",
   "toc_cell": false,
   "toc_position": {},
   "toc_section_display": true,
   "toc_window_display": false
  }
 },
 "nbformat": 4,
 "nbformat_minor": 5
}
