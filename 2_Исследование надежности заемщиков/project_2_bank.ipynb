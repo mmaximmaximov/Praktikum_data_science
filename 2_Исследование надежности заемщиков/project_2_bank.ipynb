{
 "cells": [
  {
   "cell_type": "markdown",
   "id": "5c6e9022",
   "metadata": {},
   "source": [
    "# Исследование надежности заемщиков.\n",
    "\n",
    "Заказчик — кредитный отдел банка. Нужно разобраться, влияет ли семейное положение и количество детей клиента на факт погашения кредита в срок. Входные данные от банка — статистика о платёжеспособности клиентов.\n",
    "\n",
    "Результаты исследования будут учтены при построении модели кредитного скоринга — специальной системы, которая оценивает способность потенциального заёмщика вернуть кредит банку."
   ]
  },
  {
   "cell_type": "markdown",
   "id": "72c53a2d",
   "metadata": {},
   "source": [
    "### Шаг 1. Обзор данных\n",
    "\n",
    "В двух столбцах есть пропущенные значения. Один из них — days_employed. Пропуски в этом столбце вы обработаете на следующем этапе. Найдите другой столбец и заполните пропущенные значения в нём медианным значением по столбцу:\n",
    "опишите, какие пропущенные значения вы обнаружили;\n",
    "проверьте, какую долю составляют пропущенные значения в каждом из столбцов с пропусками;\n",
    "приведите возможные причины появления пропусков в данных;\n",
    "объясните, почему заполнить пропуски медианным значением — лучшее решение для количественных переменных."
   ]
  },
  {
   "cell_type": "markdown",
   "id": "b8378935",
   "metadata": {},
   "source": [
    "1. На первом этапе работы я импортировал библиотеку **pandas** и сократил как **pd** для удобства. \n",
    "2. Далее создал переменую **data** в которую я присвоил код с путем к нашей `CSV` таблице.\n",
    "3. В конце выводим на экран первые 15 строк таблицы"
   ]
  },
  {
   "cell_type": "code",
   "execution_count": 1,
   "id": "9df5004c",
   "metadata": {},
   "outputs": [
    {
     "data": {
      "text/html": [
       "<div>\n",
       "<style scoped>\n",
       "    .dataframe tbody tr th:only-of-type {\n",
       "        vertical-align: middle;\n",
       "    }\n",
       "\n",
       "    .dataframe tbody tr th {\n",
       "        vertical-align: top;\n",
       "    }\n",
       "\n",
       "    .dataframe thead th {\n",
       "        text-align: right;\n",
       "    }\n",
       "</style>\n",
       "<table border=\"1\" class=\"dataframe\">\n",
       "  <thead>\n",
       "    <tr style=\"text-align: right;\">\n",
       "      <th></th>\n",
       "      <th>children</th>\n",
       "      <th>days_employed</th>\n",
       "      <th>dob_years</th>\n",
       "      <th>education</th>\n",
       "      <th>education_id</th>\n",
       "      <th>family_status</th>\n",
       "      <th>family_status_id</th>\n",
       "      <th>gender</th>\n",
       "      <th>income_type</th>\n",
       "      <th>debt</th>\n",
       "      <th>total_income</th>\n",
       "      <th>purpose</th>\n",
       "    </tr>\n",
       "  </thead>\n",
       "  <tbody>\n",
       "    <tr>\n",
       "      <th>0</th>\n",
       "      <td>1</td>\n",
       "      <td>-8437.673028</td>\n",
       "      <td>42</td>\n",
       "      <td>высшее</td>\n",
       "      <td>0</td>\n",
       "      <td>женат / замужем</td>\n",
       "      <td>0</td>\n",
       "      <td>F</td>\n",
       "      <td>сотрудник</td>\n",
       "      <td>0</td>\n",
       "      <td>253875.639453</td>\n",
       "      <td>покупка жилья</td>\n",
       "    </tr>\n",
       "    <tr>\n",
       "      <th>1</th>\n",
       "      <td>1</td>\n",
       "      <td>-4024.803754</td>\n",
       "      <td>36</td>\n",
       "      <td>среднее</td>\n",
       "      <td>1</td>\n",
       "      <td>женат / замужем</td>\n",
       "      <td>0</td>\n",
       "      <td>F</td>\n",
       "      <td>сотрудник</td>\n",
       "      <td>0</td>\n",
       "      <td>112080.014102</td>\n",
       "      <td>приобретение автомобиля</td>\n",
       "    </tr>\n",
       "    <tr>\n",
       "      <th>2</th>\n",
       "      <td>0</td>\n",
       "      <td>-5623.422610</td>\n",
       "      <td>33</td>\n",
       "      <td>Среднее</td>\n",
       "      <td>1</td>\n",
       "      <td>женат / замужем</td>\n",
       "      <td>0</td>\n",
       "      <td>M</td>\n",
       "      <td>сотрудник</td>\n",
       "      <td>0</td>\n",
       "      <td>145885.952297</td>\n",
       "      <td>покупка жилья</td>\n",
       "    </tr>\n",
       "    <tr>\n",
       "      <th>3</th>\n",
       "      <td>3</td>\n",
       "      <td>-4124.747207</td>\n",
       "      <td>32</td>\n",
       "      <td>среднее</td>\n",
       "      <td>1</td>\n",
       "      <td>женат / замужем</td>\n",
       "      <td>0</td>\n",
       "      <td>M</td>\n",
       "      <td>сотрудник</td>\n",
       "      <td>0</td>\n",
       "      <td>267628.550329</td>\n",
       "      <td>дополнительное образование</td>\n",
       "    </tr>\n",
       "    <tr>\n",
       "      <th>4</th>\n",
       "      <td>0</td>\n",
       "      <td>340266.072047</td>\n",
       "      <td>53</td>\n",
       "      <td>среднее</td>\n",
       "      <td>1</td>\n",
       "      <td>гражданский брак</td>\n",
       "      <td>1</td>\n",
       "      <td>F</td>\n",
       "      <td>пенсионер</td>\n",
       "      <td>0</td>\n",
       "      <td>158616.077870</td>\n",
       "      <td>сыграть свадьбу</td>\n",
       "    </tr>\n",
       "    <tr>\n",
       "      <th>5</th>\n",
       "      <td>0</td>\n",
       "      <td>-926.185831</td>\n",
       "      <td>27</td>\n",
       "      <td>высшее</td>\n",
       "      <td>0</td>\n",
       "      <td>гражданский брак</td>\n",
       "      <td>1</td>\n",
       "      <td>M</td>\n",
       "      <td>компаньон</td>\n",
       "      <td>0</td>\n",
       "      <td>255763.565419</td>\n",
       "      <td>покупка жилья</td>\n",
       "    </tr>\n",
       "    <tr>\n",
       "      <th>6</th>\n",
       "      <td>0</td>\n",
       "      <td>-2879.202052</td>\n",
       "      <td>43</td>\n",
       "      <td>высшее</td>\n",
       "      <td>0</td>\n",
       "      <td>женат / замужем</td>\n",
       "      <td>0</td>\n",
       "      <td>F</td>\n",
       "      <td>компаньон</td>\n",
       "      <td>0</td>\n",
       "      <td>240525.971920</td>\n",
       "      <td>операции с жильем</td>\n",
       "    </tr>\n",
       "    <tr>\n",
       "      <th>7</th>\n",
       "      <td>0</td>\n",
       "      <td>-152.779569</td>\n",
       "      <td>50</td>\n",
       "      <td>СРЕДНЕЕ</td>\n",
       "      <td>1</td>\n",
       "      <td>женат / замужем</td>\n",
       "      <td>0</td>\n",
       "      <td>M</td>\n",
       "      <td>сотрудник</td>\n",
       "      <td>0</td>\n",
       "      <td>135823.934197</td>\n",
       "      <td>образование</td>\n",
       "    </tr>\n",
       "    <tr>\n",
       "      <th>8</th>\n",
       "      <td>2</td>\n",
       "      <td>-6929.865299</td>\n",
       "      <td>35</td>\n",
       "      <td>ВЫСШЕЕ</td>\n",
       "      <td>0</td>\n",
       "      <td>гражданский брак</td>\n",
       "      <td>1</td>\n",
       "      <td>F</td>\n",
       "      <td>сотрудник</td>\n",
       "      <td>0</td>\n",
       "      <td>95856.832424</td>\n",
       "      <td>на проведение свадьбы</td>\n",
       "    </tr>\n",
       "    <tr>\n",
       "      <th>9</th>\n",
       "      <td>0</td>\n",
       "      <td>-2188.756445</td>\n",
       "      <td>41</td>\n",
       "      <td>среднее</td>\n",
       "      <td>1</td>\n",
       "      <td>женат / замужем</td>\n",
       "      <td>0</td>\n",
       "      <td>M</td>\n",
       "      <td>сотрудник</td>\n",
       "      <td>0</td>\n",
       "      <td>144425.938277</td>\n",
       "      <td>покупка жилья для семьи</td>\n",
       "    </tr>\n",
       "    <tr>\n",
       "      <th>10</th>\n",
       "      <td>2</td>\n",
       "      <td>-4171.483647</td>\n",
       "      <td>36</td>\n",
       "      <td>высшее</td>\n",
       "      <td>0</td>\n",
       "      <td>женат / замужем</td>\n",
       "      <td>0</td>\n",
       "      <td>M</td>\n",
       "      <td>компаньон</td>\n",
       "      <td>0</td>\n",
       "      <td>113943.491460</td>\n",
       "      <td>покупка недвижимости</td>\n",
       "    </tr>\n",
       "    <tr>\n",
       "      <th>11</th>\n",
       "      <td>0</td>\n",
       "      <td>-792.701887</td>\n",
       "      <td>40</td>\n",
       "      <td>среднее</td>\n",
       "      <td>1</td>\n",
       "      <td>женат / замужем</td>\n",
       "      <td>0</td>\n",
       "      <td>F</td>\n",
       "      <td>сотрудник</td>\n",
       "      <td>0</td>\n",
       "      <td>77069.234271</td>\n",
       "      <td>покупка коммерческой недвижимости</td>\n",
       "    </tr>\n",
       "    <tr>\n",
       "      <th>12</th>\n",
       "      <td>0</td>\n",
       "      <td>NaN</td>\n",
       "      <td>65</td>\n",
       "      <td>среднее</td>\n",
       "      <td>1</td>\n",
       "      <td>гражданский брак</td>\n",
       "      <td>1</td>\n",
       "      <td>M</td>\n",
       "      <td>пенсионер</td>\n",
       "      <td>0</td>\n",
       "      <td>NaN</td>\n",
       "      <td>сыграть свадьбу</td>\n",
       "    </tr>\n",
       "    <tr>\n",
       "      <th>13</th>\n",
       "      <td>0</td>\n",
       "      <td>-1846.641941</td>\n",
       "      <td>54</td>\n",
       "      <td>неоконченное высшее</td>\n",
       "      <td>2</td>\n",
       "      <td>женат / замужем</td>\n",
       "      <td>0</td>\n",
       "      <td>F</td>\n",
       "      <td>сотрудник</td>\n",
       "      <td>0</td>\n",
       "      <td>130458.228857</td>\n",
       "      <td>приобретение автомобиля</td>\n",
       "    </tr>\n",
       "    <tr>\n",
       "      <th>14</th>\n",
       "      <td>0</td>\n",
       "      <td>-1844.956182</td>\n",
       "      <td>56</td>\n",
       "      <td>высшее</td>\n",
       "      <td>0</td>\n",
       "      <td>гражданский брак</td>\n",
       "      <td>1</td>\n",
       "      <td>F</td>\n",
       "      <td>компаньон</td>\n",
       "      <td>1</td>\n",
       "      <td>165127.911772</td>\n",
       "      <td>покупка жилой недвижимости</td>\n",
       "    </tr>\n",
       "  </tbody>\n",
       "</table>\n",
       "</div>"
      ],
      "text/plain": [
       "    children  days_employed  dob_years            education  education_id  \\\n",
       "0          1   -8437.673028         42               высшее             0   \n",
       "1          1   -4024.803754         36              среднее             1   \n",
       "2          0   -5623.422610         33              Среднее             1   \n",
       "3          3   -4124.747207         32              среднее             1   \n",
       "4          0  340266.072047         53              среднее             1   \n",
       "5          0    -926.185831         27               высшее             0   \n",
       "6          0   -2879.202052         43               высшее             0   \n",
       "7          0    -152.779569         50              СРЕДНЕЕ             1   \n",
       "8          2   -6929.865299         35               ВЫСШЕЕ             0   \n",
       "9          0   -2188.756445         41              среднее             1   \n",
       "10         2   -4171.483647         36               высшее             0   \n",
       "11         0    -792.701887         40              среднее             1   \n",
       "12         0            NaN         65              среднее             1   \n",
       "13         0   -1846.641941         54  неоконченное высшее             2   \n",
       "14         0   -1844.956182         56               высшее             0   \n",
       "\n",
       "       family_status  family_status_id gender income_type  debt  \\\n",
       "0    женат / замужем                 0      F   сотрудник     0   \n",
       "1    женат / замужем                 0      F   сотрудник     0   \n",
       "2    женат / замужем                 0      M   сотрудник     0   \n",
       "3    женат / замужем                 0      M   сотрудник     0   \n",
       "4   гражданский брак                 1      F   пенсионер     0   \n",
       "5   гражданский брак                 1      M   компаньон     0   \n",
       "6    женат / замужем                 0      F   компаньон     0   \n",
       "7    женат / замужем                 0      M   сотрудник     0   \n",
       "8   гражданский брак                 1      F   сотрудник     0   \n",
       "9    женат / замужем                 0      M   сотрудник     0   \n",
       "10   женат / замужем                 0      M   компаньон     0   \n",
       "11   женат / замужем                 0      F   сотрудник     0   \n",
       "12  гражданский брак                 1      M   пенсионер     0   \n",
       "13   женат / замужем                 0      F   сотрудник     0   \n",
       "14  гражданский брак                 1      F   компаньон     1   \n",
       "\n",
       "     total_income                            purpose  \n",
       "0   253875.639453                      покупка жилья  \n",
       "1   112080.014102            приобретение автомобиля  \n",
       "2   145885.952297                      покупка жилья  \n",
       "3   267628.550329         дополнительное образование  \n",
       "4   158616.077870                    сыграть свадьбу  \n",
       "5   255763.565419                      покупка жилья  \n",
       "6   240525.971920                  операции с жильем  \n",
       "7   135823.934197                        образование  \n",
       "8    95856.832424              на проведение свадьбы  \n",
       "9   144425.938277            покупка жилья для семьи  \n",
       "10  113943.491460               покупка недвижимости  \n",
       "11   77069.234271  покупка коммерческой недвижимости  \n",
       "12            NaN                    сыграть свадьбу  \n",
       "13  130458.228857            приобретение автомобиля  \n",
       "14  165127.911772         покупка жилой недвижимости  "
      ]
     },
     "execution_count": 1,
     "metadata": {},
     "output_type": "execute_result"
    }
   ],
   "source": [
    "import pandas as pd\n",
    "data = pd.read_csv('/Users/mmaximmaximovgmail.com/Desktop/DS/Project_2/data.csv')\n",
    "data.head(15)"
   ]
  },
  {
   "cell_type": "markdown",
   "id": "ddfba171",
   "metadata": {},
   "source": [
    "Получим общую информациб с помощью функции **info()** и **describe()**"
   ]
  },
  {
   "cell_type": "code",
   "execution_count": 2,
   "id": "27db19fb",
   "metadata": {},
   "outputs": [
    {
     "name": "stdout",
     "output_type": "stream",
     "text": [
      "<class 'pandas.core.frame.DataFrame'>\n",
      "RangeIndex: 21525 entries, 0 to 21524\n",
      "Data columns (total 12 columns):\n",
      " #   Column            Non-Null Count  Dtype  \n",
      "---  ------            --------------  -----  \n",
      " 0   children          21525 non-null  int64  \n",
      " 1   days_employed     19351 non-null  float64\n",
      " 2   dob_years         21525 non-null  int64  \n",
      " 3   education         21525 non-null  object \n",
      " 4   education_id      21525 non-null  int64  \n",
      " 5   family_status     21525 non-null  object \n",
      " 6   family_status_id  21525 non-null  int64  \n",
      " 7   gender            21525 non-null  object \n",
      " 8   income_type       21525 non-null  object \n",
      " 9   debt              21525 non-null  int64  \n",
      " 10  total_income      19351 non-null  float64\n",
      " 11  purpose           21525 non-null  object \n",
      "dtypes: float64(2), int64(5), object(5)\n",
      "memory usage: 2.0+ MB\n"
     ]
    }
   ],
   "source": [
    "data.info()"
   ]
  },
  {
   "cell_type": "markdown",
   "id": "4d84ff95",
   "metadata": {},
   "source": [
    "**Наблюдение**\n",
    "\n",
    "По первичному анализу видим, что в столбцах `days_employed` и `total_income` имеются одинаковые отклонения и тип данных\n",
    "\n",
    "По таблице видно лишние знаки - использован верхний регистр и ошибки в виде `NaN`"
   ]
  },
  {
   "cell_type": "code",
   "execution_count": 3,
   "id": "24474399",
   "metadata": {},
   "outputs": [
    {
     "data": {
      "text/html": [
       "<div>\n",
       "<style scoped>\n",
       "    .dataframe tbody tr th:only-of-type {\n",
       "        vertical-align: middle;\n",
       "    }\n",
       "\n",
       "    .dataframe tbody tr th {\n",
       "        vertical-align: top;\n",
       "    }\n",
       "\n",
       "    .dataframe thead th {\n",
       "        text-align: right;\n",
       "    }\n",
       "</style>\n",
       "<table border=\"1\" class=\"dataframe\">\n",
       "  <thead>\n",
       "    <tr style=\"text-align: right;\">\n",
       "      <th></th>\n",
       "      <th>children</th>\n",
       "      <th>days_employed</th>\n",
       "      <th>dob_years</th>\n",
       "      <th>education_id</th>\n",
       "      <th>family_status_id</th>\n",
       "      <th>debt</th>\n",
       "      <th>total_income</th>\n",
       "    </tr>\n",
       "  </thead>\n",
       "  <tbody>\n",
       "    <tr>\n",
       "      <th>count</th>\n",
       "      <td>21525.000000</td>\n",
       "      <td>19351.000000</td>\n",
       "      <td>21525.000000</td>\n",
       "      <td>21525.000000</td>\n",
       "      <td>21525.000000</td>\n",
       "      <td>21525.000000</td>\n",
       "      <td>1.935100e+04</td>\n",
       "    </tr>\n",
       "    <tr>\n",
       "      <th>mean</th>\n",
       "      <td>0.538908</td>\n",
       "      <td>63046.497661</td>\n",
       "      <td>43.293380</td>\n",
       "      <td>0.817236</td>\n",
       "      <td>0.972544</td>\n",
       "      <td>0.080883</td>\n",
       "      <td>1.674223e+05</td>\n",
       "    </tr>\n",
       "    <tr>\n",
       "      <th>std</th>\n",
       "      <td>1.381587</td>\n",
       "      <td>140827.311974</td>\n",
       "      <td>12.574584</td>\n",
       "      <td>0.548138</td>\n",
       "      <td>1.420324</td>\n",
       "      <td>0.272661</td>\n",
       "      <td>1.029716e+05</td>\n",
       "    </tr>\n",
       "    <tr>\n",
       "      <th>min</th>\n",
       "      <td>-1.000000</td>\n",
       "      <td>-18388.949901</td>\n",
       "      <td>0.000000</td>\n",
       "      <td>0.000000</td>\n",
       "      <td>0.000000</td>\n",
       "      <td>0.000000</td>\n",
       "      <td>2.066726e+04</td>\n",
       "    </tr>\n",
       "    <tr>\n",
       "      <th>25%</th>\n",
       "      <td>0.000000</td>\n",
       "      <td>-2747.423625</td>\n",
       "      <td>33.000000</td>\n",
       "      <td>1.000000</td>\n",
       "      <td>0.000000</td>\n",
       "      <td>0.000000</td>\n",
       "      <td>1.030532e+05</td>\n",
       "    </tr>\n",
       "    <tr>\n",
       "      <th>50%</th>\n",
       "      <td>0.000000</td>\n",
       "      <td>-1203.369529</td>\n",
       "      <td>42.000000</td>\n",
       "      <td>1.000000</td>\n",
       "      <td>0.000000</td>\n",
       "      <td>0.000000</td>\n",
       "      <td>1.450179e+05</td>\n",
       "    </tr>\n",
       "    <tr>\n",
       "      <th>75%</th>\n",
       "      <td>1.000000</td>\n",
       "      <td>-291.095954</td>\n",
       "      <td>53.000000</td>\n",
       "      <td>1.000000</td>\n",
       "      <td>1.000000</td>\n",
       "      <td>0.000000</td>\n",
       "      <td>2.034351e+05</td>\n",
       "    </tr>\n",
       "    <tr>\n",
       "      <th>max</th>\n",
       "      <td>20.000000</td>\n",
       "      <td>401755.400475</td>\n",
       "      <td>75.000000</td>\n",
       "      <td>4.000000</td>\n",
       "      <td>4.000000</td>\n",
       "      <td>1.000000</td>\n",
       "      <td>2.265604e+06</td>\n",
       "    </tr>\n",
       "  </tbody>\n",
       "</table>\n",
       "</div>"
      ],
      "text/plain": [
       "           children  days_employed     dob_years  education_id  \\\n",
       "count  21525.000000   19351.000000  21525.000000  21525.000000   \n",
       "mean       0.538908   63046.497661     43.293380      0.817236   \n",
       "std        1.381587  140827.311974     12.574584      0.548138   \n",
       "min       -1.000000  -18388.949901      0.000000      0.000000   \n",
       "25%        0.000000   -2747.423625     33.000000      1.000000   \n",
       "50%        0.000000   -1203.369529     42.000000      1.000000   \n",
       "75%        1.000000    -291.095954     53.000000      1.000000   \n",
       "max       20.000000  401755.400475     75.000000      4.000000   \n",
       "\n",
       "       family_status_id          debt  total_income  \n",
       "count      21525.000000  21525.000000  1.935100e+04  \n",
       "mean           0.972544      0.080883  1.674223e+05  \n",
       "std            1.420324      0.272661  1.029716e+05  \n",
       "min            0.000000      0.000000  2.066726e+04  \n",
       "25%            0.000000      0.000000  1.030532e+05  \n",
       "50%            0.000000      0.000000  1.450179e+05  \n",
       "75%            1.000000      0.000000  2.034351e+05  \n",
       "max            4.000000      1.000000  2.265604e+06  "
      ]
     },
     "execution_count": 3,
     "metadata": {},
     "output_type": "execute_result"
    }
   ],
   "source": [
    "data.describe()"
   ]
  },
  {
   "cell_type": "markdown",
   "id": "ae5cddb8",
   "metadata": {},
   "source": [
    "**Наблюдение**\n",
    "\n",
    "**По столбцу `children`:**\n",
    "1. Отрицательное значение в `min`, возможно при переносе данных остался минус.\n",
    "2. Странное максимальное значение в 20 детей, это возможно, но нужно будет проверить как часто данное число втречается и вожно там лишний 0.\n",
    "**По столбцу `days_employed`:**\n",
    "1. Первое, что бросается в глаза это знак **-**, это явная ошибка которую нужно в дальнейшем исрпавить для корректного анализа данных.\n",
    "2. Медианное значение равно 63046 дней или 175 лет, не думаю что у человека может быть такой трудовой стаж, возможно где-то опечатки\n",
    "**По столбцу `dob_years`:**\n",
    "Единственное, что бросается в глаза это минимальный возраст клиента и он составляет 0, возможно есть ошибка в данных"
   ]
  },
  {
   "cell_type": "markdown",
   "id": "903dcce8",
   "metadata": {},
   "source": [
    "Видим, что в двух столбцах, а именно `days_employed` и `total_income`, имеются пропуска и причем по таблице все это находится на одной строке"
   ]
  },
  {
   "cell_type": "markdown",
   "id": "05e92725",
   "metadata": {},
   "source": [
    "Теперь посмотрим из разных или одной професии у нас выходят ошибки по столбца `days_employed` и `days_employed`"
   ]
  },
  {
   "cell_type": "code",
   "execution_count": 4,
   "id": "53934406",
   "metadata": {},
   "outputs": [
    {
     "data": {
      "text/plain": [
       "сотрудник          1105\n",
       "компаньон           508\n",
       "пенсионер           413\n",
       "госслужащий         147\n",
       "предприниматель       1\n",
       "Name: income_type, dtype: int64"
      ]
     },
     "execution_count": 4,
     "metadata": {},
     "output_type": "execute_result"
    }
   ],
   "source": [
    "data[(data['days_employed'].isnull() == True) & (data['total_income'].isnull() == True)]['income_type'].value_counts()"
   ]
  },
  {
   "cell_type": "markdown",
   "id": "d548a162",
   "metadata": {},
   "source": [
    "Из разных профессий, значит нужно будет брать медианное значение их всех типов профессий. Теперь посмотрим некоторую информацию по столбцам `children` и `dob_years` "
   ]
  },
  {
   "cell_type": "code",
   "execution_count": 5,
   "id": "daddbfc3",
   "metadata": {},
   "outputs": [
    {
     "data": {
      "text/plain": [
       "101"
      ]
     },
     "execution_count": 5,
     "metadata": {},
     "output_type": "execute_result"
    }
   ],
   "source": [
    "data[data['dob_years'] == 0].count()[0] #кол-во клиентов возрастом 0 лет\n"
   ]
  },
  {
   "cell_type": "code",
   "execution_count": 6,
   "id": "ae79b781",
   "metadata": {},
   "outputs": [
    {
     "data": {
      "text/plain": [
       "47"
      ]
     },
     "execution_count": 6,
     "metadata": {},
     "output_type": "execute_result"
    }
   ],
   "source": [
    "data[data['children'] == -1].count()[0] #кол-во людей с -1 ребенокм"
   ]
  },
  {
   "cell_type": "code",
   "execution_count": 7,
   "id": "7001e0c1",
   "metadata": {},
   "outputs": [
    {
     "data": {
      "text/plain": [
       "76"
      ]
     },
     "execution_count": 7,
     "metadata": {},
     "output_type": "execute_result"
    }
   ],
   "source": [
    "data[data['children'] == 20].count()[0] #кол-во строк с 20 детьми"
   ]
  },
  {
   "cell_type": "markdown",
   "id": "19464f7c",
   "metadata": {},
   "source": [
    "**Вывод**\n",
    "\n",
    "1. нулевой возраст клиентов, это банальное не внесение данных в базу, которую нужно исправить\n",
    "2. -1 ребенок, лишний знак -\n",
    "3. 20 детей, возможно тут опечатка, хотели написать 2 вместо 20( на исправление)"
   ]
  },
  {
   "cell_type": "markdown",
   "id": "b8a6ce2a",
   "metadata": {},
   "source": [
    "### Шаг 2.1 Заполнение пропусков"
   ]
  },
  {
   "cell_type": "code",
   "execution_count": 8,
   "id": "f66eac6c",
   "metadata": {},
   "outputs": [
    {
     "data": {
      "text/plain": [
       "children               0\n",
       "days_employed       2174\n",
       "dob_years              0\n",
       "education              0\n",
       "education_id           0\n",
       "family_status          0\n",
       "family_status_id       0\n",
       "gender                 0\n",
       "income_type            0\n",
       "debt                   0\n",
       "total_income        2174\n",
       "purpose                0\n",
       "dtype: int64"
      ]
     },
     "execution_count": 8,
     "metadata": {},
     "output_type": "execute_result"
    }
   ],
   "source": [
    "data.isnull().sum()"
   ]
  },
  {
   "cell_type": "markdown",
   "id": "6348dc99",
   "metadata": {},
   "source": [
    "Видим, что правда в двух столбцах`days_employed` и `total_income` имеются пропуска."
   ]
  },
  {
   "cell_type": "code",
   "execution_count": 9,
   "id": "7b99734a",
   "metadata": {},
   "outputs": [
    {
     "name": "stdout",
     "output_type": "stream",
     "text": [
      "10.10%\n",
      "10.10%\n"
     ]
    }
   ],
   "source": [
    "work_days = data.isnull()['days_employed'].sum()/len(data)\n",
    "print('{:.2%}'.format(work_days))\n",
    "pay = data.isnull()['total_income'].sum()/len(data)\n",
    "print('{:.2%}'.format(pay))"
   ]
  },
  {
   "cell_type": "markdown",
   "id": "aef6f223",
   "metadata": {},
   "source": [
    "Долю пропущенных значений в каждом из столбцов = **10.10%**\n",
    "\n",
    "Причиной возникновению пропусков - человеческий фактор при заполнение/дубликате/переносе данных "
   ]
  },
  {
   "cell_type": "code",
   "execution_count": 10,
   "id": "11c400ce",
   "metadata": {},
   "outputs": [],
   "source": [
    "data['total_income'] = data['total_income'].fillna(data['total_income'].median())"
   ]
  },
  {
   "cell_type": "markdown",
   "id": "985cd228",
   "metadata": {},
   "source": [
    "Мы заменили все пустые значение в столбце `total_income` на медианное значение. Взятие медианное значение будет оптимальным варинатом закрыть пропуски в таблице, так как это будет более обьективным, чем среднее значение."
   ]
  },
  {
   "cell_type": "markdown",
   "id": "dab4bb2c",
   "metadata": {},
   "source": [
    "### Шаг 2.2 Проверка данных на аномалии и исправления.\n",
    "\n",
    "В данных могут встречаться артефакты (аномалии) — значения, которые не отражают действительность и появились по какой-то ошибке. Например, отрицательное количество дней трудового стажа в столбце days_employed. Для реальных данных это нормально. Обработайте значения в столбцах с аномалиями и опишите возможные причины появления таких данных. После обработки аномалий заполните пропуски в days_employed медианными значениями по этому столбцу."
   ]
  },
  {
   "cell_type": "code",
   "execution_count": 11,
   "id": "9df1ed5c",
   "metadata": {},
   "outputs": [],
   "source": [
    "data['days_employed'] = data['days_employed'].abs()"
   ]
  },
  {
   "cell_type": "markdown",
   "id": "188e8a87",
   "metadata": {},
   "source": [
    "Взяли столбец `days_employed` по модулю - abs() и таким образо избавились от знака **-**\n",
    "\n",
    "По моему мнению, причина возникновения знака минус образовалось при транспортирвки цифр с одного файла в другой"
   ]
  },
  {
   "cell_type": "code",
   "execution_count": 12,
   "id": "5da02412",
   "metadata": {},
   "outputs": [],
   "source": [
    "data['days_employed'] = data['days_employed'].fillna(data['days_employed'].median())"
   ]
  },
  {
   "cell_type": "markdown",
   "id": "9770fb6d",
   "metadata": {},
   "source": [
    "Заменили все пустые значения в строках по столбцу `total_income` на медианной значение этого же столбца.\n",
    "\n",
    "Все вышедшие строки с кол-во детей равным -1, заменим на 0."
   ]
  },
  {
   "cell_type": "code",
   "execution_count": 13,
   "id": "37526aaa",
   "metadata": {},
   "outputs": [],
   "source": [
    "data['children'] = data['children'].replace(-1, 0)"
   ]
  },
  {
   "cell_type": "code",
   "execution_count": 14,
   "id": "e6bb5dbe",
   "metadata": {},
   "outputs": [
    {
     "data": {
      "text/html": [
       "<div>\n",
       "<style scoped>\n",
       "    .dataframe tbody tr th:only-of-type {\n",
       "        vertical-align: middle;\n",
       "    }\n",
       "\n",
       "    .dataframe tbody tr th {\n",
       "        vertical-align: top;\n",
       "    }\n",
       "\n",
       "    .dataframe thead th {\n",
       "        text-align: right;\n",
       "    }\n",
       "</style>\n",
       "<table border=\"1\" class=\"dataframe\">\n",
       "  <thead>\n",
       "    <tr style=\"text-align: right;\">\n",
       "      <th></th>\n",
       "      <th>children</th>\n",
       "      <th>days_employed</th>\n",
       "      <th>dob_years</th>\n",
       "      <th>education_id</th>\n",
       "      <th>family_status_id</th>\n",
       "      <th>debt</th>\n",
       "      <th>total_income</th>\n",
       "    </tr>\n",
       "  </thead>\n",
       "  <tbody>\n",
       "    <tr>\n",
       "      <th>count</th>\n",
       "      <td>21525.000000</td>\n",
       "      <td>21525.000000</td>\n",
       "      <td>21525.000000</td>\n",
       "      <td>21525.000000</td>\n",
       "      <td>21525.000000</td>\n",
       "      <td>21525.000000</td>\n",
       "      <td>2.152500e+04</td>\n",
       "    </tr>\n",
       "    <tr>\n",
       "      <th>mean</th>\n",
       "      <td>0.541092</td>\n",
       "      <td>60378.032733</td>\n",
       "      <td>43.293380</td>\n",
       "      <td>0.817236</td>\n",
       "      <td>0.972544</td>\n",
       "      <td>0.080883</td>\n",
       "      <td>1.651595e+05</td>\n",
       "    </tr>\n",
       "    <tr>\n",
       "      <th>std</th>\n",
       "      <td>1.379943</td>\n",
       "      <td>133257.558514</td>\n",
       "      <td>12.574584</td>\n",
       "      <td>0.548138</td>\n",
       "      <td>1.420324</td>\n",
       "      <td>0.272661</td>\n",
       "      <td>9.786607e+04</td>\n",
       "    </tr>\n",
       "    <tr>\n",
       "      <th>min</th>\n",
       "      <td>0.000000</td>\n",
       "      <td>24.141633</td>\n",
       "      <td>0.000000</td>\n",
       "      <td>0.000000</td>\n",
       "      <td>0.000000</td>\n",
       "      <td>0.000000</td>\n",
       "      <td>2.066726e+04</td>\n",
       "    </tr>\n",
       "    <tr>\n",
       "      <th>25%</th>\n",
       "      <td>0.000000</td>\n",
       "      <td>1025.608174</td>\n",
       "      <td>33.000000</td>\n",
       "      <td>1.000000</td>\n",
       "      <td>0.000000</td>\n",
       "      <td>0.000000</td>\n",
       "      <td>1.077982e+05</td>\n",
       "    </tr>\n",
       "    <tr>\n",
       "      <th>50%</th>\n",
       "      <td>0.000000</td>\n",
       "      <td>2194.220567</td>\n",
       "      <td>42.000000</td>\n",
       "      <td>1.000000</td>\n",
       "      <td>0.000000</td>\n",
       "      <td>0.000000</td>\n",
       "      <td>1.450179e+05</td>\n",
       "    </tr>\n",
       "    <tr>\n",
       "      <th>75%</th>\n",
       "      <td>1.000000</td>\n",
       "      <td>4779.587738</td>\n",
       "      <td>53.000000</td>\n",
       "      <td>1.000000</td>\n",
       "      <td>1.000000</td>\n",
       "      <td>0.000000</td>\n",
       "      <td>1.955436e+05</td>\n",
       "    </tr>\n",
       "    <tr>\n",
       "      <th>max</th>\n",
       "      <td>20.000000</td>\n",
       "      <td>401755.400475</td>\n",
       "      <td>75.000000</td>\n",
       "      <td>4.000000</td>\n",
       "      <td>4.000000</td>\n",
       "      <td>1.000000</td>\n",
       "      <td>2.265604e+06</td>\n",
       "    </tr>\n",
       "  </tbody>\n",
       "</table>\n",
       "</div>"
      ],
      "text/plain": [
       "           children  days_employed     dob_years  education_id  \\\n",
       "count  21525.000000   21525.000000  21525.000000  21525.000000   \n",
       "mean       0.541092   60378.032733     43.293380      0.817236   \n",
       "std        1.379943  133257.558514     12.574584      0.548138   \n",
       "min        0.000000      24.141633      0.000000      0.000000   \n",
       "25%        0.000000    1025.608174     33.000000      1.000000   \n",
       "50%        0.000000    2194.220567     42.000000      1.000000   \n",
       "75%        1.000000    4779.587738     53.000000      1.000000   \n",
       "max       20.000000  401755.400475     75.000000      4.000000   \n",
       "\n",
       "       family_status_id          debt  total_income  \n",
       "count      21525.000000  21525.000000  2.152500e+04  \n",
       "mean           0.972544      0.080883  1.651595e+05  \n",
       "std            1.420324      0.272661  9.786607e+04  \n",
       "min            0.000000      0.000000  2.066726e+04  \n",
       "25%            0.000000      0.000000  1.077982e+05  \n",
       "50%            0.000000      0.000000  1.450179e+05  \n",
       "75%            1.000000      0.000000  1.955436e+05  \n",
       "max            4.000000      1.000000  2.265604e+06  "
      ]
     },
     "execution_count": 14,
     "metadata": {},
     "output_type": "execute_result"
    }
   ],
   "source": [
    "data.describe()"
   ]
  },
  {
   "cell_type": "markdown",
   "id": "28cba96a",
   "metadata": {},
   "source": [
    "### Шаг 2.3. Изменение типов данных.\n",
    "\n",
    "Замените вещественный тип данных в столбце total_income на целочисленный, например, с помощью метода astype()."
   ]
  },
  {
   "cell_type": "code",
   "execution_count": 15,
   "id": "a644de45",
   "metadata": {},
   "outputs": [],
   "source": [
    "data['total_income'] = data['total_income'].astype('int')"
   ]
  },
  {
   "cell_type": "code",
   "execution_count": 16,
   "id": "bccc101a",
   "metadata": {},
   "outputs": [],
   "source": [
    "data['days_employed'] = data['days_employed'].astype('int')"
   ]
  },
  {
   "cell_type": "markdown",
   "id": "3fa57b8c",
   "metadata": {},
   "source": [
    "C помощью метода **astype()** меняем тип данных столбца `total_income` и `days_employed` на целые числа. Теперь все данные представлены в удобном формате."
   ]
  },
  {
   "cell_type": "markdown",
   "id": "58929754",
   "metadata": {},
   "source": [
    "### Шаг 2.4. Удаление дубликатов.\n",
    "\n",
    "Если в данных присутствуют строки-дубликаты, удалите их. Также обработайте неявные дубликаты. Например, в столбце education есть одни и те же значения, но записанные по-разному: с использованием заглавных и строчных букв. Приведите их к одному регистру. Проверьте остальные столбцы.\n",
    "\n",
    "После удаления дубликатов сделайте следующее:\n",
    "\n",
    "поясните, как выбирали метод для поиска и удаления дубликатов в данных;\n",
    "\n",
    "приведите возможные причины появления дубликатов."
   ]
  },
  {
   "cell_type": "markdown",
   "id": "e044bda3",
   "metadata": {},
   "source": [
    "Использую метод **duplicated() и sum()**, выводим сумарное кол-во дубликатов."
   ]
  },
  {
   "cell_type": "code",
   "execution_count": 17,
   "id": "33a6fcd5",
   "metadata": {},
   "outputs": [
    {
     "data": {
      "text/plain": [
       "54"
      ]
     },
     "execution_count": 17,
     "metadata": {},
     "output_type": "execute_result"
    }
   ],
   "source": [
    "data.duplicated().sum()"
   ]
  },
  {
   "cell_type": "markdown",
   "id": "75425dd0",
   "metadata": {},
   "source": [
    "Теперь выведем таблицу с дубликатами, что б наглядно на них посмотреть"
   ]
  },
  {
   "cell_type": "code",
   "execution_count": 18,
   "id": "3c51d39f",
   "metadata": {},
   "outputs": [
    {
     "data": {
      "text/html": [
       "<div>\n",
       "<style scoped>\n",
       "    .dataframe tbody tr th:only-of-type {\n",
       "        vertical-align: middle;\n",
       "    }\n",
       "\n",
       "    .dataframe tbody tr th {\n",
       "        vertical-align: top;\n",
       "    }\n",
       "\n",
       "    .dataframe thead th {\n",
       "        text-align: right;\n",
       "    }\n",
       "</style>\n",
       "<table border=\"1\" class=\"dataframe\">\n",
       "  <thead>\n",
       "    <tr style=\"text-align: right;\">\n",
       "      <th></th>\n",
       "      <th>children</th>\n",
       "      <th>days_employed</th>\n",
       "      <th>dob_years</th>\n",
       "      <th>education</th>\n",
       "      <th>education_id</th>\n",
       "      <th>family_status</th>\n",
       "      <th>family_status_id</th>\n",
       "      <th>gender</th>\n",
       "      <th>income_type</th>\n",
       "      <th>debt</th>\n",
       "      <th>total_income</th>\n",
       "      <th>purpose</th>\n",
       "    </tr>\n",
       "  </thead>\n",
       "  <tbody>\n",
       "    <tr>\n",
       "      <th>2849</th>\n",
       "      <td>0</td>\n",
       "      <td>2194</td>\n",
       "      <td>41</td>\n",
       "      <td>среднее</td>\n",
       "      <td>1</td>\n",
       "      <td>женат / замужем</td>\n",
       "      <td>0</td>\n",
       "      <td>F</td>\n",
       "      <td>сотрудник</td>\n",
       "      <td>0</td>\n",
       "      <td>145017</td>\n",
       "      <td>покупка жилья для семьи</td>\n",
       "    </tr>\n",
       "    <tr>\n",
       "      <th>4182</th>\n",
       "      <td>1</td>\n",
       "      <td>2194</td>\n",
       "      <td>34</td>\n",
       "      <td>ВЫСШЕЕ</td>\n",
       "      <td>0</td>\n",
       "      <td>гражданский брак</td>\n",
       "      <td>1</td>\n",
       "      <td>F</td>\n",
       "      <td>сотрудник</td>\n",
       "      <td>0</td>\n",
       "      <td>145017</td>\n",
       "      <td>свадьба</td>\n",
       "    </tr>\n",
       "    <tr>\n",
       "      <th>4851</th>\n",
       "      <td>0</td>\n",
       "      <td>2194</td>\n",
       "      <td>60</td>\n",
       "      <td>среднее</td>\n",
       "      <td>1</td>\n",
       "      <td>гражданский брак</td>\n",
       "      <td>1</td>\n",
       "      <td>F</td>\n",
       "      <td>пенсионер</td>\n",
       "      <td>0</td>\n",
       "      <td>145017</td>\n",
       "      <td>свадьба</td>\n",
       "    </tr>\n",
       "    <tr>\n",
       "      <th>5557</th>\n",
       "      <td>0</td>\n",
       "      <td>2194</td>\n",
       "      <td>58</td>\n",
       "      <td>среднее</td>\n",
       "      <td>1</td>\n",
       "      <td>гражданский брак</td>\n",
       "      <td>1</td>\n",
       "      <td>F</td>\n",
       "      <td>пенсионер</td>\n",
       "      <td>0</td>\n",
       "      <td>145017</td>\n",
       "      <td>сыграть свадьбу</td>\n",
       "    </tr>\n",
       "    <tr>\n",
       "      <th>7808</th>\n",
       "      <td>0</td>\n",
       "      <td>2194</td>\n",
       "      <td>57</td>\n",
       "      <td>среднее</td>\n",
       "      <td>1</td>\n",
       "      <td>гражданский брак</td>\n",
       "      <td>1</td>\n",
       "      <td>F</td>\n",
       "      <td>пенсионер</td>\n",
       "      <td>0</td>\n",
       "      <td>145017</td>\n",
       "      <td>на проведение свадьбы</td>\n",
       "    </tr>\n",
       "  </tbody>\n",
       "</table>\n",
       "</div>"
      ],
      "text/plain": [
       "      children  days_employed  dob_years education  education_id  \\\n",
       "2849         0           2194         41   среднее             1   \n",
       "4182         1           2194         34    ВЫСШЕЕ             0   \n",
       "4851         0           2194         60   среднее             1   \n",
       "5557         0           2194         58   среднее             1   \n",
       "7808         0           2194         57   среднее             1   \n",
       "\n",
       "         family_status  family_status_id gender income_type  debt  \\\n",
       "2849   женат / замужем                 0      F   сотрудник     0   \n",
       "4182  гражданский брак                 1      F   сотрудник     0   \n",
       "4851  гражданский брак                 1      F   пенсионер     0   \n",
       "5557  гражданский брак                 1      F   пенсионер     0   \n",
       "7808  гражданский брак                 1      F   пенсионер     0   \n",
       "\n",
       "      total_income                  purpose  \n",
       "2849        145017  покупка жилья для семьи  \n",
       "4182        145017                  свадьба  \n",
       "4851        145017                  свадьба  \n",
       "5557        145017          сыграть свадьбу  \n",
       "7808        145017    на проведение свадьбы  "
      ]
     },
     "execution_count": 18,
     "metadata": {},
     "output_type": "execute_result"
    }
   ],
   "source": [
    "data[data.duplicated()].sort_values(by = ['days_employed', 'total_income']).head()"
   ]
  },
  {
   "cell_type": "markdown",
   "id": "8504521c",
   "metadata": {},
   "source": [
    "Да, по таблице видны дубликаты. **Причина?** Возможно задвоение данных. \n",
    "\n",
    "Теперь их нужно стереть с наших глаз, а то мазолят)))"
   ]
  },
  {
   "cell_type": "code",
   "execution_count": 19,
   "id": "78fe267a",
   "metadata": {},
   "outputs": [
    {
     "data": {
      "text/plain": [
       "0"
      ]
     },
     "execution_count": 19,
     "metadata": {},
     "output_type": "execute_result"
    }
   ],
   "source": [
    "data = data.drop_duplicates()\n",
    "data.duplicated().sum()"
   ]
  },
  {
   "cell_type": "markdown",
   "id": "a81a0a31",
   "metadata": {},
   "source": [
    "Удалили и проверили, все чисто. Теперь переходим к обработке к неявным дубликатам, найдем их с помощью метода **unique()**. Начнем со столбца `education`"
   ]
  },
  {
   "cell_type": "code",
   "execution_count": 20,
   "id": "993d9c74",
   "metadata": {},
   "outputs": [
    {
     "data": {
      "text/plain": [
       "array(['высшее', 'среднее', 'Среднее', 'СРЕДНЕЕ', 'ВЫСШЕЕ',\n",
       "       'неоконченное высшее', 'начальное', 'Высшее',\n",
       "       'НЕОКОНЧЕННОЕ ВЫСШЕЕ', 'Неоконченное высшее', 'НАЧАЛЬНОЕ',\n",
       "       'Начальное', 'Ученая степень', 'УЧЕНАЯ СТЕПЕНЬ', 'ученая степень'],\n",
       "      dtype=object)"
      ]
     },
     "execution_count": 20,
     "metadata": {},
     "output_type": "execute_result"
    }
   ],
   "source": [
    "data['education'].unique()"
   ]
  },
  {
   "cell_type": "markdown",
   "id": "a7fac2b2",
   "metadata": {},
   "source": [
    "Мы видим кашу малашу в столбце `education`, а именно верхние регистры, заглвные буквы. Для человека самостоятельно изучающий DS было бы нормой, но для меня нет, поэтому использую код **.str.lower()** для столбца `education`, чтобы все слова были нижнего регистра и далее вывожу таблицу и смотрю сработал код или нет."
   ]
  },
  {
   "cell_type": "code",
   "execution_count": 21,
   "id": "f3843981",
   "metadata": {},
   "outputs": [],
   "source": [
    "data['education'] = data['education'].str.lower()"
   ]
  },
  {
   "cell_type": "code",
   "execution_count": 22,
   "id": "fdbfee10",
   "metadata": {},
   "outputs": [
    {
     "data": {
      "text/html": [
       "<div>\n",
       "<style scoped>\n",
       "    .dataframe tbody tr th:only-of-type {\n",
       "        vertical-align: middle;\n",
       "    }\n",
       "\n",
       "    .dataframe tbody tr th {\n",
       "        vertical-align: top;\n",
       "    }\n",
       "\n",
       "    .dataframe thead th {\n",
       "        text-align: right;\n",
       "    }\n",
       "</style>\n",
       "<table border=\"1\" class=\"dataframe\">\n",
       "  <thead>\n",
       "    <tr style=\"text-align: right;\">\n",
       "      <th></th>\n",
       "      <th>children</th>\n",
       "      <th>days_employed</th>\n",
       "      <th>dob_years</th>\n",
       "      <th>education</th>\n",
       "      <th>education_id</th>\n",
       "      <th>family_status</th>\n",
       "      <th>family_status_id</th>\n",
       "      <th>gender</th>\n",
       "      <th>income_type</th>\n",
       "      <th>debt</th>\n",
       "      <th>total_income</th>\n",
       "      <th>purpose</th>\n",
       "    </tr>\n",
       "  </thead>\n",
       "  <tbody>\n",
       "    <tr>\n",
       "      <th>0</th>\n",
       "      <td>1</td>\n",
       "      <td>8437</td>\n",
       "      <td>42</td>\n",
       "      <td>высшее</td>\n",
       "      <td>0</td>\n",
       "      <td>женат / замужем</td>\n",
       "      <td>0</td>\n",
       "      <td>F</td>\n",
       "      <td>сотрудник</td>\n",
       "      <td>0</td>\n",
       "      <td>253875</td>\n",
       "      <td>покупка жилья</td>\n",
       "    </tr>\n",
       "    <tr>\n",
       "      <th>1</th>\n",
       "      <td>1</td>\n",
       "      <td>4024</td>\n",
       "      <td>36</td>\n",
       "      <td>среднее</td>\n",
       "      <td>1</td>\n",
       "      <td>женат / замужем</td>\n",
       "      <td>0</td>\n",
       "      <td>F</td>\n",
       "      <td>сотрудник</td>\n",
       "      <td>0</td>\n",
       "      <td>112080</td>\n",
       "      <td>приобретение автомобиля</td>\n",
       "    </tr>\n",
       "    <tr>\n",
       "      <th>2</th>\n",
       "      <td>0</td>\n",
       "      <td>5623</td>\n",
       "      <td>33</td>\n",
       "      <td>среднее</td>\n",
       "      <td>1</td>\n",
       "      <td>женат / замужем</td>\n",
       "      <td>0</td>\n",
       "      <td>M</td>\n",
       "      <td>сотрудник</td>\n",
       "      <td>0</td>\n",
       "      <td>145885</td>\n",
       "      <td>покупка жилья</td>\n",
       "    </tr>\n",
       "    <tr>\n",
       "      <th>3</th>\n",
       "      <td>3</td>\n",
       "      <td>4124</td>\n",
       "      <td>32</td>\n",
       "      <td>среднее</td>\n",
       "      <td>1</td>\n",
       "      <td>женат / замужем</td>\n",
       "      <td>0</td>\n",
       "      <td>M</td>\n",
       "      <td>сотрудник</td>\n",
       "      <td>0</td>\n",
       "      <td>267628</td>\n",
       "      <td>дополнительное образование</td>\n",
       "    </tr>\n",
       "    <tr>\n",
       "      <th>4</th>\n",
       "      <td>0</td>\n",
       "      <td>340266</td>\n",
       "      <td>53</td>\n",
       "      <td>среднее</td>\n",
       "      <td>1</td>\n",
       "      <td>гражданский брак</td>\n",
       "      <td>1</td>\n",
       "      <td>F</td>\n",
       "      <td>пенсионер</td>\n",
       "      <td>0</td>\n",
       "      <td>158616</td>\n",
       "      <td>сыграть свадьбу</td>\n",
       "    </tr>\n",
       "  </tbody>\n",
       "</table>\n",
       "</div>"
      ],
      "text/plain": [
       "   children  days_employed  dob_years education  education_id  \\\n",
       "0         1           8437         42    высшее             0   \n",
       "1         1           4024         36   среднее             1   \n",
       "2         0           5623         33   среднее             1   \n",
       "3         3           4124         32   среднее             1   \n",
       "4         0         340266         53   среднее             1   \n",
       "\n",
       "      family_status  family_status_id gender income_type  debt  total_income  \\\n",
       "0   женат / замужем                 0      F   сотрудник     0        253875   \n",
       "1   женат / замужем                 0      F   сотрудник     0        112080   \n",
       "2   женат / замужем                 0      M   сотрудник     0        145885   \n",
       "3   женат / замужем                 0      M   сотрудник     0        267628   \n",
       "4  гражданский брак                 1      F   пенсионер     0        158616   \n",
       "\n",
       "                      purpose  \n",
       "0               покупка жилья  \n",
       "1     приобретение автомобиля  \n",
       "2               покупка жилья  \n",
       "3  дополнительное образование  \n",
       "4             сыграть свадьбу  "
      ]
     },
     "execution_count": 22,
     "metadata": {},
     "output_type": "execute_result"
    }
   ],
   "source": [
    "data.head()"
   ]
  },
  {
   "cell_type": "markdown",
   "id": "4f974b3d",
   "metadata": {},
   "source": [
    "В точку, все слова в таблице `education` поменяли на нижний регистр."
   ]
  },
  {
   "cell_type": "markdown",
   "id": "32d76147",
   "metadata": {},
   "source": [
    "### Шаг 2.5. Формирование дополнительных датафреймов словарей, декомпозиция исходного датафрейма.\n",
    "\n",
    "Создайте два новых датафрейма, в которых:\n",
    "\n",
    "каждому уникальному значению из education соответствует уникальное значение education_id — в первом;\n",
    "\n",
    "каждому уникальному значению из family_status соответствует уникальное значение family_status_id — во втором.\n",
    "\n",
    "Удалите из исходного датафрейма столбцы education и family_status, оставив только их идентификаторы: education_id и family_status_id. Новые датафреймы — это те самые «словари» (не путайте с одноимённой структурой данных в Python), к которым вы сможете обращаться по идентификатору."
   ]
  },
  {
   "cell_type": "markdown",
   "id": "df25a2a1",
   "metadata": {},
   "source": [
    "**НЕ ПОНЯЛ КАК ГРАМОТНО СДЕЛАТЬ В ЭТОМ ШАГЕ**"
   ]
  },
  {
   "cell_type": "markdown",
   "id": "8481f9ca",
   "metadata": {},
   "source": [
    "Создаем два новых датафрейма `edu`, `fam`. После этого используем функцию **drop()** для удаления указанных столбцов, **inplcae=True** создает нам новое изменение в новом обькте, который создается, а **axis=1** предназачен для операция по столбцам"
   ]
  },
  {
   "cell_type": "code",
   "execution_count": 23,
   "id": "69674040",
   "metadata": {
    "scrolled": false
   },
   "outputs": [],
   "source": [
    "edu = data[['education', 'education_id']]\n",
    "fam = data[['family_status', 'family_status_id']]"
   ]
  },
  {
   "cell_type": "code",
   "execution_count": 24,
   "id": "707bdf39",
   "metadata": {},
   "outputs": [
    {
     "data": {
      "text/html": [
       "<div>\n",
       "<style scoped>\n",
       "    .dataframe tbody tr th:only-of-type {\n",
       "        vertical-align: middle;\n",
       "    }\n",
       "\n",
       "    .dataframe tbody tr th {\n",
       "        vertical-align: top;\n",
       "    }\n",
       "\n",
       "    .dataframe thead th {\n",
       "        text-align: right;\n",
       "    }\n",
       "</style>\n",
       "<table border=\"1\" class=\"dataframe\">\n",
       "  <thead>\n",
       "    <tr style=\"text-align: right;\">\n",
       "      <th></th>\n",
       "      <th>children</th>\n",
       "      <th>days_employed</th>\n",
       "      <th>dob_years</th>\n",
       "      <th>education</th>\n",
       "      <th>education_id</th>\n",
       "      <th>family_status</th>\n",
       "      <th>family_status_id</th>\n",
       "      <th>gender</th>\n",
       "      <th>income_type</th>\n",
       "      <th>debt</th>\n",
       "      <th>total_income</th>\n",
       "      <th>purpose</th>\n",
       "    </tr>\n",
       "  </thead>\n",
       "  <tbody>\n",
       "    <tr>\n",
       "      <th>0</th>\n",
       "      <td>1</td>\n",
       "      <td>8437</td>\n",
       "      <td>42</td>\n",
       "      <td>высшее</td>\n",
       "      <td>0</td>\n",
       "      <td>женат / замужем</td>\n",
       "      <td>0</td>\n",
       "      <td>F</td>\n",
       "      <td>сотрудник</td>\n",
       "      <td>0</td>\n",
       "      <td>253875</td>\n",
       "      <td>покупка жилья</td>\n",
       "    </tr>\n",
       "    <tr>\n",
       "      <th>1</th>\n",
       "      <td>1</td>\n",
       "      <td>4024</td>\n",
       "      <td>36</td>\n",
       "      <td>среднее</td>\n",
       "      <td>1</td>\n",
       "      <td>женат / замужем</td>\n",
       "      <td>0</td>\n",
       "      <td>F</td>\n",
       "      <td>сотрудник</td>\n",
       "      <td>0</td>\n",
       "      <td>112080</td>\n",
       "      <td>приобретение автомобиля</td>\n",
       "    </tr>\n",
       "    <tr>\n",
       "      <th>2</th>\n",
       "      <td>0</td>\n",
       "      <td>5623</td>\n",
       "      <td>33</td>\n",
       "      <td>среднее</td>\n",
       "      <td>1</td>\n",
       "      <td>женат / замужем</td>\n",
       "      <td>0</td>\n",
       "      <td>M</td>\n",
       "      <td>сотрудник</td>\n",
       "      <td>0</td>\n",
       "      <td>145885</td>\n",
       "      <td>покупка жилья</td>\n",
       "    </tr>\n",
       "    <tr>\n",
       "      <th>3</th>\n",
       "      <td>3</td>\n",
       "      <td>4124</td>\n",
       "      <td>32</td>\n",
       "      <td>среднее</td>\n",
       "      <td>1</td>\n",
       "      <td>женат / замужем</td>\n",
       "      <td>0</td>\n",
       "      <td>M</td>\n",
       "      <td>сотрудник</td>\n",
       "      <td>0</td>\n",
       "      <td>267628</td>\n",
       "      <td>дополнительное образование</td>\n",
       "    </tr>\n",
       "    <tr>\n",
       "      <th>4</th>\n",
       "      <td>0</td>\n",
       "      <td>340266</td>\n",
       "      <td>53</td>\n",
       "      <td>среднее</td>\n",
       "      <td>1</td>\n",
       "      <td>гражданский брак</td>\n",
       "      <td>1</td>\n",
       "      <td>F</td>\n",
       "      <td>пенсионер</td>\n",
       "      <td>0</td>\n",
       "      <td>158616</td>\n",
       "      <td>сыграть свадьбу</td>\n",
       "    </tr>\n",
       "  </tbody>\n",
       "</table>\n",
       "</div>"
      ],
      "text/plain": [
       "   children  days_employed  dob_years education  education_id  \\\n",
       "0         1           8437         42    высшее             0   \n",
       "1         1           4024         36   среднее             1   \n",
       "2         0           5623         33   среднее             1   \n",
       "3         3           4124         32   среднее             1   \n",
       "4         0         340266         53   среднее             1   \n",
       "\n",
       "      family_status  family_status_id gender income_type  debt  total_income  \\\n",
       "0   женат / замужем                 0      F   сотрудник     0        253875   \n",
       "1   женат / замужем                 0      F   сотрудник     0        112080   \n",
       "2   женат / замужем                 0      M   сотрудник     0        145885   \n",
       "3   женат / замужем                 0      M   сотрудник     0        267628   \n",
       "4  гражданский брак                 1      F   пенсионер     0        158616   \n",
       "\n",
       "                      purpose  \n",
       "0               покупка жилья  \n",
       "1     приобретение автомобиля  \n",
       "2               покупка жилья  \n",
       "3  дополнительное образование  \n",
       "4             сыграть свадьбу  "
      ]
     },
     "execution_count": 24,
     "metadata": {},
     "output_type": "execute_result"
    }
   ],
   "source": [
    "edu.drop_duplicates()\n",
    "fam.drop_duplicates()\n",
    "data.head()"
   ]
  },
  {
   "cell_type": "code",
   "execution_count": 26,
   "id": "4328584c",
   "metadata": {},
   "outputs": [
    {
     "data": {
      "text/html": [
       "<div>\n",
       "<style scoped>\n",
       "    .dataframe tbody tr th:only-of-type {\n",
       "        vertical-align: middle;\n",
       "    }\n",
       "\n",
       "    .dataframe tbody tr th {\n",
       "        vertical-align: top;\n",
       "    }\n",
       "\n",
       "    .dataframe thead th {\n",
       "        text-align: right;\n",
       "    }\n",
       "</style>\n",
       "<table border=\"1\" class=\"dataframe\">\n",
       "  <thead>\n",
       "    <tr style=\"text-align: right;\">\n",
       "      <th></th>\n",
       "      <th>children</th>\n",
       "      <th>days_employed</th>\n",
       "      <th>dob_years</th>\n",
       "      <th>education_id</th>\n",
       "      <th>family_status_id</th>\n",
       "      <th>gender</th>\n",
       "      <th>income_type</th>\n",
       "      <th>debt</th>\n",
       "      <th>total_income</th>\n",
       "      <th>purpose</th>\n",
       "    </tr>\n",
       "  </thead>\n",
       "  <tbody>\n",
       "    <tr>\n",
       "      <th>0</th>\n",
       "      <td>1</td>\n",
       "      <td>8437</td>\n",
       "      <td>42</td>\n",
       "      <td>0</td>\n",
       "      <td>0</td>\n",
       "      <td>F</td>\n",
       "      <td>сотрудник</td>\n",
       "      <td>0</td>\n",
       "      <td>253875</td>\n",
       "      <td>покупка жилья</td>\n",
       "    </tr>\n",
       "    <tr>\n",
       "      <th>1</th>\n",
       "      <td>1</td>\n",
       "      <td>4024</td>\n",
       "      <td>36</td>\n",
       "      <td>1</td>\n",
       "      <td>0</td>\n",
       "      <td>F</td>\n",
       "      <td>сотрудник</td>\n",
       "      <td>0</td>\n",
       "      <td>112080</td>\n",
       "      <td>приобретение автомобиля</td>\n",
       "    </tr>\n",
       "    <tr>\n",
       "      <th>2</th>\n",
       "      <td>0</td>\n",
       "      <td>5623</td>\n",
       "      <td>33</td>\n",
       "      <td>1</td>\n",
       "      <td>0</td>\n",
       "      <td>M</td>\n",
       "      <td>сотрудник</td>\n",
       "      <td>0</td>\n",
       "      <td>145885</td>\n",
       "      <td>покупка жилья</td>\n",
       "    </tr>\n",
       "    <tr>\n",
       "      <th>3</th>\n",
       "      <td>3</td>\n",
       "      <td>4124</td>\n",
       "      <td>32</td>\n",
       "      <td>1</td>\n",
       "      <td>0</td>\n",
       "      <td>M</td>\n",
       "      <td>сотрудник</td>\n",
       "      <td>0</td>\n",
       "      <td>267628</td>\n",
       "      <td>дополнительное образование</td>\n",
       "    </tr>\n",
       "    <tr>\n",
       "      <th>4</th>\n",
       "      <td>0</td>\n",
       "      <td>340266</td>\n",
       "      <td>53</td>\n",
       "      <td>1</td>\n",
       "      <td>1</td>\n",
       "      <td>F</td>\n",
       "      <td>пенсионер</td>\n",
       "      <td>0</td>\n",
       "      <td>158616</td>\n",
       "      <td>сыграть свадьбу</td>\n",
       "    </tr>\n",
       "  </tbody>\n",
       "</table>\n",
       "</div>"
      ],
      "text/plain": [
       "   children  days_employed  dob_years  education_id  family_status_id gender  \\\n",
       "0         1           8437         42             0                 0      F   \n",
       "1         1           4024         36             1                 0      F   \n",
       "2         0           5623         33             1                 0      M   \n",
       "3         3           4124         32             1                 0      M   \n",
       "4         0         340266         53             1                 1      F   \n",
       "\n",
       "  income_type  debt  total_income                     purpose  \n",
       "0   сотрудник     0        253875               покупка жилья  \n",
       "1   сотрудник     0        112080     приобретение автомобиля  \n",
       "2   сотрудник     0        145885               покупка жилья  \n",
       "3   сотрудник     0        267628  дополнительное образование  \n",
       "4   пенсионер     0        158616             сыграть свадьбу  "
      ]
     },
     "execution_count": 26,
     "metadata": {},
     "output_type": "execute_result"
    }
   ],
   "source": [
    "data.drop('education', inplace=True, axis=1)\n",
    "data.drop('family_status', inplace=True, axis=1)\n",
    "data.head()"
   ]
  },
  {
   "cell_type": "markdown",
   "id": "6906309c",
   "metadata": {},
   "source": [
    "**Категоризация:**\n",
    "\n",
    "Стаж клиентов `days_employed`:\n",
    "- до 15 лет\n",
    "- 15-30 лет\n",
    "- более 30 лет\n",
    "\n",
    "Возраст клиентов `dob_years`:\n",
    "- до 25 лет\n",
    "- 25-45 лет\n",
    "- 45-65 лет\n",
    "- более 65 лет\n",
    "\n",
    "Кол-во детей `children`:\n",
    "- 0 детей\n",
    "- 1-2 ребенок/ребенка\n",
    "- 2+ ребека\n",
    "\n",
    "И добавим все новые столбцы в таблицу `data`"
   ]
  },
  {
   "cell_type": "code",
   "execution_count": 27,
   "id": "79d5c66d",
   "metadata": {},
   "outputs": [],
   "source": [
    "def days_employed_type(row):\n",
    "    days_employed = row['days_employed']\n",
    "    \n",
    "    if days_employed <= 5400:\n",
    "        return 'Стаж до 15 лет'\n",
    "    if 5401 <= days_employed <= 10800:\n",
    "        return 'Стаж от 15 до 30 лет'\n",
    "    else:\n",
    "        return 'Стаж более 30 лет'\n",
    "    \n",
    "def dob_years_type(row):\n",
    "    dob_years = row['dob_years']\n",
    "    \n",
    "    if dob_years < 25:\n",
    "        return 'До 25 лет'\n",
    "    if 25 <= dob_years < 45:\n",
    "        return 'От 25 до 25 лет'\n",
    "    if 45 <= dob_years < 65:\n",
    "        return 'От 45 до 65 лет'\n",
    "    else:\n",
    "        return 'Более 65 лет'\n",
    "\n",
    "def children_type(row):\n",
    "    children = row['children']\n",
    "    \n",
    "    if children == 0:\n",
    "        return 'Нет детей'\n",
    "    if 1 <= children <= 2:\n",
    "        return '1-2 ребенка'\n",
    "    else:\n",
    "        return '3+ ребенка'"
   ]
  },
  {
   "cell_type": "code",
   "execution_count": 28,
   "id": "4ab29454",
   "metadata": {},
   "outputs": [],
   "source": [
    "data['days_employed_type'] = data.apply(days_employed_type, axis=1)\n",
    "data['dob_years_type'] = data.apply(dob_years_type, axis=1)\n",
    "data['children_type'] = data.apply(children_type, axis=1)"
   ]
  },
  {
   "cell_type": "markdown",
   "id": "ce11b47f",
   "metadata": {},
   "source": [
    "### Шаг 2.6. Категоризация дохода.\n",
    "\n",
    "На основании диапазонов, указанных ниже, создайте столбец total_income_category с категориями:\n",
    "\n",
    "0–30000 — 'E';\n",
    "\n",
    "30001–50000 — 'D';\n",
    "\n",
    "50001–200000 — 'C';\n",
    "\n",
    "200001–1000000 — 'B';\n",
    "\n",
    "1000001 и выше — 'A'.\n",
    "\n",
    "Например, кредитополучателю с доходом 25000 нужно назначить категорию 'E', а клиенту, получающему 235000, — 'B'."
   ]
  },
  {
   "cell_type": "code",
   "execution_count": 29,
   "id": "925338ce",
   "metadata": {},
   "outputs": [
    {
     "data": {
      "text/plain": [
       "'E'"
      ]
     },
     "execution_count": 29,
     "metadata": {},
     "output_type": "execute_result"
    }
   ],
   "source": [
    "def total_income_category(row):\n",
    "    total_income = row['total_income']\n",
    "    \n",
    "    if 0 <= total_income <= 30000:\n",
    "        return 'E'\n",
    "    if 30001 <= total_income <= 50000:\n",
    "        return 'D'\n",
    "    if 50001 <= total_income <= 200000:\n",
    "        return 'C'\n",
    "    if 200001 <= total_income <= 1000000:\n",
    "        return 'B'\n",
    "    if 1000001 <= total_income :\n",
    "        return 'A'\n",
    "    \n",
    "row_values = [25000]\n",
    "row_columns = ['total_income']\n",
    "row = pd.Series(data=row_values, index=row_columns)\n",
    "data['total_income_category'] = data.apply(total_income_category, axis=1)\n",
    "total_income_category(row)"
   ]
  },
  {
   "cell_type": "code",
   "execution_count": 30,
   "id": "dc21211f",
   "metadata": {},
   "outputs": [
    {
     "data": {
      "text/plain": [
       "C    16033\n",
       "B     5041\n",
       "D      350\n",
       "A       25\n",
       "E       22\n",
       "Name: total_income_category, dtype: int64"
      ]
     },
     "execution_count": 30,
     "metadata": {},
     "output_type": "execute_result"
    }
   ],
   "source": [
    "data['total_income_category'].value_counts()"
   ]
  },
  {
   "cell_type": "markdown",
   "id": "cb22596e",
   "metadata": {},
   "source": [
    "Сделали категоризацию по столбцу `total_income` и для каждой критерии свои условия, на вход у нас попадает ежемесечная заработная плата ( или просто рандомное число ) а возращает его/ее категорию. По примеру категоризация работает правильно. Осталось создать отдельный столбец и для этого используем функцию **apply()**.\n",
    "\n",
    "Дополнительно вывел статистику по доходности, и теперь видно сколько ориентировочно зарабатывает основная масса."
   ]
  },
  {
   "cell_type": "markdown",
   "id": "66916bc7",
   "metadata": {},
   "source": [
    "### Шаг 2.7. Категоризация целей кредита.\n",
    "\n",
    "Создайте функцию, которая на основании данных из столбца purpose сформирует новый столбец purpose_category, в который войдут следующие категории:\n",
    "\n",
    "'операции с автомобилем',\n",
    "\n",
    "'операции с недвижимостью',\n",
    "\n",
    "'проведение свадьбы',\n",
    "\n",
    "'получение образования'.\n",
    "\n",
    "Например, если в столбце purpose находится подстрока 'на покупку автомобиля', то в столбце purpose_category должна появиться строка 'операции с автомобилем'.\n",
    "\n",
    "Вы можете использовать собственную функцию и метод apply(). Изучите данные в столбце purpose и определите, какие подстроки помогут вам правильно определить категорию."
   ]
  },
  {
   "cell_type": "code",
   "execution_count": 31,
   "id": "d63bfe7e",
   "metadata": {},
   "outputs": [
    {
     "data": {
      "text/plain": [
       "'операции с автомобилем'"
      ]
     },
     "execution_count": 31,
     "metadata": {},
     "output_type": "execute_result"
    }
   ],
   "source": [
    "def purpose_category(row):\n",
    "    purpose = row['purpose']\n",
    "    \n",
    "    if 'авто' in purpose:\n",
    "        return 'операции с автомобилем'\n",
    "    if 'недвиж' in purpose or 'жиль' in purpose:\n",
    "        return 'операции с недвижимостью'\n",
    "    if 'свадьб' in purpose:\n",
    "        return 'проведение свадьбы'\n",
    "    if 'образован' in purpose:\n",
    "        return 'получение образования'\n",
    "    \n",
    "row_values = ['на покупку автомобиля']\n",
    "row_columns = ['purpose']\n",
    "row=pd.Series(data=row_values, index=row_columns)\n",
    "data['purpose_category'] = data.apply(purpose_category, axis=1)\n",
    "purpose_category(row)"
   ]
  },
  {
   "cell_type": "code",
   "execution_count": 32,
   "id": "f3425e13",
   "metadata": {},
   "outputs": [
    {
     "data": {
      "text/plain": [
       "операции с недвижимостью    10814\n",
       "операции с автомобилем       4308\n",
       "получение образования        4014\n",
       "проведение свадьбы           2335\n",
       "Name: purpose_category, dtype: int64"
      ]
     },
     "execution_count": 32,
     "metadata": {},
     "output_type": "execute_result"
    }
   ],
   "source": [
    "data['purpose_category'].value_counts()"
   ]
  },
  {
   "cell_type": "markdown",
   "id": "8779a31b",
   "metadata": {},
   "source": [
    "### Ответы на вопросы."
   ]
  },
  {
   "cell_type": "markdown",
   "id": "0509c0d8",
   "metadata": {},
   "source": [
    "Пишим функцию для вывода информации."
   ]
  },
  {
   "cell_type": "code",
   "execution_count": 33,
   "id": "4c8218a9",
   "metadata": {},
   "outputs": [
    {
     "data": {
      "text/html": [
       "<div>\n",
       "<style scoped>\n",
       "    .dataframe tbody tr th:only-of-type {\n",
       "        vertical-align: middle;\n",
       "    }\n",
       "\n",
       "    .dataframe tbody tr th {\n",
       "        vertical-align: top;\n",
       "    }\n",
       "\n",
       "    .dataframe thead th {\n",
       "        text-align: right;\n",
       "    }\n",
       "</style>\n",
       "<table border=\"1\" class=\"dataframe\">\n",
       "  <thead>\n",
       "    <tr style=\"text-align: right;\">\n",
       "      <th></th>\n",
       "      <th>count</th>\n",
       "      <th>sum</th>\n",
       "      <th>conversion</th>\n",
       "    </tr>\n",
       "    <tr>\n",
       "      <th>children_type</th>\n",
       "      <th></th>\n",
       "      <th></th>\n",
       "      <th></th>\n",
       "    </tr>\n",
       "  </thead>\n",
       "  <tbody>\n",
       "    <tr>\n",
       "      <th>Нет детей</th>\n",
       "      <td>14154</td>\n",
       "      <td>1064</td>\n",
       "      <td>7.517310</td>\n",
       "    </tr>\n",
       "    <tr>\n",
       "      <th>3+ ребенка</th>\n",
       "      <td>456</td>\n",
       "      <td>39</td>\n",
       "      <td>8.552632</td>\n",
       "    </tr>\n",
       "    <tr>\n",
       "      <th>1-2 ребенка</th>\n",
       "      <td>6861</td>\n",
       "      <td>638</td>\n",
       "      <td>9.298936</td>\n",
       "    </tr>\n",
       "  </tbody>\n",
       "</table>\n",
       "</div>"
      ],
      "text/plain": [
       "               count   sum  conversion\n",
       "children_type                         \n",
       "Нет детей      14154  1064    7.517310\n",
       "3+ ребенка       456    39    8.552632\n",
       "1-2 ребенка     6861   638    9.298936"
      ]
     },
     "execution_count": 33,
     "metadata": {},
     "output_type": "execute_result"
    }
   ],
   "source": [
    "children_group = data.groupby('children_type')['debt'].agg(['count', 'sum'])\n",
    "children_group['conversion'] = (children_group['sum'] / children_group['count']) * 100\n",
    "children_group.sort_values('conversion')"
   ]
  },
  {
   "cell_type": "markdown",
   "id": "38baf514",
   "metadata": {},
   "source": [
    "##### Вопрос 1:\n",
    "\n",
    "Есть ли зависимость между количеством детей и возвратом кредита в срок?\n",
    "\n"
   ]
  },
  {
   "cell_type": "markdown",
   "id": "ab5f9b13",
   "metadata": {},
   "source": [
    "##### Вывод 1:\n",
    "Да, есть зависимость, клиенты у которых нет детей имеют низжие процент задолжности."
   ]
  },
  {
   "cell_type": "code",
   "execution_count": 34,
   "id": "a7032bce",
   "metadata": {},
   "outputs": [
    {
     "data": {
      "text/html": [
       "<div>\n",
       "<style scoped>\n",
       "    .dataframe tbody tr th:only-of-type {\n",
       "        vertical-align: middle;\n",
       "    }\n",
       "\n",
       "    .dataframe tbody tr th {\n",
       "        vertical-align: top;\n",
       "    }\n",
       "\n",
       "    .dataframe thead th {\n",
       "        text-align: right;\n",
       "    }\n",
       "</style>\n",
       "<table border=\"1\" class=\"dataframe\">\n",
       "  <thead>\n",
       "    <tr style=\"text-align: right;\">\n",
       "      <th></th>\n",
       "      <th>count</th>\n",
       "      <th>sum</th>\n",
       "      <th>conversion</th>\n",
       "    </tr>\n",
       "    <tr>\n",
       "      <th>family_status_id</th>\n",
       "      <th></th>\n",
       "      <th></th>\n",
       "      <th></th>\n",
       "    </tr>\n",
       "  </thead>\n",
       "  <tbody>\n",
       "    <tr>\n",
       "      <th>2</th>\n",
       "      <td>959</td>\n",
       "      <td>63</td>\n",
       "      <td>6.569343</td>\n",
       "    </tr>\n",
       "    <tr>\n",
       "      <th>3</th>\n",
       "      <td>1195</td>\n",
       "      <td>85</td>\n",
       "      <td>7.112971</td>\n",
       "    </tr>\n",
       "    <tr>\n",
       "      <th>0</th>\n",
       "      <td>12344</td>\n",
       "      <td>931</td>\n",
       "      <td>7.542126</td>\n",
       "    </tr>\n",
       "    <tr>\n",
       "      <th>1</th>\n",
       "      <td>4163</td>\n",
       "      <td>388</td>\n",
       "      <td>9.320202</td>\n",
       "    </tr>\n",
       "    <tr>\n",
       "      <th>4</th>\n",
       "      <td>2810</td>\n",
       "      <td>274</td>\n",
       "      <td>9.750890</td>\n",
       "    </tr>\n",
       "  </tbody>\n",
       "</table>\n",
       "</div>"
      ],
      "text/plain": [
       "                  count  sum  conversion\n",
       "family_status_id                        \n",
       "2                   959   63    6.569343\n",
       "3                  1195   85    7.112971\n",
       "0                 12344  931    7.542126\n",
       "1                  4163  388    9.320202\n",
       "4                  2810  274    9.750890"
      ]
     },
     "execution_count": 34,
     "metadata": {},
     "output_type": "execute_result"
    }
   ],
   "source": [
    "family_status_id_group = data.groupby('family_status_id')['debt'].agg(['count', 'sum'])\n",
    "family_status_id_group['conversion'] = (family_status_id_group['sum'] / family_status_id_group['count']) * 100\n",
    "family_status_id_group.sort_values('conversion')"
   ]
  },
  {
   "cell_type": "markdown",
   "id": "1d3f6a88",
   "metadata": {},
   "source": [
    "##### Вопрос 2:\n",
    "\n",
    "Есть ли зависимость между семейным положением и возвратом кредита в срок?\n",
    "\n"
   ]
  },
  {
   "cell_type": "markdown",
   "id": "885dbfe3",
   "metadata": {},
   "source": [
    "##### Вывод 2:\n",
    "Первым кто имеет не большой процент задолжности кредита это вдовы, на удивление люди в официальном браке остаются в небольшом проценте чем люди в разводе. Так что да, зависимость есть."
   ]
  },
  {
   "cell_type": "code",
   "execution_count": 35,
   "id": "886fae0a",
   "metadata": {},
   "outputs": [
    {
     "data": {
      "text/html": [
       "<div>\n",
       "<style scoped>\n",
       "    .dataframe tbody tr th:only-of-type {\n",
       "        vertical-align: middle;\n",
       "    }\n",
       "\n",
       "    .dataframe tbody tr th {\n",
       "        vertical-align: top;\n",
       "    }\n",
       "\n",
       "    .dataframe thead th {\n",
       "        text-align: right;\n",
       "    }\n",
       "</style>\n",
       "<table border=\"1\" class=\"dataframe\">\n",
       "  <thead>\n",
       "    <tr style=\"text-align: right;\">\n",
       "      <th></th>\n",
       "      <th>count</th>\n",
       "      <th>sum</th>\n",
       "      <th>conversion</th>\n",
       "    </tr>\n",
       "    <tr>\n",
       "      <th>total_income_category</th>\n",
       "      <th></th>\n",
       "      <th></th>\n",
       "      <th></th>\n",
       "    </tr>\n",
       "  </thead>\n",
       "  <tbody>\n",
       "    <tr>\n",
       "      <th>D</th>\n",
       "      <td>350</td>\n",
       "      <td>21</td>\n",
       "      <td>6.000000</td>\n",
       "    </tr>\n",
       "    <tr>\n",
       "      <th>B</th>\n",
       "      <td>5041</td>\n",
       "      <td>356</td>\n",
       "      <td>7.062091</td>\n",
       "    </tr>\n",
       "    <tr>\n",
       "      <th>A</th>\n",
       "      <td>25</td>\n",
       "      <td>2</td>\n",
       "      <td>8.000000</td>\n",
       "    </tr>\n",
       "    <tr>\n",
       "      <th>C</th>\n",
       "      <td>16033</td>\n",
       "      <td>1360</td>\n",
       "      <td>8.482505</td>\n",
       "    </tr>\n",
       "    <tr>\n",
       "      <th>E</th>\n",
       "      <td>22</td>\n",
       "      <td>2</td>\n",
       "      <td>9.090909</td>\n",
       "    </tr>\n",
       "  </tbody>\n",
       "</table>\n",
       "</div>"
      ],
      "text/plain": [
       "                       count   sum  conversion\n",
       "total_income_category                         \n",
       "D                        350    21    6.000000\n",
       "B                       5041   356    7.062091\n",
       "A                         25     2    8.000000\n",
       "C                      16033  1360    8.482505\n",
       "E                         22     2    9.090909"
      ]
     },
     "execution_count": 35,
     "metadata": {},
     "output_type": "execute_result"
    }
   ],
   "source": [
    "total_income_category_group = data.groupby('total_income_category')['debt'].agg(['count', 'sum'])\n",
    "total_income_category_group['conversion'] = (total_income_category_group['sum'] / total_income_category_group['count']) * 100\n",
    "total_income_category_group.sort_values('conversion')"
   ]
  },
  {
   "cell_type": "code",
   "execution_count": null,
   "id": "66f13c1e",
   "metadata": {},
   "outputs": [],
   "source": [
    "info = data.merge(fam, on='family_status_id')\n",
    "data_temp = info.pivot_table(index='family_status', values='debt', aggfunc=['count', 'sum', 'mean'])\n",
    "data_temp.columns = ['Всего кредитополучателей', 'Всего должников', 'Доля должников']\n",
    "display(data_temp)"
   ]
  },
  {
   "cell_type": "markdown",
   "id": "e1603689",
   "metadata": {},
   "source": [
    "##### Вопрос 3:\n",
    "\n",
    "Есть ли зависимость между уровнем дохода и возвратом кредита в срок?\n",
    "\n"
   ]
  },
  {
   "cell_type": "markdown",
   "id": "efe4727c",
   "metadata": {},
   "source": [
    "##### Вывод 3:\n",
    "На удивление, люди миллионеры имеют % задожности больше чем у людей зарпалата от 30К до 50К. "
   ]
  },
  {
   "cell_type": "code",
   "execution_count": null,
   "id": "62e3241e",
   "metadata": {},
   "outputs": [],
   "source": [
    "purpose_category_group = data.groupby('purpose_category')['debt'].agg(['count', 'sum'])\n",
    "purpose_category_group['conversion'] = (purpose_category_group['sum'] / purpose_category_group['count']) * 100\n",
    "purpose_category_group.sort_values('conversion')"
   ]
  },
  {
   "cell_type": "markdown",
   "id": "b596e9bb",
   "metadata": {},
   "source": [
    "##### Вопрос 4:\n",
    "\n",
    "Как разные цели кредита влияют на его возврат в срок?\n",
    "\n"
   ]
  },
  {
   "cell_type": "markdown",
   "id": "572a35d5",
   "metadata": {},
   "source": [
    "##### Вывод 4:\n",
    "Это правильно, что люди с целью приобрести недвижимость имеют наименьший процент по задолжности, это отличный вариант. А вот люди берущие для образование и авто нарушают выплоты кредита."
   ]
  },
  {
   "cell_type": "markdown",
   "id": "945ada91",
   "metadata": {},
   "source": [
    "## Общий вывод:"
   ]
  },
  {
   "cell_type": "markdown",
   "id": "6e541a33",
   "metadata": {},
   "source": [
    "Общий вывод таков:\n",
    "\n",
    "Надежными клиентами которые показали низкий процент по задолжностям являются люди не имеющих детей, которые ставят цель приобрести недвижимость, имеют среднюю заработную плату по России и отдельно люди вдовы.\n",
    "\n",
    "Не надежными клиентами являются с целью приобрести авто, с з/п до 30К и который состоят в простых отношениях, но при этом могут иметь по 1-2 ребенка."
   ]
  }
 ],
 "metadata": {
  "ExecuteTimeLog": [
   {
    "duration": 48,
    "start_time": "2022-05-01T21:51:12.891Z"
   },
   {
    "duration": 435,
    "start_time": "2022-05-01T21:51:20.972Z"
   },
   {
    "duration": 0,
    "start_time": "2022-05-01T21:51:21.410Z"
   },
   {
    "duration": 0,
    "start_time": "2022-05-01T21:51:21.411Z"
   },
   {
    "duration": 0,
    "start_time": "2022-05-01T21:51:21.412Z"
   },
   {
    "duration": 0,
    "start_time": "2022-05-01T21:51:21.413Z"
   },
   {
    "duration": 0,
    "start_time": "2022-05-01T21:51:21.414Z"
   },
   {
    "duration": 0,
    "start_time": "2022-05-01T21:51:21.414Z"
   },
   {
    "duration": 0,
    "start_time": "2022-05-01T21:51:21.415Z"
   },
   {
    "duration": 0,
    "start_time": "2022-05-01T21:51:21.416Z"
   },
   {
    "duration": 0,
    "start_time": "2022-05-01T21:51:21.417Z"
   },
   {
    "duration": 0,
    "start_time": "2022-05-01T21:51:21.418Z"
   },
   {
    "duration": 0,
    "start_time": "2022-05-01T21:51:21.419Z"
   },
   {
    "duration": 0,
    "start_time": "2022-05-01T21:51:21.420Z"
   },
   {
    "duration": 0,
    "start_time": "2022-05-01T21:51:21.421Z"
   },
   {
    "duration": 0,
    "start_time": "2022-05-01T21:51:21.422Z"
   },
   {
    "duration": 0,
    "start_time": "2022-05-01T21:51:21.422Z"
   },
   {
    "duration": 0,
    "start_time": "2022-05-01T21:51:21.423Z"
   },
   {
    "duration": 0,
    "start_time": "2022-05-01T21:51:21.425Z"
   },
   {
    "duration": 0,
    "start_time": "2022-05-01T21:51:21.425Z"
   },
   {
    "duration": 0,
    "start_time": "2022-05-01T21:51:21.426Z"
   },
   {
    "duration": 0,
    "start_time": "2022-05-01T21:51:21.427Z"
   },
   {
    "duration": 0,
    "start_time": "2022-05-01T21:51:21.428Z"
   },
   {
    "duration": 0,
    "start_time": "2022-05-01T21:51:21.429Z"
   },
   {
    "duration": 0,
    "start_time": "2022-05-01T21:51:21.430Z"
   },
   {
    "duration": 0,
    "start_time": "2022-05-01T21:51:21.431Z"
   },
   {
    "duration": 0,
    "start_time": "2022-05-01T21:51:21.432Z"
   },
   {
    "duration": 0,
    "start_time": "2022-05-01T21:51:21.433Z"
   },
   {
    "duration": 0,
    "start_time": "2022-05-01T21:51:21.434Z"
   },
   {
    "duration": 0,
    "start_time": "2022-05-01T21:51:21.473Z"
   },
   {
    "duration": 0,
    "start_time": "2022-05-01T21:51:21.474Z"
   },
   {
    "duration": 0,
    "start_time": "2022-05-01T21:51:21.475Z"
   },
   {
    "duration": 0,
    "start_time": "2022-05-01T21:51:21.477Z"
   },
   {
    "duration": 0,
    "start_time": "2022-05-01T21:51:21.477Z"
   },
   {
    "duration": 0,
    "start_time": "2022-05-01T21:51:21.478Z"
   },
   {
    "duration": 0,
    "start_time": "2022-05-01T21:51:21.479Z"
   },
   {
    "duration": 0,
    "start_time": "2022-05-01T21:51:21.480Z"
   },
   {
    "duration": 0,
    "start_time": "2022-05-01T21:51:21.481Z"
   },
   {
    "duration": 474,
    "start_time": "2022-05-01T21:51:28.772Z"
   },
   {
    "duration": 0,
    "start_time": "2022-05-01T21:51:29.250Z"
   },
   {
    "duration": 0,
    "start_time": "2022-05-01T21:51:29.251Z"
   },
   {
    "duration": 0,
    "start_time": "2022-05-01T21:51:29.253Z"
   },
   {
    "duration": 0,
    "start_time": "2022-05-01T21:51:29.254Z"
   },
   {
    "duration": 0,
    "start_time": "2022-05-01T21:51:29.255Z"
   },
   {
    "duration": 0,
    "start_time": "2022-05-01T21:51:29.257Z"
   },
   {
    "duration": 0,
    "start_time": "2022-05-01T21:51:29.258Z"
   },
   {
    "duration": 0,
    "start_time": "2022-05-01T21:51:29.260Z"
   },
   {
    "duration": 0,
    "start_time": "2022-05-01T21:51:29.273Z"
   },
   {
    "duration": 0,
    "start_time": "2022-05-01T21:51:29.274Z"
   },
   {
    "duration": 0,
    "start_time": "2022-05-01T21:51:29.276Z"
   },
   {
    "duration": 0,
    "start_time": "2022-05-01T21:51:29.277Z"
   },
   {
    "duration": 0,
    "start_time": "2022-05-01T21:51:29.278Z"
   },
   {
    "duration": 0,
    "start_time": "2022-05-01T21:51:29.280Z"
   },
   {
    "duration": 0,
    "start_time": "2022-05-01T21:51:29.281Z"
   },
   {
    "duration": 0,
    "start_time": "2022-05-01T21:51:29.282Z"
   },
   {
    "duration": 0,
    "start_time": "2022-05-01T21:51:29.284Z"
   },
   {
    "duration": 0,
    "start_time": "2022-05-01T21:51:29.285Z"
   },
   {
    "duration": 0,
    "start_time": "2022-05-01T21:51:29.286Z"
   },
   {
    "duration": 0,
    "start_time": "2022-05-01T21:51:29.288Z"
   },
   {
    "duration": 0,
    "start_time": "2022-05-01T21:51:29.288Z"
   },
   {
    "duration": 0,
    "start_time": "2022-05-01T21:51:29.289Z"
   },
   {
    "duration": 0,
    "start_time": "2022-05-01T21:51:29.290Z"
   },
   {
    "duration": 0,
    "start_time": "2022-05-01T21:51:29.292Z"
   },
   {
    "duration": 0,
    "start_time": "2022-05-01T21:51:29.293Z"
   },
   {
    "duration": 0,
    "start_time": "2022-05-01T21:51:29.293Z"
   },
   {
    "duration": 0,
    "start_time": "2022-05-01T21:51:29.294Z"
   },
   {
    "duration": 0,
    "start_time": "2022-05-01T21:51:29.295Z"
   },
   {
    "duration": 0,
    "start_time": "2022-05-01T21:51:29.296Z"
   },
   {
    "duration": 0,
    "start_time": "2022-05-01T21:51:29.297Z"
   },
   {
    "duration": 1,
    "start_time": "2022-05-01T21:51:29.297Z"
   },
   {
    "duration": 0,
    "start_time": "2022-05-01T21:51:29.298Z"
   },
   {
    "duration": 0,
    "start_time": "2022-05-01T21:51:29.299Z"
   },
   {
    "duration": 0,
    "start_time": "2022-05-01T21:51:29.300Z"
   },
   {
    "duration": 0,
    "start_time": "2022-05-01T21:51:29.301Z"
   },
   {
    "duration": 0,
    "start_time": "2022-05-01T21:51:29.302Z"
   },
   {
    "duration": 7,
    "start_time": "2022-05-01T21:51:33.451Z"
   },
   {
    "duration": 13,
    "start_time": "2022-05-01T21:52:32.556Z"
   },
   {
    "duration": 13,
    "start_time": "2022-05-01T22:04:56.522Z"
   }
  ],
  "kernelspec": {
   "display_name": "Python 3 (ipykernel)",
   "language": "python",
   "name": "python3"
  },
  "language_info": {
   "codemirror_mode": {
    "name": "ipython",
    "version": 3
   },
   "file_extension": ".py",
   "mimetype": "text/x-python",
   "name": "python",
   "nbconvert_exporter": "python",
   "pygments_lexer": "ipython3",
   "version": "3.9.7"
  },
  "toc": {
   "base_numbering": 1,
   "nav_menu": {},
   "number_sections": true,
   "sideBar": true,
   "skip_h1_title": true,
   "title_cell": "Table of Contents",
   "title_sidebar": "Contents",
   "toc_cell": false,
   "toc_position": {},
   "toc_section_display": true,
   "toc_window_display": false
  }
 },
 "nbformat": 4,
 "nbformat_minor": 5
}
