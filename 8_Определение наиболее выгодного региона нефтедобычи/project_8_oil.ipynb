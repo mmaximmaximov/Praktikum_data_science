{
 "cells": [
  {
   "cell_type": "markdown",
   "id": "974c101a",
   "metadata": {},
   "source": [
    "# Описание проекта\n",
    "Допустим, вы работаете в добывающей компании «ГлавРосГосНефть». Нужно решить, где бурить новую скважину.\n",
    "\n",
    "        Шаги для выбора локации обычно такие:\n",
    "- В избранном регионе собирают характеристики для скважин: качество нефти и объём её запасов;\n",
    "- Строят модель для предсказания объёма запасов в новых скважинах;\n",
    "- Выбирают скважины с самыми высокими оценками значений;\n",
    "- Определяют регион с максимальной суммарной прибылью отобранных скважин.\n",
    "\n",
    "Вам предоставлены пробы нефти в трёх регионах. Характеристики для каждой скважины в регионе уже известны. Постройте модель для определения региона, где добыча принесёт наибольшую прибыль. Проанализируйте возможную прибыль и риски техникой Bootstrap."
   ]
  },
  {
   "cell_type": "markdown",
   "id": "0e149f04",
   "metadata": {},
   "source": [
    "# Инструкция по выполнению проекта\n",
    "1. Загрузите и подготовьте данные. Поясните порядок действий.\n",
    "2. Обучите и проверьте модель для каждого региона:\n",
    "- 2.1. Разбейте данные на обучающую и валидационную выборки в соотношении 75:25.\n",
    "- 2.2. Обучите модель и сделайте предсказания на валидационной выборке.\n",
    "- 2.3. Сохраните предсказания и правильные ответы на валидационной выборке.\n",
    "- 2.4. Напечатайте на экране средний запас предсказанного сырья и RMSE модели.\n",
    "- 2.5. Проанализируйте результаты.\n",
    "3. Подготовьтесь к расчёту прибыли:\n",
    "- 3.1. Все ключевые значения для расчётов сохраните в отдельных переменных.\n",
    "- 3.2. Рассчитайте достаточный объём сырья для безубыточной разработки новой скважины. Сравните полученный объём сырья со средним запасом в каждом регионе.\n",
    "- 3.3. Напишите выводы по этапу подготовки расчёта прибыли.\n",
    "4. Напишите функцию для расчёта прибыли по выбранным скважинам и предсказаниям модели:\n",
    "- 4.1. Выберите скважины с максимальными значениями предсказаний.\n",
    "- 4.2. Просуммируйте целевое значение объёма сырья, соответствующее этим предсказаниям.\n",
    "- 4.3. Рассчитайте прибыль для полученного объёма сырья.\n",
    "5. Посчитайте риски и прибыль для каждого региона:\n",
    "- 5.1. Примените технику Bootstrap с 1000 выборок, чтобы найти распределение прибыли.\n",
    "- 5.2. Найдите среднюю прибыль, 95%-й доверительный интервал и риск убытков. Убыток — это отрицательная прибыль.\n",
    "- 5.3. Напишите выводы: предложите регион для разработки скважин и обоснуйте выбор."
   ]
  },
  {
   "cell_type": "markdown",
   "id": "6e90905f",
   "metadata": {},
   "source": [
    "# Описание данных\n",
    "- id — уникальный идентификатор скважины;\n",
    "- f0, f1, f2 — три признака точек (неважно, что они означают, но сами признаки значимы);\n",
    "- product — объём запасов в скважине (тыс. баррелей)."
   ]
  },
  {
   "cell_type": "markdown",
   "id": "48896b81",
   "metadata": {},
   "source": [
    "# Условия задачи:\n",
    "- Для обучения модели подходит только линейная регрессия (остальные — недостаточно предсказуемые).\n",
    "- При разведке региона исследуют 500 точек, из которых с помощью машинного обучения выбирают 200 лучших для разработки.\n",
    "- Бюджет на разработку скважин в регионе — 10 млрд рублей.\n",
    "- При нынешних ценах один баррель сырья приносит 450 рублей дохода. Доход с каждой единицы продукта составляет 450 тыс. рублей, поскольку объём указан в тысячах баррелей.\n",
    "- После оценки рисков нужно оставить лишь те регионы, в которых вероятность убытков меньше 2.5%. Среди них выбирают регион с наибольшей средней прибылью.\n",
    "- Данные синтетические: детали контрактов и характеристики месторождений не разглашаются."
   ]
  },
  {
   "cell_type": "markdown",
   "id": "7577236e",
   "metadata": {},
   "source": [
    "# 1. Загрузка и подготовка данных"
   ]
  },
  {
   "cell_type": "code",
   "execution_count": 1,
   "id": "af2d3400",
   "metadata": {},
   "outputs": [],
   "source": [
    "# Испортируем все нужные библиотки для дальнейшего анализа\n",
    "import pandas as pd\n",
    "import numpy as np \n",
    "from sklearn.model_selection import train_test_split\n",
    "from sklearn.linear_model import LinearRegression\n",
    "from sklearn.utils import shuffle \n",
    "from sklearn.metrics import mean_squared_error\n",
    "from sklearn.preprocessing import StandardScaler"
   ]
  },
  {
   "cell_type": "code",
   "execution_count": 2,
   "id": "c8b116c5",
   "metadata": {},
   "outputs": [],
   "source": [
    "# Откроем таблицу двумя путями\n",
    "server_oil_0 = '/datasets/geo_data_0.csv'\n",
    "local_oil_0 = '/Users/mmaximmaximovgmail.com/Desktop/DS/project_8/geo_data_0.csv'\n",
    "\n",
    "try:\n",
    "    oil_0 = pd.read_csv(server_oil_0)\n",
    "except:\n",
    "    oil_0 = pd.read_csv(local_oil_0)\n",
    "    \n",
    "server_oil_1 = '/datasets/geo_data_1.csv'\n",
    "local_oil_1 = '/Users/mmaximmaximovgmail.com/Desktop/DS/project_8/geo_data_1.csv'\n",
    "\n",
    "try:\n",
    "    oil_1 = pd.read_csv(server_oil_1)\n",
    "except:\n",
    "    oil_1 = pd.read_csv(local_oil_1)\n",
    "\n",
    "server_oil_2 = '/datasets/geo_data_2.csv'\n",
    "local_oil_2 = '/Users/mmaximmaximovgmail.com/Desktop/DS/project_8/geo_data_2.csv'\n",
    "\n",
    "try:\n",
    "    oil_2 = pd.read_csv(server_oil_2)\n",
    "except:\n",
    "    oil_2 = pd.read_csv(local_oil_2)"
   ]
  },
  {
   "cell_type": "code",
   "execution_count": 3,
   "id": "feff39df",
   "metadata": {},
   "outputs": [
    {
     "data": {
      "text/html": [
       "<div>\n",
       "<style scoped>\n",
       "    .dataframe tbody tr th:only-of-type {\n",
       "        vertical-align: middle;\n",
       "    }\n",
       "\n",
       "    .dataframe tbody tr th {\n",
       "        vertical-align: top;\n",
       "    }\n",
       "\n",
       "    .dataframe thead th {\n",
       "        text-align: right;\n",
       "    }\n",
       "</style>\n",
       "<table border=\"1\" class=\"dataframe\">\n",
       "  <thead>\n",
       "    <tr style=\"text-align: right;\">\n",
       "      <th></th>\n",
       "      <th>id</th>\n",
       "      <th>f0</th>\n",
       "      <th>f1</th>\n",
       "      <th>f2</th>\n",
       "      <th>product</th>\n",
       "    </tr>\n",
       "  </thead>\n",
       "  <tbody>\n",
       "    <tr>\n",
       "      <th>53751</th>\n",
       "      <td>4hfp3</td>\n",
       "      <td>0.468881</td>\n",
       "      <td>-0.332820</td>\n",
       "      <td>0.943622</td>\n",
       "      <td>173.709369</td>\n",
       "    </tr>\n",
       "    <tr>\n",
       "      <th>95024</th>\n",
       "      <td>qzFN6</td>\n",
       "      <td>0.367129</td>\n",
       "      <td>1.043043</td>\n",
       "      <td>4.052270</td>\n",
       "      <td>74.971991</td>\n",
       "    </tr>\n",
       "    <tr>\n",
       "      <th>44717</th>\n",
       "      <td>o8W0Z</td>\n",
       "      <td>0.215729</td>\n",
       "      <td>-0.091112</td>\n",
       "      <td>0.142734</td>\n",
       "      <td>36.968139</td>\n",
       "    </tr>\n",
       "  </tbody>\n",
       "</table>\n",
       "</div>"
      ],
      "text/plain": [
       "          id        f0        f1        f2     product\n",
       "53751  4hfp3  0.468881 -0.332820  0.943622  173.709369\n",
       "95024  qzFN6  0.367129  1.043043  4.052270   74.971991\n",
       "44717  o8W0Z  0.215729 -0.091112  0.142734   36.968139"
      ]
     },
     "metadata": {},
     "output_type": "display_data"
    },
    {
     "name": "stdout",
     "output_type": "stream",
     "text": [
      "<class 'pandas.core.frame.DataFrame'>\n",
      "RangeIndex: 100000 entries, 0 to 99999\n",
      "Data columns (total 5 columns):\n",
      " #   Column   Non-Null Count   Dtype  \n",
      "---  ------   --------------   -----  \n",
      " 0   id       100000 non-null  object \n",
      " 1   f0       100000 non-null  float64\n",
      " 2   f1       100000 non-null  float64\n",
      " 3   f2       100000 non-null  float64\n",
      " 4   product  100000 non-null  float64\n",
      "dtypes: float64(4), object(1)\n",
      "memory usage: 3.8+ MB\n"
     ]
    },
    {
     "data": {
      "text/plain": [
       "None"
      ]
     },
     "metadata": {},
     "output_type": "display_data"
    },
    {
     "data": {
      "text/html": [
       "<div>\n",
       "<style scoped>\n",
       "    .dataframe tbody tr th:only-of-type {\n",
       "        vertical-align: middle;\n",
       "    }\n",
       "\n",
       "    .dataframe tbody tr th {\n",
       "        vertical-align: top;\n",
       "    }\n",
       "\n",
       "    .dataframe thead th {\n",
       "        text-align: right;\n",
       "    }\n",
       "</style>\n",
       "<table border=\"1\" class=\"dataframe\">\n",
       "  <thead>\n",
       "    <tr style=\"text-align: right;\">\n",
       "      <th></th>\n",
       "      <th>id</th>\n",
       "      <th>f0</th>\n",
       "      <th>f1</th>\n",
       "      <th>f2</th>\n",
       "      <th>product</th>\n",
       "    </tr>\n",
       "  </thead>\n",
       "  <tbody>\n",
       "    <tr>\n",
       "      <th>5894</th>\n",
       "      <td>rosKk</td>\n",
       "      <td>-6.952827</td>\n",
       "      <td>-9.017009</td>\n",
       "      <td>2.997788</td>\n",
       "      <td>84.038886</td>\n",
       "    </tr>\n",
       "    <tr>\n",
       "      <th>11138</th>\n",
       "      <td>Sbt4M</td>\n",
       "      <td>7.744215</td>\n",
       "      <td>-8.172707</td>\n",
       "      <td>5.000058</td>\n",
       "      <td>134.766305</td>\n",
       "    </tr>\n",
       "    <tr>\n",
       "      <th>46074</th>\n",
       "      <td>N5uxp</td>\n",
       "      <td>2.971350</td>\n",
       "      <td>-12.042381</td>\n",
       "      <td>1.998653</td>\n",
       "      <td>57.085625</td>\n",
       "    </tr>\n",
       "  </tbody>\n",
       "</table>\n",
       "</div>"
      ],
      "text/plain": [
       "          id        f0         f1        f2     product\n",
       "5894   rosKk -6.952827  -9.017009  2.997788   84.038886\n",
       "11138  Sbt4M  7.744215  -8.172707  5.000058  134.766305\n",
       "46074  N5uxp  2.971350 -12.042381  1.998653   57.085625"
      ]
     },
     "metadata": {},
     "output_type": "display_data"
    },
    {
     "name": "stdout",
     "output_type": "stream",
     "text": [
      "<class 'pandas.core.frame.DataFrame'>\n",
      "RangeIndex: 100000 entries, 0 to 99999\n",
      "Data columns (total 5 columns):\n",
      " #   Column   Non-Null Count   Dtype  \n",
      "---  ------   --------------   -----  \n",
      " 0   id       100000 non-null  object \n",
      " 1   f0       100000 non-null  float64\n",
      " 2   f1       100000 non-null  float64\n",
      " 3   f2       100000 non-null  float64\n",
      " 4   product  100000 non-null  float64\n",
      "dtypes: float64(4), object(1)\n",
      "memory usage: 3.8+ MB\n"
     ]
    },
    {
     "data": {
      "text/plain": [
       "None"
      ]
     },
     "metadata": {},
     "output_type": "display_data"
    },
    {
     "data": {
      "text/html": [
       "<div>\n",
       "<style scoped>\n",
       "    .dataframe tbody tr th:only-of-type {\n",
       "        vertical-align: middle;\n",
       "    }\n",
       "\n",
       "    .dataframe tbody tr th {\n",
       "        vertical-align: top;\n",
       "    }\n",
       "\n",
       "    .dataframe thead th {\n",
       "        text-align: right;\n",
       "    }\n",
       "</style>\n",
       "<table border=\"1\" class=\"dataframe\">\n",
       "  <thead>\n",
       "    <tr style=\"text-align: right;\">\n",
       "      <th></th>\n",
       "      <th>id</th>\n",
       "      <th>f0</th>\n",
       "      <th>f1</th>\n",
       "      <th>f2</th>\n",
       "      <th>product</th>\n",
       "    </tr>\n",
       "  </thead>\n",
       "  <tbody>\n",
       "    <tr>\n",
       "      <th>34418</th>\n",
       "      <td>uAPQe</td>\n",
       "      <td>2.454177</td>\n",
       "      <td>-3.020657</td>\n",
       "      <td>4.745727</td>\n",
       "      <td>166.217323</td>\n",
       "    </tr>\n",
       "    <tr>\n",
       "      <th>28940</th>\n",
       "      <td>ul26s</td>\n",
       "      <td>1.735628</td>\n",
       "      <td>0.271190</td>\n",
       "      <td>3.243407</td>\n",
       "      <td>17.776241</td>\n",
       "    </tr>\n",
       "    <tr>\n",
       "      <th>40633</th>\n",
       "      <td>y8V7b</td>\n",
       "      <td>-0.129294</td>\n",
       "      <td>1.989403</td>\n",
       "      <td>4.574698</td>\n",
       "      <td>81.957168</td>\n",
       "    </tr>\n",
       "  </tbody>\n",
       "</table>\n",
       "</div>"
      ],
      "text/plain": [
       "          id        f0        f1        f2     product\n",
       "34418  uAPQe  2.454177 -3.020657  4.745727  166.217323\n",
       "28940  ul26s  1.735628  0.271190  3.243407   17.776241\n",
       "40633  y8V7b -0.129294  1.989403  4.574698   81.957168"
      ]
     },
     "metadata": {},
     "output_type": "display_data"
    },
    {
     "name": "stdout",
     "output_type": "stream",
     "text": [
      "<class 'pandas.core.frame.DataFrame'>\n",
      "RangeIndex: 100000 entries, 0 to 99999\n",
      "Data columns (total 5 columns):\n",
      " #   Column   Non-Null Count   Dtype  \n",
      "---  ------   --------------   -----  \n",
      " 0   id       100000 non-null  object \n",
      " 1   f0       100000 non-null  float64\n",
      " 2   f1       100000 non-null  float64\n",
      " 3   f2       100000 non-null  float64\n",
      " 4   product  100000 non-null  float64\n",
      "dtypes: float64(4), object(1)\n",
      "memory usage: 3.8+ MB\n"
     ]
    },
    {
     "data": {
      "text/plain": [
       "None"
      ]
     },
     "metadata": {},
     "output_type": "display_data"
    }
   ],
   "source": [
    "# Выводим рандомные 3 строки и типы/кол-во пропусков трех таблицы\n",
    "display(oil_0.sample(3))\n",
    "display(oil_0.info())\n",
    "display(oil_1.sample(3))\n",
    "display(oil_1.info())\n",
    "display(oil_2.sample(3))\n",
    "display(oil_2.info())"
   ]
  },
  {
   "cell_type": "code",
   "execution_count": 4,
   "id": "85c585bd",
   "metadata": {},
   "outputs": [
    {
     "data": {
      "text/plain": [
       "(100000, 4)"
      ]
     },
     "metadata": {},
     "output_type": "display_data"
    },
    {
     "data": {
      "text/plain": [
       "(100000, 4)"
      ]
     },
     "metadata": {},
     "output_type": "display_data"
    },
    {
     "data": {
      "text/plain": [
       "(100000, 4)"
      ]
     },
     "metadata": {},
     "output_type": "display_data"
    }
   ],
   "source": [
    "# Видим, что с даными все в порядке, но для более хорошей работы, я удалю ненужную колонку id с каждой таблицы\n",
    "# inplace=True помогает сразу внести изменения в ту же самую перменную\n",
    "oil_0.drop(['id'], axis=1, inplace=True)\n",
    "oil_1.drop(['id'], axis=1, inplace=True)\n",
    "oil_2.drop(['id'], axis=1, inplace=True)\n",
    "# Проверяем, удалилась ли колонка\n",
    "display(oil_0.shape)\n",
    "display(oil_1.shape)\n",
    "display(oil_2.shape)"
   ]
  },
  {
   "cell_type": "markdown",
   "id": "c711c0fe",
   "metadata": {},
   "source": [
    "### Мини вывод по 1 шагу\n",
    "- Все данные проверенны, нет пропусков и типы колонок верны\n",
    "- Удалили не нужную колонку"
   ]
  },
  {
   "cell_type": "markdown",
   "id": "6d87b0ae",
   "metadata": {},
   "source": [
    "# 2. Обучение и проверка модели"
   ]
  },
  {
   "cell_type": "code",
   "execution_count": 5,
   "id": "2446f4b9",
   "metadata": {},
   "outputs": [
    {
     "data": {
      "text/plain": [
       "(75000, 3)"
      ]
     },
     "metadata": {},
     "output_type": "display_data"
    },
    {
     "data": {
      "text/plain": [
       "(75000,)"
      ]
     },
     "metadata": {},
     "output_type": "display_data"
    },
    {
     "data": {
      "text/plain": [
       "(25000, 3)"
      ]
     },
     "metadata": {},
     "output_type": "display_data"
    },
    {
     "data": {
      "text/plain": [
       "(25000,)"
      ]
     },
     "metadata": {},
     "output_type": "display_data"
    }
   ],
   "source": [
    "# Разбиваем данные на выборку обущающей и валидационную, в соотношении 75:25\n",
    "\n",
    "# Сначала для oil_0\n",
    "\n",
    "feature_0 = oil_0.drop('product', axis=1)\n",
    "target_0 = oil_0['product']\n",
    "\n",
    "feature_train_0, feature_valid_0, target_train_0, target_valid_0 = train_test_split(\n",
    "    feature_0, target_0, random_state=12345, test_size=0.25\n",
    ")\n",
    "display(feature_train_0.shape, target_train_0.shape)\n",
    "display(feature_valid_0.shape, target_valid_0.shape)"
   ]
  },
  {
   "cell_type": "code",
   "execution_count": 6,
   "id": "d57c736c",
   "metadata": {},
   "outputs": [
    {
     "name": "stdout",
     "output_type": "stream",
     "text": [
      "RMSE модельной регрессии на валидационной выборке: 37.5794217150813\n",
      "Mean средний запас предсказанного сырья: 92.59256778438035\n"
     ]
    }
   ],
   "source": [
    "# Создаем модель где найдем средний запас через mean и RMSE модели для oil_0\n",
    "model = LinearRegression()\n",
    "model.fit(feature_train_0, target_train_0)\n",
    "prediction_0 = model.predict(feature_valid_0)\n",
    "#prediction_0 = pd.Series(prediction_0, index=target_0.index)\n",
    "result = mean_squared_error(target_valid_0, prediction_0) ** 0.5\n",
    "print('RMSE модельной регрессии на валидационной выборке:', result)\n",
    "print('Mean средний запас предсказанного сырья:', prediction_0.mean())"
   ]
  },
  {
   "cell_type": "code",
   "execution_count": 7,
   "id": "6b885bb4",
   "metadata": {},
   "outputs": [
    {
     "data": {
      "text/plain": [
       "(75000, 3)"
      ]
     },
     "metadata": {},
     "output_type": "display_data"
    },
    {
     "data": {
      "text/plain": [
       "(75000,)"
      ]
     },
     "metadata": {},
     "output_type": "display_data"
    },
    {
     "data": {
      "text/plain": [
       "(25000, 3)"
      ]
     },
     "metadata": {},
     "output_type": "display_data"
    },
    {
     "data": {
      "text/plain": [
       "(25000,)"
      ]
     },
     "metadata": {},
     "output_type": "display_data"
    }
   ],
   "source": [
    "# Разбиваем данные на выборку обущающей и валидационную, в соотношении 75:25\n",
    "\n",
    "# Для oil_1\n",
    "\n",
    "feature_1 = oil_1.drop('product', axis=1)\n",
    "target_1 = oil_1['product']\n",
    "\n",
    "feature_train_1, feature_valid_1, target_train_1, target_valid_1 = train_test_split(\n",
    "    feature_1, target_1, random_state=12345, test_size=0.25\n",
    ")\n",
    "display(feature_train_1.shape, target_train_1.shape)\n",
    "display(feature_valid_1.shape, target_valid_1.shape)"
   ]
  },
  {
   "cell_type": "code",
   "execution_count": 8,
   "id": "bdec3b56",
   "metadata": {},
   "outputs": [
    {
     "name": "stdout",
     "output_type": "stream",
     "text": [
      "RMSE модельной регрессии на валидационной выборке: 0.893099286775617\n",
      "Mean средний запас предсказанного сырья: 68.728546895446\n"
     ]
    }
   ],
   "source": [
    "# Создаем модель где найдем средний запас через mean и RMSE модели для oil_1\n",
    "model = LinearRegression()\n",
    "model.fit(feature_train_1, target_train_1)\n",
    "prediction_1 = model.predict(feature_valid_1)\n",
    "#prediction_1 = pd.Series(prediction_1)\n",
    "result = mean_squared_error(target_valid_1, prediction_1) ** 0.5\n",
    "print('RMSE модельной регрессии на валидационной выборке:', result)\n",
    "print('Mean средний запас предсказанного сырья:', prediction_1.mean())"
   ]
  },
  {
   "cell_type": "code",
   "execution_count": 9,
   "id": "e467da33",
   "metadata": {},
   "outputs": [
    {
     "data": {
      "text/plain": [
       "(75000, 3)"
      ]
     },
     "metadata": {},
     "output_type": "display_data"
    },
    {
     "data": {
      "text/plain": [
       "(75000,)"
      ]
     },
     "metadata": {},
     "output_type": "display_data"
    },
    {
     "data": {
      "text/plain": [
       "(25000, 3)"
      ]
     },
     "metadata": {},
     "output_type": "display_data"
    },
    {
     "data": {
      "text/plain": [
       "(25000,)"
      ]
     },
     "metadata": {},
     "output_type": "display_data"
    }
   ],
   "source": [
    "# Разбиваем данные на выборку обущающей и валидационную, в соотношении 75:25\n",
    "\n",
    "# Для oil_2\n",
    "\n",
    "feature_2 = oil_2.drop('product', axis=1)\n",
    "target_2 = oil_2['product']\n",
    "\n",
    "feature_train_2, feature_valid_2, target_train_2, target_valid_2 = train_test_split(\n",
    "    feature_2, target_2, random_state=12345, test_size=0.25\n",
    ")\n",
    "display(feature_train_2.shape, target_train_2.shape)\n",
    "display(feature_valid_2.shape, target_valid_2.shape)"
   ]
  },
  {
   "cell_type": "code",
   "execution_count": 10,
   "id": "ab65ca04",
   "metadata": {},
   "outputs": [
    {
     "name": "stdout",
     "output_type": "stream",
     "text": [
      "RMSE модельной регрессии на валидационной выборке: 40.02970873393434\n",
      "Mean средний запас предсказанного сырья: 94.96504596800489\n"
     ]
    }
   ],
   "source": [
    "# Создаем модель где найдем средний запас через mean и RMSE модели для oil_2\n",
    "model = LinearRegression()\n",
    "model.fit(feature_train_2, target_train_2)\n",
    "prediction_2 = model.predict(feature_valid_2)\n",
    "#prediction_2 = pd.Series(prediction_2)\n",
    "result = mean_squared_error(target_valid_2, prediction_2) ** 0.5\n",
    "print('RMSE модельной регрессии на валидационной выборке:', result)\n",
    "print('Mean средний запас предсказанного сырья:', prediction_2.mean())"
   ]
  },
  {
   "cell_type": "markdown",
   "id": "66718c80",
   "metadata": {},
   "source": [
    "### Мини вывод по 2 шагу\n",
    "- Худший показатель по RMSE: 1 и 3 регион, тобишь oil_0 и oil_2\n",
    "- Лучший показатель Mean: так же 3 регион"
   ]
  },
  {
   "cell_type": "markdown",
   "id": "bff63455",
   "metadata": {},
   "source": [
    "# 3. Подготовка к расчёту прибыли"
   ]
  },
  {
   "cell_type": "code",
   "execution_count": 11,
   "id": "a6e9e91b",
   "metadata": {},
   "outputs": [],
   "source": [
    "# Исследуем 500 точек\n",
    "LOC = 500\n",
    "# 200 лучших точек\n",
    "BEST_LOC = 200\n",
    "# Бюджет 10 млрд, возводим 10 в 10 степени\n",
    "MONEY = 10**10\n",
    "# Каждая единица продукта состовляет 450 тыс.\n",
    "BARREL = 450 * 10**3"
   ]
  },
  {
   "cell_type": "code",
   "execution_count": 12,
   "id": "66330924",
   "metadata": {},
   "outputs": [
    {
     "name": "stdout",
     "output_type": "stream",
     "text": [
      "Cредний запас в 1 регионе: 92.50000000000001\n",
      "Cредний запас в 2 регионе: 68.82500000000002\n",
      "Cредний запас в 3 регионе: 95.00000000000004\n"
     ]
    }
   ],
   "source": [
    "# Расчитаем средний сырья в каждом регионе\n",
    "print('Cредний запас в 1 регионе:', oil_0['product'].mean())\n",
    "print('Cредний запас в 2 регионе:', oil_1['product'].mean())\n",
    "print('Cредний запас в 3 регионе:', oil_2['product'].mean())"
   ]
  },
  {
   "cell_type": "code",
   "execution_count": 13,
   "id": "fcb5d7d6",
   "metadata": {},
   "outputs": [
    {
     "name": "stdout",
     "output_type": "stream",
     "text": [
      "Стоимость разработки одного из лучших месторождений: 50000000\n",
      "Точка безубыточности: 111\n",
      "Средний обьем нефти для региона в безубыточности: 22222\n"
     ]
    }
   ],
   "source": [
    "# Стоимость разработки одного месторождения\n",
    "one_point = MONEY/BEST_LOC\n",
    "print(f'Стоимость разработки одного из лучших месторождений: {one_point:.0f}')\n",
    "# Точка безубытоности \n",
    "no_loss = one_point / BARREL\n",
    "print(f'Точка безубыточности: {no_loss:.0f}')\n",
    "# Средний обьем нефти для региона в безубыточности \n",
    "no_loss_loc = MONEY/BARREL\n",
    "print('Средний обьем нефти для региона в безубыточности:', round(no_loss_loc))"
   ]
  },
  {
   "cell_type": "markdown",
   "id": "f9a6bc08",
   "metadata": {},
   "source": [
    "# 4. Расчёт прибыли и рисков "
   ]
  },
  {
   "cell_type": "code",
   "execution_count": 14,
   "id": "b4acf83c",
   "metadata": {},
   "outputs": [
    {
     "name": "stdout",
     "output_type": "stream",
     "text": [
      "Вся информация по первой локции\n",
      "\n",
      "Средняя выручка: 425938527\n",
      "5%-квантиль: -102090095\n",
      "95%-квантиль: 947976353\n",
      "Процент риска: 6.0%\n"
     ]
    }
   ],
   "source": [
    "# Создаем бутстреп для 1 региона\n",
    "\n",
    "def revenue(target_0, probabilities, count):\n",
    "    probabilities = pd.Series(probabilities, index=target_0.index)\n",
    "    probs_sorted = probabilities.sort_values(ascending=False)\n",
    "    selected = target_0[probs_sorted.index][:count]\n",
    "    return selected.sum() * BARREL - MONEY\n",
    "\n",
    "state = np.random.RandomState(12345)  \n",
    "    \n",
    "values_0 = []\n",
    "risk_0 = 0\n",
    "for i in range(1000):\n",
    "    target_subsample_0 = target_valid_0.reset_index(drop=True).sample(500, replace=True, random_state=state)\n",
    "    pred_subsample_0 = prediction_0[target_subsample_0.index]\n",
    "    res_0 = revenue(target_subsample_0, pred_subsample_0, 200)\n",
    "    values_0.append(res_0)\n",
    "    if res_0 < 0:\n",
    "        risk_0 += 1\n",
    "\n",
    "values_0 = pd.Series(values_0)\n",
    "lower_0 = round(values_0.quantile(0.025))\n",
    "upper_0 = round(values_0.quantile(0.975))\n",
    "mean_0 = round(values_0.mean())\n",
    "risk_0 = risk_0 / 1000\n",
    "\n",
    "print('Вся информация по первой локции')\n",
    "print()\n",
    "print(\"Средняя выручка:\", mean_0)\n",
    "print(\"5%-квантиль:\", lower_0)\n",
    "print(\"95%-квантиль:\", upper_0)\n",
    "print(f'Процент риска: {risk_0:.1%}')"
   ]
  },
  {
   "cell_type": "code",
   "execution_count": 15,
   "id": "b36a71a5",
   "metadata": {},
   "outputs": [
    {
     "name": "stdout",
     "output_type": "stream",
     "text": [
      "Вся информация по второй локции\n",
      "\n",
      "Средняя выручка: 515222773\n",
      "5%-квантиль: 68873225\n",
      "95%-квантиль: 931547591\n",
      "Процент риска: 0.0%\n"
     ]
    }
   ],
   "source": [
    "# Создаем бутстреп для 2 региона\n",
    "\n",
    "def revenue(target_1, probabilities, count):\n",
    "    probabilities = pd.Series(probabilities, index=target_1.index)\n",
    "    probs_sorted = probabilities.sort_values(ascending=False)\n",
    "    selected = target_1[probs_sorted.index][:count]\n",
    "    return selected.sum() * BARREL - MONEY\n",
    "\n",
    "state = np.random.RandomState(12345)  \n",
    "    \n",
    "values_1 = []\n",
    "risk_1 = 0\n",
    "for i in range(1000):\n",
    "    target_subsample_1 = target_valid_1.reset_index(drop=True).sample(500, replace=True, random_state=state)\n",
    "    pred_subsample_1 = prediction_1[target_subsample_1.index]\n",
    "    res_1 = revenue(target_subsample_1, pred_subsample_1, 200)\n",
    "    values_1.append(res_1)\n",
    "    if res_1 < 0:\n",
    "        risk_1 += 1\n",
    "\n",
    "values_1 = pd.Series(values_1)\n",
    "lower_1 = round(values_1.quantile(0.025))\n",
    "upper_1 = round(values_1.quantile(0.975))\n",
    "mean_1 = round(values_1.mean())\n",
    "risk_1 = risk_0 / 1000\n",
    "\n",
    "print('Вся информация по второй локции')\n",
    "print()\n",
    "print(\"Средняя выручка:\", mean_1)\n",
    "print(\"5%-квантиль:\", lower_1)\n",
    "print(\"95%-квантиль:\", upper_1)\n",
    "print(f'Процент риска: {risk_1:.1%}')"
   ]
  },
  {
   "cell_type": "code",
   "execution_count": 16,
   "id": "75a4d512",
   "metadata": {},
   "outputs": [
    {
     "name": "stdout",
     "output_type": "stream",
     "text": [
      "Вся информация по третьей локции\n",
      "\n",
      "Средняя выручка: 435008363\n",
      "5%-квантиль: -128880547\n",
      "95%-квантиль: 969706954\n",
      "Процент риска: 6.4%\n"
     ]
    }
   ],
   "source": [
    "# Создаем бутстреп для 3 региона\n",
    "\n",
    "def revenue(target_2, probabilities, count):\n",
    "    probabilities = pd.Series(probabilities, index=target_2.index)\n",
    "    probs_sorted = probabilities.sort_values(ascending=False)\n",
    "    selected = target_2[probs_sorted.index][:count]\n",
    "    return selected.sum() * BARREL - MONEY\n",
    "\n",
    "state = np.random.RandomState(12345)  \n",
    "    \n",
    "values_2 = []\n",
    "risk_2 = 0\n",
    "for i in range(1000):\n",
    "    target_subsample_2 = target_valid_2.reset_index(drop=True).sample(500, replace=True, random_state=state)\n",
    "    pred_subsample_2 = prediction_2[target_subsample_2.index]\n",
    "    res_2 = revenue(target_subsample_2, pred_subsample_2, 200)\n",
    "    values_2.append(res_2)\n",
    "    if res_2 < 0:\n",
    "        risk_2 += 1\n",
    "\n",
    "values_2 = pd.Series(values_2)\n",
    "lower_2 = round(values_2.quantile(0.025))\n",
    "upper_2 = round(values_2.quantile(0.975))\n",
    "mean_2 = round(values_2.mean())\n",
    "risk_2 = risk_2 / 1000\n",
    "\n",
    "print('Вся информация по третьей локции')\n",
    "print()\n",
    "print(\"Средняя выручка:\", mean_2)\n",
    "print(\"5%-квантиль:\", lower_2)\n",
    "print(\"95%-квантиль:\", upper_2)\n",
    "print(f'Процент риска: {risk_2:.1%}')"
   ]
  },
  {
   "cell_type": "markdown",
   "id": "0282da34",
   "metadata": {},
   "source": [
    "# 5. Вывод"
   ]
  },
  {
   "cell_type": "markdown",
   "id": "cf2aa3d9",
   "metadata": {},
   "source": [
    "В данной работе главное задачей было обучить модель для каждого региона, и что я получил:\n",
    "- Во первых это конечно загрузили все нужные мне библиотеки, присвоил для каждого региона свои перменные, сделал первичный анализ и удалил не нужные строки в столбцах\n",
    "- Далее я для каждого региона разбил данные на выборки: обучающую и валидационную, в соотношение 75:25\n",
    "- После выборки я посчитал среднее значение (mean) и RMSE, так же для каждого региона\n",
    "- В третьем шаге я присвоил новые переменные и расчитал:\n",
    "    1. Точку безубыточности\n",
    "    2. Стоимость разработки одной из лучших точек\n",
    "    3. Средний обьем нефти для региона в безубыточности \n",
    "- И в последнем шагу было расчитанна: средняя выручка, 5% и 95% квантиль, процент риска\n",
    "- По итогу, с наименьшим процентом риска и наибольшей средней выручкой, выходит 2 регион или geo_data_1, она показала наиболее лучшие значения чем 1 и 3 регион"
   ]
  }
 ],
 "metadata": {
  "ExecuteTimeLog": [
   {
    "duration": 2727,
    "start_time": "2022-07-11T13:29:11.771Z"
   },
   {
    "duration": 3033,
    "start_time": "2022-07-11T13:29:14.500Z"
   },
   {
    "duration": 62,
    "start_time": "2022-07-11T13:29:17.534Z"
   },
   {
    "duration": 18,
    "start_time": "2022-07-11T13:29:17.598Z"
   },
   {
    "duration": 39,
    "start_time": "2022-07-11T13:29:17.617Z"
   },
   {
    "duration": 16,
    "start_time": "2022-07-11T13:29:17.658Z"
   },
   {
    "duration": 182,
    "start_time": "2022-07-11T13:29:17.675Z"
   },
   {
    "duration": 94,
    "start_time": "2022-07-11T13:29:17.858Z"
   },
   {
    "duration": 108,
    "start_time": "2022-07-11T13:29:17.954Z"
   },
   {
    "duration": 14,
    "start_time": "2022-07-11T13:29:18.064Z"
   },
   {
    "duration": 75,
    "start_time": "2022-07-11T13:29:18.079Z"
   },
   {
    "duration": 106,
    "start_time": "2022-07-11T13:29:18.155Z"
   },
   {
    "duration": 5,
    "start_time": "2022-07-11T13:29:18.263Z"
   },
   {
    "duration": 107,
    "start_time": "2022-07-11T13:29:18.270Z"
   },
   {
    "duration": 3,
    "start_time": "2022-07-18T12:06:26.945Z"
   },
   {
    "duration": 1236,
    "start_time": "2022-07-18T12:06:26.951Z"
   },
   {
    "duration": 436,
    "start_time": "2022-07-18T12:06:28.189Z"
   },
   {
    "duration": 91,
    "start_time": "2022-07-18T12:06:28.627Z"
   },
   {
    "duration": 22,
    "start_time": "2022-07-18T12:06:28.720Z"
   },
   {
    "duration": 25,
    "start_time": "2022-07-18T12:06:28.744Z"
   },
   {
    "duration": 44,
    "start_time": "2022-07-18T12:06:28.771Z"
   },
   {
    "duration": 194,
    "start_time": "2022-07-18T12:06:28.821Z"
   },
   {
    "duration": 20,
    "start_time": "2022-07-18T12:06:29.016Z"
   },
   {
    "duration": 176,
    "start_time": "2022-07-18T12:06:29.039Z"
   },
   {
    "duration": 17,
    "start_time": "2022-07-18T12:06:29.217Z"
   },
   {
    "duration": 78,
    "start_time": "2022-07-18T12:06:29.237Z"
   },
   {
    "duration": 107,
    "start_time": "2022-07-18T12:06:29.318Z"
   },
   {
    "duration": 8,
    "start_time": "2022-07-18T12:06:29.426Z"
   },
   {
    "duration": 1382,
    "start_time": "2022-07-18T12:06:29.435Z"
   },
   {
    "duration": 1432,
    "start_time": "2022-07-18T12:06:30.818Z"
   },
   {
    "duration": 1303,
    "start_time": "2022-07-18T12:06:32.252Z"
   },
   {
    "duration": 4,
    "start_time": "2022-07-18T12:10:06.130Z"
   },
   {
    "duration": 4,
    "start_time": "2022-07-18T12:10:09.362Z"
   },
   {
    "duration": 5,
    "start_time": "2022-07-18T12:10:15.178Z"
   },
   {
    "duration": 4,
    "start_time": "2022-07-18T12:10:47.874Z"
   },
   {
    "duration": 105,
    "start_time": "2022-07-18T12:11:30.283Z"
   },
   {
    "duration": 4,
    "start_time": "2022-07-18T12:11:32.833Z"
   },
   {
    "duration": 4,
    "start_time": "2022-07-18T12:11:37.589Z"
   },
   {
    "duration": 4,
    "start_time": "2022-07-18T12:17:38.542Z"
   },
   {
    "duration": 1049,
    "start_time": "2022-07-19T10:43:42.459Z"
   },
   {
    "duration": 1345,
    "start_time": "2022-07-19T10:43:43.510Z"
   },
   {
    "duration": 60,
    "start_time": "2022-07-19T10:43:44.857Z"
   },
   {
    "duration": 19,
    "start_time": "2022-07-19T10:43:44.918Z"
   },
   {
    "duration": 16,
    "start_time": "2022-07-19T10:43:44.939Z"
   },
   {
    "duration": 55,
    "start_time": "2022-07-19T10:43:44.956Z"
   },
   {
    "duration": 105,
    "start_time": "2022-07-19T10:43:45.013Z"
   },
   {
    "duration": 18,
    "start_time": "2022-07-19T10:43:45.120Z"
   },
   {
    "duration": 107,
    "start_time": "2022-07-19T10:43:45.204Z"
   },
   {
    "duration": 16,
    "start_time": "2022-07-19T10:43:45.313Z"
   },
   {
    "duration": 2,
    "start_time": "2022-07-19T10:43:45.331Z"
   },
   {
    "duration": 107,
    "start_time": "2022-07-19T10:43:45.402Z"
   },
   {
    "duration": 7,
    "start_time": "2022-07-19T10:43:45.511Z"
   },
   {
    "duration": 1145,
    "start_time": "2022-07-19T10:43:45.520Z"
   },
   {
    "duration": 1174,
    "start_time": "2022-07-19T10:43:46.667Z"
   },
   {
    "duration": 1099,
    "start_time": "2022-07-19T10:43:47.843Z"
   }
  ],
  "kernelspec": {
   "display_name": "Python 3 (ipykernel)",
   "language": "python",
   "name": "python3"
  },
  "language_info": {
   "codemirror_mode": {
    "name": "ipython",
    "version": 3
   },
   "file_extension": ".py",
   "mimetype": "text/x-python",
   "name": "python",
   "nbconvert_exporter": "python",
   "pygments_lexer": "ipython3",
   "version": "3.9.7"
  },
  "toc": {
   "base_numbering": 1,
   "nav_menu": {},
   "number_sections": true,
   "sideBar": true,
   "skip_h1_title": true,
   "title_cell": "Table of Contents",
   "title_sidebar": "Contents",
   "toc_cell": false,
   "toc_position": {
    "height": "calc(100% - 180px)",
    "left": "10px",
    "top": "150px",
    "width": "266px"
   },
   "toc_section_display": true,
   "toc_window_display": true
  }
 },
 "nbformat": 4,
 "nbformat_minor": 5
}
