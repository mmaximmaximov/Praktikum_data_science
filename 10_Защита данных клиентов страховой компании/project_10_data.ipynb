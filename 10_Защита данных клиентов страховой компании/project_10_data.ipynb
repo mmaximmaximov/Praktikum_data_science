{
 "cells": [
  {
   "cell_type": "markdown",
   "id": "1a1df689",
   "metadata": {},
   "source": [
    "# Описание проекта\n",
    "- Вам нужно защитить данные клиентов страховой компании «Хоть потоп». Разработайте такой метод преобразования данных, чтобы по ним было сложно восстановить персональную информацию. Обоснуйте корректность его работы.\n",
    "- Нужно защитить данные, чтобы при преобразовании качество моделей машинного обучения не ухудшилось. Подбирать наилучшую модель не требуется."
   ]
  },
  {
   "cell_type": "markdown",
   "id": "7e0b080d",
   "metadata": {},
   "source": [
    "# Инструкция по выполнению проекта\n",
    "1. Загрузите и изучите данные.\n",
    "2. Ответьте на вопрос и обоснуйте решение.\n",
    "    - Признаки умножают на обратимую матрицу. Изменится ли качество линейной регрессии? (Её можно обучить заново.)\n",
    "    - a. Изменится. Приведите примеры матриц.\n",
    "    - b. Не изменится. Укажите, как связаны параметры линейной регрессии в исходной задаче и в преобразованной.\n",
    "3. Предложите алгоритм преобразования данных для решения задачи. Обоснуйте, почему качество линейной регрессии не поменяется.\n",
    "4. Запрограммируйте этот алгоритм, применив матричные операции. Проверьте, что качество линейной регрессии из sklearn не отличается до и после преобразования. Примените метрику R2."
   ]
  },
  {
   "cell_type": "markdown",
   "id": "7f174ec7",
   "metadata": {},
   "source": [
    "# Описание данных\n",
    "Набор данных находится в файле /datasets/insurance.csv. Скачать датасет.\n",
    "- Признаки: пол, возраст и зарплата застрахованного, количество членов его семьи.\n",
    "- Целевой признак: количество страховых выплат клиенту за последние 5 лет."
   ]
  },
  {
   "cell_type": "markdown",
   "id": "7910e510",
   "metadata": {},
   "source": [
    "# 1.0 Загрузка данных"
   ]
  },
  {
   "cell_type": "code",
   "execution_count": 1,
   "id": "d16d2ce5",
   "metadata": {},
   "outputs": [],
   "source": [
    "# Импортирую библиотеки \n",
    "import pandas as pd\n",
    "import numpy as np\n",
    "from sklearn.linear_model import LinearRegression \n",
    "from sklearn.metrics import r2_score"
   ]
  },
  {
   "cell_type": "code",
   "execution_count": 2,
   "id": "31bde2fb",
   "metadata": {},
   "outputs": [],
   "source": [
    "# Откроем таблицу двумя путями\n",
    "server_data = '/datasets/insurance.csv'\n",
    "local_data = '/Users/mmaximmaximovgmail.com/Desktop/DS/project 10/insurance.csv'\n",
    "\n",
    "try:\n",
    "    data = pd.read_csv(server_data)\n",
    "except:\n",
    "    data = pd.read_csv(local_data)"
   ]
  },
  {
   "cell_type": "code",
   "execution_count": 3,
   "id": "07582ceb",
   "metadata": {},
   "outputs": [
    {
     "data": {
      "text/html": [
       "<div>\n",
       "<style scoped>\n",
       "    .dataframe tbody tr th:only-of-type {\n",
       "        vertical-align: middle;\n",
       "    }\n",
       "\n",
       "    .dataframe tbody tr th {\n",
       "        vertical-align: top;\n",
       "    }\n",
       "\n",
       "    .dataframe thead th {\n",
       "        text-align: right;\n",
       "    }\n",
       "</style>\n",
       "<table border=\"1\" class=\"dataframe\">\n",
       "  <thead>\n",
       "    <tr style=\"text-align: right;\">\n",
       "      <th></th>\n",
       "      <th>Пол</th>\n",
       "      <th>Возраст</th>\n",
       "      <th>Зарплата</th>\n",
       "      <th>Члены семьи</th>\n",
       "      <th>Страховые выплаты</th>\n",
       "    </tr>\n",
       "  </thead>\n",
       "  <tbody>\n",
       "    <tr>\n",
       "      <th>0</th>\n",
       "      <td>1</td>\n",
       "      <td>41.0</td>\n",
       "      <td>49600.0</td>\n",
       "      <td>1</td>\n",
       "      <td>0</td>\n",
       "    </tr>\n",
       "    <tr>\n",
       "      <th>1</th>\n",
       "      <td>0</td>\n",
       "      <td>46.0</td>\n",
       "      <td>38000.0</td>\n",
       "      <td>1</td>\n",
       "      <td>1</td>\n",
       "    </tr>\n",
       "    <tr>\n",
       "      <th>2</th>\n",
       "      <td>0</td>\n",
       "      <td>29.0</td>\n",
       "      <td>21000.0</td>\n",
       "      <td>0</td>\n",
       "      <td>0</td>\n",
       "    </tr>\n",
       "    <tr>\n",
       "      <th>3</th>\n",
       "      <td>0</td>\n",
       "      <td>21.0</td>\n",
       "      <td>41700.0</td>\n",
       "      <td>2</td>\n",
       "      <td>0</td>\n",
       "    </tr>\n",
       "    <tr>\n",
       "      <th>4</th>\n",
       "      <td>1</td>\n",
       "      <td>28.0</td>\n",
       "      <td>26100.0</td>\n",
       "      <td>0</td>\n",
       "      <td>0</td>\n",
       "    </tr>\n",
       "  </tbody>\n",
       "</table>\n",
       "</div>"
      ],
      "text/plain": [
       "   Пол  Возраст  Зарплата  Члены семьи  Страховые выплаты\n",
       "0    1     41.0   49600.0            1                  0\n",
       "1    0     46.0   38000.0            1                  1\n",
       "2    0     29.0   21000.0            0                  0\n",
       "3    0     21.0   41700.0            2                  0\n",
       "4    1     28.0   26100.0            0                  0"
      ]
     },
     "execution_count": 3,
     "metadata": {},
     "output_type": "execute_result"
    }
   ],
   "source": [
    "data.head()"
   ]
  },
  {
   "cell_type": "code",
   "execution_count": 4,
   "id": "9bb03229",
   "metadata": {},
   "outputs": [
    {
     "name": "stdout",
     "output_type": "stream",
     "text": [
      "<class 'pandas.core.frame.DataFrame'>\n",
      "RangeIndex: 5000 entries, 0 to 4999\n",
      "Data columns (total 5 columns):\n",
      " #   Column             Non-Null Count  Dtype  \n",
      "---  ------             --------------  -----  \n",
      " 0   Пол                5000 non-null   int64  \n",
      " 1   Возраст            5000 non-null   float64\n",
      " 2   Зарплата           5000 non-null   float64\n",
      " 3   Члены семьи        5000 non-null   int64  \n",
      " 4   Страховые выплаты  5000 non-null   int64  \n",
      "dtypes: float64(2), int64(3)\n",
      "memory usage: 195.4 KB\n"
     ]
    }
   ],
   "source": [
    "data.info()"
   ]
  },
  {
   "cell_type": "markdown",
   "id": "a569bfcf",
   "metadata": {},
   "source": [
    "### Мини вывод\n",
    "- С данными все в порядке, пропусков нет, имеют правильный тип \n",
    "- Далее с этими данными будем проводить работу"
   ]
  },
  {
   "cell_type": "markdown",
   "id": "30ffe1e3",
   "metadata": {},
   "source": [
    "# 2.0 Умножение матриц"
   ]
  },
  {
   "cell_type": "markdown",
   "id": "8ce60068",
   "metadata": {},
   "source": [
    "### Вопрос - Признаки умножают на обратимую матрицу. Изменится ли качество линейной регрессии?"
   ]
  },
  {
   "cell_type": "markdown",
   "id": "3179f3e1",
   "metadata": {},
   "source": [
    "Обозначения:\n",
    "\n",
    "- $X$ — матрица признаков (нулевой столбец состоит из единиц)\n",
    "\n",
    "- $y$ — вектор целевого признака\n",
    "\n",
    "- $P$ — матрица, на которую умножаются признаки\n",
    "\n",
    "- $w$ — вектор весов линейной регрессии (нулевой элемент равен сдвигу)"
   ]
  },
  {
   "cell_type": "markdown",
   "id": "0a5598b7",
   "metadata": {},
   "source": [
    "Предсказания:\n",
    "​\n",
    "$$\n",
    "a = Xw\n",
    "$$\n",
    "​\n",
    "Задача обучения:\n",
    "​\n",
    "$$\n",
    "w = \\arg\\min_w MSE(Xw, y)\n",
    "$$\n",
    "​\n",
    "Формула обучения:\n",
    "​\n",
    "$$\n",
    "w = (X^T X)^{-1} X^T y\n",
    "$$"
   ]
  },
  {
   "cell_type": "markdown",
   "id": "08e0825d",
   "metadata": {},
   "source": [
    "**Ответ:** Не изменится\n",
    "\n",
    "**Обоснование:** \n",
    "$$ \n",
    "a = Xw\n",
    "$$\n",
    "\n",
    "$$\n",
    "a = X(X^TX)^{-1}X^Ty = XX^{-1}(X^T)^{-1}X^Ty = (Сокращаем) XX^{-1}y\n",
    "$$\n",
    "\n",
    "Добавим P к Х\n",
    "$$\n",
    "a = (XnP)((XP)^TXP)^{-1}(XP)^Ty = (раскрываем скобки) (XnP)(XP)^{-1}((XP)^T)^{-1}(XP)^Ty = (тоже самое) (XnP)P^{-1}X^{-1}(X^T)^{-1}(P^T)^{-1}P^TX^Ty = X\\\n",
    "nPP^{-1}X^{-1}(X^T)^{-1}(P^T)^{-1}P^TX^Ty = (сокращаем) XnX^{-1}y\n",
    "$$"
   ]
  },
  {
   "cell_type": "markdown",
   "id": "39cbfb78",
   "metadata": {},
   "source": [
    "## 2.0\n",
    "\n",
    "#### Обоснование:\n",
    "\n",
    "$ a_1 = X_1w_1,X_1=XP $\n",
    "\n",
    "$ w_1 = ((X_1)^{T}X_1)^{-1}(X_1)^{T}y $ \n",
    "\n",
    "#### Заменяем значение X1 и W1:\n",
    "\n",
    "$ a_1 = XP((XP)^{T}(XP))^{-1}(XP)^{T}y $\n",
    "\n",
    "#### Далее мне пригодится формула матричной операции - $(AB)^{-1} = B^{-1}A^{-1}$ :\n",
    "\n",
    "$ a_1 = XP((XP)^T(XP))^{-1}(XP)^Ty = XP(XP)^{-1}((XP)^T)^{-1}(XP)^Ty = XPP^{-1}(X^TX)^{-1})(P^T)^{-1}P^T(X)^Ty $\n",
    "\n",
    "#### Воспользуюсь формулой - $(AB)^T = B^T A^T$ :\n",
    "\n",
    "$ a_1 = P^{-1}(X^TX)^{-1}(P^T){-1}P^TX^Ty = P^{-1}(X^TX)^{-1}X^Ty $\n",
    "\n",
    "#### Использую замену: \n",
    "так как $ w_1 = ((X_1)^{T}X_1)^{-1}(X_1)^{T}y $\n",
    "\n",
    "то $ w = P^{-1}w $\n",
    "\n",
    "и получаем $ a = Xw XPP^{-1}w = Xw = a $"
   ]
  },
  {
   "cell_type": "markdown",
   "id": "e19337d8",
   "metadata": {},
   "source": [
    "# 3.0 Алгоритм преобразования"
   ]
  },
  {
   "cell_type": "code",
   "execution_count": 5,
   "id": "2e81ad99",
   "metadata": {},
   "outputs": [],
   "source": [
    "# Делим на обучающую и тестовую выборку\n",
    "features = data.drop('Страховые выплаты', axis=1)\n",
    "target = data['Страховые выплаты']"
   ]
  },
  {
   "cell_type": "code",
   "execution_count": 6,
   "id": "71800672",
   "metadata": {},
   "outputs": [
    {
     "name": "stdout",
     "output_type": "stream",
     "text": [
      "Значение R2: 0.4249455028666801\n"
     ]
    }
   ],
   "source": [
    "# Далее обучаем модель с классом\n",
    "class LinearRegression:\n",
    "    def fit(self, train_features, train_target):\n",
    "        X = np.concatenate((np.ones((train_features.shape[0], 1)), train_features), axis=1)\n",
    "        y = train_target\n",
    "        w = np.linalg.inv(X.T @ X) @ X.T @ y\n",
    "        self.w = w[1:]\n",
    "        self.w0 = w[0]\n",
    "    def predict(self, test_features):\n",
    "        return test_features.dot(self.w) + self.w0\n",
    "    \n",
    "model = LinearRegression()\n",
    "model.fit(features, target)\n",
    "predict = model.predict(features)\n",
    "print('Значение R2:', r2_score(target, predict))"
   ]
  },
  {
   "cell_type": "markdown",
   "id": "a11a8add",
   "metadata": {},
   "source": [
    "# 4.0 Проверка алгоритма"
   ]
  },
  {
   "cell_type": "code",
   "execution_count": 7,
   "id": "2e852b2f",
   "metadata": {
    "scrolled": true
   },
   "outputs": [
    {
     "data": {
      "text/plain": [
       "0       0.511727\n",
       "1       0.684316\n",
       "2       0.093734\n",
       "3      -0.222589\n",
       "4       0.065084\n",
       "          ...   \n",
       "4995    0.028390\n",
       "4996    0.253367\n",
       "4997   -0.256970\n",
       "4998   -0.190992\n",
       "4999    0.049050\n",
       "Length: 5000, dtype: float64"
      ]
     },
     "metadata": {},
     "output_type": "display_data"
    },
    {
     "name": "stdout",
     "output_type": "stream",
     "text": [
      "R2 исходной матрицы:  0.4249455028666801\n"
     ]
    }
   ],
   "source": [
    "model = LinearRegression()\n",
    "model.fit(features, target)\n",
    "predict = model.predict(features)\n",
    "display(predict)\n",
    "print('R2 исходной матрицы: ', r2_score(target, predict))"
   ]
  },
  {
   "cell_type": "code",
   "execution_count": 8,
   "id": "e5f11572",
   "metadata": {},
   "outputs": [
    {
     "data": {
      "text/plain": [
       "array([[-21.97792699, -10.46782874,  46.10221845, -10.80796378],\n",
       "       [-22.14334431, -10.70924878,  56.28499269, -18.0219992 ],\n",
       "       [ 21.20386749,  11.31451174, -49.08349947,  13.6134565 ],\n",
       "       [ -4.50059534,  -3.38113644,  13.91837526,  -4.07446732]])"
      ]
     },
     "execution_count": 8,
     "metadata": {},
     "output_type": "execute_result"
    }
   ],
   "source": [
    "g = np.random.rand(4, 4)\n",
    "np.linalg.inv(g)"
   ]
  },
  {
   "cell_type": "code",
   "execution_count": 9,
   "id": "6fa91561",
   "metadata": {},
   "outputs": [
    {
     "data": {
      "text/plain": [
       "(5000, 4)"
      ]
     },
     "execution_count": 9,
     "metadata": {},
     "output_type": "execute_result"
    }
   ],
   "source": [
    "q = features @ g\n",
    "q.shape      "
   ]
  },
  {
   "cell_type": "code",
   "execution_count": 10,
   "id": "361b2b1d",
   "metadata": {
    "scrolled": true
   },
   "outputs": [
    {
     "name": "stdout",
     "output_type": "stream",
     "text": [
      "R2 исходной матрицы на обратимую реакцию:  0.4249455021539982\n"
     ]
    }
   ],
   "source": [
    "model = LinearRegression()\n",
    "model.fit(q, target)\n",
    "predict = model.predict(q)\n",
    "print('R2 исходной матрицы на обратимую реакцию: ', r2_score(target, predict))"
   ]
  },
  {
   "cell_type": "markdown",
   "id": "86dbff96",
   "metadata": {},
   "source": [
    "# 5.0 Вывод\n",
    "#### Провел работу по защите данных клиентов страховой компании и сделал вывод по каждому пунтку\n",
    "- Сначала открыли все данные, сделал первичный анализ и убедился, что данные не требуются доработок \n",
    "- По второму пунтку выяснилось, что качество линейной регрессии не изменится и доказали это все формулами\n",
    "- В алгоритме преобразования я нашел значение r2\n",
    "- В крайнем пункет провел проверку алгоритма и выяснил что значение r2 до и после не сильно поменялось"
   ]
  }
 ],
 "metadata": {
  "ExecuteTimeLog": [
   {
    "duration": 1722,
    "start_time": "2022-08-28T18:45:45.423Z"
   },
   {
    "duration": 33,
    "start_time": "2022-08-28T18:45:47.147Z"
   },
   {
    "duration": 21,
    "start_time": "2022-08-28T18:45:47.183Z"
   },
   {
    "duration": 15,
    "start_time": "2022-08-28T18:45:47.207Z"
   },
   {
    "duration": 7,
    "start_time": "2022-08-28T18:45:47.224Z"
   },
   {
    "duration": 156,
    "start_time": "2022-08-28T18:45:47.233Z"
   },
   {
    "duration": 1379,
    "start_time": "2022-08-31T03:42:08.776Z"
   },
   {
    "duration": 78,
    "start_time": "2022-08-31T03:42:10.158Z"
   },
   {
    "duration": 19,
    "start_time": "2022-08-31T03:42:10.238Z"
   },
   {
    "duration": 12,
    "start_time": "2022-08-31T03:42:10.259Z"
   },
   {
    "duration": 9,
    "start_time": "2022-08-31T03:42:10.274Z"
   },
   {
    "duration": 26,
    "start_time": "2022-08-31T03:42:10.285Z"
   },
   {
    "duration": 84,
    "start_time": "2022-08-31T03:42:10.312Z"
   },
   {
    "duration": 108,
    "start_time": "2022-08-31T03:42:10.487Z"
   },
   {
    "duration": 106,
    "start_time": "2022-08-31T03:42:10.597Z"
   },
   {
    "duration": 0,
    "start_time": "2022-08-31T03:42:10.704Z"
   }
  ],
  "kernelspec": {
   "display_name": "Python 3 (ipykernel)",
   "language": "python",
   "name": "python3"
  },
  "language_info": {
   "codemirror_mode": {
    "name": "ipython",
    "version": 3
   },
   "file_extension": ".py",
   "mimetype": "text/x-python",
   "name": "python",
   "nbconvert_exporter": "python",
   "pygments_lexer": "ipython3",
   "version": "3.9.7"
  },
  "toc": {
   "base_numbering": 1,
   "nav_menu": {},
   "number_sections": true,
   "sideBar": true,
   "skip_h1_title": true,
   "title_cell": "Table of Contents",
   "title_sidebar": "Contents",
   "toc_cell": false,
   "toc_position": {},
   "toc_section_display": true,
   "toc_window_display": false
  }
 },
 "nbformat": 4,
 "nbformat_minor": 5
}
