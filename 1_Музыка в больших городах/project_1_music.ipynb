{
 "cells": [
  {
   "cell_type": "markdown",
   "metadata": {
    "id": "E0vqbgi9ay0H"
   },
   "source": [
    "# Яндекс.Музыка"
   ]
  },
  {
   "cell_type": "markdown",
   "metadata": {
    "id": "VUC88oWjTJw2"
   },
   "source": [
    "Сравнение Москвы и Петербурга окружено мифами. Например:\n",
    " * Москва — мегаполис, подчинённый жёсткому ритму рабочей недели;\n",
    " * Петербург — культурная столица, со своими вкусами.\n",
    "\n",
    "На данных Яндекс.Музыки вы сравните поведение пользователей двух столиц.\n",
    "\n",
    "**Цель исследования** — проверьте три гипотезы:\n",
    "1. Активность пользователей зависит от дня недели. Причём в Москве и Петербурге это проявляется по-разному.\n",
    "2. В понедельник утром в Москве преобладают одни жанры, а в Петербурге — другие. Так же и вечером пятницы преобладают разные жанры — в зависимости от города. \n",
    "3. Москва и Петербург предпочитают разные жанры музыки. В Москве чаще слушают поп-музыку, в Петербурге — русский рэп.\n",
    "\n",
    "**Ход исследования**\n",
    "\n",
    "Данные о поведении пользователей вы получите из файла. О качестве данных ничего не известно. Поэтому перед проверкой гипотез понадобится обзор данных. \n",
    "\n",
    "Вы проверите данные на ошибки и оцените их влияние на исследование. Затем, на этапе предобработки вы поищете возможность исправить самые критичные ошибки данных.\n",
    " \n",
    "Таким образом, исследование пройдёт в три этапа:\n",
    " 1. Обзор данных.\n",
    " 2. Предобработка данных.\n",
    " 3. Проверка гипотез.\n",
    "\n"
   ]
  },
  {
   "cell_type": "markdown",
   "metadata": {
    "id": "Ml1hmfXC_Zcs"
   },
   "source": [
    "## Обзор данных\n",
    "\n",
    "Составить первое представление о данных Яндекс.Музыки.\n",
    "\n",
    "\n"
   ]
  },
  {
   "cell_type": "code",
   "execution_count": 40,
   "metadata": {
    "id": "AXN7PHPN_Zcs"
   },
   "outputs": [],
   "source": [
    "# импорт библиотеки pandas\n",
    "import pandas as pd"
   ]
  },
  {
   "cell_type": "code",
   "execution_count": 2,
   "metadata": {
    "id": "fFVu7vqh_Zct"
   },
   "outputs": [],
   "source": [
    "# чтение файла с данными и сохранение в df\n",
    "df = pd.read_csv('/Users/mmaximmaximovgmail.com/Desktop/DS/Project_1/yandex_music_project.csv')"
   ]
  },
  {
   "cell_type": "code",
   "execution_count": 3,
   "metadata": {
    "id": "oWTVX3gW_Zct"
   },
   "outputs": [
    {
     "data": {
      "text/html": [
       "<div>\n",
       "<style scoped>\n",
       "    .dataframe tbody tr th:only-of-type {\n",
       "        vertical-align: middle;\n",
       "    }\n",
       "\n",
       "    .dataframe tbody tr th {\n",
       "        vertical-align: top;\n",
       "    }\n",
       "\n",
       "    .dataframe thead th {\n",
       "        text-align: right;\n",
       "    }\n",
       "</style>\n",
       "<table border=\"1\" class=\"dataframe\">\n",
       "  <thead>\n",
       "    <tr style=\"text-align: right;\">\n",
       "      <th></th>\n",
       "      <th>userID</th>\n",
       "      <th>Track</th>\n",
       "      <th>artist</th>\n",
       "      <th>genre</th>\n",
       "      <th>City</th>\n",
       "      <th>time</th>\n",
       "      <th>Day</th>\n",
       "    </tr>\n",
       "  </thead>\n",
       "  <tbody>\n",
       "    <tr>\n",
       "      <th>0</th>\n",
       "      <td>FFB692EC</td>\n",
       "      <td>Kamigata To Boots</td>\n",
       "      <td>The Mass Missile</td>\n",
       "      <td>rock</td>\n",
       "      <td>Saint-Petersburg</td>\n",
       "      <td>20:28:33</td>\n",
       "      <td>Wednesday</td>\n",
       "    </tr>\n",
       "    <tr>\n",
       "      <th>1</th>\n",
       "      <td>55204538</td>\n",
       "      <td>Delayed Because of Accident</td>\n",
       "      <td>Andreas Rönnberg</td>\n",
       "      <td>rock</td>\n",
       "      <td>Moscow</td>\n",
       "      <td>14:07:09</td>\n",
       "      <td>Friday</td>\n",
       "    </tr>\n",
       "    <tr>\n",
       "      <th>2</th>\n",
       "      <td>20EC38</td>\n",
       "      <td>Funiculì funiculà</td>\n",
       "      <td>Mario Lanza</td>\n",
       "      <td>pop</td>\n",
       "      <td>Saint-Petersburg</td>\n",
       "      <td>20:58:07</td>\n",
       "      <td>Wednesday</td>\n",
       "    </tr>\n",
       "    <tr>\n",
       "      <th>3</th>\n",
       "      <td>A3DD03C9</td>\n",
       "      <td>Dragons in the Sunset</td>\n",
       "      <td>Fire + Ice</td>\n",
       "      <td>folk</td>\n",
       "      <td>Saint-Petersburg</td>\n",
       "      <td>08:37:09</td>\n",
       "      <td>Monday</td>\n",
       "    </tr>\n",
       "    <tr>\n",
       "      <th>4</th>\n",
       "      <td>E2DC1FAE</td>\n",
       "      <td>Soul People</td>\n",
       "      <td>Space Echo</td>\n",
       "      <td>dance</td>\n",
       "      <td>Moscow</td>\n",
       "      <td>08:34:34</td>\n",
       "      <td>Monday</td>\n",
       "    </tr>\n",
       "    <tr>\n",
       "      <th>5</th>\n",
       "      <td>842029A1</td>\n",
       "      <td>Преданная</td>\n",
       "      <td>IMPERVTOR</td>\n",
       "      <td>rusrap</td>\n",
       "      <td>Saint-Petersburg</td>\n",
       "      <td>13:09:41</td>\n",
       "      <td>Friday</td>\n",
       "    </tr>\n",
       "    <tr>\n",
       "      <th>6</th>\n",
       "      <td>4CB90AA5</td>\n",
       "      <td>True</td>\n",
       "      <td>Roman Messer</td>\n",
       "      <td>dance</td>\n",
       "      <td>Moscow</td>\n",
       "      <td>13:00:07</td>\n",
       "      <td>Wednesday</td>\n",
       "    </tr>\n",
       "    <tr>\n",
       "      <th>7</th>\n",
       "      <td>F03E1C1F</td>\n",
       "      <td>Feeling This Way</td>\n",
       "      <td>Polina Griffith</td>\n",
       "      <td>dance</td>\n",
       "      <td>Moscow</td>\n",
       "      <td>20:47:49</td>\n",
       "      <td>Wednesday</td>\n",
       "    </tr>\n",
       "    <tr>\n",
       "      <th>8</th>\n",
       "      <td>8FA1D3BE</td>\n",
       "      <td>И вновь продолжается бой</td>\n",
       "      <td>NaN</td>\n",
       "      <td>ruspop</td>\n",
       "      <td>Moscow</td>\n",
       "      <td>09:17:40</td>\n",
       "      <td>Friday</td>\n",
       "    </tr>\n",
       "    <tr>\n",
       "      <th>9</th>\n",
       "      <td>E772D5C0</td>\n",
       "      <td>Pessimist</td>\n",
       "      <td>NaN</td>\n",
       "      <td>dance</td>\n",
       "      <td>Saint-Petersburg</td>\n",
       "      <td>21:20:49</td>\n",
       "      <td>Wednesday</td>\n",
       "    </tr>\n",
       "  </tbody>\n",
       "</table>\n",
       "</div>"
      ],
      "text/plain": [
       "     userID                        Track            artist   genre  \\\n",
       "0  FFB692EC            Kamigata To Boots  The Mass Missile    rock   \n",
       "1  55204538  Delayed Because of Accident  Andreas Rönnberg    rock   \n",
       "2    20EC38            Funiculì funiculà       Mario Lanza     pop   \n",
       "3  A3DD03C9        Dragons in the Sunset        Fire + Ice    folk   \n",
       "4  E2DC1FAE                  Soul People        Space Echo   dance   \n",
       "5  842029A1                    Преданная         IMPERVTOR  rusrap   \n",
       "6  4CB90AA5                         True      Roman Messer   dance   \n",
       "7  F03E1C1F             Feeling This Way   Polina Griffith   dance   \n",
       "8  8FA1D3BE     И вновь продолжается бой               NaN  ruspop   \n",
       "9  E772D5C0                    Pessimist               NaN   dance   \n",
       "\n",
       "             City        time        Day  \n",
       "0  Saint-Petersburg  20:28:33  Wednesday  \n",
       "1            Moscow  14:07:09     Friday  \n",
       "2  Saint-Petersburg  20:58:07  Wednesday  \n",
       "3  Saint-Petersburg  08:37:09     Monday  \n",
       "4            Moscow  08:34:34     Monday  \n",
       "5  Saint-Petersburg  13:09:41     Friday  \n",
       "6            Moscow  13:00:07  Wednesday  \n",
       "7            Moscow  20:47:49  Wednesday  \n",
       "8            Moscow  09:17:40     Friday  \n",
       "9  Saint-Petersburg  21:20:49  Wednesday  "
      ]
     },
     "execution_count": 3,
     "metadata": {},
     "output_type": "execute_result"
    }
   ],
   "source": [
    "# получение первых 10 строк таблицы df\n",
    "df.head(10)"
   ]
  },
  {
   "cell_type": "code",
   "execution_count": 4,
   "metadata": {
    "id": "DSf2kIb-_Zct"
   },
   "outputs": [
    {
     "name": "stdout",
     "output_type": "stream",
     "text": [
      "<class 'pandas.core.frame.DataFrame'>\n",
      "RangeIndex: 65079 entries, 0 to 65078\n",
      "Data columns (total 7 columns):\n",
      " #   Column    Non-Null Count  Dtype \n",
      "---  ------    --------------  ----- \n",
      " 0     userID  65079 non-null  object\n",
      " 1   Track     63848 non-null  object\n",
      " 2   artist    57876 non-null  object\n",
      " 3   genre     63881 non-null  object\n",
      " 4     City    65079 non-null  object\n",
      " 5   time      65079 non-null  object\n",
      " 6   Day       65079 non-null  object\n",
      "dtypes: object(7)\n",
      "memory usage: 3.5+ MB\n"
     ]
    }
   ],
   "source": [
    "# получение общей информации о данных в таблице df\n",
    "df.info()"
   ]
  },
  {
   "cell_type": "markdown",
   "metadata": {
    "id": "TaQ2Iwbr_Zct"
   },
   "source": [
    "Итак, в таблице семь столбцов. Тип данных во всех столбцах — `object`.\n",
    "\n",
    "Согласно документации к данным:\n",
    "* `userID` — идентификатор пользователя;\n",
    "* `Track` — название трека;  \n",
    "* `artist` — имя исполнителя;\n",
    "* `genre` — название жанра;\n",
    "* `City` — город пользователя;\n",
    "* `time` — время начала прослушивания;\n",
    "* `Day` — день недели.\n",
    "\n",
    "В названиях колонок видны три нарушения стиля:\n",
    "1. Строчные буквы сочетаются с прописными.\n",
    "2. Встречаются пробелы.\n",
    "3. Название переменой не может начинаться с прописной буквы \n",
    "\n",
    "\n",
    "\n",
    "Количество значений в столбцах различается. Значит, в данных есть пропущенные значения.\n"
   ]
  },
  {
   "cell_type": "markdown",
   "metadata": {
    "id": "MCB6-dXG_Zct"
   },
   "source": [
    "**Выводы**\n",
    "\n",
    "В каждой строке таблицы — данные о прослушанном треке. Часть колонок описывает саму композицию: название, исполнителя и жанр. Остальные данные рассказывают о пользователе: из какого он города, когда он слушал музыку. \n",
    "\n",
    "Предварительно можно утверждать, что, данных достаточно для проверки гипотез. Но встречаются пропуски в данных, а в названиях колонок — расхождения с хорошим стилем.\n",
    "\n",
    "Чтобы двигаться дальше, нужно устранить проблемы в данных."
   ]
  },
  {
   "cell_type": "markdown",
   "metadata": {
    "id": "SjYF6Ub9_Zct"
   },
   "source": [
    "## Предобработка данных\n",
    "Исправить стиль в заголовках столбцов, исключить пропуски. Затем проверить данные на дубликаты."
   ]
  },
  {
   "cell_type": "markdown",
   "metadata": {
    "id": "dIaKXr29_Zct"
   },
   "source": [
    "### Стиль заголовков\n",
    "Вывести на экран названия столбцов:"
   ]
  },
  {
   "cell_type": "code",
   "execution_count": 5,
   "metadata": {
    "id": "oKOTdF_Q_Zct"
   },
   "outputs": [
    {
     "data": {
      "text/plain": [
       "Index(['  userID', 'Track', 'artist', 'genre', '  City  ', 'time', 'Day'], dtype='object')"
      ]
     },
     "execution_count": 5,
     "metadata": {},
     "output_type": "execute_result"
    }
   ],
   "source": [
    "# перечень названий столбцов таблицы df\n",
    "df.columns"
   ]
  },
  {
   "cell_type": "code",
   "execution_count": 6,
   "metadata": {
    "id": "ISlFqs5y_Zct"
   },
   "outputs": [],
   "source": [
    "# переименование столбцов\n",
    "df = df.rename(columns = {\n",
    "    '  userID':'user_id',\n",
    "    'Track':'track',\n",
    "    '  City  ':'city',\n",
    "    'Day':'day'\n",
    "})"
   ]
  },
  {
   "cell_type": "code",
   "execution_count": 7,
   "metadata": {
    "id": "d4NOAmTW_Zct"
   },
   "outputs": [
    {
     "data": {
      "text/plain": [
       "Index(['user_id', 'track', 'artist', 'genre', 'city', 'time', 'day'], dtype='object')"
      ]
     },
     "execution_count": 7,
     "metadata": {},
     "output_type": "execute_result"
    }
   ],
   "source": [
    "# проверка результатов - перечень названий столбцов\n",
    "df.columns"
   ]
  },
  {
   "cell_type": "code",
   "execution_count": 8,
   "metadata": {
    "id": "RskX29qr_Zct"
   },
   "outputs": [
    {
     "data": {
      "text/plain": [
       "user_id       0\n",
       "track      1231\n",
       "artist     7203\n",
       "genre      1198\n",
       "city          0\n",
       "time          0\n",
       "day           0\n",
       "dtype: int64"
      ]
     },
     "execution_count": 8,
     "metadata": {},
     "output_type": "execute_result"
    }
   ],
   "source": [
    "# подсчёт пропусков\n",
    "df.isna().sum()"
   ]
  },
  {
   "cell_type": "markdown",
   "metadata": {
    "id": "qubhgnlO_Zct"
   },
   "source": [
    "Не все пропущенные значения влияют на исследование. Так в `track` и `artist` пропуски не важны для вашей работы. Достаточно заменить их явными обозначениями.\n",
    "\n",
    "Но пропуски в `genre` могут помешать сравнению музыкальных вкусов в Москве и Санкт-Петербурге. На практике было бы правильно установить причину пропусков и восстановить данные. Такой возможности нет в учебном проекте. Придётся:\n",
    "* заполнить и эти пропуски явными обозначениями,\n",
    "* оценить, насколько они повредят расчётам. "
   ]
  },
  {
   "cell_type": "code",
   "execution_count": 9,
   "metadata": {
    "id": "KplB5qWs_Zct"
   },
   "outputs": [],
   "source": [
    "# перебор названий столбцов в цикле и замена пропущенных значений на 'unknown'\n",
    "columns_to_replace = ['track', 'artist', 'genre']\n",
    "\n",
    "for columns in columns_to_replace:\n",
    "    df[columns] = df[columns].fillna('unknown')"
   ]
  },
  {
   "cell_type": "code",
   "execution_count": 10,
   "metadata": {
    "id": "Tq4nYRX4_Zct"
   },
   "outputs": [
    {
     "data": {
      "text/plain": [
       "user_id    0\n",
       "track      0\n",
       "artist     0\n",
       "genre      0\n",
       "city       0\n",
       "time       0\n",
       "day        0\n",
       "dtype: int64"
      ]
     },
     "execution_count": 10,
     "metadata": {},
     "output_type": "execute_result"
    }
   ],
   "source": [
    "# подсчёт пропусков\n",
    "df.isna().sum()"
   ]
  },
  {
   "cell_type": "code",
   "execution_count": 11,
   "metadata": {
    "id": "36eES_S0_Zct"
   },
   "outputs": [
    {
     "data": {
      "text/plain": [
       "3826"
      ]
     },
     "execution_count": 11,
     "metadata": {},
     "output_type": "execute_result"
    }
   ],
   "source": [
    "# подсчёт явных дубликатов\n",
    "df.duplicated().sum()"
   ]
  },
  {
   "cell_type": "code",
   "execution_count": 12,
   "metadata": {
    "id": "exFHq6tt_Zct"
   },
   "outputs": [],
   "source": [
    "# удаление явных дубликатов (с удалением старых индексов и формированием новых)\n",
    "df = df.drop_duplicates().reset_index(drop=True)"
   ]
  },
  {
   "cell_type": "code",
   "execution_count": 13,
   "metadata": {
    "id": "-8PuNWQ0_Zct"
   },
   "outputs": [
    {
     "data": {
      "text/plain": [
       "0"
      ]
     },
     "execution_count": 13,
     "metadata": {},
     "output_type": "execute_result"
    }
   ],
   "source": [
    "# проверка на отсутствие дубликатов\n",
    "df.duplicated().sum()"
   ]
  },
  {
   "cell_type": "markdown",
   "metadata": {
    "id": "eSjWwsOh_Zct"
   },
   "source": [
    "Выведите на экран список уникальных названий жанров, отсортированный в алфавитном порядке. Для этого:\n",
    "* извлеките нужный столбец датафрейма, \n",
    "* примените к нему метод сортировки,\n",
    "* для отсортированного столбца вызовите метод, который вернёт уникальные значения из столбца."
   ]
  },
  {
   "cell_type": "code",
   "execution_count": 14,
   "metadata": {
    "id": "JIUcqzZN_Zct"
   },
   "outputs": [
    {
     "data": {
      "text/plain": [
       "array(['acid', 'acoustic', 'action', 'adult', 'africa', 'afrikaans',\n",
       "       'alternative', 'alternativepunk', 'ambient', 'americana',\n",
       "       'animated', 'anime', 'arabesk', 'arabic', 'arena',\n",
       "       'argentinetango', 'art', 'audiobook', 'author', 'avantgarde',\n",
       "       'axé', 'baile', 'balkan', 'beats', 'bigroom', 'black', 'bluegrass',\n",
       "       'blues', 'bollywood', 'bossa', 'brazilian', 'breakbeat', 'breaks',\n",
       "       'broadway', 'cantautori', 'cantopop', 'canzone', 'caribbean',\n",
       "       'caucasian', 'celtic', 'chamber', 'chanson', 'children', 'chill',\n",
       "       'chinese', 'choral', 'christian', 'christmas', 'classical',\n",
       "       'classicmetal', 'club', 'colombian', 'comedy', 'conjazz',\n",
       "       'contemporary', 'country', 'cuban', 'dance', 'dancehall',\n",
       "       'dancepop', 'dark', 'death', 'deep', 'deutschrock', 'deutschspr',\n",
       "       'dirty', 'disco', 'dnb', 'documentary', 'downbeat', 'downtempo',\n",
       "       'drum', 'dub', 'dubstep', 'eastern', 'easy', 'electronic',\n",
       "       'electropop', 'emo', 'entehno', 'epicmetal', 'estrada', 'ethnic',\n",
       "       'eurofolk', 'european', 'experimental', 'extrememetal', 'fado',\n",
       "       'fairytail', 'film', 'fitness', 'flamenco', 'folk', 'folklore',\n",
       "       'folkmetal', 'folkrock', 'folktronica', 'forró', 'frankreich',\n",
       "       'französisch', 'french', 'funk', 'future', 'gangsta', 'garage',\n",
       "       'german', 'ghazal', 'gitarre', 'glitch', 'gospel', 'gothic',\n",
       "       'grime', 'grunge', 'gypsy', 'handsup', \"hard'n'heavy\", 'hardcore',\n",
       "       'hardstyle', 'hardtechno', 'hip', 'hip-hop', 'hiphop',\n",
       "       'historisch', 'holiday', 'hop', 'horror', 'house', 'hymn', 'idm',\n",
       "       'independent', 'indian', 'indie', 'indipop', 'industrial',\n",
       "       'inspirational', 'instrumental', 'international', 'irish', 'jam',\n",
       "       'japanese', 'jazz', 'jewish', 'jpop', 'jungle', 'k-pop',\n",
       "       'karadeniz', 'karaoke', 'kayokyoku', 'korean', 'laiko', 'latin',\n",
       "       'latino', 'leftfield', 'local', 'lounge', 'loungeelectronic',\n",
       "       'lovers', 'malaysian', 'mandopop', 'marschmusik', 'meditative',\n",
       "       'mediterranean', 'melodic', 'metal', 'metalcore', 'mexican',\n",
       "       'middle', 'minimal', 'miscellaneous', 'modern', 'mood', 'mpb',\n",
       "       'muslim', 'native', 'neoklassik', 'neue', 'new', 'newage',\n",
       "       'newwave', 'nu', 'nujazz', 'numetal', 'oceania', 'old', 'opera',\n",
       "       'orchestral', 'other', 'piano', 'podcasts', 'pop', 'popdance',\n",
       "       'popelectronic', 'popeurodance', 'poprussian', 'post',\n",
       "       'posthardcore', 'postrock', 'power', 'progmetal', 'progressive',\n",
       "       'psychedelic', 'punjabi', 'punk', 'quebecois', 'ragga', 'ram',\n",
       "       'rancheras', 'rap', 'rave', 'reggae', 'reggaeton', 'regional',\n",
       "       'relax', 'religious', 'retro', 'rhythm', 'rnb', 'rnr', 'rock',\n",
       "       'rockabilly', 'rockalternative', 'rockindie', 'rockother',\n",
       "       'romance', 'roots', 'ruspop', 'rusrap', 'rusrock', 'russian',\n",
       "       'salsa', 'samba', 'scenic', 'schlager', 'self', 'sertanejo',\n",
       "       'shanson', 'shoegazing', 'showtunes', 'singer', 'ska', 'skarock',\n",
       "       'slow', 'smooth', 'soft', 'soul', 'soulful', 'sound', 'soundtrack',\n",
       "       'southern', 'specialty', 'speech', 'spiritual', 'sport',\n",
       "       'stonerrock', 'surf', 'swing', 'synthpop', 'synthrock',\n",
       "       'sängerportrait', 'tango', 'tanzorchester', 'taraftar', 'tatar',\n",
       "       'tech', 'techno', 'teen', 'thrash', 'top', 'traditional',\n",
       "       'tradjazz', 'trance', 'tribal', 'trip', 'triphop', 'tropical',\n",
       "       'türk', 'türkçe', 'ukrrock', 'unknown', 'urban', 'uzbek',\n",
       "       'variété', 'vi', 'videogame', 'vocal', 'western', 'world',\n",
       "       'worldbeat', 'ïîï', 'электроника'], dtype=object)"
      ]
     },
     "execution_count": 14,
     "metadata": {},
     "output_type": "execute_result"
    }
   ],
   "source": [
    "# Просмотр уникальных названий жанров\n",
    "df['genre'].sort_values().unique()"
   ]
  },
  {
   "cell_type": "code",
   "execution_count": 15,
   "metadata": {
    "id": "ErNDkmns_Zct"
   },
   "outputs": [],
   "source": [
    "# Функция для замены неявных дубликатов\n",
    "genres = df['genre'].sort_values().unique()"
   ]
  },
  {
   "cell_type": "code",
   "execution_count": 16,
   "metadata": {
    "id": "YN5i2hpmSo09"
   },
   "outputs": [],
   "source": [
    "# Устранение неявных дубликатов\n",
    "def replace_wrong_genres(wrong_genres, correct_genre):\n",
    "    for wrong_genres in wrong_genres:\n",
    "        df['genre'] = df['genre'].replace(wrong_genres, correct_genre)\n",
    "duplicates = ['hip', 'hop', 'hip-hop']\n",
    "correct_genre = 'hiphop'\n",
    "replace_wrong_genres(duplicates, correct_genre)"
   ]
  },
  {
   "cell_type": "code",
   "execution_count": 17,
   "metadata": {
    "id": "wvixALnFG15m"
   },
   "outputs": [
    {
     "data": {
      "text/plain": [
       "array(['rock', 'pop', 'folk', 'dance', 'rusrap', 'ruspop', 'world',\n",
       "       'electronic', 'unknown', 'alternative', 'children', 'rnb',\n",
       "       'hiphop', 'jazz', 'postrock', 'latin', 'classical', 'metal',\n",
       "       'reggae', 'tatar', 'blues', 'instrumental', 'rusrock', 'dnb',\n",
       "       'türk', 'post', 'country', 'psychedelic', 'conjazz', 'indie',\n",
       "       'posthardcore', 'local', 'avantgarde', 'punk', 'videogame',\n",
       "       'techno', 'house', 'christmas', 'melodic', 'caucasian',\n",
       "       'reggaeton', 'soundtrack', 'singer', 'ska', 'shanson', 'ambient',\n",
       "       'film', 'western', 'rap', 'beats', \"hard'n'heavy\", 'progmetal',\n",
       "       'minimal', 'contemporary', 'new', 'soul', 'holiday', 'german',\n",
       "       'tropical', 'fairytail', 'spiritual', 'urban', 'gospel', 'nujazz',\n",
       "       'folkmetal', 'trance', 'miscellaneous', 'anime', 'hardcore',\n",
       "       'progressive', 'chanson', 'numetal', 'vocal', 'estrada', 'russian',\n",
       "       'classicmetal', 'dubstep', 'club', 'deep', 'southern', 'black',\n",
       "       'folkrock', 'fitness', 'french', 'disco', 'religious', 'drum',\n",
       "       'extrememetal', 'türkçe', 'experimental', 'easy', 'metalcore',\n",
       "       'modern', 'argentinetango', 'old', 'breaks', 'eurofolk',\n",
       "       'stonerrock', 'industrial', 'funk', 'jpop', 'middle', 'variété',\n",
       "       'other', 'adult', 'christian', 'gothic', 'international', 'muslim',\n",
       "       'relax', 'schlager', 'caribbean', 'ukrrock', 'nu', 'breakbeat',\n",
       "       'comedy', 'chill', 'newage', 'specialty', 'uzbek', 'k-pop',\n",
       "       'balkan', 'chinese', 'meditative', 'dub', 'power', 'death',\n",
       "       'grime', 'arabesk', 'romance', 'flamenco', 'leftfield', 'european',\n",
       "       'tech', 'newwave', 'dancehall', 'mpb', 'piano', 'top', 'bigroom',\n",
       "       'opera', 'celtic', 'tradjazz', 'acoustic', 'epicmetal',\n",
       "       'historisch', 'downbeat', 'downtempo', 'africa', 'audiobook',\n",
       "       'jewish', 'sängerportrait', 'deutschrock', 'eastern', 'action',\n",
       "       'future', 'electropop', 'folklore', 'bollywood', 'marschmusik',\n",
       "       'rnr', 'karaoke', 'indian', 'rancheras', 'электроника',\n",
       "       'afrikaans', 'tango', 'rhythm', 'sound', 'deutschspr', 'trip',\n",
       "       'lovers', 'choral', 'dancepop', 'podcasts', 'retro', 'smooth',\n",
       "       'mexican', 'brazilian', 'ïîï', 'mood', 'surf', 'author', 'gangsta',\n",
       "       'triphop', 'inspirational', 'idm', 'ethnic', 'bluegrass',\n",
       "       'broadway', 'animated', 'americana', 'karadeniz', 'rockabilly',\n",
       "       'colombian', 'self', 'synthrock', 'sertanejo', 'japanese',\n",
       "       'canzone', 'swing', 'lounge', 'sport', 'korean', 'ragga',\n",
       "       'traditional', 'gitarre', 'frankreich', 'alternativepunk', 'emo',\n",
       "       'laiko', 'cantopop', 'glitch', 'documentary', 'rockalternative',\n",
       "       'thrash', 'hymn', 'oceania', 'rockother', 'popeurodance', 'dark',\n",
       "       'vi', 'grunge', 'hardstyle', 'samba', 'garage', 'soft', 'art',\n",
       "       'folktronica', 'entehno', 'mediterranean', 'chamber', 'cuban',\n",
       "       'taraftar', 'rockindie', 'gypsy', 'hardtechno', 'shoegazing',\n",
       "       'skarock', 'bossa', 'salsa', 'latino', 'worldbeat', 'malaysian',\n",
       "       'baile', 'ghazal', 'loungeelectronic', 'arabic', 'popelectronic',\n",
       "       'acid', 'kayokyoku', 'neoklassik', 'tribal', 'tanzorchester',\n",
       "       'native', 'independent', 'cantautori', 'handsup', 'poprussian',\n",
       "       'punjabi', 'synthpop', 'rave', 'französisch', 'quebecois',\n",
       "       'speech', 'soulful', 'teen', 'jam', 'ram', 'horror', 'scenic',\n",
       "       'orchestral', 'neue', 'roots', 'slow', 'jungle', 'indipop', 'axé',\n",
       "       'fado', 'showtunes', 'arena', 'irish', 'mandopop', 'forró',\n",
       "       'popdance', 'dirty', 'regional'], dtype=object)"
      ]
     },
     "execution_count": 17,
     "metadata": {},
     "output_type": "execute_result"
    }
   ],
   "source": [
    "# Проверка на неявные дубликаты\n",
    "df['genre'].unique()"
   ]
  },
  {
   "cell_type": "code",
   "execution_count": 18,
   "metadata": {},
   "outputs": [
    {
     "data": {
      "text/plain": [
       "array(['acid', 'acoustic', 'action', 'adult', 'africa', 'afrikaans',\n",
       "       'alternative', 'alternativepunk', 'ambient', 'americana',\n",
       "       'animated', 'anime', 'arabesk', 'arabic', 'arena',\n",
       "       'argentinetango', 'art', 'audiobook', 'author', 'avantgarde',\n",
       "       'axé', 'baile', 'balkan', 'beats', 'bigroom', 'black', 'bluegrass',\n",
       "       'blues', 'bollywood', 'bossa', 'brazilian', 'breakbeat', 'breaks',\n",
       "       'broadway', 'cantautori', 'cantopop', 'canzone', 'caribbean',\n",
       "       'caucasian', 'celtic', 'chamber', 'chanson', 'children', 'chill',\n",
       "       'chinese', 'choral', 'christian', 'christmas', 'classical',\n",
       "       'classicmetal', 'club', 'colombian', 'comedy', 'conjazz',\n",
       "       'contemporary', 'country', 'cuban', 'dance', 'dancehall',\n",
       "       'dancepop', 'dark', 'death', 'deep', 'deutschrock', 'deutschspr',\n",
       "       'dirty', 'disco', 'dnb', 'documentary', 'downbeat', 'downtempo',\n",
       "       'drum', 'dub', 'dubstep', 'eastern', 'easy', 'electronic',\n",
       "       'electropop', 'emo', 'entehno', 'epicmetal', 'estrada', 'ethnic',\n",
       "       'eurofolk', 'european', 'experimental', 'extrememetal', 'fado',\n",
       "       'fairytail', 'film', 'fitness', 'flamenco', 'folk', 'folklore',\n",
       "       'folkmetal', 'folkrock', 'folktronica', 'forró', 'frankreich',\n",
       "       'französisch', 'french', 'funk', 'future', 'gangsta', 'garage',\n",
       "       'german', 'ghazal', 'gitarre', 'glitch', 'gospel', 'gothic',\n",
       "       'grime', 'grunge', 'gypsy', 'handsup', \"hard'n'heavy\", 'hardcore',\n",
       "       'hardstyle', 'hardtechno', 'hiphop', 'historisch', 'holiday',\n",
       "       'horror', 'house', 'hymn', 'idm', 'independent', 'indian', 'indie',\n",
       "       'indipop', 'industrial', 'inspirational', 'instrumental',\n",
       "       'international', 'irish', 'jam', 'japanese', 'jazz', 'jewish',\n",
       "       'jpop', 'jungle', 'k-pop', 'karadeniz', 'karaoke', 'kayokyoku',\n",
       "       'korean', 'laiko', 'latin', 'latino', 'leftfield', 'local',\n",
       "       'lounge', 'loungeelectronic', 'lovers', 'malaysian', 'mandopop',\n",
       "       'marschmusik', 'meditative', 'mediterranean', 'melodic', 'metal',\n",
       "       'metalcore', 'mexican', 'middle', 'minimal', 'miscellaneous',\n",
       "       'modern', 'mood', 'mpb', 'muslim', 'native', 'neoklassik', 'neue',\n",
       "       'new', 'newage', 'newwave', 'nu', 'nujazz', 'numetal', 'oceania',\n",
       "       'old', 'opera', 'orchestral', 'other', 'piano', 'podcasts', 'pop',\n",
       "       'popdance', 'popelectronic', 'popeurodance', 'poprussian', 'post',\n",
       "       'posthardcore', 'postrock', 'power', 'progmetal', 'progressive',\n",
       "       'psychedelic', 'punjabi', 'punk', 'quebecois', 'ragga', 'ram',\n",
       "       'rancheras', 'rap', 'rave', 'reggae', 'reggaeton', 'regional',\n",
       "       'relax', 'religious', 'retro', 'rhythm', 'rnb', 'rnr', 'rock',\n",
       "       'rockabilly', 'rockalternative', 'rockindie', 'rockother',\n",
       "       'romance', 'roots', 'ruspop', 'rusrap', 'rusrock', 'russian',\n",
       "       'salsa', 'samba', 'scenic', 'schlager', 'self', 'sertanejo',\n",
       "       'shanson', 'shoegazing', 'showtunes', 'singer', 'ska', 'skarock',\n",
       "       'slow', 'smooth', 'soft', 'soul', 'soulful', 'sound', 'soundtrack',\n",
       "       'southern', 'specialty', 'speech', 'spiritual', 'sport',\n",
       "       'stonerrock', 'surf', 'swing', 'synthpop', 'synthrock',\n",
       "       'sängerportrait', 'tango', 'tanzorchester', 'taraftar', 'tatar',\n",
       "       'tech', 'techno', 'teen', 'thrash', 'top', 'traditional',\n",
       "       'tradjazz', 'trance', 'tribal', 'trip', 'triphop', 'tropical',\n",
       "       'türk', 'türkçe', 'ukrrock', 'unknown', 'urban', 'uzbek',\n",
       "       'variété', 'vi', 'videogame', 'vocal', 'western', 'world',\n",
       "       'worldbeat', 'ïîï', 'электроника'], dtype=object)"
      ]
     },
     "execution_count": 18,
     "metadata": {},
     "output_type": "execute_result"
    }
   ],
   "source": [
    "df['genre'].sort_values().unique()"
   ]
  },
  {
   "cell_type": "markdown",
   "metadata": {
    "id": "jz6a9-7HQUDd"
   },
   "source": [
    "**Выводы**\n",
    "\n",
    "Предобработка обнаружила три проблемы в данных:\n",
    "\n",
    "- нарушения в стиле заголовков,\n",
    "- пропущенные значения,\n",
    "- дубликаты — явные и неявные.\n",
    "\n",
    "Вы исправили заголовки, чтобы упростить работу с таблицей. Без дубликатов исследование станет более точным.\n",
    "\n",
    "Пропущенные значения вы заменили на `'unknown'`. Ещё предстоит увидеть, не повредят ли исследованию пропуски в колонке `genre`.\n",
    "\n",
    "Теперь можно перейти к проверке гипотез. "
   ]
  },
  {
   "cell_type": "markdown",
   "metadata": {
    "id": "WttZHXH0SqKk"
   },
   "source": [
    "## Проверка гипотез"
   ]
  },
  {
   "cell_type": "markdown",
   "metadata": {
    "id": "Im936VVi_Zcu"
   },
   "source": [
    "### Сравнение поведения пользователей двух столиц"
   ]
  },
  {
   "cell_type": "markdown",
   "metadata": {
    "id": "nwt_MuaL_Zcu"
   },
   "source": [
    "Первая гипотеза утверждает, что пользователи по-разному слушают музыку в Москве и Санкт-Петербурге. Проверьте это предположение по данным о трёх днях недели — понедельнике, среде и пятнице. Для этого:\n",
    "\n",
    "* Разделите пользователей Москвы и Санкт-Петербурга\n",
    "* Сравните, сколько треков послушала каждая группа пользователей в понедельник, среду и пятницу.\n"
   ]
  },
  {
   "cell_type": "markdown",
   "metadata": {
    "id": "8Dw_YMmT_Zcu"
   },
   "source": [
    "Для тренировки сначала выполните каждый из расчётов по отдельности. \n",
    "\n",
    "Оцените активность пользователей в каждом городе. Сгруппируйте данные по городу и посчитайте прослушивания в каждой группе.\n",
    "\n"
   ]
  },
  {
   "cell_type": "code",
   "execution_count": 19,
   "metadata": {
    "id": "0_Qs96oh_Zcu"
   },
   "outputs": [
    {
     "data": {
      "text/plain": [
       "city\n",
       "Moscow              42741\n",
       "Saint-Petersburg    18512\n",
       "Name: genre, dtype: int64"
      ]
     },
     "execution_count": 19,
     "metadata": {},
     "output_type": "execute_result"
    }
   ],
   "source": [
    "# Подсчёт прослушиваний в каждом городе\n",
    "df.groupby('city')['genre'].count()"
   ]
  },
  {
   "cell_type": "markdown",
   "metadata": {
    "id": "dzli3w8o_Zcu"
   },
   "source": [
    "В Москве прослушиваний больше, чем в Петербурге. Из этого не следует, что московские пользователи чаще слушают музыку. Просто самих пользователей в Москве больше.\n",
    "\n",
    "Теперь сгруппируйте данные по дню недели и подсчитайте прослушивания в понедельник, среду и пятницу. Учтите, что в данных есть информация о прослушиваниях только за эти дни.\n"
   ]
  },
  {
   "cell_type": "code",
   "execution_count": 20,
   "metadata": {
    "id": "uZMKjiJz_Zcu"
   },
   "outputs": [
    {
     "data": {
      "text/plain": [
       "day\n",
       "Friday       21840\n",
       "Monday       21354\n",
       "Wednesday    18059\n",
       "Name: genre, dtype: int64"
      ]
     },
     "execution_count": 20,
     "metadata": {},
     "output_type": "execute_result"
    }
   ],
   "source": [
    "# Подсчёт прослушиваний в каждый из трёх дней\n",
    "df.groupby('day')['genre'].count()"
   ]
  },
  {
   "cell_type": "markdown",
   "metadata": {
    "id": "cC2tNrlL_Zcu"
   },
   "source": [
    "В среднем пользователи из двух городов менее активны по средам. Но картина может измениться, если рассмотреть каждый город в отдельности."
   ]
  },
  {
   "cell_type": "markdown",
   "metadata": {
    "id": "POzs8bGa_Zcu"
   },
   "source": [
    "Мы видели, как работает группировка по городу и по дням недели. Теперь напишим функцию, которая объединит два эти расчёта.\n",
    "\n",
    "Создаем функцию `number_tracks()`, которая посчитает прослушивания для заданного дня и города. Ей понадобятся два параметра:\n",
    "* день недели,\n",
    "* название города.\n",
    "\n",
    "В функции сохраните в переменную строки исходной таблицы, у которых значение:\n",
    "  * в колонке `day` равно параметру `day`,\n",
    "  * в колонке `city` равно параметру `city`.\n",
    "\n",
    "Для этого примените последовательную фильтрацию с логической индексацией.\n",
    "\n",
    "Затем посчитать значения в столбце `user_id` получившейся таблицы. Результат сохраните в новую переменную. Верните эту переменную из функции."
   ]
  },
  {
   "cell_type": "code",
   "execution_count": 1,
   "metadata": {
    "id": "Nz3GdQB1_Zcu"
   },
   "outputs": [],
   "source": [
    "def number_tracks(day, city):\n",
    "    track_list = df[(df['day'] == day) & (df['city'] == city)]\n",
    "    track_list_count = track_list['user_id'].count()\n",
    "    return track_list_count"
   ]
  },
  {
   "cell_type": "markdown",
   "metadata": {
    "id": "ytf7xFrFJQ2r"
   },
   "source": [
    "Вызовим `number_tracks()` шесть раз, меняя значение параметров — так, чтобы получить данные для каждого города в каждый из трёх дней."
   ]
  },
  {
   "cell_type": "code",
   "execution_count": 22,
   "metadata": {
    "id": "rJcRATNQ_Zcu"
   },
   "outputs": [
    {
     "data": {
      "text/plain": [
       "15740"
      ]
     },
     "execution_count": 22,
     "metadata": {},
     "output_type": "execute_result"
    }
   ],
   "source": [
    "# количество прослушиваний в Москве по понедельникам\n",
    "number_tracks('Monday', 'Moscow')"
   ]
  },
  {
   "cell_type": "code",
   "execution_count": 23,
   "metadata": {
    "id": "hq_ncZ5T_Zcu"
   },
   "outputs": [
    {
     "data": {
      "text/plain": [
       "5614"
      ]
     },
     "execution_count": 23,
     "metadata": {},
     "output_type": "execute_result"
    }
   ],
   "source": [
    "# количество прослушиваний в Санкт-Петербурге по понедельникам\n",
    "number_tracks('Monday', 'Saint-Petersburg')"
   ]
  },
  {
   "cell_type": "code",
   "execution_count": 24,
   "metadata": {
    "id": "_NTy2VPU_Zcu"
   },
   "outputs": [
    {
     "data": {
      "text/plain": [
       "11056"
      ]
     },
     "execution_count": 24,
     "metadata": {},
     "output_type": "execute_result"
    }
   ],
   "source": [
    "# количество прослушиваний в Москве по средам\n",
    "number_tracks('Wednesday', 'Moscow')"
   ]
  },
  {
   "cell_type": "code",
   "execution_count": 25,
   "metadata": {
    "id": "j2y3TAwo_Zcu"
   },
   "outputs": [
    {
     "data": {
      "text/plain": [
       "7003"
      ]
     },
     "execution_count": 25,
     "metadata": {},
     "output_type": "execute_result"
    }
   ],
   "source": [
    "# количество прослушиваний в Санкт-Петербурге по средам\n",
    "number_tracks('Wednesday', 'Saint-Petersburg')"
   ]
  },
  {
   "cell_type": "code",
   "execution_count": 26,
   "metadata": {
    "id": "vYDw5u_K_Zcu"
   },
   "outputs": [
    {
     "data": {
      "text/plain": [
       "15945"
      ]
     },
     "execution_count": 26,
     "metadata": {},
     "output_type": "execute_result"
    }
   ],
   "source": [
    "# количество прослушиваний в Москве по пятницам\n",
    "number_tracks('Friday', 'Moscow')"
   ]
  },
  {
   "cell_type": "code",
   "execution_count": 27,
   "metadata": {
    "id": "8_yzFtW3_Zcu"
   },
   "outputs": [
    {
     "data": {
      "text/plain": [
       "5895"
      ]
     },
     "execution_count": 27,
     "metadata": {},
     "output_type": "execute_result"
    }
   ],
   "source": [
    "# количество прослушиваний в Санкт-Петербурге по пятницам\n",
    "number_tracks('Friday', 'Saint-Petersburg')"
   ]
  },
  {
   "cell_type": "markdown",
   "metadata": {
    "id": "7QXffbO-_Zcu"
   },
   "source": [
    "Создать c помощью конструктора `pd.DataFrame` таблицу, где\n",
    "* названия колонок — `['city', 'monday', 'wednesday', 'friday']`;\n",
    "* данные — результаты, которые вы получили с помощью `number_tracks`."
   ]
  },
  {
   "cell_type": "code",
   "execution_count": 28,
   "metadata": {
    "id": "APAcLpOr_Zcu"
   },
   "outputs": [
    {
     "data": {
      "text/html": [
       "<div>\n",
       "<style scoped>\n",
       "    .dataframe tbody tr th:only-of-type {\n",
       "        vertical-align: middle;\n",
       "    }\n",
       "\n",
       "    .dataframe tbody tr th {\n",
       "        vertical-align: top;\n",
       "    }\n",
       "\n",
       "    .dataframe thead th {\n",
       "        text-align: right;\n",
       "    }\n",
       "</style>\n",
       "<table border=\"1\" class=\"dataframe\">\n",
       "  <thead>\n",
       "    <tr style=\"text-align: right;\">\n",
       "      <th></th>\n",
       "      <th>city</th>\n",
       "      <th>monday</th>\n",
       "      <th>wednesday</th>\n",
       "      <th>friday</th>\n",
       "    </tr>\n",
       "  </thead>\n",
       "  <tbody>\n",
       "    <tr>\n",
       "      <th>0</th>\n",
       "      <td>Moscow</td>\n",
       "      <td>15740</td>\n",
       "      <td>11056</td>\n",
       "      <td>15945</td>\n",
       "    </tr>\n",
       "    <tr>\n",
       "      <th>1</th>\n",
       "      <td>Saint-Petersburg</td>\n",
       "      <td>5614</td>\n",
       "      <td>7003</td>\n",
       "      <td>5895</td>\n",
       "    </tr>\n",
       "  </tbody>\n",
       "</table>\n",
       "</div>"
      ],
      "text/plain": [
       "               city  monday  wednesday  friday\n",
       "0            Moscow   15740      11056   15945\n",
       "1  Saint-Petersburg    5614       7003    5895"
      ]
     },
     "execution_count": 28,
     "metadata": {},
     "output_type": "execute_result"
    }
   ],
   "source": [
    "# Таблица с результатами\n",
    "info = [['Moscow', number_tracks('Monday', 'Moscow'), 11056, 15945],\n",
    "       ['Saint-Petersburg', number_tracks('Monday', 'Saint-Petersburg'), 7003, 5895]]\n",
    "columns = ['city', 'monday', 'wednesday', 'friday']\n",
    "table = pd.DataFrame(data=info, columns=columns)\n",
    "table"
   ]
  },
  {
   "cell_type": "markdown",
   "metadata": {
    "id": "-EgPIHYu_Zcu"
   },
   "source": [
    "**Выводы**\n",
    "\n",
    "Данные показывают разницу поведения пользователей:\n",
    "\n",
    "- В Москве пик прослушиваний приходится на понедельник и пятницу, а в среду заметен спад.\n",
    "- В Петербурге, наоборот, больше слушают музыку по средам. Активность в понедельник и пятницу здесь почти в равной мере уступает среде.\n",
    "\n",
    "Значит, данные говорят в пользу первой гипотезы."
   ]
  },
  {
   "cell_type": "markdown",
   "metadata": {
    "id": "atZAxtq4_Zcu"
   },
   "source": [
    "### Музыка в начале и в конце недели"
   ]
  },
  {
   "cell_type": "markdown",
   "metadata": {
    "id": "eXrQqXFH_Zcu"
   },
   "source": [
    "Согласно второй гипотезе, утром в понедельник в Москве преобладают одни жанры, а в Петербурге — другие. Так же и вечером пятницы преобладают разные жанры — в зависимости от города."
   ]
  },
  {
   "cell_type": "markdown",
   "metadata": {
    "id": "S8UcW6Hw_Zcu"
   },
   "source": [
    "Сохранить таблицы с данными в две переменные:\n",
    "* по Москве — в `moscow_general`;\n",
    "* по Санкт-Петербургу — в `spb_general`."
   ]
  },
  {
   "cell_type": "code",
   "execution_count": 29,
   "metadata": {
    "id": "qeaFfM_P_Zcu"
   },
   "outputs": [],
   "source": [
    "# получение таблицы moscow_general из тех строк таблицы df, \n",
    "# для которых значение в столбце 'city' равно 'Moscow'\n",
    "moscow_general = df[df['city'] == 'Moscow']"
   ]
  },
  {
   "cell_type": "code",
   "execution_count": 30,
   "metadata": {
    "id": "ORaVRKto_Zcu"
   },
   "outputs": [],
   "source": [
    "# получение таблицы spb_general из тех строк таблицы df,\n",
    "# для которых значение в столбце 'city' равно 'Saint-Petersburg'\n",
    "spb_general = df[df['city'] == 'Saint-Petersburg']"
   ]
  },
  {
   "cell_type": "markdown",
   "metadata": {
    "id": "MEJV-CX2_Zcu"
   },
   "source": [
    "Создать функцию `genre_weekday()` с четырьмя параметрами:\n",
    "* таблица (датафрейм) с данными,\n",
    "* день недели,\n",
    "* начальная временная метка в формате 'hh:mm', \n",
    "* последняя временная метка в формате 'hh:mm'.\n",
    "\n",
    "Функция должна вернуть информацию о топ-10 жанров тех треков, которые прослушивали в указанный день, в промежутке между двумя отметками времени."
   ]
  },
  {
   "cell_type": "code",
   "execution_count": 2,
   "metadata": {
    "id": "laJT9BYl_Zcu"
   },
   "outputs": [],
   "source": [
    "def genre_weekday(table, day, time1, time2):\n",
    "    genre_df = df[(df['day'] == day) & (df['time'] > time1) & (df['time'] < time2)]\n",
    "    genre_df_sorted = genre_df.groupby('genre')['genre'].count().sort_values(ascending = False).head(10)\n",
    "    return genre_df_sorted\n",
    "    "
   ]
  },
  {
   "cell_type": "markdown",
   "metadata": {
    "id": "la2s2_PF_Zcu"
   },
   "source": [
    "Сравнить результаты функции `genre_weekday()` для Москвы и Санкт-Петербурга в понедельник утром (с 7:00 до 11:00) и в пятницу вечером (с 17:00 до 23:00):"
   ]
  },
  {
   "cell_type": "code",
   "execution_count": 32,
   "metadata": {
    "id": "yz7itPUQ_Zcu"
   },
   "outputs": [
    {
     "data": {
      "text/plain": [
       "genre\n",
       "pop            999\n",
       "dance          731\n",
       "rock           636\n",
       "electronic     627\n",
       "hiphop         366\n",
       "ruspop         250\n",
       "rusrap         230\n",
       "alternative    222\n",
       "world          217\n",
       "classical      197\n",
       "Name: genre, dtype: int64"
      ]
     },
     "execution_count": 32,
     "metadata": {},
     "output_type": "execute_result"
    }
   ],
   "source": [
    "# вызов функции для утра понедельника в Москве (вместо df — таблица moscow_general)\n",
    "# объекты, хранящие время, являются строками и сравниваются как строки\n",
    "# пример вызова: genre_weekday(moscow_general, 'Monday', '07:00', '11:00')\n",
    "genre_weekday(moscow_general, 'Monday', '07:00', '11:00')"
   ]
  },
  {
   "cell_type": "code",
   "execution_count": 33,
   "metadata": {
    "id": "kwUcHPdy_Zcu"
   },
   "outputs": [
    {
     "data": {
      "text/plain": [
       "genre\n",
       "pop            999\n",
       "dance          731\n",
       "rock           636\n",
       "electronic     627\n",
       "hiphop         366\n",
       "ruspop         250\n",
       "rusrap         230\n",
       "alternative    222\n",
       "world          217\n",
       "classical      197\n",
       "Name: genre, dtype: int64"
      ]
     },
     "execution_count": 33,
     "metadata": {},
     "output_type": "execute_result"
    }
   ],
   "source": [
    "# вызов функции для утра понедельника в Петербурге (вместо df — таблица spb_general)\n",
    "genre_weekday(spb_general, 'Monday', '07:00', '11:00')"
   ]
  },
  {
   "cell_type": "code",
   "execution_count": 34,
   "metadata": {
    "id": "EzXVRE1o_Zcu"
   },
   "outputs": [
    {
     "data": {
      "text/plain": [
       "genre\n",
       "pop            969\n",
       "rock           733\n",
       "dance          705\n",
       "electronic     698\n",
       "hiphop         370\n",
       "world          262\n",
       "alternative    226\n",
       "classical      223\n",
       "ruspop         217\n",
       "rusrap         201\n",
       "Name: genre, dtype: int64"
      ]
     },
     "execution_count": 34,
     "metadata": {},
     "output_type": "execute_result"
    }
   ],
   "source": [
    "# вызов функции для вечера пятницы в Москве\n",
    "genre_weekday(moscow_general, 'Friday', '17:00', '23:00')"
   ]
  },
  {
   "cell_type": "code",
   "execution_count": 35,
   "metadata": {
    "id": "JZaEKu5v_Zcu"
   },
   "outputs": [
    {
     "data": {
      "text/plain": [
       "genre\n",
       "pop            969\n",
       "rock           733\n",
       "dance          705\n",
       "electronic     698\n",
       "hiphop         370\n",
       "world          262\n",
       "alternative    226\n",
       "classical      223\n",
       "ruspop         217\n",
       "rusrap         201\n",
       "Name: genre, dtype: int64"
      ]
     },
     "execution_count": 35,
     "metadata": {},
     "output_type": "execute_result"
    }
   ],
   "source": [
    "# вызов функции для вечера пятницы в Петербурге\n",
    "genre_weekday(spb_general, 'Friday', '17:00', '23:00')"
   ]
  },
  {
   "cell_type": "markdown",
   "metadata": {
    "id": "wrCe4MNX_Zcu"
   },
   "source": [
    "**Выводы**\n",
    "\n",
    "Если сравнить топ-10 жанров в понедельник утром, можно сделать такие выводы:\n",
    "\n",
    "1. В Москве и Петербурге слушают похожую музыку. Единственное отличие — в московский рейтинг вошёл жанр “world”, а в петербургский — джаз и классика.\n",
    "\n",
    "2. В Москве пропущенных значений оказалось так много, что значение `'unknown'` заняло десятое место среди самых популярных жанров. Значит, пропущенные значения занимают существенную долю в данных и угрожают достоверности исследования.\n",
    "\n",
    "Вечер пятницы не меняет эту картину. Некоторые жанры поднимаются немного выше, другие спускаются, но в целом топ-10 остаётся тем же самым.\n",
    "\n",
    "Таким образом, вторая гипотеза подтвердилась лишь частично:\n",
    "* Пользователи слушают похожую музыку в начале недели и в конце.\n",
    "* Разница между Москвой и Петербургом не слишком выражена. В Москве чаще слушают русскую популярную музыку, в Петербурге — джаз.\n",
    "\n",
    "Однако пропуски в данных ставят под сомнение этот результат. В Москве их так много, что рейтинг топ-10 мог бы выглядеть иначе, если бы не утерянные  данные о жанрах."
   ]
  },
  {
   "cell_type": "markdown",
   "metadata": {
    "id": "JolODAqr_Zcu"
   },
   "source": [
    "### Жанровые предпочтения в Москве и Петербурге\n",
    "\n",
    "Гипотеза: Петербург — столица рэпа, музыку этого жанра там слушают чаще, чем в Москве.  А Москва — город контрастов, в котором, тем не менее, преобладает поп-музыка."
   ]
  },
  {
   "cell_type": "markdown",
   "metadata": {
    "id": "DlegSvaT_Zcu"
   },
   "source": [
    "Сгруппировать таблицу `moscow_general` по жанру и посчитайте прослушивания треков каждого жанра методом `count()`. Затем отсортируйте результат в порядке убывания и сохраните его в таблице `moscow_genres`."
   ]
  },
  {
   "cell_type": "code",
   "execution_count": 36,
   "metadata": {
    "id": "r19lIPke_Zcu"
   },
   "outputs": [],
   "source": [
    "# одной строкой: группировка таблицы moscow_general по столбцу 'genre', \n",
    "# подсчёт числа значений 'genre' в этой группировке методом count(), \n",
    "# сортировка получившегося Series в порядке убывания и сохранение в moscow_genres\n",
    "moscow_general = moscow_general.groupby('genre')['genre'].count().sort_values(ascending = False)"
   ]
  },
  {
   "cell_type": "markdown",
   "metadata": {
    "id": "6kMuomxTiIr8"
   },
   "source": [
    "Выведите на экран первые десять строк `moscow_genres`:"
   ]
  },
  {
   "cell_type": "code",
   "execution_count": 37,
   "metadata": {
    "id": "WhCSooF8_Zcv"
   },
   "outputs": [
    {
     "data": {
      "text/plain": [
       "genre\n",
       "pop            5892\n",
       "dance          4435\n",
       "rock           3965\n",
       "electronic     3786\n",
       "hiphop         2096\n",
       "classical      1616\n",
       "world          1432\n",
       "alternative    1379\n",
       "ruspop         1372\n",
       "rusrap         1161\n",
       "Name: genre, dtype: int64"
      ]
     },
     "execution_count": 37,
     "metadata": {},
     "output_type": "execute_result"
    }
   ],
   "source": [
    "# просмотр первых 10 строк moscow_genres\n",
    "moscow_general.head(10)"
   ]
  },
  {
   "cell_type": "markdown",
   "metadata": {
    "id": "cnPG2vnN_Zcv"
   },
   "source": [
    "Теперь повторить то же и для Петербурга.\n",
    "\n",
    "Сгруппировать таблицу `spb_general` по жанру. Посчитайте прослушивания треков каждого жанра. Результат отсортируйте в порядке убывания и сохраните в таблице `spb_genres`:\n"
   ]
  },
  {
   "cell_type": "code",
   "execution_count": 38,
   "metadata": {
    "id": "gluLIpE7_Zcv"
   },
   "outputs": [],
   "source": [
    "# одной строкой: группировка таблицы spb_general по столбцу 'genre', \n",
    "# подсчёт числа значений 'genre' в этой группировке методом count(), \n",
    "# сортировка получившегося Series в порядке убывания и сохранение в spb_genres\n",
    "spb_general = spb_general.groupby('genre')['genre'].count().sort_values(ascending = False)"
   ]
  },
  {
   "cell_type": "markdown",
   "metadata": {
    "id": "5Doha_ODgyQ8"
   },
   "source": [
    "Выведите на экран первые десять строк `spb_genres`:"
   ]
  },
  {
   "cell_type": "code",
   "execution_count": 39,
   "metadata": {
    "id": "uaGJHjVU_Zcv"
   },
   "outputs": [
    {
     "data": {
      "text/plain": [
       "genre\n",
       "pop            2431\n",
       "dance          1932\n",
       "rock           1879\n",
       "electronic     1736\n",
       "hiphop          960\n",
       "alternative     649\n",
       "classical       646\n",
       "rusrap          564\n",
       "ruspop          538\n",
       "world           515\n",
       "Name: genre, dtype: int64"
      ]
     },
     "execution_count": 39,
     "metadata": {},
     "output_type": "execute_result"
    }
   ],
   "source": [
    "# просмотр первых 10 строк spb_genres\n",
    "spb_general.head(10)"
   ]
  },
  {
   "cell_type": "markdown",
   "metadata": {
    "id": "RY51YJYu_Zcv"
   },
   "source": [
    "**Выводы**"
   ]
  },
  {
   "cell_type": "markdown",
   "metadata": {
    "id": "nVhnJEm__Zcv"
   },
   "source": [
    "Гипотеза частично подтвердилась:\n",
    "* Поп-музыка — самый популярный жанр в Москве, как и предполагала гипотеза. Более того, в топ-10 жанров встречается близкий жанр — русская популярная музыка.\n",
    "* Вопреки ожиданиям, рэп одинаково популярен в Москве и Петербурге. \n"
   ]
  },
  {
   "cell_type": "markdown",
   "metadata": {
    "id": "ykKQ0N65_Zcv"
   },
   "source": [
    "## Итоги исследования"
   ]
  },
  {
   "cell_type": "markdown",
   "metadata": {
    "id": "tjUwbHb3_Zcv"
   },
   "source": [
    "Мы проверили три гипотезы и установили:\n",
    "\n",
    "1. День недели по-разному влияет на активность пользователей в Москве и Петербурге. \n",
    "\n",
    "Первая гипотеза полностью подтвердилась.\n",
    "\n",
    "2. Музыкальные предпочтения не сильно меняются в течение недели — будь то Москва или Петербург. Небольшие различия заметны в начале недели, по понедельникам:\n",
    "* в Москве слушают музыку жанра “world”,\n",
    "* в Петербурге — джаз и классику.\n",
    "\n",
    "Таким образом, вторая гипотеза подтвердилась лишь отчасти. Этот результат мог оказаться иным, если бы не пропуски в данных.\n",
    "\n",
    "3. Во вкусах пользователей Москвы и Петербурга больше общего чем различий. Вопреки ожиданиям, предпочтения жанров в Петербурге напоминают московские.\n",
    "\n",
    "Третья гипотеза не подтвердилась. Если различия в предпочтениях и существуют, на основной массе пользователей они незаметны.\n",
    "\n",
    "**На практике исследования содержат проверки статистических гипотез.**\n",
    "Из данных одного сервиса не всегда можно сделать вывод о всех жителях города.\n",
    "Проверки статистических гипотез покажут, насколько они достоверны, исходя из имеющихся данных. "
   ]
  }
 ],
 "metadata": {
  "ExecuteTimeLog": [
   {
    "duration": 74,
    "start_time": "2022-03-28T21:23:18.971Z"
   },
   {
    "duration": 10,
    "start_time": "2022-03-28T21:23:25.386Z"
   },
   {
    "duration": 474,
    "start_time": "2022-03-28T21:23:29.330Z"
   },
   {
    "duration": 167,
    "start_time": "2022-03-28T21:23:32.243Z"
   },
   {
    "duration": 6,
    "start_time": "2022-03-28T21:26:23.552Z"
   },
   {
    "duration": 5,
    "start_time": "2022-03-28T21:26:38.182Z"
   },
   {
    "duration": 509,
    "start_time": "2022-03-28T21:26:46.282Z"
   },
   {
    "duration": 4,
    "start_time": "2022-03-28T21:26:48.364Z"
   },
   {
    "duration": 4,
    "start_time": "2022-03-28T21:26:50.281Z"
   },
   {
    "duration": 4,
    "start_time": "2022-03-28T21:26:51.454Z"
   },
   {
    "duration": 3,
    "start_time": "2022-03-28T21:26:52.997Z"
   },
   {
    "duration": 517,
    "start_time": "2022-03-28T21:26:57.875Z"
   },
   {
    "duration": 212,
    "start_time": "2022-03-28T21:33:43.365Z"
   },
   {
    "duration": 1881,
    "start_time": "2022-03-28T21:33:48.047Z"
   },
   {
    "duration": 213,
    "start_time": "2022-03-28T21:33:50.222Z"
   },
   {
    "duration": 11,
    "start_time": "2022-03-28T21:34:05.001Z"
   },
   {
    "duration": 43,
    "start_time": "2022-03-28T21:35:26.640Z"
   },
   {
    "duration": 2157,
    "start_time": "2022-03-28T21:38:28.014Z"
   },
   {
    "duration": 1993,
    "start_time": "2022-03-28T21:39:28.044Z"
   },
   {
    "duration": 10,
    "start_time": "2022-03-28T21:39:51.117Z"
   },
   {
    "duration": 10,
    "start_time": "2022-03-28T21:39:56.350Z"
   },
   {
    "duration": 11,
    "start_time": "2022-03-28T21:40:03.907Z"
   },
   {
    "duration": 1925,
    "start_time": "2022-03-28T21:40:16.334Z"
   },
   {
    "duration": 12,
    "start_time": "2022-03-28T21:40:38.109Z"
   },
   {
    "duration": 5,
    "start_time": "2022-03-28T21:40:42.169Z"
   },
   {
    "duration": 50,
    "start_time": "2022-03-28T21:56:48.738Z"
   },
   {
    "duration": 63,
    "start_time": "2022-03-28T21:57:00.396Z"
   },
   {
    "duration": 11,
    "start_time": "2022-03-28T21:58:12.506Z"
   },
   {
    "duration": 4,
    "start_time": "2022-03-28T21:58:35.295Z"
   },
   {
    "duration": 33,
    "start_time": "2022-03-28T22:01:30.115Z"
   },
   {
    "duration": 14,
    "start_time": "2022-03-28T22:11:48.706Z"
   },
   {
    "duration": 12,
    "start_time": "2022-03-28T22:14:09.552Z"
   },
   {
    "duration": 13,
    "start_time": "2022-03-28T22:14:36.249Z"
   },
   {
    "duration": 13,
    "start_time": "2022-03-28T22:14:39.952Z"
   },
   {
    "duration": 27,
    "start_time": "2022-03-28T22:15:03.165Z"
   },
   {
    "duration": 26,
    "start_time": "2022-03-28T22:15:09.035Z"
   },
   {
    "duration": 34,
    "start_time": "2022-03-28T22:15:22.014Z"
   },
   {
    "duration": 118,
    "start_time": "2022-03-28T22:16:05.553Z"
   },
   {
    "duration": 110,
    "start_time": "2022-03-28T22:17:10.094Z"
   },
   {
    "duration": 97,
    "start_time": "2022-03-28T22:17:17.333Z"
   },
   {
    "duration": 44,
    "start_time": "2022-03-29T09:16:55.736Z"
   },
   {
    "duration": 3,
    "start_time": "2022-03-29T09:25:00.099Z"
   },
   {
    "duration": 177,
    "start_time": "2022-03-29T09:26:23.450Z"
   },
   {
    "duration": 39,
    "start_time": "2022-03-29T09:26:34.980Z"
   },
   {
    "duration": 5,
    "start_time": "2022-03-29T09:26:50.593Z"
   },
   {
    "duration": 6,
    "start_time": "2022-03-29T09:26:59.726Z"
   },
   {
    "duration": 5,
    "start_time": "2022-03-29T09:27:24.233Z"
   },
   {
    "duration": 393,
    "start_time": "2022-03-29T09:27:28.170Z"
   },
   {
    "duration": 136,
    "start_time": "2022-03-29T09:27:28.565Z"
   },
   {
    "duration": 8,
    "start_time": "2022-03-29T09:27:28.703Z"
   },
   {
    "duration": 40,
    "start_time": "2022-03-29T09:27:28.714Z"
   },
   {
    "duration": 12,
    "start_time": "2022-03-29T09:27:28.756Z"
   },
   {
    "duration": 28,
    "start_time": "2022-03-29T09:27:28.770Z"
   },
   {
    "duration": 21,
    "start_time": "2022-03-29T09:27:28.799Z"
   },
   {
    "duration": 36,
    "start_time": "2022-03-29T09:27:28.822Z"
   },
   {
    "duration": 33,
    "start_time": "2022-03-29T09:27:28.860Z"
   },
   {
    "duration": 25,
    "start_time": "2022-03-29T09:27:28.896Z"
   },
   {
    "duration": 82,
    "start_time": "2022-03-29T09:27:28.923Z"
   },
   {
    "duration": 84,
    "start_time": "2022-03-29T09:27:29.007Z"
   },
   {
    "duration": 51,
    "start_time": "2022-03-29T09:27:29.092Z"
   },
   {
    "duration": 10,
    "start_time": "2022-03-29T09:27:29.145Z"
   },
   {
    "duration": 12,
    "start_time": "2022-03-29T09:27:29.156Z"
   },
   {
    "duration": 24,
    "start_time": "2022-03-29T09:27:29.169Z"
   },
   {
    "duration": 15,
    "start_time": "2022-03-29T09:27:29.194Z"
   },
   {
    "duration": 15,
    "start_time": "2022-03-29T09:27:29.211Z"
   },
   {
    "duration": 22,
    "start_time": "2022-03-29T09:27:29.227Z"
   },
   {
    "duration": 14,
    "start_time": "2022-03-29T09:27:29.250Z"
   },
   {
    "duration": 28,
    "start_time": "2022-03-29T09:27:29.265Z"
   },
   {
    "duration": 17,
    "start_time": "2022-03-29T09:27:29.294Z"
   },
   {
    "duration": 19,
    "start_time": "2022-03-29T09:27:29.312Z"
   },
   {
    "duration": 17,
    "start_time": "2022-03-29T09:27:29.333Z"
   },
   {
    "duration": 16,
    "start_time": "2022-03-29T09:27:29.351Z"
   },
   {
    "duration": 24,
    "start_time": "2022-03-29T09:27:29.368Z"
   },
   {
    "duration": 15,
    "start_time": "2022-03-29T09:27:29.393Z"
   },
   {
    "duration": 24,
    "start_time": "2022-03-29T09:27:29.410Z"
   },
   {
    "duration": 15,
    "start_time": "2022-03-29T09:27:29.435Z"
   },
   {
    "duration": 26,
    "start_time": "2022-03-29T09:27:29.452Z"
   },
   {
    "duration": 25,
    "start_time": "2022-03-29T09:27:29.479Z"
   },
   {
    "duration": 16,
    "start_time": "2022-03-29T09:27:29.506Z"
   },
   {
    "duration": 25,
    "start_time": "2022-03-29T09:27:29.523Z"
   },
   {
    "duration": 21,
    "start_time": "2022-03-29T09:27:29.550Z"
   },
   {
    "duration": 17,
    "start_time": "2022-03-29T09:27:29.573Z"
   },
   {
    "duration": 11,
    "start_time": "2022-03-29T09:27:29.591Z"
   },
   {
    "duration": 22,
    "start_time": "2022-03-29T09:27:29.603Z"
   },
   {
    "duration": 9,
    "start_time": "2022-03-29T09:27:29.627Z"
   },
   {
    "duration": 26,
    "start_time": "2022-03-29T09:27:38.226Z"
   },
   {
    "duration": 7,
    "start_time": "2022-03-29T09:27:40.113Z"
   },
   {
    "duration": 6,
    "start_time": "2022-03-29T09:27:45.766Z"
   },
   {
    "duration": 2,
    "start_time": "2022-03-29T09:27:49.669Z"
   },
   {
    "duration": 139,
    "start_time": "2022-03-29T09:27:49.673Z"
   },
   {
    "duration": 6,
    "start_time": "2022-03-29T09:27:49.814Z"
   },
   {
    "duration": 29,
    "start_time": "2022-03-29T09:27:49.822Z"
   },
   {
    "duration": 2,
    "start_time": "2022-03-29T09:27:49.853Z"
   },
   {
    "duration": 25,
    "start_time": "2022-03-29T09:27:49.857Z"
   },
   {
    "duration": 3,
    "start_time": "2022-03-29T09:27:49.883Z"
   },
   {
    "duration": 24,
    "start_time": "2022-03-29T09:27:49.887Z"
   },
   {
    "duration": 15,
    "start_time": "2022-03-29T09:27:49.913Z"
   },
   {
    "duration": 21,
    "start_time": "2022-03-29T09:27:49.930Z"
   },
   {
    "duration": 80,
    "start_time": "2022-03-29T09:27:49.953Z"
   },
   {
    "duration": 64,
    "start_time": "2022-03-29T09:27:50.034Z"
   },
   {
    "duration": 49,
    "start_time": "2022-03-29T09:27:50.100Z"
   },
   {
    "duration": 11,
    "start_time": "2022-03-29T09:27:50.150Z"
   },
   {
    "duration": 18,
    "start_time": "2022-03-29T09:27:50.163Z"
   },
   {
    "duration": 2,
    "start_time": "2022-03-29T09:27:50.182Z"
   },
   {
    "duration": 5,
    "start_time": "2022-03-29T09:27:50.186Z"
   },
   {
    "duration": 5,
    "start_time": "2022-03-29T09:27:50.192Z"
   },
   {
    "duration": 5,
    "start_time": "2022-03-29T09:27:50.198Z"
   },
   {
    "duration": 5,
    "start_time": "2022-03-29T09:27:50.204Z"
   },
   {
    "duration": 7,
    "start_time": "2022-03-29T09:27:50.210Z"
   },
   {
    "duration": 6,
    "start_time": "2022-03-29T09:27:50.218Z"
   },
   {
    "duration": 5,
    "start_time": "2022-03-29T09:27:50.225Z"
   },
   {
    "duration": 4,
    "start_time": "2022-03-29T09:27:50.231Z"
   },
   {
    "duration": 5,
    "start_time": "2022-03-29T09:27:50.236Z"
   },
   {
    "duration": 6,
    "start_time": "2022-03-29T09:27:50.242Z"
   },
   {
    "duration": 5,
    "start_time": "2022-03-29T09:27:50.249Z"
   },
   {
    "duration": 25,
    "start_time": "2022-03-29T09:27:50.256Z"
   },
   {
    "duration": 4,
    "start_time": "2022-03-29T09:27:50.284Z"
   },
   {
    "duration": 4,
    "start_time": "2022-03-29T09:27:50.289Z"
   },
   {
    "duration": 8,
    "start_time": "2022-03-29T09:27:50.294Z"
   },
   {
    "duration": 5,
    "start_time": "2022-03-29T09:27:50.304Z"
   },
   {
    "duration": 6,
    "start_time": "2022-03-29T09:27:50.311Z"
   },
   {
    "duration": 4,
    "start_time": "2022-03-29T09:27:50.318Z"
   },
   {
    "duration": 5,
    "start_time": "2022-03-29T09:27:50.324Z"
   },
   {
    "duration": 6,
    "start_time": "2022-03-29T09:27:50.330Z"
   },
   {
    "duration": 5,
    "start_time": "2022-03-29T09:27:50.337Z"
   },
   {
    "duration": 6,
    "start_time": "2022-03-29T09:27:50.343Z"
   },
   {
    "duration": 6,
    "start_time": "2022-03-29T09:34:37.257Z"
   },
   {
    "duration": 7,
    "start_time": "2022-03-29T09:34:45.790Z"
   },
   {
    "duration": 7,
    "start_time": "2022-03-29T09:35:06.919Z"
   },
   {
    "duration": 7,
    "start_time": "2022-03-29T09:35:35.777Z"
   },
   {
    "duration": 8,
    "start_time": "2022-03-29T09:40:56.892Z"
   },
   {
    "duration": 7,
    "start_time": "2022-03-29T09:40:59.161Z"
   },
   {
    "duration": 3,
    "start_time": "2022-03-29T09:40:59.853Z"
   },
   {
    "duration": 7,
    "start_time": "2022-03-29T09:41:03.912Z"
   },
   {
    "duration": 47,
    "start_time": "2022-03-29T09:41:17.894Z"
   },
   {
    "duration": 3,
    "start_time": "2022-03-29T09:41:57.421Z"
   },
   {
    "duration": 6,
    "start_time": "2022-03-29T09:42:04.319Z"
   },
   {
    "duration": 10,
    "start_time": "2022-03-29T09:42:09.144Z"
   },
   {
    "duration": 638,
    "start_time": "2022-03-29T09:42:12.144Z"
   },
   {
    "duration": 297,
    "start_time": "2022-03-29T09:42:14.463Z"
   },
   {
    "duration": 7,
    "start_time": "2022-03-29T09:42:16.835Z"
   },
   {
    "duration": 28,
    "start_time": "2022-03-29T09:42:20.044Z"
   },
   {
    "duration": 3,
    "start_time": "2022-03-29T09:42:23.892Z"
   },
   {
    "duration": 2838,
    "start_time": "2022-03-29T09:42:28.600Z"
   },
   {
    "duration": 3009,
    "start_time": "2022-03-29T09:42:31.491Z"
   },
   {
    "duration": 2847,
    "start_time": "2022-03-29T09:42:45.124Z"
   },
   {
    "duration": 11,
    "start_time": "2022-03-29T09:42:54.963Z"
   },
   {
    "duration": 6,
    "start_time": "2022-03-29T09:43:01.976Z"
   },
   {
    "duration": 13,
    "start_time": "2022-03-29T09:43:17.219Z"
   },
   {
    "duration": 52,
    "start_time": "2022-03-29T10:00:38.665Z"
   },
   {
    "duration": 431,
    "start_time": "2022-03-29T10:00:46.554Z"
   },
   {
    "duration": 179,
    "start_time": "2022-03-29T10:00:46.987Z"
   },
   {
    "duration": 8,
    "start_time": "2022-03-29T10:00:47.168Z"
   },
   {
    "duration": 35,
    "start_time": "2022-03-29T10:00:47.179Z"
   },
   {
    "duration": 17,
    "start_time": "2022-03-29T10:00:47.215Z"
   },
   {
    "duration": 20,
    "start_time": "2022-03-29T10:00:47.234Z"
   },
   {
    "duration": 7,
    "start_time": "2022-03-29T10:00:47.256Z"
   },
   {
    "duration": 30,
    "start_time": "2022-03-29T10:00:47.264Z"
   },
   {
    "duration": 39,
    "start_time": "2022-03-29T10:00:47.296Z"
   },
   {
    "duration": 25,
    "start_time": "2022-03-29T10:00:47.338Z"
   },
   {
    "duration": 92,
    "start_time": "2022-03-29T10:00:47.365Z"
   },
   {
    "duration": 93,
    "start_time": "2022-03-29T10:00:47.458Z"
   },
   {
    "duration": 80,
    "start_time": "2022-03-29T10:00:47.553Z"
   },
   {
    "duration": 10,
    "start_time": "2022-03-29T10:00:47.635Z"
   },
   {
    "duration": 16,
    "start_time": "2022-03-29T10:00:47.647Z"
   },
   {
    "duration": 23,
    "start_time": "2022-03-29T10:00:47.664Z"
   },
   {
    "duration": 10,
    "start_time": "2022-03-29T10:00:47.689Z"
   },
   {
    "duration": 10,
    "start_time": "2022-03-29T10:00:47.700Z"
   },
   {
    "duration": 6,
    "start_time": "2022-03-29T10:00:47.712Z"
   },
   {
    "duration": 7,
    "start_time": "2022-03-29T10:00:47.719Z"
   },
   {
    "duration": 12,
    "start_time": "2022-03-29T10:00:47.728Z"
   },
   {
    "duration": 26,
    "start_time": "2022-03-29T10:00:47.741Z"
   },
   {
    "duration": 7,
    "start_time": "2022-03-29T10:00:47.769Z"
   },
   {
    "duration": 7,
    "start_time": "2022-03-29T10:00:47.777Z"
   },
   {
    "duration": 6,
    "start_time": "2022-03-29T10:00:47.786Z"
   },
   {
    "duration": 9,
    "start_time": "2022-03-29T10:00:47.794Z"
   },
   {
    "duration": 7,
    "start_time": "2022-03-29T10:00:47.805Z"
   },
   {
    "duration": 6,
    "start_time": "2022-03-29T10:00:47.815Z"
   },
   {
    "duration": 6,
    "start_time": "2022-03-29T10:00:47.823Z"
   },
   {
    "duration": 5,
    "start_time": "2022-03-29T10:00:47.831Z"
   },
   {
    "duration": 10,
    "start_time": "2022-03-29T10:00:47.837Z"
   },
   {
    "duration": 7,
    "start_time": "2022-03-29T10:00:47.849Z"
   },
   {
    "duration": 8,
    "start_time": "2022-03-29T10:00:47.858Z"
   },
   {
    "duration": 10,
    "start_time": "2022-03-29T10:00:47.867Z"
   },
   {
    "duration": 5,
    "start_time": "2022-03-29T10:00:47.879Z"
   },
   {
    "duration": 5,
    "start_time": "2022-03-29T10:00:47.886Z"
   },
   {
    "duration": 21,
    "start_time": "2022-03-29T10:00:47.893Z"
   },
   {
    "duration": 12,
    "start_time": "2022-03-29T10:00:47.916Z"
   },
   {
    "duration": 7,
    "start_time": "2022-03-29T10:01:04.822Z"
   },
   {
    "duration": 7,
    "start_time": "2022-03-29T10:01:16.832Z"
   },
   {
    "duration": 2557,
    "start_time": "2022-03-29T10:01:24.867Z"
   },
   {
    "duration": 2306,
    "start_time": "2022-03-29T10:02:10.592Z"
   },
   {
    "duration": 7,
    "start_time": "2022-03-29T10:02:30.850Z"
   },
   {
    "duration": 7,
    "start_time": "2022-03-29T10:02:34.211Z"
   },
   {
    "duration": 8,
    "start_time": "2022-03-29T10:05:32.454Z"
   },
   {
    "duration": 3,
    "start_time": "2022-03-29T10:05:35.811Z"
   },
   {
    "duration": 4,
    "start_time": "2022-03-29T10:05:50.390Z"
   },
   {
    "duration": 5,
    "start_time": "2022-03-29T10:06:09.536Z"
   },
   {
    "duration": 7,
    "start_time": "2022-03-29T10:06:44.475Z"
   },
   {
    "duration": 5,
    "start_time": "2022-03-29T10:06:49.677Z"
   },
   {
    "duration": 4,
    "start_time": "2022-03-29T10:06:52.239Z"
   },
   {
    "duration": 4,
    "start_time": "2022-03-29T10:06:54.847Z"
   },
   {
    "duration": 6,
    "start_time": "2022-03-29T10:12:35.693Z"
   },
   {
    "duration": 7,
    "start_time": "2022-03-29T10:12:38.111Z"
   },
   {
    "duration": 4,
    "start_time": "2022-03-29T10:13:03.166Z"
   },
   {
    "duration": 4,
    "start_time": "2022-03-29T10:13:08.116Z"
   },
   {
    "duration": 4,
    "start_time": "2022-03-29T10:13:22.877Z"
   },
   {
    "duration": 4,
    "start_time": "2022-03-29T10:13:26.344Z"
   },
   {
    "duration": 6,
    "start_time": "2022-03-29T10:13:36.469Z"
   },
   {
    "duration": 4,
    "start_time": "2022-03-29T10:13:39.400Z"
   },
   {
    "duration": 9,
    "start_time": "2022-03-29T10:32:29.065Z"
   },
   {
    "duration": 5,
    "start_time": "2022-03-29T10:32:53.878Z"
   },
   {
    "duration": 54,
    "start_time": "2022-03-29T10:33:57.753Z"
   },
   {
    "duration": 3,
    "start_time": "2022-03-29T10:34:52.773Z"
   },
   {
    "duration": 8,
    "start_time": "2022-03-29T10:35:00.205Z"
   },
   {
    "duration": 8,
    "start_time": "2022-03-29T10:35:07.084Z"
   },
   {
    "duration": 8,
    "start_time": "2022-03-29T10:35:11.392Z"
   },
   {
    "duration": 8,
    "start_time": "2022-03-29T10:35:27.232Z"
   },
   {
    "duration": 11,
    "start_time": "2022-03-29T10:35:31.493Z"
   },
   {
    "duration": 3,
    "start_time": "2022-03-29T10:35:38.725Z"
   },
   {
    "duration": 73,
    "start_time": "2022-03-29T10:35:54.139Z"
   },
   {
    "duration": 4,
    "start_time": "2022-03-29T10:36:34.534Z"
   },
   {
    "duration": 4,
    "start_time": "2022-03-29T10:36:37.947Z"
   },
   {
    "duration": 8,
    "start_time": "2022-03-29T10:38:46.274Z"
   },
   {
    "duration": 15,
    "start_time": "2022-03-29T10:40:17.710Z"
   },
   {
    "duration": 14,
    "start_time": "2022-03-29T10:53:06.354Z"
   },
   {
    "duration": 32,
    "start_time": "2022-03-29T10:53:18.367Z"
   },
   {
    "duration": 30,
    "start_time": "2022-03-29T10:53:24.980Z"
   },
   {
    "duration": 4,
    "start_time": "2022-03-29T10:53:31.628Z"
   },
   {
    "duration": 11,
    "start_time": "2022-03-29T10:53:55.740Z"
   },
   {
    "duration": 5,
    "start_time": "2022-03-29T10:53:59.374Z"
   },
   {
    "duration": 8,
    "start_time": "2022-03-29T10:54:08.342Z"
   },
   {
    "duration": 13,
    "start_time": "2022-03-29T10:58:28.211Z"
   },
   {
    "duration": 12,
    "start_time": "2022-03-29T11:00:37.872Z"
   },
   {
    "duration": 12,
    "start_time": "2022-03-29T11:00:44.281Z"
   },
   {
    "duration": 11,
    "start_time": "2022-03-29T11:00:57.901Z"
   },
   {
    "duration": 8,
    "start_time": "2022-03-29T11:10:37.796Z"
   },
   {
    "duration": 6,
    "start_time": "2022-03-29T11:16:13.018Z"
   },
   {
    "duration": 3,
    "start_time": "2022-03-29T11:16:19.284Z"
   },
   {
    "duration": 19,
    "start_time": "2022-03-29T11:16:21.982Z"
   },
   {
    "duration": 18,
    "start_time": "2022-03-29T11:16:51.915Z"
   },
   {
    "duration": 18,
    "start_time": "2022-03-29T11:17:13.899Z"
   },
   {
    "duration": 16,
    "start_time": "2022-03-29T11:17:24.097Z"
   },
   {
    "duration": 15,
    "start_time": "2022-03-29T11:17:31.160Z"
   },
   {
    "duration": 17,
    "start_time": "2022-03-29T11:17:34.570Z"
   },
   {
    "duration": 16,
    "start_time": "2022-03-29T11:17:46.863Z"
   },
   {
    "duration": 29,
    "start_time": "2022-03-29T11:17:55.532Z"
   },
   {
    "duration": 5,
    "start_time": "2022-03-29T11:18:03.080Z"
   },
   {
    "duration": 25,
    "start_time": "2022-03-29T11:18:04.822Z"
   },
   {
    "duration": 4,
    "start_time": "2022-03-29T11:18:07.102Z"
   },
   {
    "duration": 3,
    "start_time": "2022-03-29T11:18:12.045Z"
   },
   {
    "duration": 189,
    "start_time": "2022-03-29T11:18:12.051Z"
   },
   {
    "duration": 15,
    "start_time": "2022-03-29T11:18:12.244Z"
   },
   {
    "duration": 38,
    "start_time": "2022-03-29T11:18:12.261Z"
   },
   {
    "duration": 8,
    "start_time": "2022-03-29T11:18:12.302Z"
   },
   {
    "duration": 29,
    "start_time": "2022-03-29T11:18:12.312Z"
   },
   {
    "duration": 4,
    "start_time": "2022-03-29T11:18:12.344Z"
   },
   {
    "duration": 33,
    "start_time": "2022-03-29T11:18:12.350Z"
   },
   {
    "duration": 24,
    "start_time": "2022-03-29T11:18:12.384Z"
   },
   {
    "duration": 53,
    "start_time": "2022-03-29T11:18:12.410Z"
   },
   {
    "duration": 85,
    "start_time": "2022-03-29T11:18:12.465Z"
   },
   {
    "duration": 81,
    "start_time": "2022-03-29T11:18:12.552Z"
   },
   {
    "duration": 66,
    "start_time": "2022-03-29T11:18:12.638Z"
   },
   {
    "duration": 6,
    "start_time": "2022-03-29T11:18:12.706Z"
   },
   {
    "duration": 26,
    "start_time": "2022-03-29T11:18:12.714Z"
   },
   {
    "duration": 26,
    "start_time": "2022-03-29T11:18:12.742Z"
   },
   {
    "duration": 9,
    "start_time": "2022-03-29T11:18:12.770Z"
   },
   {
    "duration": 15,
    "start_time": "2022-03-29T11:18:12.780Z"
   },
   {
    "duration": 38,
    "start_time": "2022-03-29T11:18:12.797Z"
   },
   {
    "duration": 6,
    "start_time": "2022-03-29T11:18:12.837Z"
   },
   {
    "duration": 38,
    "start_time": "2022-03-29T11:18:12.846Z"
   },
   {
    "duration": 24,
    "start_time": "2022-03-29T11:18:12.886Z"
   },
   {
    "duration": 30,
    "start_time": "2022-03-29T11:18:12.912Z"
   },
   {
    "duration": 28,
    "start_time": "2022-03-29T11:18:12.944Z"
   },
   {
    "duration": 18,
    "start_time": "2022-03-29T11:18:12.974Z"
   },
   {
    "duration": 21,
    "start_time": "2022-03-29T11:18:12.993Z"
   },
   {
    "duration": 5,
    "start_time": "2022-03-29T11:18:13.035Z"
   },
   {
    "duration": 21,
    "start_time": "2022-03-29T11:18:13.041Z"
   },
   {
    "duration": 10,
    "start_time": "2022-03-29T11:18:13.064Z"
   },
   {
    "duration": 7,
    "start_time": "2022-03-29T11:18:13.076Z"
   },
   {
    "duration": 19,
    "start_time": "2022-03-29T11:18:13.085Z"
   },
   {
    "duration": 6,
    "start_time": "2022-03-29T11:18:13.106Z"
   },
   {
    "duration": 11,
    "start_time": "2022-03-29T11:18:13.114Z"
   },
   {
    "duration": 22,
    "start_time": "2022-03-29T11:18:13.127Z"
   },
   {
    "duration": 7,
    "start_time": "2022-03-29T11:18:13.151Z"
   },
   {
    "duration": 6,
    "start_time": "2022-03-29T11:18:13.160Z"
   },
   {
    "duration": 12,
    "start_time": "2022-03-29T11:18:13.171Z"
   },
   {
    "duration": 9,
    "start_time": "2022-03-29T11:18:13.185Z"
   },
   {
    "duration": 10,
    "start_time": "2022-03-29T11:25:29.630Z"
   },
   {
    "duration": 9,
    "start_time": "2022-03-29T11:25:37.048Z"
   },
   {
    "duration": 22,
    "start_time": "2022-03-29T11:25:52.886Z"
   },
   {
    "duration": 39,
    "start_time": "2022-03-29T11:26:03.320Z"
   },
   {
    "duration": 45,
    "start_time": "2022-03-29T17:44:27.413Z"
   },
   {
    "duration": 398,
    "start_time": "2022-03-29T17:44:32.607Z"
   },
   {
    "duration": 143,
    "start_time": "2022-03-29T17:44:33.007Z"
   },
   {
    "duration": 16,
    "start_time": "2022-03-29T17:44:33.151Z"
   },
   {
    "duration": 39,
    "start_time": "2022-03-29T17:44:33.169Z"
   },
   {
    "duration": 31,
    "start_time": "2022-03-29T17:44:33.211Z"
   },
   {
    "duration": 21,
    "start_time": "2022-03-29T17:44:33.243Z"
   },
   {
    "duration": 29,
    "start_time": "2022-03-29T17:44:33.266Z"
   },
   {
    "duration": 41,
    "start_time": "2022-03-29T17:44:33.297Z"
   },
   {
    "duration": 42,
    "start_time": "2022-03-29T17:44:33.340Z"
   },
   {
    "duration": 42,
    "start_time": "2022-03-29T17:44:33.385Z"
   },
   {
    "duration": 98,
    "start_time": "2022-03-29T17:44:33.428Z"
   },
   {
    "duration": 88,
    "start_time": "2022-03-29T17:44:33.528Z"
   },
   {
    "duration": 61,
    "start_time": "2022-03-29T17:44:33.617Z"
   },
   {
    "duration": 19,
    "start_time": "2022-03-29T17:44:33.682Z"
   },
   {
    "duration": 25,
    "start_time": "2022-03-29T17:44:33.703Z"
   },
   {
    "duration": 33,
    "start_time": "2022-03-29T17:44:33.730Z"
   },
   {
    "duration": 21,
    "start_time": "2022-03-29T17:44:33.764Z"
   },
   {
    "duration": 27,
    "start_time": "2022-03-29T17:44:33.787Z"
   },
   {
    "duration": 15,
    "start_time": "2022-03-29T17:44:33.815Z"
   },
   {
    "duration": 14,
    "start_time": "2022-03-29T17:44:33.832Z"
   },
   {
    "duration": 35,
    "start_time": "2022-03-29T17:44:33.847Z"
   },
   {
    "duration": 19,
    "start_time": "2022-03-29T17:44:33.884Z"
   },
   {
    "duration": 34,
    "start_time": "2022-03-29T17:44:33.904Z"
   },
   {
    "duration": 26,
    "start_time": "2022-03-29T17:44:33.940Z"
   },
   {
    "duration": 21,
    "start_time": "2022-03-29T17:44:33.968Z"
   },
   {
    "duration": 33,
    "start_time": "2022-03-29T17:44:33.990Z"
   },
   {
    "duration": 29,
    "start_time": "2022-03-29T17:44:34.025Z"
   },
   {
    "duration": 27,
    "start_time": "2022-03-29T17:44:34.056Z"
   },
   {
    "duration": 0,
    "start_time": "2022-03-29T17:44:34.085Z"
   },
   {
    "duration": 0,
    "start_time": "2022-03-29T17:44:34.086Z"
   },
   {
    "duration": 0,
    "start_time": "2022-03-29T17:44:34.088Z"
   },
   {
    "duration": 0,
    "start_time": "2022-03-29T17:44:34.089Z"
   },
   {
    "duration": 0,
    "start_time": "2022-03-29T17:44:34.101Z"
   },
   {
    "duration": 0,
    "start_time": "2022-03-29T17:44:34.102Z"
   },
   {
    "duration": 1,
    "start_time": "2022-03-29T17:44:34.103Z"
   },
   {
    "duration": 0,
    "start_time": "2022-03-29T17:44:34.105Z"
   },
   {
    "duration": 0,
    "start_time": "2022-03-29T17:44:34.106Z"
   },
   {
    "duration": 0,
    "start_time": "2022-03-29T17:44:34.108Z"
   },
   {
    "duration": 12,
    "start_time": "2022-03-29T17:44:47.812Z"
   },
   {
    "duration": 9,
    "start_time": "2022-03-29T17:45:06.011Z"
   },
   {
    "duration": 5,
    "start_time": "2022-03-29T17:51:50.808Z"
   },
   {
    "duration": 20,
    "start_time": "2022-03-29T18:08:35.942Z"
   },
   {
    "duration": 3,
    "start_time": "2022-03-29T18:08:49.026Z"
   },
   {
    "duration": 20,
    "start_time": "2022-03-29T18:09:01.483Z"
   },
   {
    "duration": 21,
    "start_time": "2022-03-29T18:10:00.146Z"
   },
   {
    "duration": 50,
    "start_time": "2022-03-29T18:16:19.012Z"
   },
   {
    "duration": 381,
    "start_time": "2022-03-29T18:16:27.518Z"
   },
   {
    "duration": 151,
    "start_time": "2022-03-29T18:16:27.901Z"
   },
   {
    "duration": 22,
    "start_time": "2022-03-29T18:16:28.054Z"
   },
   {
    "duration": 31,
    "start_time": "2022-03-29T18:16:28.078Z"
   },
   {
    "duration": 5,
    "start_time": "2022-03-29T18:16:28.111Z"
   },
   {
    "duration": 14,
    "start_time": "2022-03-29T18:16:28.117Z"
   },
   {
    "duration": 32,
    "start_time": "2022-03-29T18:16:28.133Z"
   },
   {
    "duration": 39,
    "start_time": "2022-03-29T18:16:28.167Z"
   },
   {
    "duration": 21,
    "start_time": "2022-03-29T18:16:28.208Z"
   },
   {
    "duration": 51,
    "start_time": "2022-03-29T18:16:28.231Z"
   },
   {
    "duration": 87,
    "start_time": "2022-03-29T18:16:28.284Z"
   },
   {
    "duration": 100,
    "start_time": "2022-03-29T18:16:28.373Z"
   },
   {
    "duration": 59,
    "start_time": "2022-03-29T18:16:28.475Z"
   },
   {
    "duration": 5,
    "start_time": "2022-03-29T18:16:28.538Z"
   },
   {
    "duration": 23,
    "start_time": "2022-03-29T18:16:28.545Z"
   },
   {
    "duration": 22,
    "start_time": "2022-03-29T18:16:28.569Z"
   },
   {
    "duration": 10,
    "start_time": "2022-03-29T18:16:28.593Z"
   },
   {
    "duration": 12,
    "start_time": "2022-03-29T18:16:28.605Z"
   },
   {
    "duration": 9,
    "start_time": "2022-03-29T18:16:28.619Z"
   },
   {
    "duration": 3,
    "start_time": "2022-03-29T18:16:28.630Z"
   },
   {
    "duration": 41,
    "start_time": "2022-03-29T18:16:28.634Z"
   },
   {
    "duration": 14,
    "start_time": "2022-03-29T18:16:28.677Z"
   },
   {
    "duration": 15,
    "start_time": "2022-03-29T18:16:28.692Z"
   },
   {
    "duration": 16,
    "start_time": "2022-03-29T18:16:28.709Z"
   },
   {
    "duration": 46,
    "start_time": "2022-03-29T18:16:28.727Z"
   },
   {
    "duration": 15,
    "start_time": "2022-03-29T18:16:28.775Z"
   },
   {
    "duration": 31,
    "start_time": "2022-03-29T18:16:28.792Z"
   },
   {
    "duration": 42,
    "start_time": "2022-03-29T18:16:28.825Z"
   },
   {
    "duration": 9,
    "start_time": "2022-03-29T18:16:28.869Z"
   },
   {
    "duration": 4,
    "start_time": "2022-03-29T18:16:28.880Z"
   },
   {
    "duration": 28,
    "start_time": "2022-03-29T18:16:28.886Z"
   },
   {
    "duration": 46,
    "start_time": "2022-03-29T18:16:28.917Z"
   },
   {
    "duration": 33,
    "start_time": "2022-03-29T18:16:28.965Z"
   },
   {
    "duration": 4,
    "start_time": "2022-03-29T18:16:28.999Z"
   },
   {
    "duration": 9,
    "start_time": "2022-03-29T18:16:29.004Z"
   },
   {
    "duration": 7,
    "start_time": "2022-03-29T18:16:29.015Z"
   },
   {
    "duration": 7,
    "start_time": "2022-03-29T18:16:29.024Z"
   },
   {
    "duration": 6,
    "start_time": "2022-03-29T18:16:29.033Z"
   },
   {
    "duration": 23,
    "start_time": "2022-03-29T18:16:43.952Z"
   },
   {
    "duration": 11,
    "start_time": "2022-03-29T18:19:38.638Z"
   },
   {
    "duration": 4,
    "start_time": "2022-03-29T18:19:47.205Z"
   },
   {
    "duration": 7,
    "start_time": "2022-03-29T18:20:04.400Z"
   },
   {
    "duration": 6,
    "start_time": "2022-03-29T18:20:08.651Z"
   },
   {
    "duration": 175,
    "start_time": "2022-04-09T12:19:33.930Z"
   },
   {
    "duration": 50,
    "start_time": "2022-04-09T17:08:09.859Z"
   },
   {
    "duration": 429,
    "start_time": "2022-04-09T17:08:17.979Z"
   },
   {
    "duration": 156,
    "start_time": "2022-04-09T17:08:18.411Z"
   },
   {
    "duration": 19,
    "start_time": "2022-04-09T17:08:18.569Z"
   },
   {
    "duration": 44,
    "start_time": "2022-04-09T17:08:18.590Z"
   },
   {
    "duration": 4,
    "start_time": "2022-04-09T17:08:18.637Z"
   },
   {
    "duration": 17,
    "start_time": "2022-04-09T17:08:18.643Z"
   },
   {
    "duration": 9,
    "start_time": "2022-04-09T17:08:18.661Z"
   },
   {
    "duration": 47,
    "start_time": "2022-04-09T17:08:18.671Z"
   },
   {
    "duration": 24,
    "start_time": "2022-04-09T17:08:18.720Z"
   },
   {
    "duration": 24,
    "start_time": "2022-04-09T17:08:18.745Z"
   },
   {
    "duration": 84,
    "start_time": "2022-04-09T17:08:18.771Z"
   },
   {
    "duration": 91,
    "start_time": "2022-04-09T17:08:18.856Z"
   },
   {
    "duration": 65,
    "start_time": "2022-04-09T17:08:18.949Z"
   },
   {
    "duration": 6,
    "start_time": "2022-04-09T17:08:19.018Z"
   },
   {
    "duration": 8,
    "start_time": "2022-04-09T17:08:19.026Z"
   },
   {
    "duration": 13,
    "start_time": "2022-04-09T17:08:19.035Z"
   },
   {
    "duration": 19,
    "start_time": "2022-04-09T17:08:19.050Z"
   },
   {
    "duration": 17,
    "start_time": "2022-04-09T17:08:19.070Z"
   },
   {
    "duration": 24,
    "start_time": "2022-04-09T17:08:19.089Z"
   },
   {
    "duration": 3,
    "start_time": "2022-04-09T17:08:19.115Z"
   },
   {
    "duration": 28,
    "start_time": "2022-04-09T17:08:19.119Z"
   },
   {
    "duration": 16,
    "start_time": "2022-04-09T17:08:19.149Z"
   },
   {
    "duration": 18,
    "start_time": "2022-04-09T17:08:19.167Z"
   },
   {
    "duration": 30,
    "start_time": "2022-04-09T17:08:19.187Z"
   },
   {
    "duration": 17,
    "start_time": "2022-04-09T17:08:19.219Z"
   },
   {
    "duration": 15,
    "start_time": "2022-04-09T17:08:19.238Z"
   },
   {
    "duration": 61,
    "start_time": "2022-04-09T17:08:19.255Z"
   },
   {
    "duration": 11,
    "start_time": "2022-04-09T17:08:19.318Z"
   },
   {
    "duration": 10,
    "start_time": "2022-04-09T17:08:19.331Z"
   },
   {
    "duration": 5,
    "start_time": "2022-04-09T17:08:19.343Z"
   },
   {
    "duration": 26,
    "start_time": "2022-04-09T17:08:19.350Z"
   },
   {
    "duration": 47,
    "start_time": "2022-04-09T17:08:19.378Z"
   },
   {
    "duration": 23,
    "start_time": "2022-04-09T17:08:19.426Z"
   },
   {
    "duration": 22,
    "start_time": "2022-04-09T17:08:19.451Z"
   },
   {
    "duration": 36,
    "start_time": "2022-04-09T17:08:19.475Z"
   },
   {
    "duration": 6,
    "start_time": "2022-04-09T17:08:19.513Z"
   },
   {
    "duration": 12,
    "start_time": "2022-04-09T17:08:19.521Z"
   },
   {
    "duration": 7,
    "start_time": "2022-04-09T17:08:19.534Z"
   },
   {
    "duration": 87,
    "start_time": "2022-04-09T17:12:32.432Z"
   },
   {
    "duration": 398,
    "start_time": "2022-04-09T17:21:46.427Z"
   },
   {
    "duration": 161,
    "start_time": "2022-04-09T17:21:46.828Z"
   },
   {
    "duration": 24,
    "start_time": "2022-04-09T17:21:46.991Z"
   },
   {
    "duration": 30,
    "start_time": "2022-04-09T17:21:47.018Z"
   },
   {
    "duration": 5,
    "start_time": "2022-04-09T17:21:47.050Z"
   },
   {
    "duration": 14,
    "start_time": "2022-04-09T17:21:47.057Z"
   },
   {
    "duration": 35,
    "start_time": "2022-04-09T17:21:47.073Z"
   },
   {
    "duration": 26,
    "start_time": "2022-04-09T17:21:47.111Z"
   },
   {
    "duration": 18,
    "start_time": "2022-04-09T17:21:47.138Z"
   },
   {
    "duration": 23,
    "start_time": "2022-04-09T17:21:47.159Z"
   },
   {
    "duration": 66,
    "start_time": "2022-04-09T17:21:47.209Z"
   },
   {
    "duration": 95,
    "start_time": "2022-04-09T17:21:47.277Z"
   },
   {
    "duration": 64,
    "start_time": "2022-04-09T17:21:47.374Z"
   },
   {
    "duration": 7,
    "start_time": "2022-04-09T17:21:47.439Z"
   },
   {
    "duration": 6,
    "start_time": "2022-04-09T17:21:47.448Z"
   },
   {
    "duration": 11,
    "start_time": "2022-04-09T17:21:47.455Z"
   },
   {
    "duration": 7,
    "start_time": "2022-04-09T17:21:47.467Z"
   },
   {
    "duration": 41,
    "start_time": "2022-04-09T17:21:47.476Z"
   },
   {
    "duration": 12,
    "start_time": "2022-04-09T17:21:47.519Z"
   },
   {
    "duration": 4,
    "start_time": "2022-04-09T17:21:47.532Z"
   },
   {
    "duration": 19,
    "start_time": "2022-04-09T17:21:47.538Z"
   },
   {
    "duration": 15,
    "start_time": "2022-04-09T17:21:47.559Z"
   },
   {
    "duration": 44,
    "start_time": "2022-04-09T17:21:47.575Z"
   },
   {
    "duration": 14,
    "start_time": "2022-04-09T17:21:47.621Z"
   },
   {
    "duration": 16,
    "start_time": "2022-04-09T17:21:47.637Z"
   },
   {
    "duration": 13,
    "start_time": "2022-04-09T17:21:47.654Z"
   },
   {
    "duration": 61,
    "start_time": "2022-04-09T17:21:47.668Z"
   },
   {
    "duration": 10,
    "start_time": "2022-04-09T17:21:47.732Z"
   },
   {
    "duration": 9,
    "start_time": "2022-04-09T17:21:47.743Z"
   },
   {
    "duration": 4,
    "start_time": "2022-04-09T17:21:47.753Z"
   },
   {
    "duration": 23,
    "start_time": "2022-04-09T17:21:47.758Z"
   },
   {
    "duration": 20,
    "start_time": "2022-04-09T17:21:47.808Z"
   },
   {
    "duration": 23,
    "start_time": "2022-04-09T17:21:47.830Z"
   },
   {
    "duration": 21,
    "start_time": "2022-04-09T17:21:47.854Z"
   },
   {
    "duration": 36,
    "start_time": "2022-04-09T17:21:47.877Z"
   },
   {
    "duration": 4,
    "start_time": "2022-04-09T17:21:47.915Z"
   },
   {
    "duration": 8,
    "start_time": "2022-04-09T17:21:47.921Z"
   },
   {
    "duration": 5,
    "start_time": "2022-04-09T17:21:47.931Z"
   },
   {
    "duration": 383,
    "start_time": "2022-04-09T17:36:46.423Z"
   },
   {
    "duration": 145,
    "start_time": "2022-04-09T17:36:46.809Z"
   },
   {
    "duration": 17,
    "start_time": "2022-04-09T17:36:46.956Z"
   },
   {
    "duration": 38,
    "start_time": "2022-04-09T17:36:46.975Z"
   },
   {
    "duration": 5,
    "start_time": "2022-04-09T17:36:47.014Z"
   },
   {
    "duration": 13,
    "start_time": "2022-04-09T17:36:47.021Z"
   },
   {
    "duration": 5,
    "start_time": "2022-04-09T17:36:47.036Z"
   },
   {
    "duration": 24,
    "start_time": "2022-04-09T17:36:47.043Z"
   },
   {
    "duration": 45,
    "start_time": "2022-04-09T17:36:47.069Z"
   },
   {
    "duration": 24,
    "start_time": "2022-04-09T17:36:47.117Z"
   },
   {
    "duration": 77,
    "start_time": "2022-04-09T17:36:47.143Z"
   },
   {
    "duration": 75,
    "start_time": "2022-04-09T17:36:47.221Z"
   },
   {
    "duration": 69,
    "start_time": "2022-04-09T17:36:47.298Z"
   },
   {
    "duration": 7,
    "start_time": "2022-04-09T17:36:47.369Z"
   },
   {
    "duration": 4,
    "start_time": "2022-04-09T17:36:47.378Z"
   },
   {
    "duration": 31,
    "start_time": "2022-04-09T17:36:47.384Z"
   },
   {
    "duration": 9,
    "start_time": "2022-04-09T17:36:47.417Z"
   },
   {
    "duration": 12,
    "start_time": "2022-04-09T17:36:47.427Z"
   },
   {
    "duration": 10,
    "start_time": "2022-04-09T17:36:47.441Z"
   },
   {
    "duration": 4,
    "start_time": "2022-04-09T17:36:47.453Z"
   },
   {
    "duration": 51,
    "start_time": "2022-04-09T17:36:47.458Z"
   },
   {
    "duration": 15,
    "start_time": "2022-04-09T17:36:47.510Z"
   },
   {
    "duration": 14,
    "start_time": "2022-04-09T17:36:47.526Z"
   },
   {
    "duration": 14,
    "start_time": "2022-04-09T17:36:47.542Z"
   },
   {
    "duration": 15,
    "start_time": "2022-04-09T17:36:47.557Z"
   },
   {
    "duration": 43,
    "start_time": "2022-04-09T17:36:47.574Z"
   },
   {
    "duration": 28,
    "start_time": "2022-04-09T17:36:47.619Z"
   },
   {
    "duration": 10,
    "start_time": "2022-04-09T17:36:47.651Z"
   },
   {
    "duration": 9,
    "start_time": "2022-04-09T17:36:47.663Z"
   },
   {
    "duration": 4,
    "start_time": "2022-04-09T17:36:47.674Z"
   },
   {
    "duration": 21,
    "start_time": "2022-04-09T17:36:47.708Z"
   },
   {
    "duration": 19,
    "start_time": "2022-04-09T17:36:47.730Z"
   },
   {
    "duration": 19,
    "start_time": "2022-04-09T17:36:47.751Z"
   },
   {
    "duration": 45,
    "start_time": "2022-04-09T17:36:47.772Z"
   },
   {
    "duration": 10,
    "start_time": "2022-04-09T17:36:47.818Z"
   },
   {
    "duration": 5,
    "start_time": "2022-04-09T17:36:47.830Z"
   },
   {
    "duration": 13,
    "start_time": "2022-04-09T17:36:47.836Z"
   },
   {
    "duration": 8,
    "start_time": "2022-04-09T17:36:47.851Z"
   },
   {
    "duration": 10,
    "start_time": "2022-04-09T17:38:37.096Z"
   },
   {
    "duration": 10,
    "start_time": "2022-04-09T17:38:47.044Z"
   },
   {
    "duration": 11,
    "start_time": "2022-04-09T17:38:49.151Z"
   },
   {
    "duration": 10,
    "start_time": "2022-04-09T17:38:59.801Z"
   },
   {
    "duration": 93,
    "start_time": "2022-04-09T17:39:47.102Z"
   },
   {
    "duration": 610,
    "start_time": "2022-04-09T17:39:55.743Z"
   },
   {
    "duration": 27,
    "start_time": "2022-04-09T17:42:36.473Z"
   },
   {
    "duration": 4,
    "start_time": "2022-04-09T17:43:29.690Z"
   },
   {
    "duration": 96,
    "start_time": "2022-04-09T17:44:03.281Z"
   },
   {
    "duration": 4,
    "start_time": "2022-04-09T17:45:45.028Z"
   },
   {
    "duration": 4,
    "start_time": "2022-04-09T17:45:50.010Z"
   },
   {
    "duration": 4,
    "start_time": "2022-04-09T17:47:32.507Z"
   },
   {
    "duration": 105,
    "start_time": "2022-04-09T17:48:14.374Z"
   },
   {
    "duration": 17,
    "start_time": "2022-04-09T17:48:59.938Z"
   },
   {
    "duration": 24,
    "start_time": "2022-04-09T17:49:08.477Z"
   },
   {
    "duration": 25,
    "start_time": "2022-04-09T17:49:17.656Z"
   },
   {
    "duration": 26,
    "start_time": "2022-04-09T17:49:21.520Z"
   },
   {
    "duration": 25,
    "start_time": "2022-04-09T17:49:26.492Z"
   },
   {
    "duration": 70,
    "start_time": "2022-04-09T17:50:22.824Z"
   },
   {
    "duration": 7,
    "start_time": "2022-04-09T17:50:29.333Z"
   },
   {
    "duration": 4,
    "start_time": "2022-04-09T17:51:04.412Z"
   },
   {
    "duration": 8,
    "start_time": "2022-04-09T17:53:20.599Z"
   },
   {
    "duration": 38,
    "start_time": "2022-04-09T17:53:46.053Z"
   },
   {
    "duration": 40,
    "start_time": "2022-04-09T17:54:41.680Z"
   },
   {
    "duration": 40,
    "start_time": "2022-04-09T17:57:12.280Z"
   },
   {
    "duration": 52,
    "start_time": "2022-04-09T17:58:16.466Z"
   },
   {
    "duration": 54,
    "start_time": "2022-04-09T18:03:14.990Z"
   },
   {
    "duration": 54,
    "start_time": "2022-04-09T18:04:10.507Z"
   },
   {
    "duration": 63,
    "start_time": "2022-04-09T18:04:16.363Z"
   },
   {
    "duration": 55,
    "start_time": "2022-04-09T18:04:21.420Z"
   },
   {
    "duration": 49,
    "start_time": "2022-04-09T18:17:28.370Z"
   },
   {
    "duration": 3,
    "start_time": "2022-04-09T18:17:37.767Z"
   },
   {
    "duration": 8,
    "start_time": "2022-04-09T18:18:01.072Z"
   },
   {
    "duration": 7,
    "start_time": "2022-04-09T18:19:47.424Z"
   },
   {
    "duration": 41,
    "start_time": "2022-04-09T18:21:18.645Z"
   },
   {
    "duration": 38,
    "start_time": "2022-04-09T18:21:44.434Z"
   },
   {
    "duration": 2,
    "start_time": "2022-04-09T18:21:59.488Z"
   },
   {
    "duration": 21,
    "start_time": "2022-04-09T18:26:12.961Z"
   },
   {
    "duration": 21,
    "start_time": "2022-04-09T18:26:48.761Z"
   },
   {
    "duration": 5,
    "start_time": "2022-04-09T18:27:54.916Z"
   },
   {
    "duration": 20,
    "start_time": "2022-04-09T18:27:57.099Z"
   },
   {
    "duration": 19,
    "start_time": "2022-04-09T18:27:58.455Z"
   },
   {
    "duration": 19,
    "start_time": "2022-04-09T18:28:00.412Z"
   },
   {
    "duration": 21,
    "start_time": "2022-04-09T18:28:00.871Z"
   },
   {
    "duration": 95,
    "start_time": "2022-04-09T18:29:27.110Z"
   },
   {
    "duration": 95,
    "start_time": "2022-04-09T18:30:03.072Z"
   },
   {
    "duration": 90,
    "start_time": "2022-04-09T18:44:16.779Z"
   },
   {
    "duration": 10,
    "start_time": "2022-04-09T18:46:38.265Z"
   },
   {
    "duration": 10,
    "start_time": "2022-04-09T18:47:04.535Z"
   },
   {
    "duration": 10,
    "start_time": "2022-04-09T19:22:20.303Z"
   },
   {
    "duration": 7,
    "start_time": "2022-04-09T19:22:24.875Z"
   },
   {
    "duration": 41,
    "start_time": "2022-04-09T19:22:36.625Z"
   },
   {
    "duration": 51,
    "start_time": "2022-04-09T19:23:27.826Z"
   },
   {
    "duration": 49,
    "start_time": "2022-04-09T19:23:33.389Z"
   },
   {
    "duration": 53,
    "start_time": "2022-04-09T19:23:39.089Z"
   },
   {
    "duration": 8,
    "start_time": "2022-04-09T19:31:25.254Z"
   },
   {
    "duration": 8,
    "start_time": "2022-04-09T19:31:29.803Z"
   },
   {
    "duration": 61,
    "start_time": "2022-04-09T19:31:36.884Z"
   },
   {
    "duration": 55,
    "start_time": "2022-04-09T19:31:54.169Z"
   },
   {
    "duration": 8,
    "start_time": "2022-04-09T19:32:40.089Z"
   },
   {
    "duration": 10,
    "start_time": "2022-04-09T19:32:51.014Z"
   },
   {
    "duration": 111,
    "start_time": "2022-04-09T19:34:01.148Z"
   },
   {
    "duration": 43,
    "start_time": "2022-04-09T19:34:03.711Z"
   },
   {
    "duration": 51,
    "start_time": "2022-04-09T19:34:19.433Z"
   },
   {
    "duration": 48,
    "start_time": "2022-04-09T19:34:36.487Z"
   },
   {
    "duration": 50,
    "start_time": "2022-04-09T19:34:49.397Z"
   },
   {
    "duration": 53,
    "start_time": "2022-04-09T19:34:53.818Z"
   },
   {
    "duration": 60,
    "start_time": "2022-04-09T19:36:21.766Z"
   },
   {
    "duration": 6,
    "start_time": "2022-04-09T19:44:18.440Z"
   },
   {
    "duration": 3,
    "start_time": "2022-04-09T19:44:20.923Z"
   },
   {
    "duration": 10,
    "start_time": "2022-04-09T19:45:05.360Z"
   },
   {
    "duration": 10,
    "start_time": "2022-04-09T19:45:07.925Z"
   },
   {
    "duration": 7,
    "start_time": "2022-04-09T19:45:29.680Z"
   },
   {
    "duration": 91,
    "start_time": "2022-04-09T19:47:18.758Z"
   },
   {
    "duration": 82,
    "start_time": "2022-04-09T19:47:23.458Z"
   },
   {
    "duration": 7,
    "start_time": "2022-04-09T19:47:32.629Z"
   },
   {
    "duration": 91,
    "start_time": "2022-04-09T19:48:13.515Z"
   },
   {
    "duration": 6,
    "start_time": "2022-04-09T19:48:23.127Z"
   },
   {
    "duration": 46,
    "start_time": "2022-04-09T19:53:25.654Z"
   },
   {
    "duration": 3,
    "start_time": "2022-04-09T19:53:32.723Z"
   },
   {
    "duration": 8,
    "start_time": "2022-04-09T19:53:34.955Z"
   },
   {
    "duration": 45,
    "start_time": "2022-04-09T19:53:55.885Z"
   },
   {
    "duration": 51,
    "start_time": "2022-04-09T19:54:01.755Z"
   },
   {
    "duration": 85,
    "start_time": "2022-04-09T19:54:43.478Z"
   },
   {
    "duration": 402,
    "start_time": "2022-04-09T19:55:11.934Z"
   },
   {
    "duration": 166,
    "start_time": "2022-04-09T19:55:12.338Z"
   },
   {
    "duration": 22,
    "start_time": "2022-04-09T19:55:12.506Z"
   },
   {
    "duration": 32,
    "start_time": "2022-04-09T19:55:12.531Z"
   },
   {
    "duration": 5,
    "start_time": "2022-04-09T19:55:12.565Z"
   },
   {
    "duration": 47,
    "start_time": "2022-04-09T19:55:12.572Z"
   },
   {
    "duration": 6,
    "start_time": "2022-04-09T19:55:12.621Z"
   },
   {
    "duration": 27,
    "start_time": "2022-04-09T19:55:12.628Z"
   },
   {
    "duration": 23,
    "start_time": "2022-04-09T19:55:12.657Z"
   },
   {
    "duration": 56,
    "start_time": "2022-04-09T19:55:12.683Z"
   },
   {
    "duration": 95,
    "start_time": "2022-04-09T19:55:12.741Z"
   },
   {
    "duration": 93,
    "start_time": "2022-04-09T19:55:12.837Z"
   },
   {
    "duration": 63,
    "start_time": "2022-04-09T19:55:12.932Z"
   },
   {
    "duration": 67,
    "start_time": "2022-04-09T19:55:12.996Z"
   },
   {
    "duration": 4,
    "start_time": "2022-04-09T19:55:13.065Z"
   },
   {
    "duration": 11,
    "start_time": "2022-04-09T19:55:13.070Z"
   },
   {
    "duration": 3,
    "start_time": "2022-04-09T19:55:13.083Z"
   },
   {
    "duration": 78,
    "start_time": "2022-04-09T19:55:13.088Z"
   },
   {
    "duration": 11,
    "start_time": "2022-04-09T19:55:13.168Z"
   },
   {
    "duration": 33,
    "start_time": "2022-04-09T19:55:13.181Z"
   },
   {
    "duration": 5,
    "start_time": "2022-04-09T19:55:13.216Z"
   },
   {
    "duration": 21,
    "start_time": "2022-04-09T19:55:13.224Z"
   },
   {
    "duration": 15,
    "start_time": "2022-04-09T19:55:13.246Z"
   },
   {
    "duration": 15,
    "start_time": "2022-04-09T19:55:13.263Z"
   },
   {
    "duration": 47,
    "start_time": "2022-04-09T19:55:13.280Z"
   },
   {
    "duration": 17,
    "start_time": "2022-04-09T19:55:13.329Z"
   },
   {
    "duration": 14,
    "start_time": "2022-04-09T19:55:13.347Z"
   },
   {
    "duration": 68,
    "start_time": "2022-04-09T19:55:13.364Z"
   },
   {
    "duration": 12,
    "start_time": "2022-04-09T19:55:13.433Z"
   },
   {
    "duration": 9,
    "start_time": "2022-04-09T19:55:13.447Z"
   },
   {
    "duration": 4,
    "start_time": "2022-04-09T19:55:13.458Z"
   },
   {
    "duration": 58,
    "start_time": "2022-04-09T19:55:13.464Z"
   },
   {
    "duration": 21,
    "start_time": "2022-04-09T19:55:13.525Z"
   },
   {
    "duration": 28,
    "start_time": "2022-04-09T19:55:13.548Z"
   },
   {
    "duration": 49,
    "start_time": "2022-04-09T19:55:13.578Z"
   },
   {
    "duration": 11,
    "start_time": "2022-04-09T19:55:13.630Z"
   },
   {
    "duration": 5,
    "start_time": "2022-04-09T19:55:13.642Z"
   },
   {
    "duration": 8,
    "start_time": "2022-04-09T19:55:13.648Z"
   },
   {
    "duration": 5,
    "start_time": "2022-04-09T19:55:13.658Z"
   },
   {
    "duration": 88,
    "start_time": "2022-04-09T19:55:38.350Z"
   },
   {
    "duration": 384,
    "start_time": "2022-04-09T19:55:54.537Z"
   },
   {
    "duration": 150,
    "start_time": "2022-04-09T19:55:54.923Z"
   },
   {
    "duration": 18,
    "start_time": "2022-04-09T19:55:55.074Z"
   },
   {
    "duration": 39,
    "start_time": "2022-04-09T19:55:55.094Z"
   },
   {
    "duration": 4,
    "start_time": "2022-04-09T19:55:55.134Z"
   },
   {
    "duration": 13,
    "start_time": "2022-04-09T19:55:55.139Z"
   },
   {
    "duration": 6,
    "start_time": "2022-04-09T19:55:55.153Z"
   },
   {
    "duration": 50,
    "start_time": "2022-04-09T19:55:55.161Z"
   },
   {
    "duration": 19,
    "start_time": "2022-04-09T19:55:55.212Z"
   },
   {
    "duration": 24,
    "start_time": "2022-04-09T19:55:55.234Z"
   },
   {
    "duration": 86,
    "start_time": "2022-04-09T19:55:55.260Z"
   },
   {
    "duration": 81,
    "start_time": "2022-04-09T19:55:55.348Z"
   },
   {
    "duration": 58,
    "start_time": "2022-04-09T19:55:55.431Z"
   },
   {
    "duration": 61,
    "start_time": "2022-04-09T19:55:55.491Z"
   },
   {
    "duration": 3,
    "start_time": "2022-04-09T19:55:55.554Z"
   },
   {
    "duration": 13,
    "start_time": "2022-04-09T19:55:55.559Z"
   },
   {
    "duration": 3,
    "start_time": "2022-04-09T19:55:55.573Z"
   },
   {
    "duration": 66,
    "start_time": "2022-04-09T19:55:55.577Z"
   },
   {
    "duration": 12,
    "start_time": "2022-04-09T19:55:55.644Z"
   },
   {
    "duration": 10,
    "start_time": "2022-04-09T19:55:55.658Z"
   },
   {
    "duration": 4,
    "start_time": "2022-04-09T19:55:55.669Z"
   },
   {
    "duration": 43,
    "start_time": "2022-04-09T19:55:55.674Z"
   },
   {
    "duration": 15,
    "start_time": "2022-04-09T19:55:55.718Z"
   },
   {
    "duration": 14,
    "start_time": "2022-04-09T19:55:55.735Z"
   },
   {
    "duration": 14,
    "start_time": "2022-04-09T19:55:55.750Z"
   },
   {
    "duration": 44,
    "start_time": "2022-04-09T19:55:55.766Z"
   },
   {
    "duration": 14,
    "start_time": "2022-04-09T19:55:55.812Z"
   },
   {
    "duration": 28,
    "start_time": "2022-04-09T19:55:55.830Z"
   },
   {
    "duration": 11,
    "start_time": "2022-04-09T19:55:55.860Z"
   },
   {
    "duration": 38,
    "start_time": "2022-04-09T19:55:55.872Z"
   },
   {
    "duration": 3,
    "start_time": "2022-04-09T19:55:55.912Z"
   },
   {
    "duration": 21,
    "start_time": "2022-04-09T19:55:55.917Z"
   },
   {
    "duration": 18,
    "start_time": "2022-04-09T19:55:55.940Z"
   },
   {
    "duration": 18,
    "start_time": "2022-04-09T19:55:55.960Z"
   },
   {
    "duration": 39,
    "start_time": "2022-04-09T19:55:55.980Z"
   },
   {
    "duration": 11,
    "start_time": "2022-04-09T19:55:56.020Z"
   },
   {
    "duration": 4,
    "start_time": "2022-04-09T19:55:56.032Z"
   },
   {
    "duration": 9,
    "start_time": "2022-04-09T19:55:56.038Z"
   },
   {
    "duration": 4,
    "start_time": "2022-04-09T19:55:56.048Z"
   },
   {
    "duration": 375,
    "start_time": "2022-04-09T19:56:37.441Z"
   },
   {
    "duration": 140,
    "start_time": "2022-04-09T19:56:37.818Z"
   },
   {
    "duration": 17,
    "start_time": "2022-04-09T19:56:37.960Z"
   },
   {
    "duration": 39,
    "start_time": "2022-04-09T19:56:37.980Z"
   },
   {
    "duration": 4,
    "start_time": "2022-04-09T19:56:38.022Z"
   },
   {
    "duration": 12,
    "start_time": "2022-04-09T19:56:38.028Z"
   },
   {
    "duration": 5,
    "start_time": "2022-04-09T19:56:38.042Z"
   },
   {
    "duration": 26,
    "start_time": "2022-04-09T19:56:38.049Z"
   },
   {
    "duration": 17,
    "start_time": "2022-04-09T19:56:38.109Z"
   },
   {
    "duration": 24,
    "start_time": "2022-04-09T19:56:38.129Z"
   },
   {
    "duration": 82,
    "start_time": "2022-04-09T19:56:38.154Z"
   },
   {
    "duration": 81,
    "start_time": "2022-04-09T19:56:38.237Z"
   },
   {
    "duration": 58,
    "start_time": "2022-04-09T19:56:38.319Z"
   },
   {
    "duration": 66,
    "start_time": "2022-04-09T19:56:38.378Z"
   },
   {
    "duration": 3,
    "start_time": "2022-04-09T19:56:38.446Z"
   },
   {
    "duration": 28,
    "start_time": "2022-04-09T19:56:38.451Z"
   },
   {
    "duration": 28,
    "start_time": "2022-04-09T19:56:38.481Z"
   },
   {
    "duration": 63,
    "start_time": "2022-04-09T19:56:38.511Z"
   },
   {
    "duration": 11,
    "start_time": "2022-04-09T19:56:38.576Z"
   },
   {
    "duration": 11,
    "start_time": "2022-04-09T19:56:38.588Z"
   },
   {
    "duration": 3,
    "start_time": "2022-04-09T19:56:38.609Z"
   },
   {
    "duration": 33,
    "start_time": "2022-04-09T19:56:38.614Z"
   },
   {
    "duration": 17,
    "start_time": "2022-04-09T19:56:38.648Z"
   },
   {
    "duration": 18,
    "start_time": "2022-04-09T19:56:38.666Z"
   },
   {
    "duration": 28,
    "start_time": "2022-04-09T19:56:38.685Z"
   },
   {
    "duration": 16,
    "start_time": "2022-04-09T19:56:38.715Z"
   },
   {
    "duration": 13,
    "start_time": "2022-04-09T19:56:38.733Z"
   },
   {
    "duration": 29,
    "start_time": "2022-04-09T19:56:38.749Z"
   },
   {
    "duration": 34,
    "start_time": "2022-04-09T19:56:38.780Z"
   },
   {
    "duration": 9,
    "start_time": "2022-04-09T19:56:38.816Z"
   },
   {
    "duration": 6,
    "start_time": "2022-04-09T19:56:38.826Z"
   },
   {
    "duration": 24,
    "start_time": "2022-04-09T19:56:38.834Z"
   },
   {
    "duration": 21,
    "start_time": "2022-04-09T19:56:38.860Z"
   },
   {
    "duration": 45,
    "start_time": "2022-04-09T19:56:38.882Z"
   },
   {
    "duration": 20,
    "start_time": "2022-04-09T19:56:38.928Z"
   },
   {
    "duration": 11,
    "start_time": "2022-04-09T19:56:38.950Z"
   },
   {
    "duration": 4,
    "start_time": "2022-04-09T19:56:38.962Z"
   },
   {
    "duration": 8,
    "start_time": "2022-04-09T19:56:38.968Z"
   },
   {
    "duration": 35,
    "start_time": "2022-04-09T19:56:38.977Z"
   },
   {
    "duration": 410,
    "start_time": "2022-04-10T21:01:21.683Z"
   },
   {
    "duration": 211,
    "start_time": "2022-04-10T21:01:22.095Z"
   },
   {
    "duration": 19,
    "start_time": "2022-04-10T21:01:22.308Z"
   },
   {
    "duration": 50,
    "start_time": "2022-04-10T21:01:22.329Z"
   },
   {
    "duration": 5,
    "start_time": "2022-04-10T21:01:22.381Z"
   },
   {
    "duration": 20,
    "start_time": "2022-04-10T21:01:22.387Z"
   },
   {
    "duration": 5,
    "start_time": "2022-04-10T21:01:22.410Z"
   },
   {
    "duration": 67,
    "start_time": "2022-04-10T21:01:22.418Z"
   },
   {
    "duration": 39,
    "start_time": "2022-04-10T21:01:22.488Z"
   },
   {
    "duration": 64,
    "start_time": "2022-04-10T21:01:22.530Z"
   },
   {
    "duration": 146,
    "start_time": "2022-04-10T21:01:22.597Z"
   },
   {
    "duration": 174,
    "start_time": "2022-04-10T21:01:22.746Z"
   },
   {
    "duration": 134,
    "start_time": "2022-04-10T21:01:22.923Z"
   },
   {
    "duration": 88,
    "start_time": "2022-04-10T21:01:23.064Z"
   },
   {
    "duration": 5,
    "start_time": "2022-04-10T21:01:23.155Z"
   },
   {
    "duration": 29,
    "start_time": "2022-04-10T21:01:23.162Z"
   },
   {
    "duration": 2,
    "start_time": "2022-04-10T21:01:23.194Z"
   },
   {
    "duration": 55,
    "start_time": "2022-04-10T21:01:23.199Z"
   },
   {
    "duration": 29,
    "start_time": "2022-04-10T21:01:23.256Z"
   },
   {
    "duration": 11,
    "start_time": "2022-04-10T21:01:23.287Z"
   },
   {
    "duration": 4,
    "start_time": "2022-04-10T21:01:23.300Z"
   },
   {
    "duration": 20,
    "start_time": "2022-04-10T21:01:23.305Z"
   },
   {
    "duration": 15,
    "start_time": "2022-04-10T21:01:23.327Z"
   },
   {
    "duration": 45,
    "start_time": "2022-04-10T21:01:23.343Z"
   },
   {
    "duration": 30,
    "start_time": "2022-04-10T21:01:23.390Z"
   },
   {
    "duration": 17,
    "start_time": "2022-04-10T21:01:23.422Z"
   },
   {
    "duration": 15,
    "start_time": "2022-04-10T21:01:23.440Z"
   },
   {
    "duration": 34,
    "start_time": "2022-04-10T21:01:23.479Z"
   },
   {
    "duration": 15,
    "start_time": "2022-04-10T21:01:23.515Z"
   },
   {
    "duration": 12,
    "start_time": "2022-04-10T21:01:23.532Z"
   },
   {
    "duration": 5,
    "start_time": "2022-04-10T21:01:23.547Z"
   },
   {
    "duration": 40,
    "start_time": "2022-04-10T21:01:23.580Z"
   },
   {
    "duration": 25,
    "start_time": "2022-04-10T21:01:23.622Z"
   },
   {
    "duration": 37,
    "start_time": "2022-04-10T21:01:23.649Z"
   },
   {
    "duration": 24,
    "start_time": "2022-04-10T21:01:23.687Z"
   },
   {
    "duration": 12,
    "start_time": "2022-04-10T21:01:23.712Z"
   },
   {
    "duration": 5,
    "start_time": "2022-04-10T21:01:23.726Z"
   },
   {
    "duration": 9,
    "start_time": "2022-04-10T21:01:23.732Z"
   },
   {
    "duration": 5,
    "start_time": "2022-04-10T21:01:23.743Z"
   },
   {
    "duration": 166,
    "start_time": "2022-04-10T21:07:13.275Z"
   },
   {
    "duration": 76,
    "start_time": "2022-04-10T21:07:16.818Z"
   },
   {
    "duration": 87,
    "start_time": "2022-04-10T21:08:17.800Z"
   },
   {
    "duration": 61,
    "start_time": "2022-04-10T21:08:38.285Z"
   },
   {
    "duration": 59,
    "start_time": "2022-04-10T21:08:45.308Z"
   },
   {
    "duration": 79,
    "start_time": "2022-04-10T21:10:20.368Z"
   },
   {
    "duration": 10,
    "start_time": "2022-04-10T21:11:05.395Z"
   },
   {
    "duration": 12,
    "start_time": "2022-04-10T21:11:18.621Z"
   },
   {
    "duration": 63,
    "start_time": "2022-04-10T21:11:22.955Z"
   },
   {
    "duration": 57,
    "start_time": "2022-04-10T21:11:24.748Z"
   },
   {
    "duration": 410,
    "start_time": "2022-04-10T21:12:29.397Z"
   },
   {
    "duration": 235,
    "start_time": "2022-04-10T21:12:29.809Z"
   },
   {
    "duration": 32,
    "start_time": "2022-04-10T21:12:30.047Z"
   },
   {
    "duration": 49,
    "start_time": "2022-04-10T21:12:30.082Z"
   },
   {
    "duration": 5,
    "start_time": "2022-04-10T21:12:30.134Z"
   },
   {
    "duration": 14,
    "start_time": "2022-04-10T21:12:30.141Z"
   },
   {
    "duration": 4,
    "start_time": "2022-04-10T21:12:30.179Z"
   },
   {
    "duration": 29,
    "start_time": "2022-04-10T21:12:30.184Z"
   },
   {
    "duration": 21,
    "start_time": "2022-04-10T21:12:30.215Z"
   },
   {
    "duration": 55,
    "start_time": "2022-04-10T21:12:30.239Z"
   },
   {
    "duration": 70,
    "start_time": "2022-04-10T21:12:30.296Z"
   },
   {
    "duration": 86,
    "start_time": "2022-04-10T21:12:30.379Z"
   },
   {
    "duration": 76,
    "start_time": "2022-04-10T21:12:30.467Z"
   },
   {
    "duration": 61,
    "start_time": "2022-04-10T21:12:30.545Z"
   },
   {
    "duration": 4,
    "start_time": "2022-04-10T21:12:30.608Z"
   },
   {
    "duration": 16,
    "start_time": "2022-04-10T21:12:30.614Z"
   },
   {
    "duration": 3,
    "start_time": "2022-04-10T21:12:30.632Z"
   },
   {
    "duration": 60,
    "start_time": "2022-04-10T21:12:30.637Z"
   },
   {
    "duration": 12,
    "start_time": "2022-04-10T21:12:30.699Z"
   },
   {
    "duration": 13,
    "start_time": "2022-04-10T21:12:30.712Z"
   },
   {
    "duration": 4,
    "start_time": "2022-04-10T21:12:30.727Z"
   },
   {
    "duration": 53,
    "start_time": "2022-04-10T21:12:30.733Z"
   },
   {
    "duration": 14,
    "start_time": "2022-04-10T21:12:30.788Z"
   },
   {
    "duration": 16,
    "start_time": "2022-04-10T21:12:30.803Z"
   },
   {
    "duration": 32,
    "start_time": "2022-04-10T21:12:30.820Z"
   },
   {
    "duration": 33,
    "start_time": "2022-04-10T21:12:30.854Z"
   },
   {
    "duration": 15,
    "start_time": "2022-04-10T21:12:30.889Z"
   },
   {
    "duration": 34,
    "start_time": "2022-04-10T21:12:30.907Z"
   },
   {
    "duration": 42,
    "start_time": "2022-04-10T21:12:30.943Z"
   },
   {
    "duration": 12,
    "start_time": "2022-04-10T21:12:30.987Z"
   },
   {
    "duration": 4,
    "start_time": "2022-04-10T21:12:31.001Z"
   },
   {
    "duration": 30,
    "start_time": "2022-04-10T21:12:31.007Z"
   },
   {
    "duration": 43,
    "start_time": "2022-04-10T21:12:31.039Z"
   },
   {
    "duration": 23,
    "start_time": "2022-04-10T21:12:31.084Z"
   },
   {
    "duration": 21,
    "start_time": "2022-04-10T21:12:31.109Z"
   },
   {
    "duration": 47,
    "start_time": "2022-04-10T21:12:31.132Z"
   },
   {
    "duration": 6,
    "start_time": "2022-04-10T21:12:31.181Z"
   },
   {
    "duration": 12,
    "start_time": "2022-04-10T21:12:31.189Z"
   },
   {
    "duration": 6,
    "start_time": "2022-04-10T21:12:31.203Z"
   },
   {
    "duration": 73,
    "start_time": "2022-04-11T10:16:56.747Z"
   },
   {
    "duration": 522,
    "start_time": "2022-04-11T10:17:02.884Z"
   },
   {
    "duration": 210,
    "start_time": "2022-04-11T10:17:03.408Z"
   },
   {
    "duration": 26,
    "start_time": "2022-04-11T10:17:03.620Z"
   },
   {
    "duration": 62,
    "start_time": "2022-04-11T10:17:03.649Z"
   },
   {
    "duration": 6,
    "start_time": "2022-04-11T10:17:03.713Z"
   },
   {
    "duration": 16,
    "start_time": "2022-04-11T10:17:03.721Z"
   },
   {
    "duration": 16,
    "start_time": "2022-04-11T10:17:03.739Z"
   },
   {
    "duration": 54,
    "start_time": "2022-04-11T10:17:03.757Z"
   },
   {
    "duration": 25,
    "start_time": "2022-04-11T10:17:03.813Z"
   },
   {
    "duration": 48,
    "start_time": "2022-04-11T10:17:03.842Z"
   },
   {
    "duration": 122,
    "start_time": "2022-04-11T10:17:03.892Z"
   },
   {
    "duration": 129,
    "start_time": "2022-04-11T10:17:04.016Z"
   },
   {
    "duration": 111,
    "start_time": "2022-04-11T10:17:04.147Z"
   },
   {
    "duration": 60,
    "start_time": "2022-04-11T10:17:04.260Z"
   },
   {
    "duration": 5,
    "start_time": "2022-04-11T10:17:04.322Z"
   },
   {
    "duration": 55,
    "start_time": "2022-04-11T10:17:04.329Z"
   },
   {
    "duration": 6,
    "start_time": "2022-04-11T10:17:04.386Z"
   },
   {
    "duration": 66,
    "start_time": "2022-04-11T10:17:04.394Z"
   },
   {
    "duration": 25,
    "start_time": "2022-04-11T10:17:04.462Z"
   },
   {
    "duration": 17,
    "start_time": "2022-04-11T10:17:04.489Z"
   },
   {
    "duration": 22,
    "start_time": "2022-04-11T10:17:04.509Z"
   },
   {
    "duration": 54,
    "start_time": "2022-04-11T10:17:04.533Z"
   },
   {
    "duration": 34,
    "start_time": "2022-04-11T10:17:04.589Z"
   },
   {
    "duration": 24,
    "start_time": "2022-04-11T10:17:04.626Z"
   },
   {
    "duration": 35,
    "start_time": "2022-04-11T10:17:04.652Z"
   },
   {
    "duration": 66,
    "start_time": "2022-04-11T10:17:04.690Z"
   },
   {
    "duration": 29,
    "start_time": "2022-04-11T10:17:04.759Z"
   },
   {
    "duration": 42,
    "start_time": "2022-04-11T10:17:04.793Z"
   },
   {
    "duration": 16,
    "start_time": "2022-04-11T10:17:04.837Z"
   },
   {
    "duration": 32,
    "start_time": "2022-04-11T10:17:04.856Z"
   },
   {
    "duration": 6,
    "start_time": "2022-04-11T10:17:04.891Z"
   },
   {
    "duration": 35,
    "start_time": "2022-04-11T10:17:04.899Z"
   },
   {
    "duration": 49,
    "start_time": "2022-04-11T10:17:04.936Z"
   },
   {
    "duration": 29,
    "start_time": "2022-04-11T10:17:04.987Z"
   },
   {
    "duration": 29,
    "start_time": "2022-04-11T10:17:05.018Z"
   },
   {
    "duration": 43,
    "start_time": "2022-04-11T10:17:05.049Z"
   },
   {
    "duration": 7,
    "start_time": "2022-04-11T10:17:05.094Z"
   },
   {
    "duration": 15,
    "start_time": "2022-04-11T10:17:05.103Z"
   },
   {
    "duration": 9,
    "start_time": "2022-04-11T10:17:05.120Z"
   },
   {
    "duration": 507,
    "start_time": "2022-04-11T10:17:09.589Z"
   },
   {
    "duration": 207,
    "start_time": "2022-04-11T10:17:10.098Z"
   },
   {
    "duration": 27,
    "start_time": "2022-04-11T10:17:10.307Z"
   },
   {
    "duration": 62,
    "start_time": "2022-04-11T10:17:10.337Z"
   },
   {
    "duration": 6,
    "start_time": "2022-04-11T10:17:10.401Z"
   },
   {
    "duration": 14,
    "start_time": "2022-04-11T10:17:10.409Z"
   },
   {
    "duration": 8,
    "start_time": "2022-04-11T10:17:10.425Z"
   },
   {
    "duration": 70,
    "start_time": "2022-04-11T10:17:10.436Z"
   },
   {
    "duration": 28,
    "start_time": "2022-04-11T10:17:10.509Z"
   },
   {
    "duration": 51,
    "start_time": "2022-04-11T10:17:10.543Z"
   },
   {
    "duration": 122,
    "start_time": "2022-04-11T10:17:10.597Z"
   },
   {
    "duration": 134,
    "start_time": "2022-04-11T10:17:10.721Z"
   },
   {
    "duration": 107,
    "start_time": "2022-04-11T10:17:10.857Z"
   },
   {
    "duration": 62,
    "start_time": "2022-04-11T10:17:10.966Z"
   },
   {
    "duration": 5,
    "start_time": "2022-04-11T10:17:11.031Z"
   },
   {
    "duration": 16,
    "start_time": "2022-04-11T10:17:11.039Z"
   },
   {
    "duration": 29,
    "start_time": "2022-04-11T10:17:11.057Z"
   },
   {
    "duration": 59,
    "start_time": "2022-04-11T10:17:11.088Z"
   },
   {
    "duration": 37,
    "start_time": "2022-04-11T10:17:11.149Z"
   },
   {
    "duration": 16,
    "start_time": "2022-04-11T10:17:11.188Z"
   },
   {
    "duration": 5,
    "start_time": "2022-04-11T10:17:11.207Z"
   },
   {
    "duration": 27,
    "start_time": "2022-04-11T10:17:11.214Z"
   },
   {
    "duration": 55,
    "start_time": "2022-04-11T10:17:11.243Z"
   },
   {
    "duration": 21,
    "start_time": "2022-04-11T10:17:11.301Z"
   },
   {
    "duration": 20,
    "start_time": "2022-04-11T10:17:11.324Z"
   },
   {
    "duration": 46,
    "start_time": "2022-04-11T10:17:11.346Z"
   },
   {
    "duration": 19,
    "start_time": "2022-04-11T10:17:11.395Z"
   },
   {
    "duration": 71,
    "start_time": "2022-04-11T10:17:11.418Z"
   },
   {
    "duration": 16,
    "start_time": "2022-04-11T10:17:11.491Z"
   },
   {
    "duration": 14,
    "start_time": "2022-04-11T10:17:11.509Z"
   },
   {
    "duration": 6,
    "start_time": "2022-04-11T10:17:11.525Z"
   },
   {
    "duration": 57,
    "start_time": "2022-04-11T10:17:11.533Z"
   },
   {
    "duration": 27,
    "start_time": "2022-04-11T10:17:11.593Z"
   },
   {
    "duration": 29,
    "start_time": "2022-04-11T10:17:11.622Z"
   },
   {
    "duration": 56,
    "start_time": "2022-04-11T10:17:11.653Z"
   },
   {
    "duration": 15,
    "start_time": "2022-04-11T10:17:11.712Z"
   },
   {
    "duration": 6,
    "start_time": "2022-04-11T10:17:11.729Z"
   },
   {
    "duration": 15,
    "start_time": "2022-04-11T10:17:11.737Z"
   },
   {
    "duration": 6,
    "start_time": "2022-04-11T10:17:11.785Z"
   },
   {
    "duration": 51,
    "start_time": "2022-04-11T10:17:26.177Z"
   },
   {
    "duration": 4,
    "start_time": "2022-04-11T10:17:33.229Z"
   },
   {
    "duration": 235,
    "start_time": "2022-04-11T10:17:33.235Z"
   },
   {
    "duration": 25,
    "start_time": "2022-04-11T10:17:33.473Z"
   },
   {
    "duration": 49,
    "start_time": "2022-04-11T10:17:33.500Z"
   },
   {
    "duration": 6,
    "start_time": "2022-04-11T10:17:33.552Z"
   },
   {
    "duration": 32,
    "start_time": "2022-04-11T10:17:33.560Z"
   },
   {
    "duration": 23,
    "start_time": "2022-04-11T10:17:33.594Z"
   },
   {
    "duration": 44,
    "start_time": "2022-04-11T10:17:33.620Z"
   },
   {
    "duration": 36,
    "start_time": "2022-04-11T10:17:33.667Z"
   },
   {
    "duration": 35,
    "start_time": "2022-04-11T10:17:33.705Z"
   },
   {
    "duration": 123,
    "start_time": "2022-04-11T10:17:33.742Z"
   },
   {
    "duration": 124,
    "start_time": "2022-04-11T10:17:33.867Z"
   },
   {
    "duration": 104,
    "start_time": "2022-04-11T10:17:33.995Z"
   },
   {
    "duration": 51,
    "start_time": "2022-04-11T10:17:34.101Z"
   },
   {
    "duration": 5,
    "start_time": "2022-04-11T10:17:34.154Z"
   },
   {
    "duration": 15,
    "start_time": "2022-04-11T10:17:34.185Z"
   },
   {
    "duration": 9,
    "start_time": "2022-04-11T10:17:34.202Z"
   },
   {
    "duration": 71,
    "start_time": "2022-04-11T10:17:34.213Z"
   },
   {
    "duration": 17,
    "start_time": "2022-04-11T10:17:34.286Z"
   },
   {
    "duration": 16,
    "start_time": "2022-04-11T10:17:34.305Z"
   },
   {
    "duration": 5,
    "start_time": "2022-04-11T10:17:34.323Z"
   },
   {
    "duration": 55,
    "start_time": "2022-04-11T10:17:34.330Z"
   },
   {
    "duration": 19,
    "start_time": "2022-04-11T10:17:34.388Z"
   },
   {
    "duration": 20,
    "start_time": "2022-04-11T10:17:34.409Z"
   },
   {
    "duration": 51,
    "start_time": "2022-04-11T10:17:34.432Z"
   },
   {
    "duration": 22,
    "start_time": "2022-04-11T10:17:34.485Z"
   },
   {
    "duration": 20,
    "start_time": "2022-04-11T10:17:34.509Z"
   },
   {
    "duration": 71,
    "start_time": "2022-04-11T10:17:34.531Z"
   },
   {
    "duration": 15,
    "start_time": "2022-04-11T10:17:34.605Z"
   },
   {
    "duration": 16,
    "start_time": "2022-04-11T10:17:34.622Z"
   },
   {
    "duration": 6,
    "start_time": "2022-04-11T10:17:34.640Z"
   },
   {
    "duration": 59,
    "start_time": "2022-04-11T10:17:34.648Z"
   },
   {
    "duration": 57,
    "start_time": "2022-04-11T10:17:34.709Z"
   },
   {
    "duration": 30,
    "start_time": "2022-04-11T10:17:34.768Z"
   },
   {
    "duration": 30,
    "start_time": "2022-04-11T10:17:34.800Z"
   },
   {
    "duration": 15,
    "start_time": "2022-04-11T10:17:34.832Z"
   },
   {
    "duration": 6,
    "start_time": "2022-04-11T10:17:34.852Z"
   },
   {
    "duration": 9,
    "start_time": "2022-04-11T10:17:34.885Z"
   },
   {
    "duration": 7,
    "start_time": "2022-04-11T10:17:34.896Z"
   },
   {
    "duration": 549,
    "start_time": "2022-04-11T10:17:38.140Z"
   },
   {
    "duration": 208,
    "start_time": "2022-04-11T10:17:38.692Z"
   },
   {
    "duration": 27,
    "start_time": "2022-04-11T10:17:38.903Z"
   },
   {
    "duration": 61,
    "start_time": "2022-04-11T10:17:38.933Z"
   },
   {
    "duration": 13,
    "start_time": "2022-04-11T10:17:38.996Z"
   },
   {
    "duration": 18,
    "start_time": "2022-04-11T10:17:39.011Z"
   },
   {
    "duration": 11,
    "start_time": "2022-04-11T10:17:39.031Z"
   },
   {
    "duration": 52,
    "start_time": "2022-04-11T10:17:39.045Z"
   },
   {
    "duration": 25,
    "start_time": "2022-04-11T10:17:39.099Z"
   },
   {
    "duration": 58,
    "start_time": "2022-04-11T10:17:39.128Z"
   },
   {
    "duration": 119,
    "start_time": "2022-04-11T10:17:39.188Z"
   },
   {
    "duration": 128,
    "start_time": "2022-04-11T10:17:39.308Z"
   },
   {
    "duration": 108,
    "start_time": "2022-04-11T10:17:39.438Z"
   },
   {
    "duration": 66,
    "start_time": "2022-04-11T10:17:39.548Z"
   },
   {
    "duration": 6,
    "start_time": "2022-04-11T10:17:39.616Z"
   },
   {
    "duration": 16,
    "start_time": "2022-04-11T10:17:39.625Z"
   },
   {
    "duration": 4,
    "start_time": "2022-04-11T10:17:39.643Z"
   },
   {
    "duration": 89,
    "start_time": "2022-04-11T10:17:39.649Z"
   },
   {
    "duration": 16,
    "start_time": "2022-04-11T10:17:39.740Z"
   },
   {
    "duration": 34,
    "start_time": "2022-04-11T10:17:39.758Z"
   },
   {
    "duration": 5,
    "start_time": "2022-04-11T10:17:39.794Z"
   },
   {
    "duration": 26,
    "start_time": "2022-04-11T10:17:39.801Z"
   },
   {
    "duration": 20,
    "start_time": "2022-04-11T10:17:39.829Z"
   },
   {
    "duration": 48,
    "start_time": "2022-04-11T10:17:39.851Z"
   },
   {
    "duration": 20,
    "start_time": "2022-04-11T10:17:39.901Z"
   },
   {
    "duration": 20,
    "start_time": "2022-04-11T10:17:39.924Z"
   },
   {
    "duration": 19,
    "start_time": "2022-04-11T10:17:39.983Z"
   },
   {
    "duration": 44,
    "start_time": "2022-04-11T10:17:40.008Z"
   },
   {
    "duration": 40,
    "start_time": "2022-04-11T10:17:40.055Z"
   },
   {
    "duration": 14,
    "start_time": "2022-04-11T10:17:40.098Z"
   },
   {
    "duration": 6,
    "start_time": "2022-04-11T10:17:40.115Z"
   },
   {
    "duration": 62,
    "start_time": "2022-04-11T10:17:40.123Z"
   },
   {
    "duration": 28,
    "start_time": "2022-04-11T10:17:40.188Z"
   },
   {
    "duration": 29,
    "start_time": "2022-04-11T10:17:40.219Z"
   },
   {
    "duration": 54,
    "start_time": "2022-04-11T10:17:40.250Z"
   },
   {
    "duration": 16,
    "start_time": "2022-04-11T10:17:40.306Z"
   },
   {
    "duration": 8,
    "start_time": "2022-04-11T10:17:40.324Z"
   },
   {
    "duration": 12,
    "start_time": "2022-04-11T10:17:40.333Z"
   },
   {
    "duration": 7,
    "start_time": "2022-04-11T10:17:40.385Z"
   },
   {
    "duration": 145,
    "start_time": "2022-04-11T14:03:38.191Z"
   },
   {
    "duration": 151,
    "start_time": "2022-04-11T14:03:40.775Z"
   },
   {
    "duration": 190,
    "start_time": "2022-04-11T14:03:51.755Z"
   },
   {
    "duration": 148,
    "start_time": "2022-04-11T14:04:03.656Z"
   },
   {
    "duration": 151,
    "start_time": "2022-04-11T14:04:11.452Z"
   },
   {
    "duration": 422,
    "start_time": "2022-04-11T14:04:16.242Z"
   },
   {
    "duration": 171,
    "start_time": "2022-04-11T14:04:16.666Z"
   },
   {
    "duration": 18,
    "start_time": "2022-04-11T14:04:16.839Z"
   },
   {
    "duration": 32,
    "start_time": "2022-04-11T14:04:16.859Z"
   },
   {
    "duration": 4,
    "start_time": "2022-04-11T14:04:16.892Z"
   },
   {
    "duration": 36,
    "start_time": "2022-04-11T14:04:16.898Z"
   },
   {
    "duration": 7,
    "start_time": "2022-04-11T14:04:16.936Z"
   },
   {
    "duration": 31,
    "start_time": "2022-04-11T14:04:16.945Z"
   },
   {
    "duration": 22,
    "start_time": "2022-04-11T14:04:16.978Z"
   },
   {
    "duration": 47,
    "start_time": "2022-04-11T14:04:17.003Z"
   },
   {
    "duration": 82,
    "start_time": "2022-04-11T14:04:17.051Z"
   },
   {
    "duration": 96,
    "start_time": "2022-04-11T14:04:17.135Z"
   },
   {
    "duration": 65,
    "start_time": "2022-04-11T14:04:17.234Z"
   },
   {
    "duration": 158,
    "start_time": "2022-04-11T14:04:17.301Z"
   },
   {
    "duration": 0,
    "start_time": "2022-04-11T14:04:17.461Z"
   },
   {
    "duration": 0,
    "start_time": "2022-04-11T14:04:17.463Z"
   },
   {
    "duration": 0,
    "start_time": "2022-04-11T14:04:17.464Z"
   },
   {
    "duration": 0,
    "start_time": "2022-04-11T14:04:17.465Z"
   },
   {
    "duration": 0,
    "start_time": "2022-04-11T14:04:17.466Z"
   },
   {
    "duration": 0,
    "start_time": "2022-04-11T14:04:17.467Z"
   },
   {
    "duration": 0,
    "start_time": "2022-04-11T14:04:17.468Z"
   },
   {
    "duration": 0,
    "start_time": "2022-04-11T14:04:17.469Z"
   },
   {
    "duration": 0,
    "start_time": "2022-04-11T14:04:17.470Z"
   },
   {
    "duration": 0,
    "start_time": "2022-04-11T14:04:17.471Z"
   },
   {
    "duration": 0,
    "start_time": "2022-04-11T14:04:17.472Z"
   },
   {
    "duration": 0,
    "start_time": "2022-04-11T14:04:17.473Z"
   },
   {
    "duration": 0,
    "start_time": "2022-04-11T14:04:17.474Z"
   },
   {
    "duration": 0,
    "start_time": "2022-04-11T14:04:17.474Z"
   },
   {
    "duration": 0,
    "start_time": "2022-04-11T14:04:17.476Z"
   },
   {
    "duration": 0,
    "start_time": "2022-04-11T14:04:17.477Z"
   },
   {
    "duration": 0,
    "start_time": "2022-04-11T14:04:17.478Z"
   },
   {
    "duration": 0,
    "start_time": "2022-04-11T14:04:17.479Z"
   },
   {
    "duration": 0,
    "start_time": "2022-04-11T14:04:17.480Z"
   },
   {
    "duration": 0,
    "start_time": "2022-04-11T14:04:17.481Z"
   },
   {
    "duration": 0,
    "start_time": "2022-04-11T14:04:17.482Z"
   },
   {
    "duration": 1,
    "start_time": "2022-04-11T14:04:17.482Z"
   },
   {
    "duration": 0,
    "start_time": "2022-04-11T14:04:17.484Z"
   },
   {
    "duration": 0,
    "start_time": "2022-04-11T14:04:17.485Z"
   },
   {
    "duration": 0,
    "start_time": "2022-04-11T14:04:17.485Z"
   },
   {
    "duration": 461,
    "start_time": "2022-04-11T14:04:23.900Z"
   },
   {
    "duration": 176,
    "start_time": "2022-04-11T14:04:24.363Z"
   },
   {
    "duration": 18,
    "start_time": "2022-04-11T14:04:24.542Z"
   },
   {
    "duration": 33,
    "start_time": "2022-04-11T14:04:24.562Z"
   },
   {
    "duration": 4,
    "start_time": "2022-04-11T14:04:24.597Z"
   },
   {
    "duration": 36,
    "start_time": "2022-04-11T14:04:24.603Z"
   },
   {
    "duration": 16,
    "start_time": "2022-04-11T14:04:24.641Z"
   },
   {
    "duration": 37,
    "start_time": "2022-04-11T14:04:24.659Z"
   },
   {
    "duration": 26,
    "start_time": "2022-04-11T14:04:24.697Z"
   },
   {
    "duration": 36,
    "start_time": "2022-04-11T14:04:24.725Z"
   },
   {
    "duration": 81,
    "start_time": "2022-04-11T14:04:24.763Z"
   },
   {
    "duration": 101,
    "start_time": "2022-04-11T14:04:24.845Z"
   },
   {
    "duration": 85,
    "start_time": "2022-04-11T14:04:24.948Z"
   },
   {
    "duration": 176,
    "start_time": "2022-04-11T14:04:25.038Z"
   },
   {
    "duration": 0,
    "start_time": "2022-04-11T14:04:25.216Z"
   },
   {
    "duration": 0,
    "start_time": "2022-04-11T14:04:25.218Z"
   },
   {
    "duration": 0,
    "start_time": "2022-04-11T14:04:25.219Z"
   },
   {
    "duration": 0,
    "start_time": "2022-04-11T14:04:25.220Z"
   },
   {
    "duration": 0,
    "start_time": "2022-04-11T14:04:25.222Z"
   },
   {
    "duration": 0,
    "start_time": "2022-04-11T14:04:25.223Z"
   },
   {
    "duration": 0,
    "start_time": "2022-04-11T14:04:25.224Z"
   },
   {
    "duration": 0,
    "start_time": "2022-04-11T14:04:25.225Z"
   },
   {
    "duration": 0,
    "start_time": "2022-04-11T14:04:25.227Z"
   },
   {
    "duration": 0,
    "start_time": "2022-04-11T14:04:25.228Z"
   },
   {
    "duration": 0,
    "start_time": "2022-04-11T14:04:25.229Z"
   },
   {
    "duration": 0,
    "start_time": "2022-04-11T14:04:25.231Z"
   },
   {
    "duration": 0,
    "start_time": "2022-04-11T14:04:25.232Z"
   },
   {
    "duration": 0,
    "start_time": "2022-04-11T14:04:25.233Z"
   },
   {
    "duration": 0,
    "start_time": "2022-04-11T14:04:25.235Z"
   },
   {
    "duration": 0,
    "start_time": "2022-04-11T14:04:25.236Z"
   },
   {
    "duration": 0,
    "start_time": "2022-04-11T14:04:25.237Z"
   },
   {
    "duration": 0,
    "start_time": "2022-04-11T14:04:25.238Z"
   },
   {
    "duration": 0,
    "start_time": "2022-04-11T14:04:25.239Z"
   },
   {
    "duration": 0,
    "start_time": "2022-04-11T14:04:25.240Z"
   },
   {
    "duration": 0,
    "start_time": "2022-04-11T14:04:25.242Z"
   },
   {
    "duration": 0,
    "start_time": "2022-04-11T14:04:25.244Z"
   },
   {
    "duration": 0,
    "start_time": "2022-04-11T14:04:25.244Z"
   },
   {
    "duration": 0,
    "start_time": "2022-04-11T14:04:25.245Z"
   },
   {
    "duration": 0,
    "start_time": "2022-04-11T14:04:25.247Z"
   },
   {
    "duration": 244,
    "start_time": "2022-04-11T14:04:42.662Z"
   },
   {
    "duration": 43,
    "start_time": "2022-04-11T14:05:53.957Z"
   },
   {
    "duration": 3,
    "start_time": "2022-04-11T14:05:58.159Z"
   },
   {
    "duration": 180,
    "start_time": "2022-04-11T14:05:58.165Z"
   },
   {
    "duration": 13,
    "start_time": "2022-04-11T14:05:58.346Z"
   },
   {
    "duration": 33,
    "start_time": "2022-04-11T14:05:58.361Z"
   },
   {
    "duration": 5,
    "start_time": "2022-04-11T14:05:58.396Z"
   },
   {
    "duration": 39,
    "start_time": "2022-04-11T14:05:58.402Z"
   },
   {
    "duration": 8,
    "start_time": "2022-04-11T14:05:58.443Z"
   },
   {
    "duration": 29,
    "start_time": "2022-04-11T14:05:58.453Z"
   },
   {
    "duration": 19,
    "start_time": "2022-04-11T14:05:58.484Z"
   },
   {
    "duration": 42,
    "start_time": "2022-04-11T14:05:58.505Z"
   },
   {
    "duration": 68,
    "start_time": "2022-04-11T14:05:58.549Z"
   },
   {
    "duration": 75,
    "start_time": "2022-04-11T14:05:58.631Z"
   },
   {
    "duration": 77,
    "start_time": "2022-04-11T14:05:58.707Z"
   },
   {
    "duration": 53,
    "start_time": "2022-04-11T14:05:58.787Z"
   },
   {
    "duration": 8,
    "start_time": "2022-04-11T14:05:58.841Z"
   },
   {
    "duration": 0,
    "start_time": "2022-04-11T14:05:58.850Z"
   },
   {
    "duration": 0,
    "start_time": "2022-04-11T14:05:58.852Z"
   },
   {
    "duration": 0,
    "start_time": "2022-04-11T14:05:58.853Z"
   },
   {
    "duration": 0,
    "start_time": "2022-04-11T14:05:58.854Z"
   },
   {
    "duration": 0,
    "start_time": "2022-04-11T14:05:58.855Z"
   },
   {
    "duration": 0,
    "start_time": "2022-04-11T14:05:58.856Z"
   },
   {
    "duration": 0,
    "start_time": "2022-04-11T14:05:58.857Z"
   },
   {
    "duration": 0,
    "start_time": "2022-04-11T14:05:58.858Z"
   },
   {
    "duration": 0,
    "start_time": "2022-04-11T14:05:58.859Z"
   },
   {
    "duration": 0,
    "start_time": "2022-04-11T14:05:58.860Z"
   },
   {
    "duration": 0,
    "start_time": "2022-04-11T14:05:58.861Z"
   },
   {
    "duration": 0,
    "start_time": "2022-04-11T14:05:58.862Z"
   },
   {
    "duration": 0,
    "start_time": "2022-04-11T14:05:58.863Z"
   },
   {
    "duration": 0,
    "start_time": "2022-04-11T14:05:58.864Z"
   },
   {
    "duration": 0,
    "start_time": "2022-04-11T14:05:58.865Z"
   },
   {
    "duration": 0,
    "start_time": "2022-04-11T14:05:58.867Z"
   },
   {
    "duration": 0,
    "start_time": "2022-04-11T14:05:58.868Z"
   },
   {
    "duration": 0,
    "start_time": "2022-04-11T14:05:58.869Z"
   },
   {
    "duration": 0,
    "start_time": "2022-04-11T14:05:58.870Z"
   },
   {
    "duration": 0,
    "start_time": "2022-04-11T14:05:58.871Z"
   },
   {
    "duration": 0,
    "start_time": "2022-04-11T14:05:58.872Z"
   },
   {
    "duration": 0,
    "start_time": "2022-04-11T14:05:58.873Z"
   },
   {
    "duration": 0,
    "start_time": "2022-04-11T14:05:58.874Z"
   },
   {
    "duration": 0,
    "start_time": "2022-04-11T14:05:58.875Z"
   },
   {
    "duration": 381,
    "start_time": "2022-04-11T14:06:04.487Z"
   },
   {
    "duration": 190,
    "start_time": "2022-04-11T14:06:04.870Z"
   },
   {
    "duration": 18,
    "start_time": "2022-04-11T14:06:05.062Z"
   },
   {
    "duration": 31,
    "start_time": "2022-04-11T14:06:05.082Z"
   },
   {
    "duration": 4,
    "start_time": "2022-04-11T14:06:05.132Z"
   },
   {
    "duration": 17,
    "start_time": "2022-04-11T14:06:05.138Z"
   },
   {
    "duration": 9,
    "start_time": "2022-04-11T14:06:05.156Z"
   },
   {
    "duration": 33,
    "start_time": "2022-04-11T14:06:05.167Z"
   },
   {
    "duration": 38,
    "start_time": "2022-04-11T14:06:05.202Z"
   },
   {
    "duration": 27,
    "start_time": "2022-04-11T14:06:05.242Z"
   },
   {
    "duration": 87,
    "start_time": "2022-04-11T14:06:05.271Z"
   },
   {
    "duration": 94,
    "start_time": "2022-04-11T14:06:05.360Z"
   },
   {
    "duration": 67,
    "start_time": "2022-04-11T14:06:05.456Z"
   },
   {
    "duration": 43,
    "start_time": "2022-04-11T14:06:05.532Z"
   },
   {
    "duration": 84,
    "start_time": "2022-04-11T14:06:05.577Z"
   },
   {
    "duration": 0,
    "start_time": "2022-04-11T14:06:05.663Z"
   },
   {
    "duration": 0,
    "start_time": "2022-04-11T14:06:05.664Z"
   },
   {
    "duration": 0,
    "start_time": "2022-04-11T14:06:05.666Z"
   },
   {
    "duration": 0,
    "start_time": "2022-04-11T14:06:05.667Z"
   },
   {
    "duration": 0,
    "start_time": "2022-04-11T14:06:05.668Z"
   },
   {
    "duration": 0,
    "start_time": "2022-04-11T14:06:05.669Z"
   },
   {
    "duration": 0,
    "start_time": "2022-04-11T14:06:05.670Z"
   },
   {
    "duration": 0,
    "start_time": "2022-04-11T14:06:05.672Z"
   },
   {
    "duration": 0,
    "start_time": "2022-04-11T14:06:05.673Z"
   },
   {
    "duration": 0,
    "start_time": "2022-04-11T14:06:05.674Z"
   },
   {
    "duration": 0,
    "start_time": "2022-04-11T14:06:05.675Z"
   },
   {
    "duration": 0,
    "start_time": "2022-04-11T14:06:05.676Z"
   },
   {
    "duration": 0,
    "start_time": "2022-04-11T14:06:05.677Z"
   },
   {
    "duration": 0,
    "start_time": "2022-04-11T14:06:05.678Z"
   },
   {
    "duration": 0,
    "start_time": "2022-04-11T14:06:05.679Z"
   },
   {
    "duration": 0,
    "start_time": "2022-04-11T14:06:05.681Z"
   },
   {
    "duration": 0,
    "start_time": "2022-04-11T14:06:05.682Z"
   },
   {
    "duration": 0,
    "start_time": "2022-04-11T14:06:05.683Z"
   },
   {
    "duration": 0,
    "start_time": "2022-04-11T14:06:05.684Z"
   },
   {
    "duration": 0,
    "start_time": "2022-04-11T14:06:05.685Z"
   },
   {
    "duration": 0,
    "start_time": "2022-04-11T14:06:05.686Z"
   },
   {
    "duration": 0,
    "start_time": "2022-04-11T14:06:05.687Z"
   },
   {
    "duration": 0,
    "start_time": "2022-04-11T14:06:05.688Z"
   },
   {
    "duration": 0,
    "start_time": "2022-04-11T14:06:05.731Z"
   },
   {
    "duration": 39,
    "start_time": "2022-04-11T14:07:10.806Z"
   },
   {
    "duration": 40,
    "start_time": "2022-04-11T14:07:12.833Z"
   },
   {
    "duration": 7,
    "start_time": "2022-04-11T14:07:14.944Z"
   },
   {
    "duration": 10,
    "start_time": "2022-04-11T14:07:17.459Z"
   },
   {
    "duration": 43,
    "start_time": "2022-04-11T14:07:20.001Z"
   },
   {
    "duration": 3,
    "start_time": "2022-04-11T14:07:23.638Z"
   },
   {
    "duration": 178,
    "start_time": "2022-04-11T14:07:23.643Z"
   },
   {
    "duration": 12,
    "start_time": "2022-04-11T14:07:23.823Z"
   },
   {
    "duration": 40,
    "start_time": "2022-04-11T14:07:23.836Z"
   },
   {
    "duration": 4,
    "start_time": "2022-04-11T14:07:23.878Z"
   },
   {
    "duration": 18,
    "start_time": "2022-04-11T14:07:23.884Z"
   },
   {
    "duration": 11,
    "start_time": "2022-04-11T14:07:23.904Z"
   },
   {
    "duration": 35,
    "start_time": "2022-04-11T14:07:23.916Z"
   },
   {
    "duration": 24,
    "start_time": "2022-04-11T14:07:23.953Z"
   },
   {
    "duration": 25,
    "start_time": "2022-04-11T14:07:23.979Z"
   },
   {
    "duration": 88,
    "start_time": "2022-04-11T14:07:24.006Z"
   },
   {
    "duration": 83,
    "start_time": "2022-04-11T14:07:24.096Z"
   },
   {
    "duration": 67,
    "start_time": "2022-04-11T14:07:24.181Z"
   },
   {
    "duration": 40,
    "start_time": "2022-04-11T14:07:24.251Z"
   },
   {
    "duration": 7,
    "start_time": "2022-04-11T14:07:24.293Z"
   },
   {
    "duration": 0,
    "start_time": "2022-04-11T14:07:24.301Z"
   },
   {
    "duration": 0,
    "start_time": "2022-04-11T14:07:24.302Z"
   },
   {
    "duration": 0,
    "start_time": "2022-04-11T14:07:24.303Z"
   },
   {
    "duration": 0,
    "start_time": "2022-04-11T14:07:24.304Z"
   },
   {
    "duration": 0,
    "start_time": "2022-04-11T14:07:24.305Z"
   },
   {
    "duration": 0,
    "start_time": "2022-04-11T14:07:24.332Z"
   },
   {
    "duration": 0,
    "start_time": "2022-04-11T14:07:24.333Z"
   },
   {
    "duration": 0,
    "start_time": "2022-04-11T14:07:24.335Z"
   },
   {
    "duration": 0,
    "start_time": "2022-04-11T14:07:24.336Z"
   },
   {
    "duration": 0,
    "start_time": "2022-04-11T14:07:24.337Z"
   },
   {
    "duration": 0,
    "start_time": "2022-04-11T14:07:24.338Z"
   },
   {
    "duration": 0,
    "start_time": "2022-04-11T14:07:24.339Z"
   },
   {
    "duration": 0,
    "start_time": "2022-04-11T14:07:24.340Z"
   },
   {
    "duration": 0,
    "start_time": "2022-04-11T14:07:24.341Z"
   },
   {
    "duration": 0,
    "start_time": "2022-04-11T14:07:24.342Z"
   },
   {
    "duration": 0,
    "start_time": "2022-04-11T14:07:24.343Z"
   },
   {
    "duration": 0,
    "start_time": "2022-04-11T14:07:24.345Z"
   },
   {
    "duration": 0,
    "start_time": "2022-04-11T14:07:24.346Z"
   },
   {
    "duration": 0,
    "start_time": "2022-04-11T14:07:24.347Z"
   },
   {
    "duration": 0,
    "start_time": "2022-04-11T14:07:24.348Z"
   },
   {
    "duration": 0,
    "start_time": "2022-04-11T14:07:24.349Z"
   },
   {
    "duration": 0,
    "start_time": "2022-04-11T14:07:24.350Z"
   },
   {
    "duration": 0,
    "start_time": "2022-04-11T14:07:24.352Z"
   },
   {
    "duration": 0,
    "start_time": "2022-04-11T14:07:24.353Z"
   },
   {
    "duration": 8,
    "start_time": "2022-04-11T14:07:29.546Z"
   },
   {
    "duration": 7,
    "start_time": "2022-04-11T14:07:51.217Z"
   },
   {
    "duration": 7,
    "start_time": "2022-04-11T14:07:53.415Z"
   },
   {
    "duration": 41,
    "start_time": "2022-04-11T14:09:35.738Z"
   },
   {
    "duration": 42,
    "start_time": "2022-04-11T14:09:40.581Z"
   },
   {
    "duration": 10,
    "start_time": "2022-04-11T14:14:20.253Z"
   },
   {
    "duration": 6,
    "start_time": "2022-04-11T14:14:39.733Z"
   },
   {
    "duration": 11,
    "start_time": "2022-04-11T14:14:44.447Z"
   },
   {
    "duration": 3,
    "start_time": "2022-04-11T14:14:48.183Z"
   },
   {
    "duration": 175,
    "start_time": "2022-04-11T14:14:48.188Z"
   },
   {
    "duration": 11,
    "start_time": "2022-04-11T14:14:48.365Z"
   },
   {
    "duration": 33,
    "start_time": "2022-04-11T14:14:48.378Z"
   },
   {
    "duration": 5,
    "start_time": "2022-04-11T14:14:48.432Z"
   },
   {
    "duration": 9,
    "start_time": "2022-04-11T14:14:48.439Z"
   },
   {
    "duration": 5,
    "start_time": "2022-04-11T14:14:48.450Z"
   },
   {
    "duration": 36,
    "start_time": "2022-04-11T14:14:48.456Z"
   },
   {
    "duration": 40,
    "start_time": "2022-04-11T14:14:48.494Z"
   },
   {
    "duration": 27,
    "start_time": "2022-04-11T14:14:48.536Z"
   },
   {
    "duration": 88,
    "start_time": "2022-04-11T14:14:48.566Z"
   },
   {
    "duration": 84,
    "start_time": "2022-04-11T14:14:48.656Z"
   },
   {
    "duration": 62,
    "start_time": "2022-04-11T14:14:48.742Z"
   },
   {
    "duration": 57,
    "start_time": "2022-04-11T14:14:48.806Z"
   },
   {
    "duration": 6,
    "start_time": "2022-04-11T14:14:48.865Z"
   },
   {
    "duration": 14,
    "start_time": "2022-04-11T14:14:48.872Z"
   },
   {
    "duration": 6,
    "start_time": "2022-04-11T14:14:48.888Z"
   },
   {
    "duration": 64,
    "start_time": "2022-04-11T14:14:48.896Z"
   },
   {
    "duration": 13,
    "start_time": "2022-04-11T14:14:48.962Z"
   },
   {
    "duration": 14,
    "start_time": "2022-04-11T14:14:48.977Z"
   },
   {
    "duration": 5,
    "start_time": "2022-04-11T14:14:48.993Z"
   },
   {
    "duration": 44,
    "start_time": "2022-04-11T14:14:49.000Z"
   },
   {
    "duration": 17,
    "start_time": "2022-04-11T14:14:49.046Z"
   },
   {
    "duration": 19,
    "start_time": "2022-04-11T14:14:49.065Z"
   },
   {
    "duration": 54,
    "start_time": "2022-04-11T14:14:49.086Z"
   },
   {
    "duration": 19,
    "start_time": "2022-04-11T14:14:49.141Z"
   },
   {
    "duration": 16,
    "start_time": "2022-04-11T14:14:49.161Z"
   },
   {
    "duration": 62,
    "start_time": "2022-04-11T14:14:49.179Z"
   },
   {
    "duration": 11,
    "start_time": "2022-04-11T14:14:49.245Z"
   },
   {
    "duration": 12,
    "start_time": "2022-04-11T14:14:49.258Z"
   },
   {
    "duration": 4,
    "start_time": "2022-04-11T14:14:49.272Z"
   },
   {
    "duration": 33,
    "start_time": "2022-04-11T14:14:49.278Z"
   },
   {
    "duration": 22,
    "start_time": "2022-04-11T14:14:49.331Z"
   },
   {
    "duration": 21,
    "start_time": "2022-04-11T14:14:49.355Z"
   },
   {
    "duration": 22,
    "start_time": "2022-04-11T14:14:49.378Z"
   },
   {
    "duration": 38,
    "start_time": "2022-04-11T14:14:49.402Z"
   },
   {
    "duration": 5,
    "start_time": "2022-04-11T14:14:49.442Z"
   },
   {
    "duration": 11,
    "start_time": "2022-04-11T14:14:49.449Z"
   },
   {
    "duration": 5,
    "start_time": "2022-04-11T14:14:49.462Z"
   },
   {
    "duration": 10,
    "start_time": "2022-04-11T14:14:55.907Z"
   },
   {
    "duration": 21,
    "start_time": "2022-04-11T14:15:04.315Z"
   },
   {
    "duration": 3,
    "start_time": "2022-04-11T14:15:06.730Z"
   },
   {
    "duration": 177,
    "start_time": "2022-04-11T14:15:06.735Z"
   },
   {
    "duration": 17,
    "start_time": "2022-04-11T14:15:06.914Z"
   },
   {
    "duration": 31,
    "start_time": "2022-04-11T14:15:06.933Z"
   },
   {
    "duration": 4,
    "start_time": "2022-04-11T14:15:06.966Z"
   },
   {
    "duration": 10,
    "start_time": "2022-04-11T14:15:06.972Z"
   },
   {
    "duration": 6,
    "start_time": "2022-04-11T14:15:06.984Z"
   },
   {
    "duration": 58,
    "start_time": "2022-04-11T14:15:06.992Z"
   },
   {
    "duration": 23,
    "start_time": "2022-04-11T14:15:07.052Z"
   },
   {
    "duration": 26,
    "start_time": "2022-04-11T14:15:07.077Z"
   },
   {
    "duration": 84,
    "start_time": "2022-04-11T14:15:07.107Z"
   },
   {
    "duration": 81,
    "start_time": "2022-04-11T14:15:07.193Z"
   },
   {
    "duration": 67,
    "start_time": "2022-04-11T14:15:07.276Z"
   },
   {
    "duration": 42,
    "start_time": "2022-04-11T14:15:07.344Z"
   },
   {
    "duration": 6,
    "start_time": "2022-04-11T14:15:07.387Z"
   },
   {
    "duration": 11,
    "start_time": "2022-04-11T14:15:07.395Z"
   },
   {
    "duration": 25,
    "start_time": "2022-04-11T14:15:07.407Z"
   },
   {
    "duration": 43,
    "start_time": "2022-04-11T14:15:07.434Z"
   },
   {
    "duration": 12,
    "start_time": "2022-04-11T14:15:07.479Z"
   },
   {
    "duration": 40,
    "start_time": "2022-04-11T14:15:07.493Z"
   },
   {
    "duration": 4,
    "start_time": "2022-04-11T14:15:07.535Z"
   },
   {
    "duration": 23,
    "start_time": "2022-04-11T14:15:07.541Z"
   },
   {
    "duration": 15,
    "start_time": "2022-04-11T14:15:07.566Z"
   },
   {
    "duration": 16,
    "start_time": "2022-04-11T14:15:07.583Z"
   },
   {
    "duration": 41,
    "start_time": "2022-04-11T14:15:07.601Z"
   },
   {
    "duration": 20,
    "start_time": "2022-04-11T14:15:07.644Z"
   },
   {
    "duration": 15,
    "start_time": "2022-04-11T14:15:07.666Z"
   },
   {
    "duration": 57,
    "start_time": "2022-04-11T14:15:07.683Z"
   },
   {
    "duration": 12,
    "start_time": "2022-04-11T14:15:07.743Z"
   },
   {
    "duration": 10,
    "start_time": "2022-04-11T14:15:07.757Z"
   },
   {
    "duration": 4,
    "start_time": "2022-04-11T14:15:07.769Z"
   },
   {
    "duration": 25,
    "start_time": "2022-04-11T14:15:07.775Z"
   },
   {
    "duration": 45,
    "start_time": "2022-04-11T14:15:07.802Z"
   },
   {
    "duration": 21,
    "start_time": "2022-04-11T14:15:07.848Z"
   },
   {
    "duration": 20,
    "start_time": "2022-04-11T14:15:07.871Z"
   },
   {
    "duration": 44,
    "start_time": "2022-04-11T14:15:07.892Z"
   },
   {
    "duration": 4,
    "start_time": "2022-04-11T14:15:07.938Z"
   },
   {
    "duration": 17,
    "start_time": "2022-04-11T14:15:07.944Z"
   },
   {
    "duration": 7,
    "start_time": "2022-04-11T14:15:07.963Z"
   },
   {
    "duration": 387,
    "start_time": "2022-04-11T14:15:12.989Z"
   },
   {
    "duration": 167,
    "start_time": "2022-04-11T14:15:13.378Z"
   },
   {
    "duration": 18,
    "start_time": "2022-04-11T14:15:13.546Z"
   },
   {
    "duration": 34,
    "start_time": "2022-04-11T14:15:13.566Z"
   },
   {
    "duration": 4,
    "start_time": "2022-04-11T14:15:13.602Z"
   },
   {
    "duration": 30,
    "start_time": "2022-04-11T14:15:13.608Z"
   },
   {
    "duration": 7,
    "start_time": "2022-04-11T14:15:13.641Z"
   },
   {
    "duration": 37,
    "start_time": "2022-04-11T14:15:13.650Z"
   },
   {
    "duration": 21,
    "start_time": "2022-04-11T14:15:13.688Z"
   },
   {
    "duration": 41,
    "start_time": "2022-04-11T14:15:13.711Z"
   },
   {
    "duration": 81,
    "start_time": "2022-04-11T14:15:13.754Z"
   },
   {
    "duration": 83,
    "start_time": "2022-04-11T14:15:13.837Z"
   },
   {
    "duration": 76,
    "start_time": "2022-04-11T14:15:13.921Z"
   },
   {
    "duration": 55,
    "start_time": "2022-04-11T14:15:14.002Z"
   },
   {
    "duration": 5,
    "start_time": "2022-04-11T14:15:14.059Z"
   },
   {
    "duration": 11,
    "start_time": "2022-04-11T14:15:14.066Z"
   },
   {
    "duration": 2,
    "start_time": "2022-04-11T14:15:14.079Z"
   },
   {
    "duration": 61,
    "start_time": "2022-04-11T14:15:14.083Z"
   },
   {
    "duration": 13,
    "start_time": "2022-04-11T14:15:14.145Z"
   },
   {
    "duration": 13,
    "start_time": "2022-04-11T14:15:14.159Z"
   },
   {
    "duration": 4,
    "start_time": "2022-04-11T14:15:14.174Z"
   },
   {
    "duration": 26,
    "start_time": "2022-04-11T14:15:14.179Z"
   },
   {
    "duration": 16,
    "start_time": "2022-04-11T14:15:14.232Z"
   },
   {
    "duration": 17,
    "start_time": "2022-04-11T14:15:14.250Z"
   },
   {
    "duration": 16,
    "start_time": "2022-04-11T14:15:14.270Z"
   },
   {
    "duration": 47,
    "start_time": "2022-04-11T14:15:14.288Z"
   },
   {
    "duration": 16,
    "start_time": "2022-04-11T14:15:14.337Z"
   },
   {
    "duration": 32,
    "start_time": "2022-04-11T14:15:14.355Z"
   },
   {
    "duration": 43,
    "start_time": "2022-04-11T14:15:14.389Z"
   },
   {
    "duration": 10,
    "start_time": "2022-04-11T14:15:14.434Z"
   },
   {
    "duration": 5,
    "start_time": "2022-04-11T14:15:14.446Z"
   },
   {
    "duration": 29,
    "start_time": "2022-04-11T14:15:14.453Z"
   },
   {
    "duration": 23,
    "start_time": "2022-04-11T14:15:14.484Z"
   },
   {
    "duration": 38,
    "start_time": "2022-04-11T14:15:14.509Z"
   },
   {
    "duration": 22,
    "start_time": "2022-04-11T14:15:14.549Z"
   },
   {
    "duration": 11,
    "start_time": "2022-04-11T14:15:14.573Z"
   },
   {
    "duration": 5,
    "start_time": "2022-04-11T14:15:14.586Z"
   },
   {
    "duration": 40,
    "start_time": "2022-04-11T14:15:14.592Z"
   },
   {
    "duration": 4,
    "start_time": "2022-04-11T14:15:14.634Z"
   },
   {
    "duration": 73,
    "start_time": "2022-04-11T14:15:28.273Z"
   },
   {
    "duration": 7,
    "start_time": "2022-04-11T14:20:51.990Z"
   },
   {
    "duration": 9,
    "start_time": "2022-04-11T14:21:05.195Z"
   },
   {
    "duration": 6,
    "start_time": "2022-04-11T14:21:17.160Z"
   },
   {
    "duration": 10,
    "start_time": "2022-04-11T14:21:25.629Z"
   },
   {
    "duration": 41,
    "start_time": "2022-04-11T14:21:28.883Z"
   },
   {
    "duration": 3,
    "start_time": "2022-04-11T14:21:32.614Z"
   },
   {
    "duration": 181,
    "start_time": "2022-04-11T14:21:32.618Z"
   },
   {
    "duration": 11,
    "start_time": "2022-04-11T14:21:32.801Z"
   },
   {
    "duration": 44,
    "start_time": "2022-04-11T14:21:32.814Z"
   },
   {
    "duration": 4,
    "start_time": "2022-04-11T14:21:32.861Z"
   },
   {
    "duration": 12,
    "start_time": "2022-04-11T14:21:32.866Z"
   },
   {
    "duration": 4,
    "start_time": "2022-04-11T14:21:32.880Z"
   },
   {
    "duration": 46,
    "start_time": "2022-04-11T14:21:32.886Z"
   },
   {
    "duration": 19,
    "start_time": "2022-04-11T14:21:32.934Z"
   },
   {
    "duration": 27,
    "start_time": "2022-04-11T14:21:32.955Z"
   },
   {
    "duration": 93,
    "start_time": "2022-04-11T14:21:32.983Z"
   },
   {
    "duration": 94,
    "start_time": "2022-04-11T14:21:33.078Z"
   },
   {
    "duration": 71,
    "start_time": "2022-04-11T14:21:33.174Z"
   },
   {
    "duration": 41,
    "start_time": "2022-04-11T14:21:33.248Z"
   },
   {
    "duration": 5,
    "start_time": "2022-04-11T14:21:33.291Z"
   },
   {
    "duration": 34,
    "start_time": "2022-04-11T14:21:33.298Z"
   },
   {
    "duration": 2,
    "start_time": "2022-04-11T14:21:33.334Z"
   },
   {
    "duration": 50,
    "start_time": "2022-04-11T14:21:33.338Z"
   },
   {
    "duration": 12,
    "start_time": "2022-04-11T14:21:33.390Z"
   },
   {
    "duration": 30,
    "start_time": "2022-04-11T14:21:33.403Z"
   },
   {
    "duration": 3,
    "start_time": "2022-04-11T14:21:33.435Z"
   },
   {
    "duration": 30,
    "start_time": "2022-04-11T14:21:33.440Z"
   },
   {
    "duration": 15,
    "start_time": "2022-04-11T14:21:33.472Z"
   },
   {
    "duration": 16,
    "start_time": "2022-04-11T14:21:33.489Z"
   },
   {
    "duration": 37,
    "start_time": "2022-04-11T14:21:33.506Z"
   },
   {
    "duration": 21,
    "start_time": "2022-04-11T14:21:33.545Z"
   },
   {
    "duration": 16,
    "start_time": "2022-04-11T14:21:33.567Z"
   },
   {
    "duration": 49,
    "start_time": "2022-04-11T14:21:33.585Z"
   },
   {
    "duration": 12,
    "start_time": "2022-04-11T14:21:33.636Z"
   },
   {
    "duration": 11,
    "start_time": "2022-04-11T14:21:33.649Z"
   },
   {
    "duration": 7,
    "start_time": "2022-04-11T14:21:33.661Z"
   },
   {
    "duration": 29,
    "start_time": "2022-04-11T14:21:33.670Z"
   },
   {
    "duration": 43,
    "start_time": "2022-04-11T14:21:33.700Z"
   },
   {
    "duration": 21,
    "start_time": "2022-04-11T14:21:33.745Z"
   },
   {
    "duration": 21,
    "start_time": "2022-04-11T14:21:33.768Z"
   },
   {
    "duration": 12,
    "start_time": "2022-04-11T14:21:33.791Z"
   },
   {
    "duration": 5,
    "start_time": "2022-04-11T14:21:33.832Z"
   },
   {
    "duration": 13,
    "start_time": "2022-04-11T14:21:33.839Z"
   },
   {
    "duration": 7,
    "start_time": "2022-04-11T14:21:33.854Z"
   },
   {
    "duration": 41,
    "start_time": "2022-04-11T14:26:10.035Z"
   },
   {
    "duration": 8,
    "start_time": "2022-04-11T14:26:20.713Z"
   },
   {
    "duration": 12,
    "start_time": "2022-04-11T14:26:48.369Z"
   },
   {
    "duration": 7,
    "start_time": "2022-04-11T14:26:53.067Z"
   },
   {
    "duration": 2,
    "start_time": "2022-04-11T14:27:17.426Z"
   },
   {
    "duration": 184,
    "start_time": "2022-04-11T14:27:17.430Z"
   },
   {
    "duration": 12,
    "start_time": "2022-04-11T14:27:17.616Z"
   },
   {
    "duration": 38,
    "start_time": "2022-04-11T14:27:17.631Z"
   },
   {
    "duration": 4,
    "start_time": "2022-04-11T14:27:17.673Z"
   },
   {
    "duration": 22,
    "start_time": "2022-04-11T14:27:17.679Z"
   },
   {
    "duration": 6,
    "start_time": "2022-04-11T14:27:17.703Z"
   },
   {
    "duration": 35,
    "start_time": "2022-04-11T14:27:17.711Z"
   },
   {
    "duration": 36,
    "start_time": "2022-04-11T14:27:17.747Z"
   },
   {
    "duration": 32,
    "start_time": "2022-04-11T14:27:17.785Z"
   },
   {
    "duration": 79,
    "start_time": "2022-04-11T14:27:17.819Z"
   },
   {
    "duration": 89,
    "start_time": "2022-04-11T14:27:17.900Z"
   },
   {
    "duration": 72,
    "start_time": "2022-04-11T14:27:17.993Z"
   },
   {
    "duration": 43,
    "start_time": "2022-04-11T14:27:18.067Z"
   },
   {
    "duration": 69,
    "start_time": "2022-04-11T14:27:18.112Z"
   },
   {
    "duration": 11,
    "start_time": "2022-04-11T14:27:18.183Z"
   },
   {
    "duration": 28,
    "start_time": "2022-04-11T14:27:18.196Z"
   },
   {
    "duration": 0,
    "start_time": "2022-04-11T14:27:18.226Z"
   },
   {
    "duration": 0,
    "start_time": "2022-04-11T14:27:18.227Z"
   },
   {
    "duration": 0,
    "start_time": "2022-04-11T14:27:18.228Z"
   },
   {
    "duration": 0,
    "start_time": "2022-04-11T14:27:18.229Z"
   },
   {
    "duration": 0,
    "start_time": "2022-04-11T14:27:18.231Z"
   },
   {
    "duration": 0,
    "start_time": "2022-04-11T14:27:18.232Z"
   },
   {
    "duration": 0,
    "start_time": "2022-04-11T14:27:18.234Z"
   },
   {
    "duration": 0,
    "start_time": "2022-04-11T14:27:18.235Z"
   },
   {
    "duration": 0,
    "start_time": "2022-04-11T14:27:18.236Z"
   },
   {
    "duration": 0,
    "start_time": "2022-04-11T14:27:18.237Z"
   },
   {
    "duration": 0,
    "start_time": "2022-04-11T14:27:18.238Z"
   },
   {
    "duration": 0,
    "start_time": "2022-04-11T14:27:18.239Z"
   },
   {
    "duration": 0,
    "start_time": "2022-04-11T14:27:18.240Z"
   },
   {
    "duration": 0,
    "start_time": "2022-04-11T14:27:18.241Z"
   },
   {
    "duration": 0,
    "start_time": "2022-04-11T14:27:18.243Z"
   },
   {
    "duration": 0,
    "start_time": "2022-04-11T14:27:18.244Z"
   },
   {
    "duration": 0,
    "start_time": "2022-04-11T14:27:18.244Z"
   },
   {
    "duration": 0,
    "start_time": "2022-04-11T14:27:18.245Z"
   },
   {
    "duration": 0,
    "start_time": "2022-04-11T14:27:18.247Z"
   },
   {
    "duration": 0,
    "start_time": "2022-04-11T14:27:18.248Z"
   },
   {
    "duration": 0,
    "start_time": "2022-04-11T14:27:18.249Z"
   },
   {
    "duration": 0,
    "start_time": "2022-04-11T14:27:18.250Z"
   },
   {
    "duration": 8,
    "start_time": "2022-04-11T14:28:20.322Z"
   },
   {
    "duration": 42,
    "start_time": "2022-04-11T14:28:25.085Z"
   },
   {
    "duration": 377,
    "start_time": "2022-04-11T14:29:05.585Z"
   },
   {
    "duration": 176,
    "start_time": "2022-04-11T14:29:05.964Z"
   },
   {
    "duration": 18,
    "start_time": "2022-04-11T14:29:06.142Z"
   },
   {
    "duration": 32,
    "start_time": "2022-04-11T14:29:06.162Z"
   },
   {
    "duration": 4,
    "start_time": "2022-04-11T14:29:06.195Z"
   },
   {
    "duration": 37,
    "start_time": "2022-04-11T14:29:06.200Z"
   },
   {
    "duration": 8,
    "start_time": "2022-04-11T14:29:06.239Z"
   },
   {
    "duration": 30,
    "start_time": "2022-04-11T14:29:06.249Z"
   },
   {
    "duration": 24,
    "start_time": "2022-04-11T14:29:06.281Z"
   },
   {
    "duration": 42,
    "start_time": "2022-04-11T14:29:06.308Z"
   },
   {
    "duration": 81,
    "start_time": "2022-04-11T14:29:06.352Z"
   },
   {
    "duration": 97,
    "start_time": "2022-04-11T14:29:06.435Z"
   },
   {
    "duration": 68,
    "start_time": "2022-04-11T14:29:06.534Z"
   },
   {
    "duration": 61,
    "start_time": "2022-04-11T14:29:06.604Z"
   },
   {
    "duration": 39,
    "start_time": "2022-04-11T14:29:06.667Z"
   },
   {
    "duration": 29,
    "start_time": "2022-04-11T14:29:06.708Z"
   },
   {
    "duration": 8,
    "start_time": "2022-04-11T14:29:06.739Z"
   },
   {
    "duration": 44,
    "start_time": "2022-04-11T14:29:06.749Z"
   },
   {
    "duration": 12,
    "start_time": "2022-04-11T14:29:06.795Z"
   },
   {
    "duration": 34,
    "start_time": "2022-04-11T14:29:06.809Z"
   },
   {
    "duration": 4,
    "start_time": "2022-04-11T14:29:06.844Z"
   },
   {
    "duration": 22,
    "start_time": "2022-04-11T14:29:06.850Z"
   },
   {
    "duration": 16,
    "start_time": "2022-04-11T14:29:06.874Z"
   },
   {
    "duration": 41,
    "start_time": "2022-04-11T14:29:06.893Z"
   },
   {
    "duration": 17,
    "start_time": "2022-04-11T14:29:06.935Z"
   },
   {
    "duration": 17,
    "start_time": "2022-04-11T14:29:06.954Z"
   },
   {
    "duration": 15,
    "start_time": "2022-04-11T14:29:06.973Z"
   },
   {
    "duration": 62,
    "start_time": "2022-04-11T14:29:06.992Z"
   },
   {
    "duration": 12,
    "start_time": "2022-04-11T14:29:07.055Z"
   },
   {
    "duration": 11,
    "start_time": "2022-04-11T14:29:07.069Z"
   },
   {
    "duration": 4,
    "start_time": "2022-04-11T14:29:07.082Z"
   },
   {
    "duration": 56,
    "start_time": "2022-04-11T14:29:07.088Z"
   },
   {
    "duration": 21,
    "start_time": "2022-04-11T14:29:07.145Z"
   },
   {
    "duration": 21,
    "start_time": "2022-04-11T14:29:07.168Z"
   },
   {
    "duration": 41,
    "start_time": "2022-04-11T14:29:07.191Z"
   },
   {
    "duration": 12,
    "start_time": "2022-04-11T14:29:07.234Z"
   },
   {
    "duration": 5,
    "start_time": "2022-04-11T14:29:07.248Z"
   },
   {
    "duration": 11,
    "start_time": "2022-04-11T14:29:07.255Z"
   },
   {
    "duration": 6,
    "start_time": "2022-04-11T14:29:07.267Z"
   },
   {
    "duration": 378,
    "start_time": "2022-04-11T14:29:18.377Z"
   },
   {
    "duration": 170,
    "start_time": "2022-04-11T14:29:18.757Z"
   },
   {
    "duration": 18,
    "start_time": "2022-04-11T14:29:18.929Z"
   },
   {
    "duration": 39,
    "start_time": "2022-04-11T14:29:18.949Z"
   },
   {
    "duration": 16,
    "start_time": "2022-04-11T14:29:18.989Z"
   },
   {
    "duration": 30,
    "start_time": "2022-04-11T14:29:19.006Z"
   },
   {
    "duration": 19,
    "start_time": "2022-04-11T14:29:19.038Z"
   },
   {
    "duration": 32,
    "start_time": "2022-04-11T14:29:19.059Z"
   },
   {
    "duration": 28,
    "start_time": "2022-04-11T14:29:19.093Z"
   },
   {
    "duration": 28,
    "start_time": "2022-04-11T14:29:19.124Z"
   },
   {
    "duration": 87,
    "start_time": "2022-04-11T14:29:19.154Z"
   },
   {
    "duration": 88,
    "start_time": "2022-04-11T14:29:19.243Z"
   },
   {
    "duration": 65,
    "start_time": "2022-04-11T14:29:19.333Z"
   },
   {
    "duration": 61,
    "start_time": "2022-04-11T14:29:19.400Z"
   },
   {
    "duration": 41,
    "start_time": "2022-04-11T14:29:19.462Z"
   },
   {
    "duration": 27,
    "start_time": "2022-04-11T14:29:19.505Z"
   },
   {
    "duration": 10,
    "start_time": "2022-04-11T14:29:19.533Z"
   },
   {
    "duration": 55,
    "start_time": "2022-04-11T14:29:19.544Z"
   },
   {
    "duration": 12,
    "start_time": "2022-04-11T14:29:19.601Z"
   },
   {
    "duration": 25,
    "start_time": "2022-04-11T14:29:19.615Z"
   },
   {
    "duration": 5,
    "start_time": "2022-04-11T14:29:19.642Z"
   },
   {
    "duration": 49,
    "start_time": "2022-04-11T14:29:19.648Z"
   },
   {
    "duration": 22,
    "start_time": "2022-04-11T14:29:19.699Z"
   },
   {
    "duration": 27,
    "start_time": "2022-04-11T14:29:19.722Z"
   },
   {
    "duration": 24,
    "start_time": "2022-04-11T14:29:19.750Z"
   },
   {
    "duration": 26,
    "start_time": "2022-04-11T14:29:19.776Z"
   },
   {
    "duration": 35,
    "start_time": "2022-04-11T14:29:19.805Z"
   },
   {
    "duration": 39,
    "start_time": "2022-04-11T14:29:19.845Z"
   },
   {
    "duration": 12,
    "start_time": "2022-04-11T14:29:19.886Z"
   },
   {
    "duration": 21,
    "start_time": "2022-04-11T14:29:19.900Z"
   },
   {
    "duration": 17,
    "start_time": "2022-04-11T14:29:19.923Z"
   },
   {
    "duration": 52,
    "start_time": "2022-04-11T14:29:19.941Z"
   },
   {
    "duration": 50,
    "start_time": "2022-04-11T14:29:19.995Z"
   },
   {
    "duration": 30,
    "start_time": "2022-04-11T14:29:20.048Z"
   },
   {
    "duration": 36,
    "start_time": "2022-04-11T14:29:20.080Z"
   },
   {
    "duration": 18,
    "start_time": "2022-04-11T14:29:20.117Z"
   },
   {
    "duration": 29,
    "start_time": "2022-04-11T14:29:20.136Z"
   },
   {
    "duration": 16,
    "start_time": "2022-04-11T14:29:20.166Z"
   },
   {
    "duration": 21,
    "start_time": "2022-04-11T14:29:20.184Z"
   }
  ],
  "colab": {
   "collapsed_sections": [
    "E0vqbgi9ay0H",
    "VUC88oWjTJw2"
   ],
   "name": "yandex_music_project.ipynb",
   "provenance": []
  },
  "kernelspec": {
   "display_name": "Python 3 (ipykernel)",
   "language": "python",
   "name": "python3"
  },
  "language_info": {
   "codemirror_mode": {
    "name": "ipython",
    "version": 3
   },
   "file_extension": ".py",
   "mimetype": "text/x-python",
   "name": "python",
   "nbconvert_exporter": "python",
   "pygments_lexer": "ipython3",
   "version": "3.9.7"
  },
  "toc": {
   "base_numbering": 1,
   "nav_menu": {},
   "number_sections": true,
   "sideBar": true,
   "skip_h1_title": true,
   "title_cell": "Table of Contents",
   "title_sidebar": "Contents",
   "toc_cell": false,
   "toc_position": {
    "height": "calc(100% - 180px)",
    "left": "10px",
    "top": "150px",
    "width": "165px"
   },
   "toc_section_display": true,
   "toc_window_display": false
  }
 },
 "nbformat": 4,
 "nbformat_minor": 1
}
