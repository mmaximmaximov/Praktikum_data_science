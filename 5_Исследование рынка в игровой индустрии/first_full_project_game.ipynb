{
 "cells": [
  {
   "cell_type": "markdown",
   "id": "a656dfa2",
   "metadata": {},
   "source": [
    "# Описание проекта\n",
    "Вы работаете в интернет-магазине «Стримчик», который продаёт по всему миру компьютерные игры. Из открытых источников доступны исторические данные о продажах игр, оценки пользователей и экспертов, жанры и платформы (например, Xbox или PlayStation). Вам нужно выявить определяющие успешность игры закономерности. Это позволит сделать ставку на потенциально популярный продукт и спланировать рекламные кампании.\n",
    "\n",
    "Перед вами данные до 2016 года. Представим, что сейчас декабрь 2016 г., и вы планируете кампанию на 2017-й. Нужно отработать принцип работы с данными. Неважно, прогнозируете ли вы продажи на 2017 год по данным 2016-го или же 2027-й — по данным 2026 года.\n",
    "\n",
    "В наборе данных попадается аббревиатура ESRB (Entertainment Software Rating Board) — это ассоциация, определяющая возрастной рейтинг компьютерных игр. ESRB оценивает игровой контент и присваивает ему подходящую возрастную категорию, например, «Для взрослых», «Для детей младшего возраста» или «Для подростков»."
   ]
  },
  {
   "cell_type": "markdown",
   "id": "cb051092",
   "metadata": {},
   "source": [
    "# План исследования\n",
    "        Шаг 1. Откройте файл с данными и изучите общую информацию\n",
    "- Путь к файлу: /datasets/games.csv. Скачать датасет\n",
    "\n",
    "        Шаг 2. Подготовьте данные\n",
    "- Замените названия столбцов (приведите к нижнему регистру);\n",
    "- Преобразуйте данные в нужные типы. Опишите, в каких столбцах заменили тип данных и почему;\n",
    "- Обработайте пропуски при необходимости:\n",
    "- Объясните, почему заполнили пропуски определённым образом или почему не стали это делать;\n",
    "- Опишите причины, которые могли привести к пропускам;\n",
    "- Обратите внимание на аббревиатуру 'tbd' в столбце с оценкой пользователей. Отдельно разберите это значение и опишите, как его обработать;\n",
    "- Посчитайте суммарные продажи во всех регионах и запишите их в отдельный столбец.\n",
    "\n",
    "        Шаг 3. Проведите исследовательский анализ данных\n",
    "- Посмотрите, сколько игр выпускалось в разные годы. Важны ли данные за все периоды?\n",
    "- Посмотрите, как менялись продажи по платформам. Выберите платформы с наибольшими суммарными продажами и постройте распределение по годам. За какой характерный срок появляются новые и исчезают старые платформы?\n",
    "- Возьмите данные за соответствующий актуальный период. Актуальный период определите самостоятельно в результате исследования предыдущих вопросов. Основной фактор — эти данные помогут построить прогноз на 2017 год.\n",
    "- Не учитывайте в работе данные за предыдущие годы.\n",
    "- Какие платформы лидируют по продажам, растут или падают? Выберите несколько потенциально прибыльных платформ.\n",
    "- Постройте график «ящик с усами» по глобальным продажам игр в разбивке по платформам. Опишите результат.\n",
    "- Посмотрите, как влияют на продажи внутри одной популярной платформы отзывы пользователей и критиков. Постройте диаграмму рассеяния и посчитайте корреляцию между отзывами и продажами. Сформулируйте выводы.\n",
    "- Соотнесите выводы с продажами игр на других платформах.\n",
    "- Посмотрите на общее распределение игр по жанрам. Что можно сказать о самых прибыльных жанрах? Выделяются ли жанры с высокими и низкими продажами?\n",
    "\n",
    "        Шаг 4. Составьте портрет пользователя каждого региона\n",
    "- Определите для пользователя каждого региона (NA, EU, JP):\n",
    "- Самые популярные платформы (топ-5). Опишите различия в долях продаж.\n",
    "- Самые популярные жанры (топ-5). Поясните разницу.\n",
    "- Влияет ли рейтинг ESRB на продажи в отдельном регионе?\n",
    "\n",
    "        Шаг 5. Проверьте гипотезы\n",
    "- Средние пользовательские рейтинги платформ Xbox One и PC одинаковые;\n",
    "- Средние пользовательские рейтинги жанров Action (англ. «действие», экшен-игры) и Sports (англ. «спортивные соревнования») разные.\n",
    "- Задайте самостоятельно пороговое значение alpha.\n",
    "- Поясните:\n",
    "- Как вы сформулировали нулевую и альтернативную гипотезы;\n",
    "- Какой критерий применили для проверки гипотез и почему.\n",
    "\n",
    "        Шаг 6. Напишите общий вывод\n"
   ]
  },
  {
   "cell_type": "markdown",
   "id": "e7d5caaf",
   "metadata": {},
   "source": [
    "# Описание данных\n",
    "- Name — название игры\n",
    "- Platform — платформа\n",
    "- Year_of_Release — год выпуска\n",
    "- Genre — жанр игры\n",
    "- NA_sales — продажи в Северной Америке (миллионы проданных копий)\n",
    "- EU_sales — продажи в Европе (миллионы проданных копий)\n",
    "- JP_sales — продажи в Японии (миллионы проданных копий)\n",
    "- Other_sales — продажи в других странах (миллионы проданных копий)\n",
    "- Critic_Score — оценка критиков (максимум 100)\n",
    "- User_Score — оценка пользователей (максимум 10)\n",
    "- Rating — рейтинг от организации ESRB (англ. Entertainment Software Rating Board). Эта ассоциация определяет рейтинг компьютерных игр и присваивает им подходящую возрастную категорию.\n"
   ]
  },
  {
   "cell_type": "code",
   "execution_count": 1,
   "id": "69abe0cd",
   "metadata": {},
   "outputs": [],
   "source": [
    "# Импортируем все нужные библиотеки\n",
    "import pandas as pd\n",
    "import numpy as np\n",
    "import matplotlib.pyplot as plt\n",
    "import seaborn as sns\n",
    "from scipy import stats as st"
   ]
  },
  {
   "cell_type": "markdown",
   "id": "9bed78c0",
   "metadata": {},
   "source": [
    "## Шаг 1. Откройте файл с данными и изучите общую информацию"
   ]
  },
  {
   "cell_type": "code",
   "execution_count": 2,
   "id": "06179f17",
   "metadata": {},
   "outputs": [],
   "source": [
    "# Открываем файл двумя путями, локальным и серверным\n",
    "server_path = '/datasets/games.csv'\n",
    "local_path_users = '/Users/mmaximmaximovgmail.com/Desktop/DS/first_full_project/games.csv'\n",
    "try:\n",
    "    games = pd.read_csv(server_path)\n",
    "except:\n",
    "    games = pd.read_csv(local_path_users)"
   ]
  },
  {
   "cell_type": "code",
   "execution_count": 3,
   "id": "1662b1bf",
   "metadata": {},
   "outputs": [
    {
     "data": {
      "text/html": [
       "<div>\n",
       "<style scoped>\n",
       "    .dataframe tbody tr th:only-of-type {\n",
       "        vertical-align: middle;\n",
       "    }\n",
       "\n",
       "    .dataframe tbody tr th {\n",
       "        vertical-align: top;\n",
       "    }\n",
       "\n",
       "    .dataframe thead th {\n",
       "        text-align: right;\n",
       "    }\n",
       "</style>\n",
       "<table border=\"1\" class=\"dataframe\">\n",
       "  <thead>\n",
       "    <tr style=\"text-align: right;\">\n",
       "      <th></th>\n",
       "      <th>Name</th>\n",
       "      <th>Platform</th>\n",
       "      <th>Year_of_Release</th>\n",
       "      <th>Genre</th>\n",
       "      <th>NA_sales</th>\n",
       "      <th>EU_sales</th>\n",
       "      <th>JP_sales</th>\n",
       "      <th>Other_sales</th>\n",
       "      <th>Critic_Score</th>\n",
       "      <th>User_Score</th>\n",
       "      <th>Rating</th>\n",
       "    </tr>\n",
       "  </thead>\n",
       "  <tbody>\n",
       "    <tr>\n",
       "      <th>0</th>\n",
       "      <td>Wii Sports</td>\n",
       "      <td>Wii</td>\n",
       "      <td>2006.0</td>\n",
       "      <td>Sports</td>\n",
       "      <td>41.36</td>\n",
       "      <td>28.96</td>\n",
       "      <td>3.77</td>\n",
       "      <td>8.45</td>\n",
       "      <td>76.0</td>\n",
       "      <td>8</td>\n",
       "      <td>E</td>\n",
       "    </tr>\n",
       "    <tr>\n",
       "      <th>1</th>\n",
       "      <td>Super Mario Bros.</td>\n",
       "      <td>NES</td>\n",
       "      <td>1985.0</td>\n",
       "      <td>Platform</td>\n",
       "      <td>29.08</td>\n",
       "      <td>3.58</td>\n",
       "      <td>6.81</td>\n",
       "      <td>0.77</td>\n",
       "      <td>NaN</td>\n",
       "      <td>NaN</td>\n",
       "      <td>NaN</td>\n",
       "    </tr>\n",
       "    <tr>\n",
       "      <th>2</th>\n",
       "      <td>Mario Kart Wii</td>\n",
       "      <td>Wii</td>\n",
       "      <td>2008.0</td>\n",
       "      <td>Racing</td>\n",
       "      <td>15.68</td>\n",
       "      <td>12.76</td>\n",
       "      <td>3.79</td>\n",
       "      <td>3.29</td>\n",
       "      <td>82.0</td>\n",
       "      <td>8.3</td>\n",
       "      <td>E</td>\n",
       "    </tr>\n",
       "    <tr>\n",
       "      <th>3</th>\n",
       "      <td>Wii Sports Resort</td>\n",
       "      <td>Wii</td>\n",
       "      <td>2009.0</td>\n",
       "      <td>Sports</td>\n",
       "      <td>15.61</td>\n",
       "      <td>10.93</td>\n",
       "      <td>3.28</td>\n",
       "      <td>2.95</td>\n",
       "      <td>80.0</td>\n",
       "      <td>8</td>\n",
       "      <td>E</td>\n",
       "    </tr>\n",
       "    <tr>\n",
       "      <th>4</th>\n",
       "      <td>Pokemon Red/Pokemon Blue</td>\n",
       "      <td>GB</td>\n",
       "      <td>1996.0</td>\n",
       "      <td>Role-Playing</td>\n",
       "      <td>11.27</td>\n",
       "      <td>8.89</td>\n",
       "      <td>10.22</td>\n",
       "      <td>1.00</td>\n",
       "      <td>NaN</td>\n",
       "      <td>NaN</td>\n",
       "      <td>NaN</td>\n",
       "    </tr>\n",
       "    <tr>\n",
       "      <th>5</th>\n",
       "      <td>Tetris</td>\n",
       "      <td>GB</td>\n",
       "      <td>1989.0</td>\n",
       "      <td>Puzzle</td>\n",
       "      <td>23.20</td>\n",
       "      <td>2.26</td>\n",
       "      <td>4.22</td>\n",
       "      <td>0.58</td>\n",
       "      <td>NaN</td>\n",
       "      <td>NaN</td>\n",
       "      <td>NaN</td>\n",
       "    </tr>\n",
       "    <tr>\n",
       "      <th>6</th>\n",
       "      <td>New Super Mario Bros.</td>\n",
       "      <td>DS</td>\n",
       "      <td>2006.0</td>\n",
       "      <td>Platform</td>\n",
       "      <td>11.28</td>\n",
       "      <td>9.14</td>\n",
       "      <td>6.50</td>\n",
       "      <td>2.88</td>\n",
       "      <td>89.0</td>\n",
       "      <td>8.5</td>\n",
       "      <td>E</td>\n",
       "    </tr>\n",
       "    <tr>\n",
       "      <th>7</th>\n",
       "      <td>Wii Play</td>\n",
       "      <td>Wii</td>\n",
       "      <td>2006.0</td>\n",
       "      <td>Misc</td>\n",
       "      <td>13.96</td>\n",
       "      <td>9.18</td>\n",
       "      <td>2.93</td>\n",
       "      <td>2.84</td>\n",
       "      <td>58.0</td>\n",
       "      <td>6.6</td>\n",
       "      <td>E</td>\n",
       "    </tr>\n",
       "    <tr>\n",
       "      <th>8</th>\n",
       "      <td>New Super Mario Bros. Wii</td>\n",
       "      <td>Wii</td>\n",
       "      <td>2009.0</td>\n",
       "      <td>Platform</td>\n",
       "      <td>14.44</td>\n",
       "      <td>6.94</td>\n",
       "      <td>4.70</td>\n",
       "      <td>2.24</td>\n",
       "      <td>87.0</td>\n",
       "      <td>8.4</td>\n",
       "      <td>E</td>\n",
       "    </tr>\n",
       "    <tr>\n",
       "      <th>9</th>\n",
       "      <td>Duck Hunt</td>\n",
       "      <td>NES</td>\n",
       "      <td>1984.0</td>\n",
       "      <td>Shooter</td>\n",
       "      <td>26.93</td>\n",
       "      <td>0.63</td>\n",
       "      <td>0.28</td>\n",
       "      <td>0.47</td>\n",
       "      <td>NaN</td>\n",
       "      <td>NaN</td>\n",
       "      <td>NaN</td>\n",
       "    </tr>\n",
       "  </tbody>\n",
       "</table>\n",
       "</div>"
      ],
      "text/plain": [
       "                        Name Platform  Year_of_Release         Genre  \\\n",
       "0                 Wii Sports      Wii           2006.0        Sports   \n",
       "1          Super Mario Bros.      NES           1985.0      Platform   \n",
       "2             Mario Kart Wii      Wii           2008.0        Racing   \n",
       "3          Wii Sports Resort      Wii           2009.0        Sports   \n",
       "4   Pokemon Red/Pokemon Blue       GB           1996.0  Role-Playing   \n",
       "5                     Tetris       GB           1989.0        Puzzle   \n",
       "6      New Super Mario Bros.       DS           2006.0      Platform   \n",
       "7                   Wii Play      Wii           2006.0          Misc   \n",
       "8  New Super Mario Bros. Wii      Wii           2009.0      Platform   \n",
       "9                  Duck Hunt      NES           1984.0       Shooter   \n",
       "\n",
       "   NA_sales  EU_sales  JP_sales  Other_sales  Critic_Score User_Score Rating  \n",
       "0     41.36     28.96      3.77         8.45          76.0          8      E  \n",
       "1     29.08      3.58      6.81         0.77           NaN        NaN    NaN  \n",
       "2     15.68     12.76      3.79         3.29          82.0        8.3      E  \n",
       "3     15.61     10.93      3.28         2.95          80.0          8      E  \n",
       "4     11.27      8.89     10.22         1.00           NaN        NaN    NaN  \n",
       "5     23.20      2.26      4.22         0.58           NaN        NaN    NaN  \n",
       "6     11.28      9.14      6.50         2.88          89.0        8.5      E  \n",
       "7     13.96      9.18      2.93         2.84          58.0        6.6      E  \n",
       "8     14.44      6.94      4.70         2.24          87.0        8.4      E  \n",
       "9     26.93      0.63      0.28         0.47           NaN        NaN    NaN  "
      ]
     },
     "execution_count": 3,
     "metadata": {},
     "output_type": "execute_result"
    }
   ],
   "source": [
    "games.head(10)"
   ]
  },
  {
   "cell_type": "code",
   "execution_count": 4,
   "id": "5a7fa90c",
   "metadata": {},
   "outputs": [
    {
     "name": "stdout",
     "output_type": "stream",
     "text": [
      "<class 'pandas.core.frame.DataFrame'>\n",
      "RangeIndex: 16715 entries, 0 to 16714\n",
      "Data columns (total 11 columns):\n",
      " #   Column           Non-Null Count  Dtype  \n",
      "---  ------           --------------  -----  \n",
      " 0   Name             16713 non-null  object \n",
      " 1   Platform         16715 non-null  object \n",
      " 2   Year_of_Release  16446 non-null  float64\n",
      " 3   Genre            16713 non-null  object \n",
      " 4   NA_sales         16715 non-null  float64\n",
      " 5   EU_sales         16715 non-null  float64\n",
      " 6   JP_sales         16715 non-null  float64\n",
      " 7   Other_sales      16715 non-null  float64\n",
      " 8   Critic_Score     8137 non-null   float64\n",
      " 9   User_Score       10014 non-null  object \n",
      " 10  Rating           9949 non-null   object \n",
      "dtypes: float64(6), object(5)\n",
      "memory usage: 1.4+ MB\n"
     ]
    }
   ],
   "source": [
    "games.info()"
   ]
  },
  {
   "cell_type": "code",
   "execution_count": 5,
   "id": "6ca47ec1",
   "metadata": {},
   "outputs": [
    {
     "data": {
      "text/plain": [
       "Name               11559\n",
       "Platform              31\n",
       "Year_of_Release       37\n",
       "Genre                 12\n",
       "NA_sales             402\n",
       "EU_sales             307\n",
       "JP_sales             244\n",
       "Other_sales          155\n",
       "Critic_Score          82\n",
       "User_Score            96\n",
       "Rating                 8\n",
       "dtype: int64"
      ]
     },
     "execution_count": 5,
     "metadata": {},
     "output_type": "execute_result"
    }
   ],
   "source": [
    "games.nunique()"
   ]
  },
  {
   "cell_type": "code",
   "execution_count": 6,
   "id": "250776e8",
   "metadata": {},
   "outputs": [
    {
     "data": {
      "text/plain": [
       "Name                  2\n",
       "Platform              0\n",
       "Year_of_Release     269\n",
       "Genre                 2\n",
       "NA_sales              0\n",
       "EU_sales              0\n",
       "JP_sales              0\n",
       "Other_sales           0\n",
       "Critic_Score       8578\n",
       "User_Score         6701\n",
       "Rating             6766\n",
       "dtype: int64"
      ]
     },
     "execution_count": 6,
     "metadata": {},
     "output_type": "execute_result"
    }
   ],
   "source": [
    "games.isnull().sum()"
   ]
  },
  {
   "cell_type": "markdown",
   "id": "ae9c3d49",
   "metadata": {},
   "source": [
    "### Первичный вывод по данным\n",
    "- Имеются пропуски в столбцах `Rating`, `User_Score`, `Critic_Score`, `Year_of_Release`\n",
    "- Не подходящий тип данных для столбцов `Year_of_Release`, `User_Score`, `Critic_Score`\n",
    "- Название всех столбцов приводим к нижниму регистру"
   ]
  },
  {
   "cell_type": "markdown",
   "id": "b7f9a3ea",
   "metadata": {},
   "source": [
    "## Шаг 2. Подготовьте данные"
   ]
  },
  {
   "cell_type": "code",
   "execution_count": 7,
   "id": "01a3c902",
   "metadata": {},
   "outputs": [
    {
     "name": "stdout",
     "output_type": "stream",
     "text": [
      "<class 'pandas.core.frame.DataFrame'>\n",
      "RangeIndex: 16715 entries, 0 to 16714\n",
      "Data columns (total 11 columns):\n",
      " #   Column           Non-Null Count  Dtype  \n",
      "---  ------           --------------  -----  \n",
      " 0   Name             16713 non-null  object \n",
      " 1   Platform         16715 non-null  object \n",
      " 2   Year_of_Release  16446 non-null  float64\n",
      " 3   Genre            16713 non-null  object \n",
      " 4   NA_sales         16715 non-null  float64\n",
      " 5   EU_sales         16715 non-null  float64\n",
      " 6   JP_sales         16715 non-null  float64\n",
      " 7   Other_sales      16715 non-null  float64\n",
      " 8   Critic_Score     8137 non-null   float64\n",
      " 9   User_Score       10014 non-null  object \n",
      " 10  Rating           9949 non-null   object \n",
      "dtypes: float64(6), object(5)\n",
      "memory usage: 1.4+ MB\n"
     ]
    }
   ],
   "source": [
    "games.info()"
   ]
  },
  {
   "cell_type": "markdown",
   "id": "24a03925",
   "metadata": {},
   "source": [
    "### 2.1 Замените названия столбцов (приведите к нижнему регистру);"
   ]
  },
  {
   "cell_type": "code",
   "execution_count": 8,
   "id": "a9965e3f",
   "metadata": {},
   "outputs": [],
   "source": [
    "# Можно заменить название столбцов двумя путями: 1 - Написать новые столбцы и присвоить новую переменную к ним,\n",
    "# 2 - .rename(). Я же использую второй способ \n",
    "#games = games.rename(columns = {\n",
    "#    'Name' : 'name',\n",
    "#    'Platform':'platform',\n",
    "#    'Year_of_Release':'year_of_release',\n",
    "#    'Genre':'genre',\n",
    "#    'NA_sales':'na_sales',\n",
    "#    'EU_sales':'eu_sales',\n",
    "#    'JP_sales':'jp_sales',\n",
    "#    'Other_sales':'other_sales',\n",
    "#    'Critic_Score':'critic_score',\n",
    "#    'User_Score':'user_score',\n",
    "#    'Rating':'rating'\n",
    "#})\n",
    "\n",
    "games.columns = games.columns.str.lower()"
   ]
  },
  {
   "cell_type": "markdown",
   "id": "a0e7d5fa",
   "metadata": {},
   "source": [
    "### 2.2 Преобразуйте данные в нужные типы. Опишите, в каких столбцах заменили тип данных и почему;"
   ]
  },
  {
   "cell_type": "code",
   "execution_count": 9,
   "id": "40820a32",
   "metadata": {},
   "outputs": [],
   "source": [
    "# Заменим тип данных в столбцах `year_of_release`, меняем на int\n",
    "games = games.dropna(subset=['year_of_release'])\n",
    "#games['year_of_release'] = games['year_of_release'].astype('int64')"
   ]
  },
  {
   "cell_type": "code",
   "execution_count": 10,
   "id": "cb3d11a3",
   "metadata": {},
   "outputs": [
    {
     "data": {
      "text/plain": [
       "0"
      ]
     },
     "execution_count": 10,
     "metadata": {},
     "output_type": "execute_result"
    }
   ],
   "source": [
    "games['year_of_release'].isna().sum()"
   ]
  },
  {
   "cell_type": "code",
   "execution_count": 11,
   "id": "2f80a5d4",
   "metadata": {},
   "outputs": [],
   "source": [
    "#Напишем цикл где будем делать замену на года тех у кого совпадает название с игрой но в графе year_of_release пусто\n",
    "#for i in games[games['year_of_release'].isnull() == True].index:  \n",
    "#    games['year_of_release'][i] = games.loc[games['name'] == games['name'][i], 'year_of_release'].max()"
   ]
  },
  {
   "cell_type": "markdown",
   "id": "7412b98e",
   "metadata": {},
   "source": [
    "### 2.3 Обработайте пропуски при необходимости:\n",
    "- Объясните, почему заполнили пропуски определённым образом или почему не стали это делать;\n",
    "- Опишите причины, которые могли привести к пропускам;\n",
    "- Обратите внимание на аббревиатуру 'tbd' в столбце с оценкой пользователей. Отдельно разберите это значение и опишите, как его обработать;\n"
   ]
  },
  {
   "cell_type": "code",
   "execution_count": 12,
   "id": "bb22ebb3",
   "metadata": {},
   "outputs": [],
   "source": [
    "# Заполним мелкие пропуски в столбцах `Name` и `Genre` на пустые строки\n",
    "games.fillna({\n",
    "    'name':\" \",\n",
    "    'genre':\" \"},\n",
    "    inplace = True\n",
    ")\n",
    "\n",
    "# Что бы заменить тип в столбце `user_score`, нужно сначала заменить `tbd` на NaN\n",
    "# расшифровака `tbd` - to be determined(ENG), Подлежит определению(RUS)\n",
    "games['user_score'] = games['user_score'].replace('tbd','NaN')\n",
    "games['user_score'] = games['user_score'].astype('float')\n",
    "\n",
    "# Пытался заменить тип в данном столбце но не понял причины ошибки\n",
    "#games['critic_score'] = games['critic_score'].astype('Int')"
   ]
  },
  {
   "cell_type": "markdown",
   "id": "968841e9",
   "metadata": {},
   "source": [
    "### 2.4 Посчитайте суммарные продажи во всех регионах и запишите их в отдельный столбец."
   ]
  },
  {
   "cell_type": "code",
   "execution_count": 13,
   "id": "206dbf4a",
   "metadata": {},
   "outputs": [],
   "source": [
    "#games['full_sales'] = games['na_sales']+games['eu_sales']+games['jp_sales']+games['other_sales']"
   ]
  },
  {
   "cell_type": "code",
   "execution_count": 14,
   "id": "8c11ff34",
   "metadata": {},
   "outputs": [],
   "source": [
    "games['full_sales'] = games[['na_sales','eu_sales','jp_sales', 'other_sales']].sum(axis = 1)"
   ]
  },
  {
   "cell_type": "code",
   "execution_count": 15,
   "id": "0d511346",
   "metadata": {},
   "outputs": [
    {
     "name": "stdout",
     "output_type": "stream",
     "text": [
      "<class 'pandas.core.frame.DataFrame'>\n",
      "Int64Index: 16446 entries, 0 to 16714\n",
      "Data columns (total 12 columns):\n",
      " #   Column           Non-Null Count  Dtype  \n",
      "---  ------           --------------  -----  \n",
      " 0   name             16446 non-null  object \n",
      " 1   platform         16446 non-null  object \n",
      " 2   year_of_release  16446 non-null  float64\n",
      " 3   genre            16446 non-null  object \n",
      " 4   na_sales         16446 non-null  float64\n",
      " 5   eu_sales         16446 non-null  float64\n",
      " 6   jp_sales         16446 non-null  float64\n",
      " 7   other_sales      16446 non-null  float64\n",
      " 8   critic_score     7983 non-null   float64\n",
      " 9   user_score       7463 non-null   float64\n",
      " 10  rating           9768 non-null   object \n",
      " 11  full_sales       16446 non-null  float64\n",
      "dtypes: float64(8), object(4)\n",
      "memory usage: 1.6+ MB\n",
      "None\n",
      "-------------------------\n",
      "name [' ' ' Beyblade Burst' ' Fire Emblem Fates' ... 'uDraw Studio'\n",
      " 'uDraw Studio: Instant Artist' '¡Shin Chan Flipa en colores!']\n",
      "name  : кол-во 0 0 , процент 0 0.0 %\n",
      "name : кол-во NaN 0 , процент NaN 0.0 %\n",
      "-------------------------\n",
      "platform ['2600' '3DO' '3DS' 'DC' 'DS' 'GB' 'GBA' 'GC' 'GEN' 'GG' 'N64' 'NES' 'NG'\n",
      " 'PC' 'PCFX' 'PS' 'PS2' 'PS3' 'PS4' 'PSP' 'PSV' 'SAT' 'SCD' 'SNES' 'TG16'\n",
      " 'WS' 'Wii' 'WiiU' 'X360' 'XB' 'XOne']\n",
      "platform  : кол-во 0 0 , процент 0 0.0 %\n",
      "platform : кол-во NaN 0 , процент NaN 0.0 %\n",
      "-------------------------\n",
      "year_of_release [1980. 1981. 1982. 1983. 1984. 1985. 1986. 1987. 1988. 1989. 1990. 1991.\n",
      " 1992. 1993. 1994. 1995. 1996. 1997. 1998. 1999. 2000. 2001. 2002. 2003.\n",
      " 2004. 2005. 2006. 2007. 2008. 2009. 2010. 2011. 2012. 2013. 2014. 2015.\n",
      " 2016.]\n",
      "year_of_release  : кол-во 0 0 , процент 0 0.0 %\n",
      "year_of_release : кол-во NaN 0 , процент NaN 0.0 %\n",
      "-------------------------\n",
      "genre [' ' 'Action' 'Adventure' 'Fighting' 'Misc' 'Platform' 'Puzzle' 'Racing'\n",
      " 'Role-Playing' 'Shooter' 'Simulation' 'Sports' 'Strategy']\n",
      "genre  : кол-во 0 0 , процент 0 0.0 %\n",
      "genre : кол-во NaN 0 , процент NaN 0.0 %\n",
      "-------------------------\n",
      "critic_score [13. 17. 19. 20. 21. 23. 24. 25. 26. 27. 28. 29. 30. 31. 32. 33. 34. 35.\n",
      " 36. 37. 38. 39. 40. 41. 42. 43. 44. 45. 46. 47. 48. 49. 50. 51. 52. 53.\n",
      " 54. 55. 56. 57. 58. 59. 60. 61. 62. 63. 64. 65. 66. 67. 68. 69. 70. 71.\n",
      " 72. 73. 74. 75. 76. 77. 78. 79. 80. 81. 82. 83. 84. 85. 86. 87. 88. 89.\n",
      " 90. 91. 92. 93. 94. 95. 96. 97. 98. nan]\n",
      "critic_score  : кол-во 0 0 , процент 0 0.0 %\n",
      "critic_score : кол-во NaN 8463 , процент NaN 51.46 %\n",
      "-------------------------\n",
      "user_score [0.  0.2 0.3 0.5 0.6 0.7 0.9 1.  1.1 1.2 1.3 1.4 1.5 1.6 1.7 1.8 1.9 2.\n",
      " 2.1 2.2 2.3 2.4 2.5 2.6 2.7 2.8 2.9 3.  3.1 3.2 3.3 3.4 3.5 3.6 3.7 3.8\n",
      " 3.9 4.  4.1 4.2 4.3 4.4 4.5 4.6 4.7 4.8 4.9 5.  5.1 5.2 5.3 5.4 5.5 5.6\n",
      " 5.7 5.8 5.9 6.  6.1 6.2 6.3 6.4 6.5 6.6 6.7 6.8 6.9 7.  7.1 7.2 7.3 7.4\n",
      " 7.5 7.6 7.7 7.8 7.9 8.  8.1 8.2 8.3 8.4 8.5 8.6 8.7 8.8 8.9 9.  9.1 9.2\n",
      " 9.3 9.4 9.5 9.6 9.7 nan]\n",
      "user_score  : кол-во 0 1 , процент 0 0.01 %\n",
      "user_score : кол-во NaN 8983 , процент NaN 54.62 %\n",
      "-------------------------\n",
      "rating ['AO' 'E' 'E10+' 'EC' 'K-A' 'M' 'RP' 'T' nan]\n",
      "rating  : кол-во 0 0 , процент 0 0.0 %\n",
      "rating : кол-во NaN 6678 , процент NaN 40.61 %\n"
     ]
    }
   ],
   "source": [
    "# Посмотрим, что у нас осталось\n",
    "temp = games.copy() \n",
    "list_c = ['name', 'platform', 'year_of_release', 'genre', 'critic_score', 'user_score', 'rating']\n",
    "print(temp.info())\n",
    "for col_l in list_c:\n",
    "  print('-------------------------')\n",
    "  print(col_l, temp[col_l].sort_values().unique())\n",
    "  print(col_l,' : кол-во 0', temp[temp[col_l] == 0][col_l].count(),\n",
    "        ', процент 0', round(temp[temp[col_l] == 0][col_l].count()/len(temp)*100, 2),'%')\n",
    "  print(col_l,': кол-во NaN',temp[col_l].isna().sum(),\n",
    "        ', процент NaN', round(temp[col_l].isna().sum()/len(temp)*100, 2),'%')"
   ]
  },
  {
   "cell_type": "code",
   "execution_count": 16,
   "id": "82ffb3f0",
   "metadata": {},
   "outputs": [
    {
     "data": {
      "text/plain": [
       "0"
      ]
     },
     "execution_count": 16,
     "metadata": {},
     "output_type": "execute_result"
    }
   ],
   "source": [
    "games['critic_score'] = games['critic_score'].fillna(-1)\n",
    "games['user_score'] = games['user_score'].fillna(-1)\n",
    "#games = games.query('user_score>=0')\n",
    "#games = games.query('critic_score>=0')\n",
    "#games['critic_score'] = games['critic_score'].dropna()\n",
    "games['critic_score'].isna().sum()"
   ]
  },
  {
   "cell_type": "code",
   "execution_count": 18,
   "id": "3106f1e2",
   "metadata": {},
   "outputs": [
    {
     "data": {
      "text/plain": [
       "(16446, 16446)"
      ]
     },
     "execution_count": 18,
     "metadata": {},
     "output_type": "execute_result"
    }
   ],
   "source": [
    "\n",
    "len(temp), len(games)"
   ]
  },
  {
   "cell_type": "markdown",
   "id": "5284524b",
   "metadata": {},
   "source": [
    "# Шаг 3. Проведите исследовательский анализ данных"
   ]
  },
  {
   "cell_type": "markdown",
   "id": "28ca3499",
   "metadata": {},
   "source": [
    "### 3.1 Посмотрите, сколько игр выпускалось в разные годы. Важны ли данные за все периоды?"
   ]
  },
  {
   "cell_type": "code",
   "execution_count": 19,
   "id": "c008d64b",
   "metadata": {},
   "outputs": [
    {
     "data": {
      "text/plain": [
       "<AxesSubplot:title={'center':'Кол-во выпущенных игр в разные года'}, xlabel='Год', ylabel='Кол-во'>"
      ]
     },
     "execution_count": 19,
     "metadata": {},
     "output_type": "execute_result"
    },
    {
     "data": {
      "image/png": "[encoded data removed]",
      "text/plain": [
       "<Figure size 1080x504 with 1 Axes>"
      ]
     },
     "metadata": {
      "needs_background": "light"
     },
     "output_type": "display_data"
    }
   ],
   "source": [
    "sum_game = games.pivot_table(index='year_of_release', values='name', aggfunc='count')\n",
    "sum_game.plot(\n",
    "    title='Кол-во выпущенных игр в разные года',\n",
    "    ylabel='Кол-во',\n",
    "    xlabel='Год',\n",
    "    xlim = (1980, 2016),\n",
    "    grid=True,\n",
    "    figsize=(15,7),\n",
    "    color='g'\n",
    ")"
   ]
  },
  {
   "cell_type": "markdown",
   "id": "0574e858",
   "metadata": {},
   "source": [
    "### Мини вывод\n",
    "- Наблюдаем за тем, как в период с 2000 годов и по сей день активней начали выпускать игры\n",
    "- Пик был 2008 и 2009 году"
   ]
  },
  {
   "cell_type": "markdown",
   "id": "19fce5c2",
   "metadata": {},
   "source": [
    "### 3.2 Посмотрите, как менялись продажи по платформам. Выберите платформы с наибольшими суммарными продажами и постройте распределение по годам. За какой характерный срок появляются новые и исчезают старые платформы?\n",
    "\n",
    "### 3.3 Возьмите данные за соответствующий актуальный период. Актуальный период определите самостоятельно в результате исследования предыдущих вопросов. Основной фактор — эти данные помогут построить прогноз на 2017 год.\n",
    "\n",
    "### 3.4 Не учитывайте в работе данные за предыдущие годы.\n",
    "\n",
    "### 3.5 Какие платформы лидируют по продажам, растут или падают? Выберите несколько потенциально прибыльных платформ."
   ]
  },
  {
   "cell_type": "code",
   "execution_count": 20,
   "id": "5d37bb49",
   "metadata": {},
   "outputs": [
    {
     "data": {
      "text/plain": [
       "<AxesSubplot:title={'center':'Кол-во продаж игр на разных платформах'}, xlabel='Платформы', ylabel='Кол-во'>"
      ]
     },
     "execution_count": 20,
     "metadata": {},
     "output_type": "execute_result"
    },
    {
     "data": {
      "image/png": "[encoded data removed]",
      "text/plain": [
       "<Figure size 1080x504 with 1 Axes>"
      ]
     },
     "metadata": {
      "needs_background": "light"
     },
     "output_type": "display_data"
    }
   ],
   "source": [
    "# Строим график, который покажет продажи игр на всех платформах.\n",
    "sales_games = (games\n",
    "               .pivot_table(index='platform', values='full_sales', aggfunc='sum')\n",
    "               .sort_values(by='full_sales', ascending=False)\n",
    ")\n",
    "sales_games.plot(\n",
    "    title='Кол-во продаж игр на разных платформах',\n",
    "    xlabel='Платформы',\n",
    "    ylabel='Кол-во',\n",
    "    kind='bar',\n",
    "    figsize = (15, 7),\n",
    "    color = 'g',\n",
    ")"
   ]
  },
  {
   "cell_type": "markdown",
   "id": "ffcf7679",
   "metadata": {},
   "source": [
    "### Мини вывод\n",
    "- По графиу видно, что популярные платформы на которвых продавались игры: PS2, X360, PS3, Wii, DS "
   ]
  },
  {
   "cell_type": "code",
   "execution_count": 21,
   "id": "46409fbf",
   "metadata": {},
   "outputs": [],
   "source": [
    "period = games.copy()\n",
    "period = period[period.year_of_release >= 2012]\n",
    "\n",
    "# Функция которая позволит понять кол-во продаж на разных платформах за определенный период\n",
    "def year_total_sale_for_platform(name, data):\n",
    "    # В новой переменной присвоили название платформ и за какой период будет рассматривать\n",
    "    slicee = period[(period['platform'] == name)]\n",
    "    # Преобразовываем в свобдную таблицу, сортируем по столбцу годова\n",
    "    total = (slicee\n",
    "             .pivot_table(index='year_of_release', values='full_sales', aggfunc='sum')\n",
    "             .sort_values('year_of_release', ascending=False))\n",
    "    # Возращаем переменную total\n",
    "    return total"
   ]
  },
  {
   "cell_type": "code",
   "execution_count": 22,
   "id": "8f8e10dd",
   "metadata": {},
   "outputs": [],
   "source": [
    "# Создадим свою таблицу по платформам и их обшим продажам. Отсортируем их по убыванию и оставим только топ 5\n",
    "top_5_platforms = (period\n",
    "                   .pivot_table(index='platform', values='full_sales', aggfunc='sum')\n",
    "                   .sort_values(by='full_sales', ascending=False)\n",
    "                  .head())\n",
    "top_5_platforms = top_5_platforms.reset_index().rename_axis(None, axis=1)"
   ]
  },
  {
   "cell_type": "code",
   "execution_count": 23,
   "id": "ed105ceb",
   "metadata": {},
   "outputs": [
    {
     "data": {
      "text/html": [
       "<div>\n",
       "<style scoped>\n",
       "    .dataframe tbody tr th:only-of-type {\n",
       "        vertical-align: middle;\n",
       "    }\n",
       "\n",
       "    .dataframe tbody tr th {\n",
       "        vertical-align: top;\n",
       "    }\n",
       "\n",
       "    .dataframe thead th {\n",
       "        text-align: right;\n",
       "    }\n",
       "</style>\n",
       "<table border=\"1\" class=\"dataframe\">\n",
       "  <thead>\n",
       "    <tr style=\"text-align: right;\">\n",
       "      <th></th>\n",
       "      <th>platform</th>\n",
       "      <th>full_sales</th>\n",
       "    </tr>\n",
       "  </thead>\n",
       "  <tbody>\n",
       "    <tr>\n",
       "      <th>0</th>\n",
       "      <td>PS4</td>\n",
       "      <td>314.14</td>\n",
       "    </tr>\n",
       "    <tr>\n",
       "      <th>1</th>\n",
       "      <td>PS3</td>\n",
       "      <td>288.79</td>\n",
       "    </tr>\n",
       "    <tr>\n",
       "      <th>2</th>\n",
       "      <td>X360</td>\n",
       "      <td>236.54</td>\n",
       "    </tr>\n",
       "    <tr>\n",
       "      <th>3</th>\n",
       "      <td>3DS</td>\n",
       "      <td>194.61</td>\n",
       "    </tr>\n",
       "    <tr>\n",
       "      <th>4</th>\n",
       "      <td>XOne</td>\n",
       "      <td>159.32</td>\n",
       "    </tr>\n",
       "  </tbody>\n",
       "</table>\n",
       "</div>"
      ],
      "text/plain": [
       "  platform  full_sales\n",
       "0      PS4      314.14\n",
       "1      PS3      288.79\n",
       "2     X360      236.54\n",
       "3      3DS      194.61\n",
       "4     XOne      159.32"
      ]
     },
     "execution_count": 23,
     "metadata": {},
     "output_type": "execute_result"
    }
   ],
   "source": [
    "top_5_platforms"
   ]
  },
  {
   "cell_type": "code",
   "execution_count": 24,
   "id": "a497564a",
   "metadata": {},
   "outputs": [
    {
     "data": {
      "image/png": "[encoded data removed]",
      "text/plain": [
       "<Figure size 1080x504 with 1 Axes>"
      ]
     },
     "metadata": {
      "needs_background": "light"
     },
     "output_type": "display_data"
    }
   ],
   "source": [
    "# Отрисуем все игровые платформы и их поведение\n",
    "plt.figure(figsize=(15,7))\n",
    "plt.title('Количество продаж популярных игровых платформ')\n",
    "plt.xlabel('Годы игровых релизов')\n",
    "plt.ylabel('Продажи')\n",
    "\n",
    "for i in list(top_5_platforms['platform']):\n",
    "    sns.lineplot(data=year_total_sale_for_platform(i, games)['full_sales'], label=i)\n",
    "    plt.legend()"
   ]
  },
  {
   "cell_type": "markdown",
   "id": "8269b763",
   "metadata": {},
   "source": [
    "### Мини вывод \n",
    "- Самой продаваемой платформой считается PS4\n",
    "- Практически все платформы для игр живут почти что 10 лет, даже чуть меньше\n",
    "- Пик продаваемых игр на разных платформах наступает примерно через 5 лет, хотя у PS4 спустя 2 года, т.к компания была уже известна"
   ]
  },
  {
   "cell_type": "code",
   "execution_count": 25,
   "id": "3e09655e",
   "metadata": {},
   "outputs": [
    {
     "data": {
      "text/plain": [
       "2012.0"
      ]
     },
     "execution_count": 25,
     "metadata": {},
     "output_type": "execute_result"
    }
   ],
   "source": [
    "\n",
    "temp1 = games.copy()\n",
    "temp1 = temp1[temp1.year_of_release >= 2012]\n",
    "temp1.year_of_release.min()"
   ]
  },
  {
   "cell_type": "markdown",
   "id": "d2034d31",
   "metadata": {},
   "source": [
    "### 3.6 Постройте график «ящик с усами» по глобальным продажам игр в разбивке по платформам. Опишите результат."
   ]
  },
  {
   "cell_type": "code",
   "execution_count": 26,
   "id": "599ea700",
   "metadata": {},
   "outputs": [
    {
     "data": {
      "text/plain": [
       "1980.0"
      ]
     },
     "execution_count": 26,
     "metadata": {},
     "output_type": "execute_result"
    }
   ],
   "source": [
    "\n",
    "games.year_of_release.min()"
   ]
  },
  {
   "cell_type": "code",
   "execution_count": 27,
   "id": "47c11b18",
   "metadata": {},
   "outputs": [],
   "source": [
    "# Сохраним в переменной games_top_5_platforms топ 5 платформ и избавимся от выбросов\n",
    "list_top5 = games[games.year_of_release>=2012]\n",
    "list_top5 = ['PS4','PS3','X360','3DS','XOne']\n",
    "games_top_5_platforms = games[games['platform'].isin(['PS4','PS3','X360','3DS','XOne'])]\n",
    "games_top_5_platforms = games_top_5_platforms.query('year_of_release>=2012')"
   ]
  },
  {
   "cell_type": "code",
   "execution_count": 28,
   "id": "f8b280fb",
   "metadata": {},
   "outputs": [
    {
     "data": {
      "text/plain": [
       "2012.0"
      ]
     },
     "execution_count": 28,
     "metadata": {},
     "output_type": "execute_result"
    }
   ],
   "source": [
    "games_top_5_platforms.year_of_release.min()"
   ]
  },
  {
   "cell_type": "code",
   "execution_count": 29,
   "id": "49f6bde9",
   "metadata": {},
   "outputs": [
    {
     "data": {
      "text/plain": [
       "Text(0, 0.5, 'Глобальные продажи')"
      ]
     },
     "execution_count": 29,
     "metadata": {},
     "output_type": "execute_result"
    },
    {
     "data": {
      "image/png": "[encoded data removed]",
      "text/plain": [
       "<Figure size 1080x504 with 1 Axes>"
      ]
     },
     "metadata": {
      "needs_background": "light"
     },
     "output_type": "display_data"
    }
   ],
   "source": [
    "# Рисуем ящики с усами в полном формате\n",
    "plt.figure(figsize=(15,7))\n",
    "sns.boxplot(data=games_top_5_platforms, x='platform', y='full_sales')\n",
    "plt.title('Ящик с усами в полном формате', fontsize=15)\n",
    "plt.xlabel('Платформа', fontsize=12)\n",
    "plt.ylabel('Глобальные продажи',fontsize=12)"
   ]
  },
  {
   "cell_type": "code",
   "execution_count": 30,
   "id": "2e723f18",
   "metadata": {},
   "outputs": [
    {
     "data": {
      "text/plain": [
       "Text(0, 0.5, 'Глобальные продажи')"
      ]
     },
     "execution_count": 30,
     "metadata": {},
     "output_type": "execute_result"
    },
    {
     "data": {
      "image/png": "[encoded data removed]",
      "text/plain": [
       "<Figure size 1080x504 with 1 Axes>"
      ]
     },
     "metadata": {
      "needs_background": "light"
     },
     "output_type": "display_data"
    }
   ],
   "source": [
    "# Рисуем ящики с усами с крупными боксплотами\n",
    "#games_top_5_platforms = games_top_5_platforms[games_top_5_platforms['full_sales']<3]\n",
    "plt.figure(figsize=(15,7))\n",
    "sns.boxplot(data=games_top_5_platforms, x='platform', y='full_sales')\n",
    "plt.ylim(0,3)\n",
    "plt.title('Ящик с усами в полном формате', fontsize=15)\n",
    "plt.xlabel('Платформа', fontsize=12)\n",
    "plt.ylabel('Глобальные продажи',fontsize=12)"
   ]
  },
  {
   "cell_type": "markdown",
   "id": "39d36778",
   "metadata": {},
   "source": [
    "### Мини вывод\n",
    "- Из графиков видно, что медиана у каждой платформы разная \n",
    "- Больше всего продаж у X360, меньше всего у 3DS"
   ]
  },
  {
   "cell_type": "markdown",
   "id": "a13e4b25",
   "metadata": {},
   "source": [
    "### 3.7 Посмотрите, как влияют на продажи внутри одной популярной платформы отзывы пользователей и критиков. Постройте диаграмму рассеяния и посчитайте корреляцию между отзывами и продажами. Сформулируйте выводы."
   ]
  },
  {
   "cell_type": "code",
   "execution_count": 31,
   "id": "4f4fa32a",
   "metadata": {},
   "outputs": [],
   "source": [
    "period_user = period[period.user_score >= 0]"
   ]
  },
  {
   "cell_type": "code",
   "execution_count": 32,
   "id": "e4ac6fa3",
   "metadata": {},
   "outputs": [
    {
     "data": {
      "text/plain": [
       "-0.03195711020455646"
      ]
     },
     "execution_count": 32,
     "metadata": {},
     "output_type": "execute_result"
    }
   ],
   "source": [
    "# Сначала построим диаграмму рассеяивания для отзывов пользователей и посчитаем ее корреляцию \n",
    "games_ps4_user = period_user[(period_user['platform']=='PS4')]\n",
    "# Считаем корреляцию пользователей\n",
    "games_ps4_user['user_score'].corr(games_ps4_user['full_sales'])"
   ]
  },
  {
   "cell_type": "code",
   "execution_count": 33,
   "id": "d4b38270",
   "metadata": {},
   "outputs": [
    {
     "data": {
      "text/plain": [
       "1.5"
      ]
     },
     "execution_count": 33,
     "metadata": {},
     "output_type": "execute_result"
    }
   ],
   "source": [
    "games_ps4_user.user_score.min()"
   ]
  },
  {
   "cell_type": "code",
   "execution_count": 34,
   "id": "494103bc",
   "metadata": {},
   "outputs": [
    {
     "data": {
      "text/plain": [
       "<AxesSubplot:xlabel='user_score', ylabel='full_sales'>"
      ]
     },
     "execution_count": 34,
     "metadata": {},
     "output_type": "execute_result"
    },
    {
     "data": {
      "image/png": "[encoded data removed]",
      "text/plain": [
       "<Figure size 1080x504 with 1 Axes>"
      ]
     },
     "metadata": {
      "needs_background": "light"
     },
     "output_type": "display_data"
    }
   ],
   "source": [
    "# Диаграмма рассеивания пользователей\n",
    "games_ps4_user.plot(\n",
    "    kind='scatter', \n",
    "    x='user_score', \n",
    "    y='full_sales', \n",
    "    figsize=(15, 7), \n",
    "    alpha=0.3, \n",
    "    color = 'g', \n",
    "    xlim=(0,10)\n",
    "              )"
   ]
  },
  {
   "cell_type": "code",
   "execution_count": 36,
   "id": "6c349594",
   "metadata": {},
   "outputs": [],
   "source": [
    "period_critic = period[period.critic_score >= 0]"
   ]
  },
  {
   "cell_type": "code",
   "execution_count": 37,
   "id": "4b98983a",
   "metadata": {
    "scrolled": true
   },
   "outputs": [
    {
     "data": {
      "text/plain": [
       "0.40656790206178145"
      ]
     },
     "execution_count": 37,
     "metadata": {},
     "output_type": "execute_result"
    }
   ],
   "source": [
    "# Cчитем корреляцию по оценке критиков\n",
    "games_ps4_critic = period_critic[(period_critic['platform']=='PS4')]\n",
    "games_ps4_critic['critic_score'].corr(games_ps4_critic['full_sales'])"
   ]
  },
  {
   "cell_type": "code",
   "execution_count": 38,
   "id": "098df060",
   "metadata": {},
   "outputs": [
    {
     "data": {
      "text/plain": [
       "19.0"
      ]
     },
     "execution_count": 38,
     "metadata": {},
     "output_type": "execute_result"
    }
   ],
   "source": [
    "\n",
    "games_ps4_critic.critic_score.min()"
   ]
  },
  {
   "cell_type": "code",
   "execution_count": 39,
   "id": "ebb2cb95",
   "metadata": {},
   "outputs": [
    {
     "data": {
      "text/plain": [
       "<AxesSubplot:xlabel='critic_score', ylabel='full_sales'>"
      ]
     },
     "execution_count": 39,
     "metadata": {},
     "output_type": "execute_result"
    },
    {
     "data": {
      "image/png": "[encoded data removed]",
      "text/plain": [
       "<Figure size 1080x504 with 1 Axes>"
      ]
     },
     "metadata": {
      "needs_background": "light"
     },
     "output_type": "display_data"
    }
   ],
   "source": [
    "# Диаграмма рассеивания по оценке критиков\n",
    "games_ps4_critic.plot(\n",
    "    x='critic_score', \n",
    "    y='full_sales', \n",
    "    kind='scatter', \n",
    "    figsize=(15, 7), \n",
    "    color='g', \n",
    "    alpha=0.3, \n",
    "    xlim=(0,100)\n",
    ")"
   ]
  },
  {
   "cell_type": "markdown",
   "id": "0e2100ec",
   "metadata": {},
   "source": [
    "### 3.8 Соотнесите выводы с продажами игр на других платформах."
   ]
  },
  {
   "cell_type": "code",
   "execution_count": 40,
   "id": "8a2e241a",
   "metadata": {},
   "outputs": [],
   "source": [
    "period_platforms_critic = period[period.critic_score >= 0]\n",
    "period_platforms_users = period[period.user_score >= 0]"
   ]
  },
  {
   "cell_type": "code",
   "execution_count": 41,
   "id": "92b1cd84",
   "metadata": {},
   "outputs": [
    {
     "name": "stdout",
     "output_type": "stream",
     "text": [
      "1312\n",
      "1531\n",
      "1297\n"
     ]
    }
   ],
   "source": [
    "period1 = games.copy()\n",
    "period1 = period1[period1.year_of_release >= 2012]\n",
    "print(len(period1[period1.critic_score >= 0]))\n",
    "print(len(period1[period1.user_score >= 0]))\n",
    "print(len(period1[(period1.critic_score >= 0) & (period.user_score >= 0)]))"
   ]
  },
  {
   "cell_type": "code",
   "execution_count": 42,
   "id": "fcc100c6",
   "metadata": {},
   "outputs": [],
   "source": [
    "# Распишим функцию которая будет считать корреляцию и строить графики для остальных топ5 платформ\n",
    "def all_top5_platforms(games_platforms):\n",
    "    platform_user = period_platforms_users[(period_platforms_users['platform']==games_platforms)]\n",
    "    platform_critic = period_platforms_critic[(period_platforms_critic['platform']==games_platforms)]\n",
    "    fig, ax = plt.subplots(1, 2, figsize=(15, 5))\n",
    "    sns.scatterplot(x='user_score', y='full_sales', data=platform_user, ax=ax[0], color='g', alpha=0.3 )\n",
    "    sns.scatterplot(x='critic_score', y='full_sales', data=platform_critic, ax=ax[1], color='g', alpha=0.3 )\n",
    "    fig.suptitle(games_platforms, fontsize=15)\n",
    "    ax[0].set(xlabel='Оценка пользователей')\n",
    "    ax[0].set(ylabel='Количество продаж')\n",
    "    ax[1].set(xlabel='Оценка критиков')\n",
    "    ax[1].set(ylabel='Количество продаж')\n",
    "    plt.show()\n",
    "    \n",
    "    cor_user = platform_user['user_score'].corr(platform_user['full_sales'])\n",
    "    cor_critic = platform_critic['critic_score'].corr(platform_critic['full_sales'])\n",
    "    \n",
    "    if 0.3 >= cor_user >= 0.1:\n",
    "        print('Корреляция оценки пользователей и продаж ', games_platforms, ': Слабая', cor_user)\n",
    "    if 0.5 >= cor_user >= 0.3:\n",
    "        print('Корреляция оценки пользователей и продаж ', games_platforms, ': Умеренная', cor_user)\n",
    "    if 0.7 >= cor_user >= 0.5:\n",
    "        print('Корреляция оценки пользователей и продаж ', games_platforms, ': Заметная', cor_user)\n",
    "    if 0.9 >= cor_user >= 0.7:\n",
    "        print('Корреляция оценки пользователей и продаж ', games_platforms, ': Высокая', cor_user)\n",
    "    if 0.99 >= cor_user >= 0.9:\n",
    "        print('Корреляция оценки пользователей и продаж ', games_platforms, ': Высокая весьма', cor_user)\n",
    "        \n",
    "    if 0.3 >= cor_critic >= 0.1:\n",
    "        print('Корреляция оценки критиков и продаж ', games_platforms, ': Слабая', cor_critic)\n",
    "    if 0.5 >= cor_critic >= 0.3:\n",
    "        print('Корреляция оценки критиков и продаж ', games_platforms, ': Умеренная', cor_critic)\n",
    "    if 0.7 >= cor_critic >= 0.5:\n",
    "        print('Корреляция оценки критиков и продаж ', games_platforms, ': Заметная', cor_critic)\n",
    "    if 0.9 >= cor_critic >= 0.7:\n",
    "        print('Корреляция оценки критиков и продаж ', games_platforms, ': Высокая', cor_critic)\n",
    "    if 0.99 >= cor_critic >= 0.9:\n",
    "        print('Корреляция оценки критиков и продаж ', games_platforms, ': Высокая весьма', cor_critic)"
   ]
  },
  {
   "cell_type": "code",
   "execution_count": 43,
   "id": "05ab9c7d",
   "metadata": {
    "scrolled": false
   },
   "outputs": [
    {
     "data": {
      "image/png": "[encoded data removed]",
      "text/plain": [
       "<Figure size 1080x360 with 2 Axes>"
      ]
     },
     "metadata": {
      "needs_background": "light"
     },
     "output_type": "display_data"
    },
    {
     "name": "stdout",
     "output_type": "stream",
     "text": [
      "Корреляция оценки критиков и продаж  PS4 : Умеренная 0.40656790206178145\n"
     ]
    },
    {
     "data": {
      "image/png": "[encoded data removed]",
      "text/plain": [
       "<Figure size 1080x360 with 2 Axes>"
      ]
     },
     "metadata": {
      "needs_background": "light"
     },
     "output_type": "display_data"
    },
    {
     "name": "stdout",
     "output_type": "stream",
     "text": [
      "Корреляция оценки критиков и продаж  PS3 : Умеренная 0.331497259262959\n"
     ]
    },
    {
     "data": {
      "image/png": "[encoded data removed]",
      "text/plain": [
       "<Figure size 1080x360 with 2 Axes>"
      ]
     },
     "metadata": {
      "needs_background": "light"
     },
     "output_type": "display_data"
    },
    {
     "name": "stdout",
     "output_type": "stream",
     "text": [
      "Корреляция оценки критиков и продаж  X360 : Умеренная 0.36057348885073387\n"
     ]
    },
    {
     "data": {
      "image/png": "[encoded data removed]",
      "text/plain": [
       "<Figure size 1080x360 with 2 Axes>"
      ]
     },
     "metadata": {
      "needs_background": "light"
     },
     "output_type": "display_data"
    },
    {
     "name": "stdout",
     "output_type": "stream",
     "text": [
      "Корреляция оценки пользователей и продаж  3DS : Слабая 0.1975826341103859\n",
      "Корреляция оценки критиков и продаж  3DS : Умеренная 0.3208028695360786\n"
     ]
    },
    {
     "data": {
      "image/png": "[encoded data removed]",
      "text/plain": [
       "<Figure size 1080x360 with 2 Axes>"
      ]
     },
     "metadata": {
      "needs_background": "light"
     },
     "output_type": "display_data"
    },
    {
     "name": "stdout",
     "output_type": "stream",
     "text": [
      "Корреляция оценки критиков и продаж  XOne : Умеренная 0.4169983280084016\n"
     ]
    }
   ],
   "source": [
    "#С помощью цикла выведем все 5 графиков\n",
    "for platform in list_top5:\n",
    "    all_top5_platforms(platform)"
   ]
  },
  {
   "cell_type": "code",
   "execution_count": 44,
   "id": "6ad2c597",
   "metadata": {},
   "outputs": [
    {
     "name": "stdout",
     "output_type": "stream",
     "text": [
      "Среднее PS4 : 6.748249027237353\n",
      "Медиана PS4 : 7.0\n",
      "Дисперсия PS4 : 2.1217965449893263\n",
      "Стандартное отклонение PS4 : 1.456638783291632\n",
      "\n",
      "\n",
      "Среднее PS3 : 6.532862190812724\n",
      "Медиана PS3 : 7.0\n",
      "Дисперсия PS3 : 2.707789334365517\n",
      "Стандартное отклонение PS3 : 1.6455361844594962\n",
      "\n",
      "\n",
      "Среднее X360 : 6.2208510638297865\n",
      "Медиана X360 : 6.5\n",
      "Дисперсия X360 : 2.482075871435041\n",
      "Стандартное отклонение X360 : 1.5754605267778183\n",
      "\n",
      "\n",
      "Среднее 3DS : 7.033333333333332\n",
      "Медиана 3DS : 7.4\n",
      "Дисперсия 3DS : 2.177836257309941\n",
      "Стандартное отклонение 3DS : 1.4757493883820318\n",
      "\n",
      "\n",
      "Среднее XOne : 6.52142857142857\n",
      "Медиана XOne : 6.8\n",
      "Дисперсия XOne : 1.8965188383045533\n",
      "Стандартное отклонение XOne : 1.3771415462124992\n",
      "\n",
      "\n"
     ]
    }
   ],
   "source": [
    "# Высчитываем среднее, медианну, стандартное отклонение, дисперсию топ 5 платформ для пользователей \n",
    "for platform in list_top5:\n",
    "    print('Среднее', platform, ':', period_platforms_users[period_platforms_users['platform']==platform]['user_score'].mean())\n",
    "    print('Медиана', platform, ':', period_platforms_users[period_platforms_users['platform']==platform]['user_score'].median())\n",
    "    print('Дисперсия', platform, ':', np.var(period_platforms_users[period_platforms_users['platform']==platform]['user_score']))\n",
    "    print('Стандартное отклонение', platform, ':', np.std(period_platforms_users[period_platforms_users['platform']==platform]['user_score']))\n",
    "    print('\\n')"
   ]
  },
  {
   "cell_type": "code",
   "execution_count": 45,
   "id": "9f6e1c31",
   "metadata": {},
   "outputs": [
    {
     "name": "stdout",
     "output_type": "stream",
     "text": [
      "Среднее PS4 : 72.09126984126983\n",
      "Медиана PS4 : 73.0\n",
      "Дисперсия PS4 : 155.28135235575724\n",
      "Стандартное отклонение PS4 : 12.461193857562655\n",
      "\n",
      "\n",
      "Среднее PS3 : 71.56542056074767\n",
      "Медиана PS3 : 74.0\n",
      "Дисперсия PS3 : 177.46067342125946\n",
      "Стандартное отклонение PS3 : 13.321436612515162\n",
      "\n",
      "\n",
      "Среднее X360 : 70.87134502923976\n",
      "Медиана X360 : 74.0\n",
      "Дисперсия X360 : 200.28754146575014\n",
      "Стандартное отклонение X360 : 14.152298098392011\n",
      "\n",
      "\n",
      "Среднее 3DS : 69.8173076923077\n",
      "Медиана 3DS : 71.0\n",
      "Дисперсия 3DS : 143.4377773668639\n",
      "Стандартное отклонение 3DS : 11.976551146589067\n",
      "\n",
      "\n",
      "Среднее XOne : 73.32544378698225\n",
      "Медиана XOne : 76.0\n",
      "Дисперсия XOne : 166.79941178530163\n",
      "Стандартное отклонение XOne : 12.915084660400087\n",
      "\n",
      "\n"
     ]
    }
   ],
   "source": [
    "# Высчитываем среднее, медианну, стандартное отклонение, дисперсию топ 5 платформ для критиков \n",
    "for platform in list_top5:\n",
    "    print('Среднее', platform, ':', period_platforms_critic[period_platforms_critic['platform']==platform]['critic_score'].mean())\n",
    "    print('Медиана', platform, ':', period_platforms_critic[period_platforms_critic['platform']==platform]['critic_score'].median())\n",
    "    print('Дисперсия', platform, ':', np.var(period_platforms_critic[period_platforms_critic['platform']==platform]['critic_score']))\n",
    "    print('Стандартное отклонение', platform, ':', np.std(period_platforms_critic[period_platforms_critic['platform']==platform]['critic_score']))\n",
    "    print('\\n')"
   ]
  },
  {
   "cell_type": "markdown",
   "id": "c0eccd06",
   "metadata": {},
   "source": [
    "    Мы искали это, для того чтобы понять, каким отзывам больше доверяют покупатели. Большинство значений оценок критиков лучше чем оценки пользователей, не существенно, но для анализа сойдет, поэтому от этого идет мини вывод"
   ]
  },
  {
   "cell_type": "markdown",
   "id": "11857c76",
   "metadata": {},
   "source": [
    "### Мини вывод\n",
    "- Оценка пользователей слабо влияет на продажи, чего не скажешь о оценке критиков. Покупатели прислушиваются больше к критикам чем к оценкам других пользователейё"
   ]
  },
  {
   "cell_type": "markdown",
   "id": "b3e10107",
   "metadata": {},
   "source": [
    "### 3.9 Посмотрите на общее распределение игр по жанрам. Что можно сказать о самых прибыльных жанрах? Выделяются ли жанры с высокими и низкими продажами?"
   ]
  },
  {
   "cell_type": "code",
   "execution_count": 46,
   "id": "86361328",
   "metadata": {},
   "outputs": [],
   "source": [
    "period_genre = games.copy()\n",
    "period_genre = period_genre[period_genre.year_of_release >= 2012]\n",
    "\n",
    "games_genre = (period_genre.pivot_table(\n",
    "    index='genre', \n",
    "    values='full_sales',\n",
    "    aggfunc='sum')\n",
    "    .sort_values(\n",
    "    by='full_sales',\n",
    "    ascending=False\n",
    "    )\n",
    ")"
   ]
  },
  {
   "cell_type": "code",
   "execution_count": 47,
   "id": "6efa39b0",
   "metadata": {},
   "outputs": [
    {
     "data": {
      "text/html": [
       "<div>\n",
       "<style scoped>\n",
       "    .dataframe tbody tr th:only-of-type {\n",
       "        vertical-align: middle;\n",
       "    }\n",
       "\n",
       "    .dataframe tbody tr th {\n",
       "        vertical-align: top;\n",
       "    }\n",
       "\n",
       "    .dataframe thead th {\n",
       "        text-align: right;\n",
       "    }\n",
       "</style>\n",
       "<table border=\"1\" class=\"dataframe\">\n",
       "  <thead>\n",
       "    <tr style=\"text-align: right;\">\n",
       "      <th></th>\n",
       "      <th>full_sales</th>\n",
       "    </tr>\n",
       "    <tr>\n",
       "      <th>genre</th>\n",
       "      <th></th>\n",
       "    </tr>\n",
       "  </thead>\n",
       "  <tbody>\n",
       "    <tr>\n",
       "      <th>Action</th>\n",
       "      <td>441.12</td>\n",
       "    </tr>\n",
       "    <tr>\n",
       "      <th>Shooter</th>\n",
       "      <td>304.73</td>\n",
       "    </tr>\n",
       "    <tr>\n",
       "      <th>Role-Playing</th>\n",
       "      <td>192.80</td>\n",
       "    </tr>\n",
       "    <tr>\n",
       "      <th>Sports</th>\n",
       "      <td>181.07</td>\n",
       "    </tr>\n",
       "    <tr>\n",
       "      <th>Misc</th>\n",
       "      <td>85.04</td>\n",
       "    </tr>\n",
       "    <tr>\n",
       "      <th>Platform</th>\n",
       "      <td>61.00</td>\n",
       "    </tr>\n",
       "    <tr>\n",
       "      <th>Racing</th>\n",
       "      <td>53.50</td>\n",
       "    </tr>\n",
       "    <tr>\n",
       "      <th>Fighting</th>\n",
       "      <td>44.49</td>\n",
       "    </tr>\n",
       "    <tr>\n",
       "      <th>Simulation</th>\n",
       "      <td>35.12</td>\n",
       "    </tr>\n",
       "    <tr>\n",
       "      <th>Adventure</th>\n",
       "      <td>29.43</td>\n",
       "    </tr>\n",
       "    <tr>\n",
       "      <th>Strategy</th>\n",
       "      <td>13.34</td>\n",
       "    </tr>\n",
       "    <tr>\n",
       "      <th>Puzzle</th>\n",
       "      <td>4.89</td>\n",
       "    </tr>\n",
       "  </tbody>\n",
       "</table>\n",
       "</div>"
      ],
      "text/plain": [
       "              full_sales\n",
       "genre                   \n",
       "Action            441.12\n",
       "Shooter           304.73\n",
       "Role-Playing      192.80\n",
       "Sports            181.07\n",
       "Misc               85.04\n",
       "Platform           61.00\n",
       "Racing             53.50\n",
       "Fighting           44.49\n",
       "Simulation         35.12\n",
       "Adventure          29.43\n",
       "Strategy           13.34\n",
       "Puzzle              4.89"
      ]
     },
     "execution_count": 47,
     "metadata": {},
     "output_type": "execute_result"
    }
   ],
   "source": [
    "games_genre"
   ]
  },
  {
   "cell_type": "code",
   "execution_count": 48,
   "id": "aceae90b",
   "metadata": {},
   "outputs": [
    {
     "data": {
      "text/plain": [
       "<AxesSubplot:ylabel='full_sales'>"
      ]
     },
     "execution_count": 48,
     "metadata": {},
     "output_type": "execute_result"
    },
    {
     "data": {
      "image/png": "[encoded data removed]",
      "text/plain": [
       "<Figure size 720x720 with 1 Axes>"
      ]
     },
     "metadata": {},
     "output_type": "display_data"
    }
   ],
   "source": [
    "games_genre.plot(\n",
    "    x='genre',\n",
    "    y='full_sales',\n",
    "    title='',\n",
    "    kind='pie',\n",
    "    figsize = (10, 10)\n",
    ")"
   ]
  },
  {
   "cell_type": "code",
   "execution_count": 49,
   "id": "d1976521",
   "metadata": {},
   "outputs": [
    {
     "data": {
      "text/plain": [
       "Text(0, 0.5, 'Глобальные продажи')"
      ]
     },
     "execution_count": 49,
     "metadata": {},
     "output_type": "execute_result"
    },
    {
     "data": {
      "image/png": "[encoded data removed]",
      "text/plain": [
       "<Figure size 1080x504 with 1 Axes>"
      ]
     },
     "metadata": {
      "needs_background": "light"
     },
     "output_type": "display_data"
    }
   ],
   "source": [
    "plt.figure(figsize=(15,7))\n",
    "sns.boxplot(data=games_top_5_platforms, x='genre', y='full_sales')\n",
    "plt.ylim(0,3)\n",
    "plt.title('Ящик с усами в полном формате', fontsize=15)\n",
    "plt.xlabel('Жанры', fontsize=20)\n",
    "plt.ylabel('Глобальные продажи',fontsize=20)"
   ]
  },
  {
   "cell_type": "markdown",
   "id": "e07c7d0d",
   "metadata": {},
   "source": [
    "## Вывод по 3 шагу\n",
    "- Продаваемая жанр игра: Шутер\n",
    "- Топ5 продаваемых платформ: 'PS4','PS3','X360','3DS','XOne'\n",
    "- Массовый выпуск игра началася: 2000 году\n",
    "- Пик выпоск игр: 08/09 года\n",
    "- Средняя жизнь платформы: около 10 лет\n",
    "- Покупатели прислушиваются больше : Критикам, чем пользователям\n"
   ]
  },
  {
   "cell_type": "markdown",
   "id": "ce37cebd",
   "metadata": {},
   "source": [
    "# Шаг 4. Составьте портрет пользователя каждого региона"
   ]
  },
  {
   "cell_type": "markdown",
   "id": "af8ce0d9",
   "metadata": {},
   "source": [
    "## Определите для пользователя каждого региона (NA, EU, JP):"
   ]
  },
  {
   "cell_type": "code",
   "execution_count": 50,
   "id": "a7bf7052",
   "metadata": {},
   "outputs": [],
   "source": [
    "period_pic = games.copy()\n",
    "period_pic['rating'] = period_pic['rating'].fillna('no_rating')"
   ]
  },
  {
   "cell_type": "code",
   "execution_count": 51,
   "id": "06657407",
   "metadata": {},
   "outputs": [],
   "source": [
    "#Функция для создания сводных таблиц за последние 5 лет\n",
    "def table(row, title):\n",
    "    period_pic_2012 = period_pic[period_pic.year_of_release >= 2012]\n",
    "    fig, axes = plt.subplots(1, 3, figsize=(15, 5))\n",
    "    for tables, ax in zip(list(['platform','genre','rating']),axes.flatten()):\n",
    "        ttable = period_pic_2012.pivot_table(index=tables, values=row, aggfunc='sum'\n",
    "                  ).sort_values(by=row, ascending=False).reset_index(\n",
    "        ).rename_axis(None, axis=1\n",
    "                     ).head(5)\n",
    "        print(ttable)\n",
    "        print('\\n') \n",
    "        ttable.plot.pie(x=tables, y=row, figsize=(15,7), ax=ax, labels=ttable[tables])\n",
    "        fig.suptitle(title, fontsize=15)\n",
    "        \n",
    "\n",
    "plt.show()\n",
    "#sns.set()\n",
    "\n",
    "#Функция для создания сводных таблиц за последний год\n",
    "def table_2016(row, title):\n",
    "    period_pic_2016 = period_pic[period_pic.year_of_release > 2015]\n",
    "    fig, axes = plt.subplots(1, 3, figsize=(15, 6))\n",
    "    for tables, ax in zip(list(['platform','genre','rating']), axes.flatten()):\n",
    "        ttable = period_pic_2016.pivot_table(index=tables, values=row, aggfunc='sum').sort_values(by=row, ascending=False).reset_index().rename_axis(None, axis=1).head(5)\n",
    "        print(ttable)\n",
    "        print('\\n')\n",
    "        ttable.plot.pie(x=tables, y=row, figsize=(15,7), ax=ax, labels=ttable[tables])\n",
    "        fig.suptitle(title, fontsize=15)\n"
   ]
  },
  {
   "cell_type": "markdown",
   "id": "82b4cebc",
   "metadata": {},
   "source": [
    "</font><font color='Blue'><b>Мне подсказали как сделать, но что-то не поулчается подставить нужные столбцы, постоянно вылазиет ошибка</b></font><br>"
   ]
  },
  {
   "cell_type": "markdown",
   "id": "3d01544d",
   "metadata": {},
   "source": [
    "### 4.1 Самые популярные платформы (топ-5). Опишите различия в долях продаж.\n",
    "### 4.2 Самые популярные жанры (топ-5). Поясните разницу."
   ]
  },
  {
   "cell_type": "markdown",
   "id": "ddb8fe05",
   "metadata": {},
   "source": [
    "### 4.3 Влияет ли рейтинг ESRB на продажи в отдельном регионе?"
   ]
  },
  {
   "cell_type": "markdown",
   "id": "e6dc329a",
   "metadata": {},
   "source": [
    "### Пользователи Северной Америке"
   ]
  },
  {
   "cell_type": "markdown",
   "id": "80ab49d6",
   "metadata": {},
   "source": [
    "### Сайт о полной формулировки ESRB\n",
    "https://dic.academic.ru/dic.nsf/ruwiki/140779"
   ]
  },
  {
   "cell_type": "code",
   "execution_count": 52,
   "id": "c088ac62",
   "metadata": {
    "scrolled": false
   },
   "outputs": [
    {
     "name": "stdout",
     "output_type": "stream",
     "text": [
      "  platform  na_sales\n",
      "0     X360    140.05\n",
      "1      PS4    108.74\n",
      "2      PS3    103.38\n",
      "3     XOne     93.12\n",
      "4      3DS     55.31\n",
      "\n",
      "\n",
      "          genre  na_sales\n",
      "0        Action    177.84\n",
      "1       Shooter    144.77\n",
      "2        Sports     81.53\n",
      "3  Role-Playing     64.00\n",
      "4          Misc     38.19\n",
      "\n",
      "\n",
      "      rating  na_sales\n",
      "0          M    231.57\n",
      "1          E    114.37\n",
      "2  no_rating    103.31\n",
      "3       E10+     75.70\n",
      "4          T     66.02\n",
      "\n",
      "\n"
     ]
    },
    {
     "data": {
      "image/png": "[encoded data removed]",
      "text/plain": [
       "<Figure size 1080x504 with 3 Axes>"
      ]
     },
     "metadata": {},
     "output_type": "display_data"
    }
   ],
   "source": [
    "table('na_sales', 'Топ 5 платформ, рейтингов и жанров за весь период')"
   ]
  },
  {
   "cell_type": "code",
   "execution_count": 53,
   "id": "c128a388",
   "metadata": {},
   "outputs": [
    {
     "name": "stdout",
     "output_type": "stream",
     "text": [
      "  platform  na_sales\n",
      "0      PS4     21.49\n",
      "1     XOne     14.27\n",
      "2      3DS      4.14\n",
      "3     WiiU      2.10\n",
      "4       PC      1.36\n",
      "\n",
      "\n",
      "          genre  na_sales\n",
      "0       Shooter     16.24\n",
      "1        Action      9.29\n",
      "2        Sports      7.54\n",
      "3  Role-Playing      5.89\n",
      "4      Fighting      1.84\n",
      "\n",
      "\n",
      "      rating  na_sales\n",
      "0          M     15.67\n",
      "1          T      8.95\n",
      "2  no_rating      8.53\n",
      "3          E      7.97\n",
      "4       E10+      3.81\n",
      "\n",
      "\n"
     ]
    },
    {
     "data": {
      "image/png": "[encoded data removed]",
      "text/plain": [
       "<Figure size 1080x504 with 3 Axes>"
      ]
     },
     "metadata": {},
     "output_type": "display_data"
    }
   ],
   "source": [
    "table_2016('na_sales', 'Топ 5 платформ, рейтингов и жанров за 2016 год')"
   ]
  },
  {
   "cell_type": "markdown",
   "id": "d8cdb8e0",
   "metadata": {},
   "source": [
    "### Пользователи Европы"
   ]
  },
  {
   "cell_type": "code",
   "execution_count": 54,
   "id": "2d49fb98",
   "metadata": {},
   "outputs": [
    {
     "name": "stdout",
     "output_type": "stream",
     "text": [
      "  platform  eu_sales\n",
      "0      PS4    141.09\n",
      "1      PS3    106.86\n",
      "2     X360     74.52\n",
      "3     XOne     51.59\n",
      "4      3DS     42.64\n",
      "\n",
      "\n",
      "          genre  eu_sales\n",
      "0        Action    159.34\n",
      "1       Shooter    113.47\n",
      "2        Sports     69.09\n",
      "3  Role-Playing     48.53\n",
      "4        Racing     27.29\n",
      "\n",
      "\n",
      "      rating  eu_sales\n",
      "0          M    193.96\n",
      "1          E    113.03\n",
      "2  no_rating     91.50\n",
      "3       E10+     55.37\n",
      "4          T     52.96\n",
      "\n",
      "\n"
     ]
    },
    {
     "data": {
      "image/png": "[encoded data removed]",
      "text/plain": [
       "<Figure size 1080x504 with 3 Axes>"
      ]
     },
     "metadata": {},
     "output_type": "display_data"
    }
   ],
   "source": [
    "table('eu_sales', 'Топ 5 платформ, рейтингов и жанров за весь период')"
   ]
  },
  {
   "cell_type": "code",
   "execution_count": 55,
   "id": "3ec92765",
   "metadata": {},
   "outputs": [
    {
     "name": "stdout",
     "output_type": "stream",
     "text": [
      "  platform  eu_sales\n",
      "0      PS4     31.78\n",
      "1     XOne      9.63\n",
      "2       PC      3.53\n",
      "3      3DS      2.33\n",
      "4     WiiU      1.48\n",
      "\n",
      "\n",
      "          genre  eu_sales\n",
      "0       Shooter     15.90\n",
      "1        Sports     12.01\n",
      "2        Action     10.68\n",
      "3  Role-Playing      4.28\n",
      "4        Racing      1.77\n",
      "\n",
      "\n",
      "      rating  eu_sales\n",
      "0          M     16.54\n",
      "1          E     13.61\n",
      "2          T      9.79\n",
      "3  no_rating      7.47\n",
      "4       E10+      3.81\n",
      "\n",
      "\n"
     ]
    },
    {
     "data": {
      "image/png": "[encoded data removed]",
      "text/plain": [
       "<Figure size 1080x504 with 3 Axes>"
      ]
     },
     "metadata": {},
     "output_type": "display_data"
    }
   ],
   "source": [
    "table_2016('eu_sales', 'Топ 5 платформ, рейтингов и жанров за 2016 год')"
   ]
  },
  {
   "cell_type": "markdown",
   "id": "898ef068",
   "metadata": {},
   "source": [
    "### Пользователи Японии"
   ]
  },
  {
   "cell_type": "code",
   "execution_count": 56,
   "id": "1132d668",
   "metadata": {},
   "outputs": [
    {
     "name": "stdout",
     "output_type": "stream",
     "text": [
      "  platform  jp_sales\n",
      "0      3DS     87.79\n",
      "1      PS3     35.29\n",
      "2      PSV     21.04\n",
      "3      PS4     15.96\n",
      "4     WiiU     13.01\n",
      "\n",
      "\n",
      "          genre  jp_sales\n",
      "0  Role-Playing     65.44\n",
      "1        Action     52.80\n",
      "2          Misc     12.86\n",
      "3    Simulation     10.41\n",
      "4      Fighting      9.44\n",
      "\n",
      "\n",
      "      rating  jp_sales\n",
      "0  no_rating    108.84\n",
      "1          E     28.33\n",
      "2          T     26.02\n",
      "3          M     21.20\n",
      "4       E10+      8.19\n",
      "\n",
      "\n"
     ]
    },
    {
     "data": {
      "image/png": "[encoded data removed]",
      "text/plain": [
       "<Figure size 1080x504 with 3 Axes>"
      ]
     },
     "metadata": {},
     "output_type": "display_data"
    }
   ],
   "source": [
    "table('jp_sales', 'Топ 5 платформ, рейтингов и жанров за весь период')"
   ]
  },
  {
   "cell_type": "code",
   "execution_count": 57,
   "id": "7197c18c",
   "metadata": {},
   "outputs": [
    {
     "name": "stdout",
     "output_type": "stream",
     "text": [
      "6678 0.4060561838744984\n"
     ]
    },
    {
     "data": {
      "text/plain": [
       "E       3921\n",
       "T       2905\n",
       "M       1536\n",
       "E10+    1393\n",
       "EC         8\n",
       "K-A        3\n",
       "AO         1\n",
       "RP         1\n",
       "Name: rating, dtype: int64"
      ]
     },
     "execution_count": 57,
     "metadata": {},
     "output_type": "execute_result"
    }
   ],
   "source": [
    "temp = games.copy()\n",
    "print(temp.rating.isna().sum(), temp.rating.isna().sum()/len(temp))\n",
    "temp.rating.value_counts()"
   ]
  },
  {
   "cell_type": "code",
   "execution_count": 58,
   "id": "09cef07f",
   "metadata": {},
   "outputs": [
    {
     "name": "stdout",
     "output_type": "stream",
     "text": [
      "  platform  jp_sales\n",
      "0      3DS      8.03\n",
      "1      PS4      5.74\n",
      "2      PSV      3.56\n",
      "3      PS3      1.30\n",
      "4     WiiU      0.67\n",
      "\n",
      "\n",
      "          genre  jp_sales\n",
      "0        Action      7.07\n",
      "1  Role-Playing      6.61\n",
      "2     Adventure      1.18\n",
      "3       Shooter      1.06\n",
      "4          Misc      1.04\n",
      "\n",
      "\n",
      "      rating  jp_sales\n",
      "0  no_rating     14.32\n",
      "1          T      2.27\n",
      "2          M      1.20\n",
      "3          E      1.07\n",
      "4       E10+      0.45\n",
      "\n",
      "\n"
     ]
    },
    {
     "data": {
      "image/png": "[encoded data removed]",
      "text/plain": [
       "<Figure size 1080x504 with 3 Axes>"
      ]
     },
     "metadata": {},
     "output_type": "display_data"
    }
   ],
   "source": [
    "table_2016('jp_sales', 'Топ 5 платформ, рейтингов и жанров за 2016 год')"
   ]
  },
  {
   "cell_type": "markdown",
   "id": "5133c9d6",
   "metadata": {},
   "source": [
    "## Вывод по 4 шагу \n",
    "     За весь период\n",
    "\n",
    "- Северная Америка:\n",
    "1. Любимая платформа: X360\n",
    "2. Жанр: Экшн\n",
    "3. Рэйтинг: M\n",
    "\n",
    "- Европа:\n",
    "1. Любимая платформа: PS4\n",
    "2. Жанр: Экшн\n",
    "3. Рэйтинг: M\n",
    "\n",
    "- Япония:\n",
    "1. Любимая платформа: 3Ds\n",
    "2. Жанр: Role-Playing\n",
    "3. Рэйтинг: Е\n",
    "\n",
    "       За 2016 год\n",
    "       \n",
    "- Северная Америка:\n",
    "1. Любимая платформа: PS4\n",
    "2. Жанр: Шутер\n",
    "3. Рэйтинг: М\n",
    "\n",
    "- Европа:\n",
    "1. Любимая платформа: PS4\n",
    "2. Жанр: Шутер\n",
    "3. Рэйтинг: М\n",
    "\n",
    "- Япония:\n",
    "1. Любимая платформа: 3DS\n",
    "2. Жанр: Экшны\n",
    "3. Рэйтинг: Т"
   ]
  },
  {
   "cell_type": "markdown",
   "id": "4d0b9e6e",
   "metadata": {},
   "source": [
    "# Шаг 5. Проверьте гипотезы"
   ]
  },
  {
   "cell_type": "markdown",
   "id": "009b2eb6",
   "metadata": {},
   "source": [
    "### 5.1 Средние пользовательские рейтинги платформ Xbox One и PC одинаковые;"
   ]
  },
  {
   "cell_type": "markdown",
   "id": "41050d0d",
   "metadata": {},
   "source": [
    "    Сформулируем нулевые гипотезы:\n",
    "\n",
    "- Нулевая гипотеза H₀: Средние пользовательские рейтинги платформ Xbox One и PC одинаковые;\n",
    "- Альтернативная гипотеза H₁: Средние пользовательские рейтинги платформ Xbox One и PC различаются"
   ]
  },
  {
   "cell_type": "code",
   "execution_count": 59,
   "id": "5a86bf59",
   "metadata": {},
   "outputs": [],
   "source": [
    "period_hyp_user = period[period.user_score >= 0]"
   ]
  },
  {
   "cell_type": "code",
   "execution_count": 60,
   "id": "a2d1440a",
   "metadata": {},
   "outputs": [
    {
     "data": {
      "text/plain": [
       "2012.0"
      ]
     },
     "execution_count": 60,
     "metadata": {},
     "output_type": "execute_result"
    }
   ],
   "source": [
    "period.year_of_release.min()"
   ]
  },
  {
   "cell_type": "code",
   "execution_count": 61,
   "id": "0c0187e2",
   "metadata": {},
   "outputs": [],
   "source": [
    "# Создаем переменные и присваиваем им соответствующие данные\n",
    "games_xbox = period_hyp_user[(period_hyp_user['platform']=='XOne')]['user_score']\n",
    "games_pc = period_hyp_user[(period_hyp_user['platform']=='PC')]['user_score']"
   ]
  },
  {
   "cell_type": "code",
   "execution_count": 62,
   "id": "d8a103f5",
   "metadata": {},
   "outputs": [
    {
     "data": {
      "text/plain": [
       "(1.6, 1.4)"
      ]
     },
     "execution_count": 62,
     "metadata": {},
     "output_type": "execute_result"
    }
   ],
   "source": [
    "games_xbox.min(), games_pc.min()"
   ]
  },
  {
   "cell_type": "code",
   "execution_count": 63,
   "id": "bc6f28bc",
   "metadata": {},
   "outputs": [
    {
     "data": {
      "text/plain": [
       "6.52142857142857"
      ]
     },
     "execution_count": 63,
     "metadata": {},
     "output_type": "execute_result"
    }
   ],
   "source": [
    "# Среднее значение для Xbox\n",
    "games_xbox.mean()"
   ]
  },
  {
   "cell_type": "code",
   "execution_count": 64,
   "id": "efdbec02",
   "metadata": {},
   "outputs": [
    {
     "data": {
      "text/plain": [
       "6.428640776699027"
      ]
     },
     "execution_count": 64,
     "metadata": {},
     "output_type": "execute_result"
    }
   ],
   "source": [
    "# Среднее значение для PC\n",
    "games_pc.mean()"
   ]
  },
  {
   "cell_type": "code",
   "execution_count": 65,
   "id": "73bf5e0e",
   "metadata": {},
   "outputs": [
    {
     "name": "stdout",
     "output_type": "stream",
     "text": [
      "p-значение:  0.5489537965134912\n",
      "Не получилось отвергунть нулевую гипотезу\n"
     ]
    }
   ],
   "source": [
    "# Проверка гипотезы\n",
    "\n",
    "alpha = .01\n",
    "results = st.ttest_ind(\n",
    "    games_xbox.dropna(),\n",
    "    games_pc.dropna(),\n",
    "    equal_var=False\n",
    ")\n",
    "print('p-значение: ', results.pvalue)\n",
    "\n",
    "if (results.pvalue<alpha):\n",
    "    print('Отвергаем нулевую гипотезу')\n",
    "else:\n",
    "    print('Не получилось отвергунть нулевую гипотезу')"
   ]
  },
  {
   "cell_type": "markdown",
   "id": "aca8a225",
   "metadata": {},
   "source": [
    "### 5.2 Средние пользовательские рейтинги жанров Action (англ. «действие», экшен-игры) и Sports (англ. «спортивные соревнования») разные."
   ]
  },
  {
   "cell_type": "markdown",
   "id": "28f14486",
   "metadata": {},
   "source": [
    "    Сформулируем нулевые гипотезы:\n",
    "\n",
    "- Нулевая гипотеза H₀: Средние пользовательские рейтинги жанров Action и Sports одинаковые\n",
    "- Альтернативная гипотеза H₁: Средние пользовательские рейтинги жанров Action и Sports различаются"
   ]
  },
  {
   "cell_type": "code",
   "execution_count": 66,
   "id": "fc605462",
   "metadata": {},
   "outputs": [],
   "source": [
    "# Создаем переменные и присваиваем им соответствующие данные\n",
    "games_action = period_hyp_user[(period_hyp_user['genre']=='Action')]['user_score']\n",
    "games_sports = period_hyp_user[(period_hyp_user['genre']=='Sports')]['user_score']"
   ]
  },
  {
   "cell_type": "code",
   "execution_count": 67,
   "id": "b77cdcf7",
   "metadata": {},
   "outputs": [
    {
     "data": {
      "text/plain": [
       "6.825047801147237"
      ]
     },
     "execution_count": 67,
     "metadata": {},
     "output_type": "execute_result"
    }
   ],
   "source": [
    "# Среднее значение для Action\n",
    "games_action.mean()"
   ]
  },
  {
   "cell_type": "code",
   "execution_count": 68,
   "id": "85eab622",
   "metadata": {},
   "outputs": [
    {
     "data": {
      "text/plain": [
       "5.455897435897437"
      ]
     },
     "execution_count": 68,
     "metadata": {},
     "output_type": "execute_result"
    }
   ],
   "source": [
    "# Среднее значение для Sports\n",
    "games_sports.mean()"
   ]
  },
  {
   "cell_type": "code",
   "execution_count": 69,
   "id": "b9187841",
   "metadata": {},
   "outputs": [
    {
     "name": "stdout",
     "output_type": "stream",
     "text": [
      "p-значение:  4.24307776572644e-20\n",
      "Отвергаем нулевую гипотезу\n"
     ]
    }
   ],
   "source": [
    "# Проверка гипотезы\n",
    "\n",
    "alpha = .01\n",
    "results = st.ttest_ind(\n",
    "    games_action.dropna(),\n",
    "    games_sports.dropna(),\n",
    "    equal_var=False\n",
    ")\n",
    "print('p-значение: ', results.pvalue)\n",
    "\n",
    "if (results.pvalue<alpha):\n",
    "    print('Отвергаем нулевую гипотезу')\n",
    "else:\n",
    "    print('Не получилось отвергунть нулевую гипотезу')"
   ]
  },
  {
   "cell_type": "markdown",
   "id": "87e31f99",
   "metadata": {},
   "source": [
    "## Вывод по 5 шагу\n",
    "- Гипотезу по платформам Xone и PC не удалось опровергнуть нулевую гипотезу\n",
    "- Гипотезу по жанрам Action и Sports удалось отвергнуть нулевую гипотезу"
   ]
  },
  {
   "cell_type": "markdown",
   "id": "9689126f",
   "metadata": {},
   "source": [
    "# Шаг 6. Напишите общий вывод"
   ]
  },
  {
   "cell_type": "markdown",
   "id": "c457d5b6",
   "metadata": {},
   "source": [
    "## Общий вывод по проделанной работе\n",
    "1. По первому шагу\n",
    "- Выявили какими пропуски, и проблемы имелись в таблице и расписали, что нужно сделать\n",
    "\n",
    "2. По второму шагу\n",
    "- Привели название столбцов в нижний регистр\n",
    "- Преобразовали столбцы в нужные типы\n",
    "- Заполнили пустые значения пропусками, там где это не сильно повлияет дальнейшему анализу\n",
    "- Заменили `tbd` на `NaN` в столбце `user_score`\n",
    "- Добавили столбец в которой сумма продаж по всему миру\n",
    "- Добавили заглушку\n",
    "\n",
    "3. По третьему шагу\n",
    "- Пик выпускаемости игр на разные платформы это 08/09 год\n",
    "- Начало активной реализации игр это начало 2000 года\n",
    "- Популярной платформой за весь период считается PS4, X360, PS3\n",
    "- Самой продаваемой платформой считается PS4-3\n",
    "- Практически все платформы живут около 10 лет\n",
    "- Пик достигает каждая платформа примерно через 5 лет, потом идет на спад\n",
    "- Продаж больше на платформе PS4\n",
    "- По графику из усов понятно, что медианна у топ5 платформ разная \n",
    "- Так же выяснили, что на продажи больше влияет отзывами/оценками критиков, чем оценкам пользователям. Покупатель придерживается критикам, чем пользователям\n",
    "\n",
    "4. По четвертому шагу\n",
    "- В общем видим, что все меняется в каждом регионе, и жанр и платформа и рейтинг. Но есть одно совпадение, за последний у двух регионов платформа одинаковая, по причине популярности PS во всех странах.\n",
    "- Для предположения на следущие года, лучше конечно придерживаться 2016 года, ведь он более точнее даст прогноз\n",
    "\n",
    "5. По пятому шагу\n",
    "- Гипотезу по платформам Xone и PC не удалось опровергнуть нулевую гипотезу\n",
    "- Гипотезу по жанрам Action и Sports удалось отвергнуть нулевую гипотезу"
   ]
  }
 ],
 "metadata": {
  "ExecuteTimeLog": [
   {
    "duration": 1033,
    "start_time": "2022-06-15T01:32:43.445Z"
   },
   {
    "duration": 50,
    "start_time": "2022-06-15T01:32:44.480Z"
   },
   {
    "duration": 18,
    "start_time": "2022-06-15T01:32:44.531Z"
   },
   {
    "duration": 12,
    "start_time": "2022-06-15T01:32:44.550Z"
   },
   {
    "duration": 16,
    "start_time": "2022-06-15T01:32:44.564Z"
   },
   {
    "duration": 17,
    "start_time": "2022-06-15T01:32:44.581Z"
   },
   {
    "duration": 15,
    "start_time": "2022-06-15T01:32:44.599Z"
   },
   {
    "duration": 4,
    "start_time": "2022-06-15T01:32:44.616Z"
   },
   {
    "duration": 9,
    "start_time": "2022-06-15T01:32:44.622Z"
   },
   {
    "duration": 5,
    "start_time": "2022-06-15T01:32:44.633Z"
   },
   {
    "duration": 10,
    "start_time": "2022-06-15T01:32:44.639Z"
   },
   {
    "duration": 7,
    "start_time": "2022-06-15T01:32:44.650Z"
   },
   {
    "duration": 218,
    "start_time": "2022-06-15T01:32:44.658Z"
   },
   {
    "duration": 291,
    "start_time": "2022-06-15T01:32:44.877Z"
   },
   {
    "duration": 3,
    "start_time": "2022-06-15T01:32:45.170Z"
   },
   {
    "duration": 21,
    "start_time": "2022-06-15T01:32:45.174Z"
   },
   {
    "duration": 6,
    "start_time": "2022-06-15T01:32:45.197Z"
   },
   {
    "duration": 269,
    "start_time": "2022-06-15T01:32:45.204Z"
   },
   {
    "duration": 7,
    "start_time": "2022-06-15T01:32:45.475Z"
   },
   {
    "duration": 176,
    "start_time": "2022-06-15T01:32:45.494Z"
   },
   {
    "duration": 7,
    "start_time": "2022-06-15T01:32:45.672Z"
   },
   {
    "duration": 148,
    "start_time": "2022-06-15T01:32:45.680Z"
   },
   {
    "duration": 5,
    "start_time": "2022-06-15T01:32:45.830Z"
   },
   {
    "duration": 151,
    "start_time": "2022-06-15T01:32:45.836Z"
   },
   {
    "duration": 70,
    "start_time": "2022-06-15T01:32:45.994Z"
   },
   {
    "duration": 1114,
    "start_time": "2022-06-15T01:32:46.066Z"
   },
   {
    "duration": 62,
    "start_time": "2022-06-15T01:32:47.181Z"
   },
   {
    "duration": 77,
    "start_time": "2022-06-15T01:32:47.247Z"
   },
   {
    "duration": 11,
    "start_time": "2022-06-15T01:32:47.326Z"
   },
   {
    "duration": 10,
    "start_time": "2022-06-15T01:32:47.339Z"
   },
   {
    "duration": 347,
    "start_time": "2022-06-15T01:32:47.351Z"
   },
   {
    "duration": 8,
    "start_time": "2022-06-15T01:32:47.700Z"
   },
   {
    "duration": 363,
    "start_time": "2022-06-15T01:32:47.709Z"
   },
   {
    "duration": 368,
    "start_time": "2022-06-15T01:32:48.074Z"
   },
   {
    "duration": 453,
    "start_time": "2022-06-15T01:32:48.444Z"
   },
   {
    "duration": 353,
    "start_time": "2022-06-15T01:32:48.898Z"
   },
   {
    "duration": 360,
    "start_time": "2022-06-15T01:32:49.253Z"
   },
   {
    "duration": 360,
    "start_time": "2022-06-15T01:32:49.615Z"
   },
   {
    "duration": 8,
    "start_time": "2022-06-15T01:32:49.976Z"
   },
   {
    "duration": 15,
    "start_time": "2022-06-15T01:32:49.986Z"
   },
   {
    "duration": 11,
    "start_time": "2022-06-15T01:32:50.003Z"
   },
   {
    "duration": 7,
    "start_time": "2022-06-15T01:32:50.016Z"
   },
   {
    "duration": 12,
    "start_time": "2022-06-15T01:32:50.025Z"
   },
   {
    "duration": 6,
    "start_time": "2022-06-15T01:32:50.038Z"
   },
   {
    "duration": 7,
    "start_time": "2022-06-15T01:32:50.045Z"
   },
   {
    "duration": 6,
    "start_time": "2022-06-15T01:32:50.053Z"
   },
   {
    "duration": 87,
    "start_time": "2022-06-15T01:40:14.912Z"
   },
   {
    "duration": 21,
    "start_time": "2022-06-15T01:45:12.611Z"
   },
   {
    "duration": 4,
    "start_time": "2022-06-15T01:45:27.432Z"
   },
   {
    "duration": 4,
    "start_time": "2022-06-15T01:46:02.499Z"
   },
   {
    "duration": 40,
    "start_time": "2022-06-15T01:50:02.937Z"
   },
   {
    "duration": 11,
    "start_time": "2022-06-15T01:57:59.924Z"
   },
   {
    "duration": 963,
    "start_time": "2022-06-16T19:01:14.180Z"
   },
   {
    "duration": 49,
    "start_time": "2022-06-16T19:01:15.144Z"
   },
   {
    "duration": 16,
    "start_time": "2022-06-16T19:01:15.195Z"
   },
   {
    "duration": 11,
    "start_time": "2022-06-16T19:01:15.212Z"
   },
   {
    "duration": 15,
    "start_time": "2022-06-16T19:01:15.225Z"
   },
   {
    "duration": 8,
    "start_time": "2022-06-16T19:01:15.241Z"
   },
   {
    "duration": 12,
    "start_time": "2022-06-16T19:01:15.250Z"
   },
   {
    "duration": 3,
    "start_time": "2022-06-16T19:01:15.263Z"
   },
   {
    "duration": 26,
    "start_time": "2022-06-16T19:01:15.267Z"
   },
   {
    "duration": 6,
    "start_time": "2022-06-16T19:01:15.294Z"
   },
   {
    "duration": 9,
    "start_time": "2022-06-16T19:01:15.301Z"
   },
   {
    "duration": 5,
    "start_time": "2022-06-16T19:01:15.311Z"
   },
   {
    "duration": 7,
    "start_time": "2022-06-16T19:01:15.317Z"
   },
   {
    "duration": 96,
    "start_time": "2022-06-16T19:01:15.327Z"
   },
   {
    "duration": 3,
    "start_time": "2022-06-16T19:01:15.425Z"
   },
   {
    "duration": 208,
    "start_time": "2022-06-16T19:01:15.430Z"
   },
   {
    "duration": 267,
    "start_time": "2022-06-16T19:01:15.640Z"
   },
   {
    "duration": 4,
    "start_time": "2022-06-16T19:01:15.909Z"
   },
   {
    "duration": 13,
    "start_time": "2022-06-16T19:01:15.914Z"
   },
   {
    "duration": 6,
    "start_time": "2022-06-16T19:01:15.928Z"
   },
   {
    "duration": 265,
    "start_time": "2022-06-16T19:01:15.936Z"
   },
   {
    "duration": 5,
    "start_time": "2022-06-16T19:01:16.203Z"
   },
   {
    "duration": 8,
    "start_time": "2022-06-16T19:01:16.209Z"
   },
   {
    "duration": 172,
    "start_time": "2022-06-16T19:01:16.219Z"
   },
   {
    "duration": 172,
    "start_time": "2022-06-16T19:01:16.393Z"
   },
   {
    "duration": 8,
    "start_time": "2022-06-16T19:01:16.566Z"
   },
   {
    "duration": 148,
    "start_time": "2022-06-16T19:01:16.576Z"
   },
   {
    "duration": 5,
    "start_time": "2022-06-16T19:01:16.726Z"
   },
   {
    "duration": 223,
    "start_time": "2022-06-16T19:01:16.732Z"
   },
   {
    "duration": 8,
    "start_time": "2022-06-16T19:01:16.956Z"
   },
   {
    "duration": 1054,
    "start_time": "2022-06-16T19:01:16.965Z"
   },
   {
    "duration": 42,
    "start_time": "2022-06-16T19:01:18.021Z"
   },
   {
    "duration": 64,
    "start_time": "2022-06-16T19:01:18.065Z"
   },
   {
    "duration": 13,
    "start_time": "2022-06-16T19:01:18.130Z"
   },
   {
    "duration": 6,
    "start_time": "2022-06-16T19:01:18.144Z"
   },
   {
    "duration": 315,
    "start_time": "2022-06-16T19:01:18.151Z"
   },
   {
    "duration": 7,
    "start_time": "2022-06-16T19:01:18.468Z"
   },
   {
    "duration": 325,
    "start_time": "2022-06-16T19:01:18.477Z"
   },
   {
    "duration": 335,
    "start_time": "2022-06-16T19:01:18.804Z"
   },
   {
    "duration": 406,
    "start_time": "2022-06-16T19:01:19.141Z"
   },
   {
    "duration": 337,
    "start_time": "2022-06-16T19:01:19.551Z"
   },
   {
    "duration": 349,
    "start_time": "2022-06-16T19:01:19.892Z"
   },
   {
    "duration": 9,
    "start_time": "2022-06-16T19:01:20.243Z"
   },
   {
    "duration": 338,
    "start_time": "2022-06-16T19:01:20.253Z"
   },
   {
    "duration": 7,
    "start_time": "2022-06-16T19:01:20.592Z"
   },
   {
    "duration": 6,
    "start_time": "2022-06-16T19:01:20.601Z"
   },
   {
    "duration": 5,
    "start_time": "2022-06-16T19:01:20.608Z"
   },
   {
    "duration": 5,
    "start_time": "2022-06-16T19:01:20.615Z"
   },
   {
    "duration": 8,
    "start_time": "2022-06-16T19:01:20.621Z"
   },
   {
    "duration": 6,
    "start_time": "2022-06-16T19:01:20.630Z"
   },
   {
    "duration": 6,
    "start_time": "2022-06-16T19:01:20.637Z"
   },
   {
    "duration": 6,
    "start_time": "2022-06-16T19:01:20.644Z"
   },
   {
    "duration": 20,
    "start_time": "2022-06-16T19:11:58.102Z"
   },
   {
    "duration": 4,
    "start_time": "2022-06-16T19:12:14.861Z"
   },
   {
    "duration": 46,
    "start_time": "2022-06-16T19:38:49.766Z"
   },
   {
    "duration": 5,
    "start_time": "2022-06-16T19:44:48.823Z"
   },
   {
    "duration": 4,
    "start_time": "2022-06-16T19:45:00.306Z"
   },
   {
    "duration": 4,
    "start_time": "2022-06-16T19:45:19.540Z"
   },
   {
    "duration": 1074,
    "start_time": "2022-06-17T12:11:39.581Z"
   },
   {
    "duration": 188,
    "start_time": "2022-06-17T12:11:40.657Z"
   },
   {
    "duration": 18,
    "start_time": "2022-06-17T12:11:40.846Z"
   },
   {
    "duration": 14,
    "start_time": "2022-06-17T12:11:40.866Z"
   },
   {
    "duration": 19,
    "start_time": "2022-06-17T12:11:40.882Z"
   },
   {
    "duration": 8,
    "start_time": "2022-06-17T12:11:40.902Z"
   },
   {
    "duration": 13,
    "start_time": "2022-06-17T12:11:40.912Z"
   },
   {
    "duration": 3,
    "start_time": "2022-06-17T12:11:40.927Z"
   },
   {
    "duration": 14,
    "start_time": "2022-06-17T12:11:40.932Z"
   },
   {
    "duration": 7,
    "start_time": "2022-06-17T12:11:40.948Z"
   },
   {
    "duration": 4,
    "start_time": "2022-06-17T12:11:40.956Z"
   },
   {
    "duration": 12,
    "start_time": "2022-06-17T12:11:40.961Z"
   },
   {
    "duration": 20,
    "start_time": "2022-06-17T12:11:40.975Z"
   },
   {
    "duration": 15,
    "start_time": "2022-06-17T12:11:40.996Z"
   },
   {
    "duration": 103,
    "start_time": "2022-06-17T12:11:41.013Z"
   },
   {
    "duration": 2,
    "start_time": "2022-06-17T12:11:41.117Z"
   },
   {
    "duration": 14,
    "start_time": "2022-06-17T12:11:41.120Z"
   },
   {
    "duration": 216,
    "start_time": "2022-06-17T12:11:41.135Z"
   },
   {
    "duration": 234,
    "start_time": "2022-06-17T12:11:41.353Z"
   },
   {
    "duration": 6,
    "start_time": "2022-06-17T12:11:41.589Z"
   },
   {
    "duration": 16,
    "start_time": "2022-06-17T12:11:41.596Z"
   },
   {
    "duration": 7,
    "start_time": "2022-06-17T12:11:41.614Z"
   },
   {
    "duration": 283,
    "start_time": "2022-06-17T12:11:41.622Z"
   },
   {
    "duration": 5,
    "start_time": "2022-06-17T12:11:41.906Z"
   },
   {
    "duration": 15,
    "start_time": "2022-06-17T12:11:41.912Z"
   },
   {
    "duration": 15,
    "start_time": "2022-06-17T12:11:41.928Z"
   },
   {
    "duration": 192,
    "start_time": "2022-06-17T12:11:41.944Z"
   },
   {
    "duration": 177,
    "start_time": "2022-06-17T12:11:42.139Z"
   },
   {
    "duration": 7,
    "start_time": "2022-06-17T12:11:42.317Z"
   },
   {
    "duration": 157,
    "start_time": "2022-06-17T12:11:42.325Z"
   },
   {
    "duration": 4,
    "start_time": "2022-06-17T12:11:42.494Z"
   },
   {
    "duration": 147,
    "start_time": "2022-06-17T12:11:42.499Z"
   },
   {
    "duration": 74,
    "start_time": "2022-06-17T12:11:42.647Z"
   },
   {
    "duration": 1218,
    "start_time": "2022-06-17T12:11:42.722Z"
   },
   {
    "duration": 55,
    "start_time": "2022-06-17T12:11:43.941Z"
   },
   {
    "duration": 39,
    "start_time": "2022-06-17T12:11:44.000Z"
   },
   {
    "duration": 13,
    "start_time": "2022-06-17T12:11:44.040Z"
   },
   {
    "duration": 8,
    "start_time": "2022-06-17T12:11:44.054Z"
   },
   {
    "duration": 321,
    "start_time": "2022-06-17T12:11:44.063Z"
   },
   {
    "duration": 288,
    "start_time": "2022-06-17T12:11:44.385Z"
   },
   {
    "duration": 6,
    "start_time": "2022-06-17T12:11:44.675Z"
   },
   {
    "duration": 8,
    "start_time": "2022-06-17T12:11:44.694Z"
   },
   {
    "duration": 367,
    "start_time": "2022-06-17T12:11:44.704Z"
   },
   {
    "duration": 445,
    "start_time": "2022-06-17T12:11:45.073Z"
   },
   {
    "duration": 335,
    "start_time": "2022-06-17T12:11:45.519Z"
   },
   {
    "duration": 353,
    "start_time": "2022-06-17T12:11:45.856Z"
   },
   {
    "duration": 353,
    "start_time": "2022-06-17T12:11:46.210Z"
   },
   {
    "duration": 9,
    "start_time": "2022-06-17T12:11:46.565Z"
   },
   {
    "duration": 360,
    "start_time": "2022-06-17T12:11:46.575Z"
   },
   {
    "duration": 6,
    "start_time": "2022-06-17T12:11:46.937Z"
   },
   {
    "duration": 8,
    "start_time": "2022-06-17T12:11:46.944Z"
   },
   {
    "duration": 6,
    "start_time": "2022-06-17T12:11:46.953Z"
   },
   {
    "duration": 7,
    "start_time": "2022-06-17T12:11:46.960Z"
   },
   {
    "duration": 7,
    "start_time": "2022-06-17T12:11:46.969Z"
   },
   {
    "duration": 6,
    "start_time": "2022-06-17T12:11:46.994Z"
   },
   {
    "duration": 9,
    "start_time": "2022-06-17T12:11:47.002Z"
   },
   {
    "duration": 5,
    "start_time": "2022-06-17T12:11:47.013Z"
   },
   {
    "duration": 9,
    "start_time": "2022-06-17T12:11:47.019Z"
   },
   {
    "duration": 4,
    "start_time": "2022-06-17T12:13:06.738Z"
   },
   {
    "duration": 3,
    "start_time": "2022-06-17T12:13:41.930Z"
   },
   {
    "duration": 1012,
    "start_time": "2022-06-17T12:13:52.842Z"
   },
   {
    "duration": 52,
    "start_time": "2022-06-17T12:13:53.856Z"
   },
   {
    "duration": 18,
    "start_time": "2022-06-17T12:13:53.910Z"
   },
   {
    "duration": 27,
    "start_time": "2022-06-17T12:13:53.930Z"
   },
   {
    "duration": 42,
    "start_time": "2022-06-17T12:13:53.958Z"
   },
   {
    "duration": 9,
    "start_time": "2022-06-17T12:13:54.001Z"
   },
   {
    "duration": 20,
    "start_time": "2022-06-17T12:13:54.012Z"
   },
   {
    "duration": 7,
    "start_time": "2022-06-17T12:13:54.034Z"
   },
   {
    "duration": 17,
    "start_time": "2022-06-17T12:13:54.042Z"
   },
   {
    "duration": 7,
    "start_time": "2022-06-17T12:13:54.062Z"
   },
   {
    "duration": 15,
    "start_time": "2022-06-17T12:13:54.071Z"
   },
   {
    "duration": 22,
    "start_time": "2022-06-17T12:13:54.088Z"
   },
   {
    "duration": 13,
    "start_time": "2022-06-17T12:13:54.111Z"
   },
   {
    "duration": 15,
    "start_time": "2022-06-17T12:13:54.125Z"
   },
   {
    "duration": 91,
    "start_time": "2022-06-17T12:13:54.141Z"
   },
   {
    "duration": 2,
    "start_time": "2022-06-17T12:13:54.234Z"
   },
   {
    "duration": 10,
    "start_time": "2022-06-17T12:13:54.237Z"
   },
   {
    "duration": 4,
    "start_time": "2022-06-17T12:13:54.249Z"
   },
   {
    "duration": 204,
    "start_time": "2022-06-17T12:13:54.254Z"
   },
   {
    "duration": 204,
    "start_time": "2022-06-17T12:13:54.459Z"
   },
   {
    "duration": 3,
    "start_time": "2022-06-17T12:13:54.665Z"
   },
   {
    "duration": 12,
    "start_time": "2022-06-17T12:13:54.669Z"
   },
   {
    "duration": 12,
    "start_time": "2022-06-17T12:13:54.683Z"
   },
   {
    "duration": 301,
    "start_time": "2022-06-17T12:13:54.697Z"
   },
   {
    "duration": 4,
    "start_time": "2022-06-17T12:13:54.999Z"
   },
   {
    "duration": 11,
    "start_time": "2022-06-17T12:13:55.004Z"
   },
   {
    "duration": 17,
    "start_time": "2022-06-17T12:13:55.016Z"
   },
   {
    "duration": 203,
    "start_time": "2022-06-17T12:13:55.037Z"
   },
   {
    "duration": 278,
    "start_time": "2022-06-17T12:13:55.242Z"
   },
   {
    "duration": 7,
    "start_time": "2022-06-17T12:13:55.522Z"
   },
   {
    "duration": 178,
    "start_time": "2022-06-17T12:13:55.531Z"
   },
   {
    "duration": 4,
    "start_time": "2022-06-17T12:13:55.711Z"
   },
   {
    "duration": 159,
    "start_time": "2022-06-17T12:13:55.717Z"
   },
   {
    "duration": 75,
    "start_time": "2022-06-17T12:13:55.878Z"
   },
   {
    "duration": 1199,
    "start_time": "2022-06-17T12:13:55.955Z"
   },
   {
    "duration": 56,
    "start_time": "2022-06-17T12:13:57.156Z"
   },
   {
    "duration": 34,
    "start_time": "2022-06-17T12:13:57.213Z"
   },
   {
    "duration": 10,
    "start_time": "2022-06-17T12:13:57.249Z"
   },
   {
    "duration": 5,
    "start_time": "2022-06-17T12:13:57.261Z"
   },
   {
    "duration": 390,
    "start_time": "2022-06-17T12:13:57.268Z"
   },
   {
    "duration": 276,
    "start_time": "2022-06-17T12:13:57.659Z"
   },
   {
    "duration": 7,
    "start_time": "2022-06-17T12:13:57.936Z"
   },
   {
    "duration": 8,
    "start_time": "2022-06-17T12:13:57.944Z"
   },
   {
    "duration": 384,
    "start_time": "2022-06-17T12:13:57.953Z"
   },
   {
    "duration": 463,
    "start_time": "2022-06-17T12:13:58.338Z"
   },
   {
    "duration": 358,
    "start_time": "2022-06-17T12:13:58.802Z"
   },
   {
    "duration": 381,
    "start_time": "2022-06-17T12:13:59.161Z"
   },
   {
    "duration": 388,
    "start_time": "2022-06-17T12:13:59.544Z"
   },
   {
    "duration": 8,
    "start_time": "2022-06-17T12:13:59.933Z"
   },
   {
    "duration": 392,
    "start_time": "2022-06-17T12:13:59.942Z"
   },
   {
    "duration": 7,
    "start_time": "2022-06-17T12:14:00.336Z"
   },
   {
    "duration": 21,
    "start_time": "2022-06-17T12:14:00.344Z"
   },
   {
    "duration": 9,
    "start_time": "2022-06-17T12:14:00.366Z"
   },
   {
    "duration": 13,
    "start_time": "2022-06-17T12:14:00.376Z"
   },
   {
    "duration": 31,
    "start_time": "2022-06-17T12:14:00.390Z"
   },
   {
    "duration": 20,
    "start_time": "2022-06-17T12:14:00.422Z"
   },
   {
    "duration": 12,
    "start_time": "2022-06-17T12:14:00.444Z"
   },
   {
    "duration": 12,
    "start_time": "2022-06-17T12:14:00.457Z"
   },
   {
    "duration": 18,
    "start_time": "2022-06-17T12:14:00.471Z"
   },
   {
    "duration": 4,
    "start_time": "2022-06-17T12:23:02.385Z"
   },
   {
    "duration": 6,
    "start_time": "2022-06-17T12:23:29.433Z"
   },
   {
    "duration": 991,
    "start_time": "2022-06-17T12:24:28.960Z"
   },
   {
    "duration": 51,
    "start_time": "2022-06-17T12:24:29.953Z"
   },
   {
    "duration": 18,
    "start_time": "2022-06-17T12:24:30.005Z"
   },
   {
    "duration": 14,
    "start_time": "2022-06-17T12:24:30.026Z"
   },
   {
    "duration": 20,
    "start_time": "2022-06-17T12:24:30.042Z"
   },
   {
    "duration": 9,
    "start_time": "2022-06-17T12:24:30.063Z"
   },
   {
    "duration": 17,
    "start_time": "2022-06-17T12:24:30.093Z"
   },
   {
    "duration": 4,
    "start_time": "2022-06-17T12:24:30.112Z"
   },
   {
    "duration": 16,
    "start_time": "2022-06-17T12:24:30.118Z"
   },
   {
    "duration": 10,
    "start_time": "2022-06-17T12:24:30.136Z"
   },
   {
    "duration": 25,
    "start_time": "2022-06-17T12:24:30.148Z"
   },
   {
    "duration": 29,
    "start_time": "2022-06-17T12:24:30.175Z"
   },
   {
    "duration": 4,
    "start_time": "2022-06-17T12:24:30.206Z"
   },
   {
    "duration": 14,
    "start_time": "2022-06-17T12:24:30.212Z"
   },
   {
    "duration": 90,
    "start_time": "2022-06-17T12:24:30.228Z"
   },
   {
    "duration": 3,
    "start_time": "2022-06-17T12:24:30.320Z"
   },
   {
    "duration": 22,
    "start_time": "2022-06-17T12:24:30.324Z"
   },
   {
    "duration": 8,
    "start_time": "2022-06-17T12:24:30.347Z"
   },
   {
    "duration": 219,
    "start_time": "2022-06-17T12:24:30.357Z"
   },
   {
    "duration": 204,
    "start_time": "2022-06-17T12:24:30.577Z"
   },
   {
    "duration": 3,
    "start_time": "2022-06-17T12:24:30.783Z"
   },
   {
    "duration": 12,
    "start_time": "2022-06-17T12:24:30.794Z"
   },
   {
    "duration": 28,
    "start_time": "2022-06-17T12:24:30.808Z"
   },
   {
    "duration": 268,
    "start_time": "2022-06-17T12:24:30.837Z"
   },
   {
    "duration": 6,
    "start_time": "2022-06-17T12:24:31.106Z"
   },
   {
    "duration": 8,
    "start_time": "2022-06-17T12:24:31.113Z"
   },
   {
    "duration": 7,
    "start_time": "2022-06-17T12:24:31.122Z"
   },
   {
    "duration": 5,
    "start_time": "2022-06-17T12:24:31.132Z"
   },
   {
    "duration": 172,
    "start_time": "2022-06-17T12:24:31.138Z"
   },
   {
    "duration": 173,
    "start_time": "2022-06-17T12:24:31.312Z"
   },
   {
    "duration": 11,
    "start_time": "2022-06-17T12:24:31.487Z"
   },
   {
    "duration": 148,
    "start_time": "2022-06-17T12:24:31.500Z"
   },
   {
    "duration": 5,
    "start_time": "2022-06-17T12:24:31.650Z"
   },
   {
    "duration": 161,
    "start_time": "2022-06-17T12:24:31.656Z"
   },
   {
    "duration": 69,
    "start_time": "2022-06-17T12:24:31.818Z"
   },
   {
    "duration": 1158,
    "start_time": "2022-06-17T12:24:31.895Z"
   },
   {
    "duration": 46,
    "start_time": "2022-06-17T12:24:33.054Z"
   },
   {
    "duration": 33,
    "start_time": "2022-06-17T12:24:33.101Z"
   },
   {
    "duration": 11,
    "start_time": "2022-06-17T12:24:33.136Z"
   },
   {
    "duration": 6,
    "start_time": "2022-06-17T12:24:33.148Z"
   },
   {
    "duration": 305,
    "start_time": "2022-06-17T12:24:33.155Z"
   },
   {
    "duration": 276,
    "start_time": "2022-06-17T12:24:33.462Z"
   },
   {
    "duration": 6,
    "start_time": "2022-06-17T12:24:33.740Z"
   },
   {
    "duration": 10,
    "start_time": "2022-06-17T12:24:33.747Z"
   },
   {
    "duration": 363,
    "start_time": "2022-06-17T12:24:33.759Z"
   },
   {
    "duration": 426,
    "start_time": "2022-06-17T12:24:34.123Z"
   },
   {
    "duration": 337,
    "start_time": "2022-06-17T12:24:34.551Z"
   },
   {
    "duration": 340,
    "start_time": "2022-06-17T12:24:34.890Z"
   },
   {
    "duration": 354,
    "start_time": "2022-06-17T12:24:35.231Z"
   },
   {
    "duration": 22,
    "start_time": "2022-06-17T12:24:35.587Z"
   },
   {
    "duration": 340,
    "start_time": "2022-06-17T12:24:35.611Z"
   },
   {
    "duration": 7,
    "start_time": "2022-06-17T12:24:35.953Z"
   },
   {
    "duration": 6,
    "start_time": "2022-06-17T12:24:35.961Z"
   },
   {
    "duration": 7,
    "start_time": "2022-06-17T12:24:35.968Z"
   },
   {
    "duration": 19,
    "start_time": "2022-06-17T12:24:35.976Z"
   },
   {
    "duration": 5,
    "start_time": "2022-06-17T12:24:35.996Z"
   },
   {
    "duration": 10,
    "start_time": "2022-06-17T12:24:36.002Z"
   },
   {
    "duration": 4,
    "start_time": "2022-06-17T12:24:36.014Z"
   },
   {
    "duration": 5,
    "start_time": "2022-06-17T12:24:36.020Z"
   },
   {
    "duration": 6,
    "start_time": "2022-06-17T12:24:36.027Z"
   },
   {
    "duration": 1239,
    "start_time": "2022-06-18T18:25:18.567Z"
   },
   {
    "duration": 54,
    "start_time": "2022-06-18T18:25:19.808Z"
   },
   {
    "duration": 21,
    "start_time": "2022-06-18T18:25:19.864Z"
   },
   {
    "duration": 38,
    "start_time": "2022-06-18T18:25:19.888Z"
   },
   {
    "duration": 20,
    "start_time": "2022-06-18T18:25:19.929Z"
   },
   {
    "duration": 10,
    "start_time": "2022-06-18T18:25:19.950Z"
   },
   {
    "duration": 17,
    "start_time": "2022-06-18T18:25:19.962Z"
   },
   {
    "duration": 4,
    "start_time": "2022-06-18T18:25:19.981Z"
   },
   {
    "duration": 14,
    "start_time": "2022-06-18T18:25:19.987Z"
   },
   {
    "duration": 6,
    "start_time": "2022-06-18T18:25:20.005Z"
   },
   {
    "duration": 6,
    "start_time": "2022-06-18T18:25:20.013Z"
   },
   {
    "duration": 16,
    "start_time": "2022-06-18T18:25:20.022Z"
   },
   {
    "duration": 6,
    "start_time": "2022-06-18T18:25:20.040Z"
   },
   {
    "duration": 11,
    "start_time": "2022-06-18T18:25:20.048Z"
   },
   {
    "duration": 141,
    "start_time": "2022-06-18T18:25:20.061Z"
   },
   {
    "duration": 6,
    "start_time": "2022-06-18T18:25:20.203Z"
   },
   {
    "duration": 20,
    "start_time": "2022-06-18T18:25:20.211Z"
   },
   {
    "duration": 3,
    "start_time": "2022-06-18T18:25:20.234Z"
   },
   {
    "duration": 7,
    "start_time": "2022-06-18T18:25:20.238Z"
   },
   {
    "duration": 239,
    "start_time": "2022-06-18T18:25:20.247Z"
   },
   {
    "duration": 264,
    "start_time": "2022-06-18T18:25:20.487Z"
   },
   {
    "duration": 4,
    "start_time": "2022-06-18T18:25:20.752Z"
   },
   {
    "duration": 14,
    "start_time": "2022-06-18T18:25:20.758Z"
   },
   {
    "duration": 21,
    "start_time": "2022-06-18T18:25:20.774Z"
   },
   {
    "duration": 315,
    "start_time": "2022-06-18T18:25:20.797Z"
   },
   {
    "duration": 7,
    "start_time": "2022-06-18T18:25:21.114Z"
   },
   {
    "duration": 10,
    "start_time": "2022-06-18T18:25:21.122Z"
   },
   {
    "duration": 8,
    "start_time": "2022-06-18T18:25:21.136Z"
   },
   {
    "duration": 5,
    "start_time": "2022-06-18T18:25:21.145Z"
   },
   {
    "duration": 208,
    "start_time": "2022-06-18T18:25:21.152Z"
   },
   {
    "duration": 204,
    "start_time": "2022-06-18T18:25:21.362Z"
   },
   {
    "duration": 9,
    "start_time": "2022-06-18T18:25:21.569Z"
   },
   {
    "duration": 168,
    "start_time": "2022-06-18T18:25:21.593Z"
   },
   {
    "duration": 6,
    "start_time": "2022-06-18T18:25:21.763Z"
   },
   {
    "duration": 170,
    "start_time": "2022-06-18T18:25:21.770Z"
   },
   {
    "duration": 90,
    "start_time": "2022-06-18T18:25:21.942Z"
   },
   {
    "duration": 1346,
    "start_time": "2022-06-18T18:25:22.034Z"
   },
   {
    "duration": 47,
    "start_time": "2022-06-18T18:25:23.382Z"
   },
   {
    "duration": 39,
    "start_time": "2022-06-18T18:25:23.430Z"
   },
   {
    "duration": 14,
    "start_time": "2022-06-18T18:25:23.493Z"
   },
   {
    "duration": 8,
    "start_time": "2022-06-18T18:25:23.509Z"
   },
   {
    "duration": 351,
    "start_time": "2022-06-18T18:25:23.519Z"
   },
   {
    "duration": 304,
    "start_time": "2022-06-18T18:25:23.873Z"
   },
   {
    "duration": 15,
    "start_time": "2022-06-18T18:25:24.179Z"
   },
   {
    "duration": 374,
    "start_time": "2022-06-18T18:25:24.196Z"
   },
   {
    "duration": 500,
    "start_time": "2022-06-18T18:25:24.572Z"
   },
   {
    "duration": 376,
    "start_time": "2022-06-18T18:25:25.074Z"
   },
   {
    "duration": 405,
    "start_time": "2022-06-18T18:25:25.452Z"
   },
   {
    "duration": 410,
    "start_time": "2022-06-18T18:25:25.858Z"
   },
   {
    "duration": 24,
    "start_time": "2022-06-18T18:25:26.269Z"
   },
   {
    "duration": 411,
    "start_time": "2022-06-18T18:25:26.296Z"
   },
   {
    "duration": 8,
    "start_time": "2022-06-18T18:25:26.709Z"
   },
   {
    "duration": 18,
    "start_time": "2022-06-18T18:25:26.718Z"
   },
   {
    "duration": 12,
    "start_time": "2022-06-18T18:25:26.738Z"
   },
   {
    "duration": 12,
    "start_time": "2022-06-18T18:25:26.752Z"
   },
   {
    "duration": 20,
    "start_time": "2022-06-18T18:25:26.766Z"
   },
   {
    "duration": 20,
    "start_time": "2022-06-18T18:25:26.787Z"
   },
   {
    "duration": 14,
    "start_time": "2022-06-18T18:25:26.809Z"
   },
   {
    "duration": 23,
    "start_time": "2022-06-18T18:25:26.825Z"
   },
   {
    "duration": 17,
    "start_time": "2022-06-18T18:25:26.850Z"
   },
   {
    "duration": 14,
    "start_time": "2022-06-18T18:52:33.639Z"
   },
   {
    "duration": 22,
    "start_time": "2022-06-18T18:54:19.803Z"
   },
   {
    "duration": 9,
    "start_time": "2022-06-18T18:59:58.873Z"
   },
   {
    "duration": 1394,
    "start_time": "2022-06-21T18:08:19.811Z"
   },
   {
    "duration": 118,
    "start_time": "2022-06-21T18:08:21.207Z"
   },
   {
    "duration": 23,
    "start_time": "2022-06-21T18:08:21.326Z"
   },
   {
    "duration": 28,
    "start_time": "2022-06-21T18:08:21.352Z"
   },
   {
    "duration": 20,
    "start_time": "2022-06-21T18:08:21.382Z"
   },
   {
    "duration": 9,
    "start_time": "2022-06-21T18:08:21.404Z"
   },
   {
    "duration": 14,
    "start_time": "2022-06-21T18:08:21.415Z"
   },
   {
    "duration": 4,
    "start_time": "2022-06-21T18:08:21.431Z"
   },
   {
    "duration": 10,
    "start_time": "2022-06-21T18:08:21.437Z"
   },
   {
    "duration": 6,
    "start_time": "2022-06-21T18:08:21.471Z"
   },
   {
    "duration": 7,
    "start_time": "2022-06-21T18:08:21.479Z"
   },
   {
    "duration": 12,
    "start_time": "2022-06-21T18:08:21.488Z"
   },
   {
    "duration": 12,
    "start_time": "2022-06-21T18:08:21.502Z"
   },
   {
    "duration": 13,
    "start_time": "2022-06-21T18:08:21.516Z"
   },
   {
    "duration": 153,
    "start_time": "2022-06-21T18:08:21.531Z"
   },
   {
    "duration": 16,
    "start_time": "2022-06-21T18:08:21.686Z"
   },
   {
    "duration": 3,
    "start_time": "2022-06-21T18:08:21.705Z"
   },
   {
    "duration": 8,
    "start_time": "2022-06-21T18:08:21.710Z"
   },
   {
    "duration": 286,
    "start_time": "2022-06-21T18:08:21.720Z"
   },
   {
    "duration": 372,
    "start_time": "2022-06-21T18:08:22.008Z"
   },
   {
    "duration": 6,
    "start_time": "2022-06-21T18:08:22.383Z"
   },
   {
    "duration": 14,
    "start_time": "2022-06-21T18:08:22.391Z"
   },
   {
    "duration": 18,
    "start_time": "2022-06-21T18:08:22.407Z"
   },
   {
    "duration": 371,
    "start_time": "2022-06-21T18:08:22.427Z"
   },
   {
    "duration": 8,
    "start_time": "2022-06-21T18:08:22.800Z"
   },
   {
    "duration": 4,
    "start_time": "2022-06-21T18:08:22.810Z"
   },
   {
    "duration": 12,
    "start_time": "2022-06-21T18:08:22.816Z"
   },
   {
    "duration": 5,
    "start_time": "2022-06-21T18:08:22.833Z"
   },
   {
    "duration": 211,
    "start_time": "2022-06-21T18:08:22.839Z"
   },
   {
    "duration": 229,
    "start_time": "2022-06-21T18:08:23.052Z"
   },
   {
    "duration": 7,
    "start_time": "2022-06-21T18:08:23.283Z"
   },
   {
    "duration": 180,
    "start_time": "2022-06-21T18:08:23.291Z"
   },
   {
    "duration": 25,
    "start_time": "2022-06-21T18:08:23.472Z"
   },
   {
    "duration": 4,
    "start_time": "2022-06-21T18:08:23.499Z"
   },
   {
    "duration": 258,
    "start_time": "2022-06-21T18:08:23.505Z"
   },
   {
    "duration": 17,
    "start_time": "2022-06-21T18:08:23.764Z"
   },
   {
    "duration": 10,
    "start_time": "2022-06-21T18:08:23.783Z"
   },
   {
    "duration": 1825,
    "start_time": "2022-06-21T18:08:23.795Z"
   },
   {
    "duration": 58,
    "start_time": "2022-06-21T18:08:25.622Z"
   },
   {
    "duration": 36,
    "start_time": "2022-06-21T18:08:25.682Z"
   },
   {
    "duration": 10,
    "start_time": "2022-06-21T18:08:25.720Z"
   },
   {
    "duration": 11,
    "start_time": "2022-06-21T18:08:25.732Z"
   },
   {
    "duration": 392,
    "start_time": "2022-06-21T18:08:25.745Z"
   },
   {
    "duration": 314,
    "start_time": "2022-06-21T18:08:26.139Z"
   },
   {
    "duration": 24,
    "start_time": "2022-06-21T18:08:26.455Z"
   },
   {
    "duration": 428,
    "start_time": "2022-06-21T18:08:26.485Z"
   },
   {
    "duration": 522,
    "start_time": "2022-06-21T18:08:26.914Z"
   },
   {
    "duration": 445,
    "start_time": "2022-06-21T18:08:27.438Z"
   },
   {
    "duration": 467,
    "start_time": "2022-06-21T18:08:27.885Z"
   },
   {
    "duration": 432,
    "start_time": "2022-06-21T18:08:28.354Z"
   },
   {
    "duration": 11,
    "start_time": "2022-06-21T18:08:28.788Z"
   },
   {
    "duration": 538,
    "start_time": "2022-06-21T18:08:28.801Z"
   },
   {
    "duration": 6,
    "start_time": "2022-06-21T18:08:29.341Z"
   },
   {
    "duration": 27,
    "start_time": "2022-06-21T18:08:29.349Z"
   },
   {
    "duration": 7,
    "start_time": "2022-06-21T18:08:29.378Z"
   },
   {
    "duration": 8,
    "start_time": "2022-06-21T18:08:29.387Z"
   },
   {
    "duration": 8,
    "start_time": "2022-06-21T18:08:29.397Z"
   },
   {
    "duration": 9,
    "start_time": "2022-06-21T18:08:29.406Z"
   },
   {
    "duration": 7,
    "start_time": "2022-06-21T18:08:29.418Z"
   },
   {
    "duration": 8,
    "start_time": "2022-06-21T18:08:29.426Z"
   },
   {
    "duration": 43,
    "start_time": "2022-06-21T18:08:29.436Z"
   },
   {
    "duration": 21,
    "start_time": "2022-06-21T18:16:23.444Z"
   },
   {
    "duration": 4,
    "start_time": "2022-06-21T18:16:50.749Z"
   },
   {
    "duration": 4,
    "start_time": "2022-06-21T18:28:31.081Z"
   },
   {
    "duration": 9,
    "start_time": "2022-06-21T18:28:46.714Z"
   },
   {
    "duration": 11,
    "start_time": "2022-06-21T18:29:00.825Z"
   },
   {
    "duration": 1231,
    "start_time": "2022-06-23T00:49:49.617Z"
   },
   {
    "duration": 54,
    "start_time": "2022-06-23T00:49:50.850Z"
   },
   {
    "duration": 20,
    "start_time": "2022-06-23T00:49:50.906Z"
   },
   {
    "duration": 20,
    "start_time": "2022-06-23T00:49:50.928Z"
   },
   {
    "duration": 19,
    "start_time": "2022-06-23T00:49:50.950Z"
   },
   {
    "duration": 9,
    "start_time": "2022-06-23T00:49:50.971Z"
   },
   {
    "duration": 13,
    "start_time": "2022-06-23T00:49:50.981Z"
   },
   {
    "duration": 32,
    "start_time": "2022-06-23T00:49:50.996Z"
   },
   {
    "duration": 17,
    "start_time": "2022-06-23T00:49:51.030Z"
   },
   {
    "duration": 5,
    "start_time": "2022-06-23T00:49:51.050Z"
   },
   {
    "duration": 6,
    "start_time": "2022-06-23T00:49:51.056Z"
   },
   {
    "duration": 12,
    "start_time": "2022-06-23T00:49:51.063Z"
   },
   {
    "duration": 9,
    "start_time": "2022-06-23T00:49:51.077Z"
   },
   {
    "duration": 9,
    "start_time": "2022-06-23T00:49:51.087Z"
   },
   {
    "duration": 134,
    "start_time": "2022-06-23T00:49:51.097Z"
   },
   {
    "duration": 7,
    "start_time": "2022-06-23T00:49:51.232Z"
   },
   {
    "duration": 10,
    "start_time": "2022-06-23T00:49:51.240Z"
   },
   {
    "duration": 8,
    "start_time": "2022-06-23T00:49:51.251Z"
   },
   {
    "duration": 229,
    "start_time": "2022-06-23T00:49:51.261Z"
   },
   {
    "duration": 307,
    "start_time": "2022-06-23T00:49:51.492Z"
   },
   {
    "duration": 7,
    "start_time": "2022-06-23T00:49:51.800Z"
   },
   {
    "duration": 21,
    "start_time": "2022-06-23T00:49:51.808Z"
   },
   {
    "duration": 12,
    "start_time": "2022-06-23T00:49:51.830Z"
   },
   {
    "duration": 367,
    "start_time": "2022-06-23T00:49:51.844Z"
   },
   {
    "duration": 7,
    "start_time": "2022-06-23T00:49:52.213Z"
   },
   {
    "duration": 13,
    "start_time": "2022-06-23T00:49:52.222Z"
   },
   {
    "duration": 21,
    "start_time": "2022-06-23T00:49:52.236Z"
   },
   {
    "duration": 5,
    "start_time": "2022-06-23T00:49:52.261Z"
   },
   {
    "duration": 185,
    "start_time": "2022-06-23T00:49:52.268Z"
   },
   {
    "duration": 200,
    "start_time": "2022-06-23T00:49:52.455Z"
   },
   {
    "duration": 4,
    "start_time": "2022-06-23T00:49:52.657Z"
   },
   {
    "duration": 9,
    "start_time": "2022-06-23T00:49:52.663Z"
   },
   {
    "duration": 6,
    "start_time": "2022-06-23T00:49:52.674Z"
   },
   {
    "duration": 174,
    "start_time": "2022-06-23T00:49:52.681Z"
   },
   {
    "duration": 2,
    "start_time": "2022-06-23T00:49:52.857Z"
   },
   {
    "duration": 7,
    "start_time": "2022-06-23T00:49:52.861Z"
   },
   {
    "duration": 8,
    "start_time": "2022-06-23T00:49:52.869Z"
   },
   {
    "duration": 6,
    "start_time": "2022-06-23T00:49:52.879Z"
   },
   {
    "duration": 256,
    "start_time": "2022-06-23T00:49:52.886Z"
   },
   {
    "duration": 5,
    "start_time": "2022-06-23T00:49:53.145Z"
   },
   {
    "duration": 11,
    "start_time": "2022-06-23T00:49:53.151Z"
   },
   {
    "duration": 13,
    "start_time": "2022-06-23T00:49:53.164Z"
   },
   {
    "duration": 1361,
    "start_time": "2022-06-23T00:49:53.178Z"
   },
   {
    "duration": 33,
    "start_time": "2022-06-23T00:49:54.541Z"
   },
   {
    "duration": 60,
    "start_time": "2022-06-23T00:49:54.576Z"
   },
   {
    "duration": 11,
    "start_time": "2022-06-23T00:49:54.638Z"
   },
   {
    "duration": 7,
    "start_time": "2022-06-23T00:49:54.651Z"
   },
   {
    "duration": 356,
    "start_time": "2022-06-23T00:49:54.660Z"
   },
   {
    "duration": 292,
    "start_time": "2022-06-23T00:49:55.018Z"
   },
   {
    "duration": 3,
    "start_time": "2022-06-23T00:49:55.312Z"
   },
   {
    "duration": 12,
    "start_time": "2022-06-23T00:49:55.317Z"
   },
   {
    "duration": 516,
    "start_time": "2022-06-23T00:49:55.331Z"
   },
   {
    "duration": 466,
    "start_time": "2022-06-23T00:49:55.849Z"
   },
   {
    "duration": 478,
    "start_time": "2022-06-23T00:49:56.317Z"
   },
   {
    "duration": 434,
    "start_time": "2022-06-23T00:49:56.796Z"
   },
   {
    "duration": 438,
    "start_time": "2022-06-23T00:49:57.232Z"
   },
   {
    "duration": 10,
    "start_time": "2022-06-23T00:49:57.672Z"
   },
   {
    "duration": 465,
    "start_time": "2022-06-23T00:49:57.684Z"
   },
   {
    "duration": 4,
    "start_time": "2022-06-23T00:49:58.151Z"
   },
   {
    "duration": 7,
    "start_time": "2022-06-23T00:49:58.157Z"
   },
   {
    "duration": 7,
    "start_time": "2022-06-23T00:49:58.166Z"
   },
   {
    "duration": 7,
    "start_time": "2022-06-23T00:49:58.174Z"
   },
   {
    "duration": 6,
    "start_time": "2022-06-23T00:49:58.183Z"
   },
   {
    "duration": 7,
    "start_time": "2022-06-23T00:49:58.191Z"
   },
   {
    "duration": 30,
    "start_time": "2022-06-23T00:49:58.199Z"
   },
   {
    "duration": 6,
    "start_time": "2022-06-23T00:49:58.230Z"
   },
   {
    "duration": 6,
    "start_time": "2022-06-23T00:49:58.238Z"
   },
   {
    "duration": 8,
    "start_time": "2022-06-23T00:49:58.246Z"
   },
   {
    "duration": 22,
    "start_time": "2022-06-23T01:06:59.384Z"
   },
   {
    "duration": 6,
    "start_time": "2022-06-23T01:07:12.763Z"
   },
   {
    "duration": 5,
    "start_time": "2022-06-23T01:07:25.218Z"
   },
   {
    "duration": 5,
    "start_time": "2022-06-23T01:07:44.575Z"
   }
  ],
  "kernelspec": {
   "display_name": "Python 3 (ipykernel)",
   "language": "python",
   "name": "python3"
  },
  "language_info": {
   "codemirror_mode": {
    "name": "ipython",
    "version": 3
   },
   "file_extension": ".py",
   "mimetype": "text/x-python",
   "name": "python",
   "nbconvert_exporter": "python",
   "pygments_lexer": "ipython3",
   "version": "3.9.7"
  },
  "toc": {
   "base_numbering": 1,
   "nav_menu": {},
   "number_sections": true,
   "sideBar": true,
   "skip_h1_title": true,
   "title_cell": "Table of Contents",
   "title_sidebar": "Contents",
   "toc_cell": false,
   "toc_position": {
    "height": "calc(100% - 180px)",
    "left": "10px",
    "top": "150px",
    "width": "188.682px"
   },
   "toc_section_display": true,
   "toc_window_display": true
  }
 },
 "nbformat": 4,
 "nbformat_minor": 5
}
